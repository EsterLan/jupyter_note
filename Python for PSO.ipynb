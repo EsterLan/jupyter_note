{
 "cells": [
  {
   "cell_type": "code",
   "execution_count": 8,
   "metadata": {},
   "outputs": [],
   "source": [
    "import numpy as np\n",
    "import random\n",
    "import matplotlib.pyplot as plt"
   ]
  },
  {
   "cell_type": "code",
   "execution_count": 31,
   "metadata": {},
   "outputs": [],
   "source": [
    "#----PSO参数设置------#\n",
    "class PSO():\n",
    "    def __init__(self, pN, dim, max_iter):\n",
    "        self.w = 0.8\n",
    "        self.c1 = 2\n",
    "        self.c2 = 2\n",
    "        self.r1 = 0.6\n",
    "        self.r2 = 0.3\n",
    "        self.pN = pN # 粒子数量\n",
    "        self.dim = dim # 搜索维度\n",
    "        self.max_iter = max_iter # 迭代次数\n",
    "        self.X = np.zeros((self.pN, self.dim))  # 所有粒子的位置和速度\n",
    "        self.V = np.zeros((self.pN, self.dim))\n",
    "        self.pbest = np.zeros((self.pN, self.dim))  # 个体经历的最佳位置和全局最佳位置\n",
    "        self.gbest = np.zeros((1, self.dim))\n",
    "        self.p_fit = np.zeros(self.pN)  # 每个个体的历史最佳适应值\n",
    "        self.fit = 1e10  # 全局最佳适应值\n",
    "    \n",
    "    #----目标函数Sphere函数---#\n",
    "    def function(self, x):\n",
    "        sum1 = 0\n",
    "        length = len(x)\n",
    "        x = x**2\n",
    "        for i in range(length):\n",
    "            sum1 += x[i]\n",
    "        return sum1\n",
    "    \n",
    "    #---初始化种群---#\n",
    "    def init_Population(self):\n",
    "        for i in range(self.pN):\n",
    "            for j in range(self.dim):\n",
    "                self.X[i][j] = random.uniform(0,1)\n",
    "                self.V[i][j] = random.uniform(0,1)\n",
    "            self.pbest[i] = self.X[i]\n",
    "            tmp = self.function(self.X[i])\n",
    "            self.p_fit[i] = tmp\n",
    "            if tmp<self.fit:\n",
    "                self.fit = tmp\n",
    "                self.gbest = self.X[i]\n",
    "    \n",
    "    #---更新粒子位置---#\n",
    "    def iterator(self):\n",
    "        fitness = []\n",
    "        for t in range(self.max_iter):\n",
    "            for i in range(self.pN):  # updatae gbest/pbest\n",
    "                temp = self.function(self.X[i])\n",
    "                if temp < self.p_fit[i]:  # 个体最优pbest\n",
    "                    self.p_fit[i] = temp\n",
    "                    self.pbest[i] = self.X[i]\n",
    "                    if self.p_fit[i]< self.fit:\n",
    "                        self.fit = self.p_fit[i]\n",
    "                        self.gbest = self.pbest[i]\n",
    "            for i in range(self.pN):\n",
    "                self.V[i] = self.w*self.V[i]+self.c1*self.r1*(self.pbest[i]-self.X[i]+\\\n",
    "                                                             self.c2*self.r2*(self.gbest-self.X[i]))\n",
    "                self.X[i] = self.X[i]+self.V[i]\n",
    "            fitness.append(self.fit)\n",
    "#             print(self.fit)\n",
    "        return fitness"
   ]
  },
  {
   "cell_type": "code",
   "execution_count": 32,
   "metadata": {},
   "outputs": [],
   "source": [
    "my_pso = PSO(pN=30, dim=5, max_iter=50)\n",
    "my_pso.init_Population()\n",
    "fitness = my_pso.iterator()"
   ]
  },
  {
   "cell_type": "code",
   "execution_count": 38,
   "metadata": {},
   "outputs": [
    {
     "name": "stdout",
     "output_type": "stream",
     "text": [
      "[-0.00492211 -0.00129346  0.00432533  0.01033904 -0.00508632]\n"
     ]
    },
    {
     "data": {
      "text/plain": [
       "[<matplotlib.lines.Line2D at 0x7f478f07b2b0>]"
      ]
     },
     "execution_count": 38,
     "metadata": {},
     "output_type": "execute_result"
    },
    {
     "data": {
      "image/png": "[encoded data removed]",
      "text/plain": [
       "<Figure size 432x288 with 1 Axes>"
      ]
     },
     "metadata": {
      "needs_background": "light"
     },
     "output_type": "display_data"
    }
   ],
   "source": [
    "print(my_pso.gbest)\n",
    "plt.figure(1)\n",
    "plt.title('PSO iteration')\n",
    "plt.xlabel('epoch', size=14)\n",
    "plt.ylabel('fitness', size=12)\n",
    "plt.plot(range(0,50),fitness,linewidth=3)\n",
    "# plt.show()\n",
    "           "
   ]
  }
 ],
 "metadata": {
  "kernelspec": {
   "display_name": "Python 3",
   "language": "python",
   "name": "python3"
  },
  "language_info": {
   "codemirror_mode": {
    "name": "ipython",
    "version": 3
   },
   "file_extension": ".py",
   "mimetype": "text/x-python",
   "name": "python",
   "nbconvert_exporter": "python",
   "pygments_lexer": "ipython3",
   "version": "3.6.9"
  }
 },
 "nbformat": 4,
 "nbformat_minor": 2
}
