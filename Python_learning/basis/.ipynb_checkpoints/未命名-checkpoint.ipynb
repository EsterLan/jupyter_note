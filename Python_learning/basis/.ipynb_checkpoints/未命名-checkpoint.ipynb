{
 "cells": [
  {
   "cell_type": "markdown",
   "metadata": {},
   "source": [
    "## 递归函数实例——汉诺塔问题"
   ]
  },
  {
   "cell_type": "markdown",
   "metadata": {},
   "source": [
    "### 递归函数的特点\n",
    "1. 必须有一个明确的递归结束条件，称为递归出口；\n",
    "2. 每次进入深一层递归时，问题规模比上次递归有所减少；\n",
    "3. 递归执行效率不高，递归层次过多会导致栈溢出。\n",
    "\n",
    "尾递归：递归调用出现在函数末尾。当编译器检测到一个函数调用是尾递归的时候，它就覆盖当前的活动记录而不是在栈中去创建一个新的。编译器可以做到这点，因为递归调用是当前活跃期内最后一条待执行的语句，于是当这个调用返回时栈帧中并没有其他事情可做，因此也就没有保存栈帧的必要了。通过覆盖当前的栈帧而不是在其之上重新添加一个，这样所使用的栈空间就大大缩减了，这使得实际的运行效率会变得更高。"
   ]
  },
  {
   "cell_type": "markdown",
   "metadata": {},
   "source": [
    "### 汉诺塔问题"
   ]
  },
  {
   "cell_type": "code",
   "execution_count": 2,
   "metadata": {},
   "outputs": [],
   "source": [
    "# parameters: n a上盘子的数量； a,b,c; \n",
    "# output: 移动过程\n",
    "def move(n, a, b, c):\n",
    "    if n == 1:\n",
    "        print(a, '-->', c)\n",
    "    else:\n",
    "        move(n-1, a, c, b)\n",
    "        move(1, a, b, c)\n",
    "        move(n-1, b, a, c)        "
   ]
  },
  {
   "cell_type": "code",
   "execution_count": 3,
   "metadata": {
    "scrolled": true
   },
   "outputs": [
    {
     "name": "stdout",
     "output_type": "stream",
     "text": [
      "A --> C\n",
      "A --> B\n",
      "C --> B\n",
      "A --> C\n",
      "B --> A\n",
      "B --> C\n",
      "A --> C\n"
     ]
    }
   ],
   "source": [
    "# test\n",
    "# 期待输出:\n",
    "# A --> C\n",
    "# A --> B\n",
    "# C --> B\n",
    "# A --> C\n",
    "# B --> A\n",
    "# B --> C\n",
    "# A --> C\n",
    "move(3, 'A', 'B', 'C')"
   ]
  },
  {
   "cell_type": "markdown",
   "metadata": {},
   "source": [
    "### Solution Analysis:\n",
    "\n",
    "考虑汉诺塔问题：圆盘（从小到大）按从上到下在A柱（起始），通过B柱（缓冲）按在A柱上的顺序移到C柱（终点）。\n",
    "\n",
    "n = 1时，从A到C；\n",
    "n = 2时，将上1层移至B柱（A->B）,再将最底层移植C柱(A->C)，再从B柱将上一层移至C柱（B->C）\n",
    "n = 3时，将上2层移至B柱（A->B）,将最底层移至C柱（A->C）,再从B柱将上2层移至C柱（B->C）；其中将两层移至B柱参考n=2，此时A为起始柱，B为终点柱，C为缓冲柱。\n",
    "...\n",
    "n = N，将上N-1层移至B柱（A->B）,将最底层移至C柱（A->C）,再从B柱将上N-1层移至C柱（B->C）；形成递归。\n",
    "\n",
    "将该问题抽象为上n-1层为整体，再进行操作。\n"
   ]
  },
  {
   "cell_type": "markdown",
   "metadata": {},
   "source": [
    "### 生成器的应用-杨辉三角问题\n",
    "杨辉三角定义如下：\n",
    "\n",
    "          1\n",
    "         / \\\n",
    "        1   1\n",
    "       / \\ / \\\n",
    "      1   2   1\n",
    "     / \\ / \\ / \\\n",
    "    1   3   3   1\n",
    "   / \\ / \\ / \\ / \\\n",
    "  1   4   6   4   1\n",
    " / \\ / \\ / \\ / \\ / \\\n",
    "1   5   10  10  5   1\n",
    "\n",
    "把每一行看做一个list，试写一个generator，不断输出下一行的list："
   ]
  },
  {
   "cell_type": "code",
   "execution_count": null,
   "metadata": {},
   "outputs": [],
   "source": [
    "def my_sol():\n",
    "    yield([1])\n",
    "    L = [1,1]\n",
    "    n = 2\n",
    "    while 1:\n",
    "        yield L\n",
    "        S = [ 0 for i in range(len(L))]\n",
    "        S[0] = 1\n",
    "        for i in range(len(L))[1:]:\n",
    "            S[i] = L[i-1] + L\n",
    "        S.insert(n,1)\n",
    "        L = S\n",
    "        n = n + 1"
   ]
  },
  {
   "cell_type": "code",
   "execution_count": null,
   "metadata": {},
   "outputs": [],
   "source": [
    "# the python version sol use 列表生成式\n",
    "def triangles():\n",
    "    L = [1]\n",
    "    while 1:\n",
    "        yield L\n",
    "        L = [1] + [L[i-1] + L[i] for i in range(len(L))[1:]] + [1]#掐头去尾仅对中间元素进行操作"
   ]
  },
  {
   "cell_type": "code",
   "execution_count": null,
   "metadata": {},
   "outputs": [],
   "source": [
    "# test code\n",
    "# 期待输出:\n",
    "# [1]\n",
    "# [1, 1]\n",
    "# [1, 2, 1]\n",
    "# [1, 3, 3, 1]\n",
    "# [1, 4, 6, 4, 1]\n",
    "# [1, 5, 10, 10, 5, 1]\n",
    "# [1, 6, 15, 20, 15, 6, 1]\n",
    "# [1, 7, 21, 35, 35, 21, 7, 1]\n",
    "# [1, 8, 28, 56, 70, 56, 28, 8, 1]\n",
    "# [1, 9, 36, 84, 126, 126, 84, 36, 9, 1]\n",
    "n = 0\n",
    "results = []\n",
    "for t in triangles():\n",
    "    results.append(t)\n",
    "    n = n + 1\n",
    "    if n == 10:\n",
    "        break\n",
    "\n",
    "for t in results:\n",
    "    print(t)\n",
    "if results == [\n",
    "    [1],\n",
    "    [1, 1],\n",
    "    [1, 2, 1],\n",
    "    [1, 3, 3, 1],\n",
    "    [1, 4, 6, 4, 1],\n",
    "    [1, 5, 10, 10, 5, 1],\n",
    "    [1, 6, 15, 20, 15, 6, 1],\n",
    "    [1, 7, 21, 35, 35, 21, 7, 1],\n",
    "    [1, 8, 28, 56, 70, 56, 28, 8, 1],\n",
    "    [1, 9, 36, 84, 126, 126, 84, 36, 9, 1]\n",
    "]:\n",
    "    print('测试通过!')\n",
    "else:\n",
    "    print('测试失败!')a"
   ]
  },
  {
   "cell_type": "markdown",
   "metadata": {},
   "source": [
    "> 我的解法仍停留在java思维中，python作为动态语言具有的切片、迭代、列表生成式、生成器和迭代器要积极运用起来。"
   ]
  },
  {
   "cell_type": "code",
   "execution_count": null,
   "metadata": {},
   "outputs": [],
   "source": []
  }
 ],
 "metadata": {
  "kernelspec": {
   "display_name": "Python 3",
   "language": "python",
   "name": "python3"
  },
  "language_info": {
   "codemirror_mode": {
    "name": "ipython",
    "version": 3
   },
   "file_extension": ".py",
   "mimetype": "text/x-python",
   "name": "python",
   "nbconvert_exporter": "python",
   "pygments_lexer": "ipython3",
   "version": "3.6.8"
  }
 },
 "nbformat": 4,
 "nbformat_minor": 2
}
