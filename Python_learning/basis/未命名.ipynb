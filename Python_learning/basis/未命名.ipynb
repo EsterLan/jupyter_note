{
 "cells": [
  {
   "cell_type": "markdown",
   "metadata": {},
   "source": [
    "## 递归函数实例——汉诺塔问题"
   ]
  },
  {
   "cell_type": "markdown",
   "metadata": {},
   "source": [
    "### 递归函数的特点\n",
    "1. 必须有一个明确的递归结束条件，称为递归出口；\n",
    "2. 每次进入深一层递归时，问题规模比上次递归有所减少；\n",
    "3. 递归执行效率不高，递归层次过多会导致栈溢出。\n",
    "\n",
    "尾递归：递归调用出现在函数末尾。当编译器检测到一个函数调用是尾递归的时候，它就覆盖当前的活动记录而不是在栈中去创建一个新的。编译器可以做到这点，因为递归调用是当前活跃期内最后一条待执行的语句，于是当这个调用返回时栈帧中并没有其他事情可做，因此也就没有保存栈帧的必要了。通过覆盖当前的栈帧而不是在其之上重新添加一个，这样所使用的栈空间就大大缩减了，这使得实际的运行效率会变得更高。"
   ]
  },
  {
   "cell_type": "markdown",
   "metadata": {},
   "source": [
    "### 汉诺塔问题"
   ]
  },
  {
   "cell_type": "code",
   "execution_count": 2,
   "metadata": {},
   "outputs": [],
   "source": [
    "# parameters: n a上盘子的数量； a,b,c; \n",
    "# output: 移动过程\n",
    "def move(n, a, b, c):\n",
    "    if n == 1:\n",
    "        print(a, '-->', c)\n",
    "    else:\n",
    "        move(n-1, a, c, b)\n",
    "        move(1, a, b, c)\n",
    "        move(n-1, b, a, c)        "
   ]
  },
  {
   "cell_type": "code",
   "execution_count": 3,
   "metadata": {
    "scrolled": true
   },
   "outputs": [
    {
     "name": "stdout",
     "output_type": "stream",
     "text": [
      "A --> C\n",
      "A --> B\n",
      "C --> B\n",
      "A --> C\n",
      "B --> A\n",
      "B --> C\n",
      "A --> C\n"
     ]
    }
   ],
   "source": [
    "# test\n",
    "# 期待输出:\n",
    "# A --> C\n",
    "# A --> B\n",
    "# C --> B\n",
    "# A --> C\n",
    "# B --> A\n",
    "# B --> C\n",
    "# A --> C\n",
    "move(3, 'A', 'B', 'C')"
   ]
  },
  {
   "cell_type": "markdown",
   "metadata": {},
   "source": [
    "### Solution Analysis:\n",
    "\n",
    "考虑汉诺塔问题：圆盘（从小到大）按从上到下在A柱（起始），通过B柱（缓冲）按在A柱上的顺序移到C柱（终点）。\n",
    "\n",
    "n = 1时，从A到C；\n",
    "n = 2时，将上1层移至B柱（A->B）,再将最底层移植C柱(A->C)，再从B柱将上一层移至C柱（B->C）\n",
    "n = 3时，将上2层移至B柱（A->B）,将最底层移至C柱（A->C）,再从B柱将上2层移至C柱（B->C）；其中将两层移至B柱参考n=2，此时A为起始柱，B为终点柱，C为缓冲柱。\n",
    "...\n",
    "n = N，将上N-1层移至B柱（A->B）,将最底层移至C柱（A->C）,再从B柱将上N-1层移至C柱（B->C）；形成递归。\n",
    "\n",
    "将该问题抽象为上n-1层为整体，再进行操作。\n"
   ]
  },
  {
   "cell_type": "markdown",
   "metadata": {},
   "source": [
    "### 生成器的应用-杨辉三角问题\n",
    "杨辉三角定义如下：\n",
    "\n",
    "          1\n",
    "         / \\\n",
    "        1   1\n",
    "       / \\ / \\\n",
    "      1   2   1\n",
    "     / \\ / \\ / \\\n",
    "    1   3   3   1\n",
    "   / \\ / \\ / \\ / \\\n",
    "  1   4   6   4   1\n",
    " / \\ / \\ / \\ / \\ / \\\n",
    "1   5   10  10  5   1\n",
    "\n",
    "把每一行看做一个list，试写一个generator，不断输出下一行的list："
   ]
  },
  {
   "cell_type": "code",
   "execution_count": null,
   "metadata": {},
   "outputs": [],
   "source": [
    "def my_sol():\n",
    "    yield([1])\n",
    "    L = [1,1]\n",
    "    n = 2\n",
    "    while 1:\n",
    "        yield L\n",
    "        S = [ 0 for i in range(len(L))]\n",
    "        S[0] = 1\n",
    "        for i in range(len(L))[1:]:\n",
    "            S[i] = L[i-1] + L\n",
    "        S.insert(n,1)\n",
    "        L = S\n",
    "        n = n + 1"
   ]
  },
  {
   "cell_type": "code",
   "execution_count": null,
   "metadata": {},
   "outputs": [],
   "source": [
    "# the python version sol use 列表生成式\n",
    "def triangles():\n",
    "    L = [1]\n",
    "    while 1:\n",
    "        yield L\n",
    "        L = [1] + [L[i-1] + L[i] for i in range(len(L))[1:]] + [1]#掐头去尾仅对中间元素进行操作"
   ]
  },
  {
   "cell_type": "code",
   "execution_count": null,
   "metadata": {},
   "outputs": [],
   "source": [
    "# test code\n",
    "# 期待输出:\n",
    "# [1]\n",
    "# [1, 1]\n",
    "# [1, 2, 1]\n",
    "# [1, 3, 3, 1]\n",
    "# [1, 4, 6, 4, 1]\n",
    "# [1, 5, 10, 10, 5, 1]\n",
    "# [1, 6, 15, 20, 15, 6, 1]\n",
    "# [1, 7, 21, 35, 35, 21, 7, 1]\n",
    "# [1, 8, 28, 56, 70, 56, 28, 8, 1]\n",
    "# [1, 9, 36, 84, 126, 126, 84, 36, 9, 1]\n",
    "n = 0\n",
    "results = []\n",
    "for t in triangles():\n",
    "    results.append(t)\n",
    "    n = n + 1\n",
    "    if n == 10:\n",
    "        break\n",
    "\n",
    "for t in results:\n",
    "    print(t)\n",
    "if results == [\n",
    "    [1],\n",
    "    [1, 1],\n",
    "    [1, 2, 1],\n",
    "    [1, 3, 3, 1],\n",
    "    [1, 4, 6, 4, 1],\n",
    "    [1, 5, 10, 10, 5, 1],\n",
    "    [1, 6, 15, 20, 15, 6, 1],\n",
    "    [1, 7, 21, 35, 35, 21, 7, 1],\n",
    "    [1, 8, 28, 56, 70, 56, 28, 8, 1],\n",
    "    [1, 9, 36, 84, 126, 126, 84, 36, 9, 1]\n",
    "]:\n",
    "    print('测试通过!')\n",
    "else:\n",
    "    print('测试失败!')a"
   ]
  },
  {
   "cell_type": "markdown",
   "metadata": {},
   "source": [
    "> 我的解法仍停留在java思维中，python作为动态语言具有的切片、迭代、列表生成式、生成器和迭代器要积极运用起来。"
   ]
  },
  {
   "cell_type": "markdown",
   "metadata": {},
   "source": [
    "### datetime类中时区转换练习\n",
    "正则表达式的使用\n",
    "> 待改进: 对输入合法性的验证"
   ]
  },
  {
   "cell_type": "code",
   "execution_count": 1,
   "metadata": {},
   "outputs": [],
   "source": [
    "# _*_ coding:utf-8 _*_\n",
    "\n",
    "import re\n",
    "from datetime import datetime, timezone, timedelta\n",
    "\n",
    "def to_timestamp(dt_str, tz_str):\n",
    "    # str转换为datetime\n",
    "    dt_datetime = datetime.strptime(dt_str, \"%Y-%m-%d %H:%M:%S\")\n",
    "    # str转换为int 正则表达式对时区进行匹配\n",
    "    m = re.match(r'^UTC([+ -]\\d{1,2})(:00)', tz_str)\n",
    "    if m: \n",
    "        hour = int(m.group(1))\n",
    "        tz = timezone(timedelta(hours = hour))\n",
    "    else:\n",
    "        print('wrong input')\n",
    "    # 时区信息加上\n",
    "    dt = dt_datetime.replace(tzinfo = tz)\n",
    "    # 转换为timestamp存储\n",
    "    return dt.timestamp()"
   ]
  },
  {
   "cell_type": "code",
   "execution_count": 2,
   "metadata": {},
   "outputs": [
    {
     "name": "stdout",
     "output_type": "stream",
     "text": [
      "ok\n"
     ]
    }
   ],
   "source": [
    "# Test\n",
    "t1 = to_timestamp('2015-6-1 08:10:30', 'UTC+7:00')\n",
    "assert t1 == 1433121030.0, t1\n",
    "\n",
    "t2 = to_timestamp('2015-5-31 16:10:30', 'UTC-09:00')\n",
    "assert t2 == 1433121030.0, t2\n",
    "\n",
    "print('ok')"
   ]
  },
  {
   "cell_type": "markdown",
   "metadata": {},
   "source": [
    "### md5加盐🏇\n",
    "对于用户来讲，当然不要使用过于简单的口令。但是，我们能否在程序设计上对简单口令加强保护呢？\n",
    "\n",
    "由于常用口令的MD5值很容易被计算出来，所以，要确保存储的用户口令不是那些已经被计算出来的常用口令的MD5，这一方法通过对原始口令加一个复杂字符串来实现，俗称“加盐”："
   ]
  },
  {
   "cell_type": "code",
   "execution_count": null,
   "metadata": {},
   "outputs": [],
   "source": [
    "# 根据用户输入的登陆名和口令模拟用户注册\n",
    "# 不以明文存储用户pwd\n",
    "db = {}\n",
    "def register(username, password):\n",
    "    db[username] = get_md5(password + username + 'the-Salt')"
   ]
  },
  {
   "cell_type": "code",
   "execution_count": 1,
   "metadata": {},
   "outputs": [],
   "source": [
    "# 根据修改的MD5算法实现用户登陆的验证\n",
    "import hashlib,random\n",
    "\n",
    "def get_md5(s):\n",
    "    return hashlib.md5(s.encode('utf-8')).hexdigest()\n",
    "\n",
    "class User(object):\n",
    "    def __init__(self, username, password):\n",
    "        self.username = username\n",
    "        # 'the salt'随机加20个字符在char(48)和char(122)之间\n",
    "        self.salt = ''.join([chr(random.randint(48,122)) for i in range(20)])\n",
    "        self.password = get_md5(password + self.salt)\n",
    "db = {\n",
    "    'michael': User('michael', '23456'),\n",
    "    'bob': User('bob', 'abc999'),\n",
    "    'alice': User('alice', 'alice2008')\n",
    "}\n",
    "\n",
    "# 模拟登陆\n",
    "def login(username, password):\n",
    "    user = db[username]\n",
    "    return user.password == get_md5(password + user.salt)"
   ]
  },
  {
   "cell_type": "code",
   "execution_count": 3,
   "metadata": {},
   "outputs": [
    {
     "name": "stdout",
     "output_type": "stream",
     "text": [
      "ok\n"
     ]
    }
   ],
   "source": [
    "# Test\n",
    "\n",
    "assert login('michael','23456')\n",
    "assert login('bob', 'abc999')\n",
    "assert login('alice', 'alice2008')\n",
    "assert not login('michael', '1234567')\n",
    "assert not login('bob', '123456')\n",
    "assert not login('alice', 'Alice2008')\n",
    "print('ok')"
   ]
  },
  {
   "cell_type": "markdown",
   "metadata": {},
   "source": [
    "### From md5 with salt to Hmac , 标准化的算法--Hmac算法\n",
    "如果salt是我们自己随机生成的，通常我们计算MD5时采用md5(message + salt)。但实际上，把salt看做一个“口令”，加salt的哈希就是：计算一段message的哈希时，根据不通口令计算出不同的哈希。要验证哈希值，必须同时提供正确的口令。\n",
    "这实际上就是Hmac算法：Keyed-Hashing for Message Authentication。它通过一个标准算法，在计算哈希的过程中，把key混入计算过程中。\n",
    "\n",
    "和我们自定义的加salt算法不同，Hmac算法针对所有哈希算法都通用，无论是MD5还是SHA-1。采用Hmac替代我们自己的salt算法，可以使程序算法更标准化，也更安全。用法如下\n",
    "```python\n",
    ">>> import hmac\n",
    ">>> message = b'Hello, world!'\n",
    ">>> key = b'secret'\n",
    ">>> h = hmac.new(key, message, digestmod='MD5')\n",
    ">>> # 如果消息很长，可以多次调用h.update(msg)\n",
    ">>> h.hexdigest()\n",
    "'fa4ee7d173f2d97ee79022d1a7355bcf'\n",
    "# key and message are byte type\n",
    "```"
   ]
  },
  {
   "cell_type": "code",
   "execution_count": 5,
   "metadata": {},
   "outputs": [],
   "source": [
    "# -*- coding: utf-8 -*-\n",
    "import hmac, random\n",
    "\n",
    "def hmac_md5(key, s):\n",
    "    return hmac.new(key.encode('utf-8'), s.encode('utf-8'), 'MD5').hexdigest()\n",
    "\n",
    "class User(object):\n",
    "    def __init__(self, username, password):\n",
    "        self.username = username\n",
    "        self.key = ''.join([chr(random.randint(48, 122)) for i in range(20)])\n",
    "        self.password = hmac_md5(self.key, password)\n",
    "\n",
    "db = {\n",
    "    'michael': User('michael', '123456'),\n",
    "    'bob': User('bob', 'abc999'),\n",
    "    'alice': User('alice', 'alice2008')\n",
    "}\n",
    "\n",
    "def login(username, password):\n",
    "    user = db[username]\n",
    "    return user.password == hmac_md5(user.key, password)"
   ]
  },
  {
   "cell_type": "code",
   "execution_count": 6,
   "metadata": {},
   "outputs": [
    {
     "name": "stdout",
     "output_type": "stream",
     "text": [
      "ok\n"
     ]
    }
   ],
   "source": [
    "# 测试:\n",
    "assert login('michael', '123456')\n",
    "assert login('bob', 'abc999')\n",
    "assert login('alice', 'alice2008')\n",
    "assert not login('michael', '1234567')\n",
    "assert not login('bob', '123456')\n",
    "assert not login('alice', 'Alice2008')\n",
    "print('ok')"
   ]
  },
  {
   "cell_type": "markdown",
   "metadata": {},
   "source": [
    "### urllib的request模块抓取数据 作业\n",
    "自建服务器需要"
   ]
  },
  {
   "cell_type": "code",
   "execution_count": null,
   "metadata": {},
   "outputs": [],
   "source": []
  }
 ],
 "metadata": {
  "kernelspec": {
   "display_name": "Python 3",
   "language": "python",
   "name": "python3"
  },
  "language_info": {
   "codemirror_mode": {
    "name": "ipython",
    "version": 3
   },
   "file_extension": ".py",
   "mimetype": "text/x-python",
   "name": "python",
   "nbconvert_exporter": "python",
   "pygments_lexer": "ipython3",
   "version": "3.7.4"
  }
 },
 "nbformat": 4,
 "nbformat_minor": 2
}
