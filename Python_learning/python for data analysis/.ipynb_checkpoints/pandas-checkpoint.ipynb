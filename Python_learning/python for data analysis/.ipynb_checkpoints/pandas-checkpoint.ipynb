{
 "cells": [
  {
   "cell_type": "markdown",
   "metadata": {},
   "source": [
    "## pandas入门\n",
    "\n",
    "    基于NumPy数组构建，特别是基于数组的函数和不用for循环的数据处理，数据清洗和分析。与数值计算工具NumPy和SciPy、分析库statsmodels和scikit-learn和可视化库matplotlib一起使用\n",
    "    与numpy的主要区别在于pandas用于处理混杂数据和表格，而numpy更适用于处理统一的数值数组数据。\n",
    "    Series和DataFrame用的较多，常以下对其本地引入"
   ]
  },
  {
   "cell_type": "code",
   "execution_count": 4,
   "metadata": {},
   "outputs": [],
   "source": [
    "import pandas as pd\n",
    "import numpy as np\n",
    "from pandas import Series, DataFrame"
   ]
  },
  {
   "cell_type": "markdown",
   "metadata": {},
   "source": [
    "### 数据结构- Series & DataFrame & Index（理解）\n",
    "\n",
    "- Series\n",
    "- DataFrame\n",
    "- Index\n",
    "\n",
    "#### Series\n",
    "\n",
    "     Series由一组Numpy数组和对应的一组数据标签(索引)组成。\n",
    "     \n",
    "1.Series对象的生成及基本调用"
   ]
  },
  {
   "cell_type": "code",
   "execution_count": 16,
   "metadata": {
    "collapsed": true
   },
   "outputs": [
    {
     "name": "stdout",
     "output_type": "stream",
     "text": [
      "obj1=\n",
      " 0    3.0\n",
      "1    2.0\n",
      "2    1.0\n",
      "3    5.3\n",
      "dtype: float64\n",
      "obj2=\n",
      " a    1\n",
      "b    2\n",
      "c    4\n",
      "d    6\n",
      "dtype: int64\n",
      "obj2 index:  Index(['a', 'b', 'c', 'd'], dtype='object')\n",
      "obj2[c a d]=\n",
      " c    4\n",
      "a    1\n",
      "d    6\n",
      "dtype: int64\n",
      "exp(obj1)= \n",
      " 0     20.085537\n",
      "1      7.389056\n",
      "2      2.718282\n",
      "3    200.336810\n",
      "dtype: float64\n",
      "After changes obj1=\n",
      " Bob      3.0\n",
      "Steve    2.0\n",
      "Jeff     1.0\n",
      "Ryan     5.3\n",
      "dtype: float64\n",
      "b in obj2?: True\n",
      "e in obj2?: False\n",
      "obj3 = \n",
      " Ohio      35000\n",
      "Texas     71000\n",
      "Oregon    16000\n",
      "Utah       5000\n",
      "dtype: int64\n"
     ]
    },
    {
     "data": {
      "text/plain": [
       "California        NaN\n",
       "Ohio          35000.0\n",
       "Oregon        16000.0\n",
       "Texas         71000.0\n",
       "dtype: float64"
      ]
     },
     "execution_count": 16,
     "metadata": {},
     "output_type": "execute_result"
    }
   ],
   "source": [
    "# 直接用一组数组生成\n",
    "obj1 = pd.Series([3,2,1,5.3])\n",
    "print('obj1=\\n',obj1)\n",
    "\n",
    "# 指定索引\n",
    "obj2 = pd.Series([1,2,4,6],index= ['a','b','c','d'])\n",
    "print('obj2=\\n',obj2)\n",
    "\n",
    "# 通过values和index获得属性和索引，也可通过索引获取多个值chuanrushuzu\n",
    "print('obj2 index: ',obj2.index)\n",
    "print('obj2[''c','a','d'']=\\n', obj2[['c','a','d']])\n",
    "\n",
    "# numpy函数进行操作，不改变索引链接值\n",
    "print('exp(obj1)= \\n', np.exp(obj1))\n",
    "\n",
    "# 赋值就地修改index\n",
    "obj1.index =  ['Bob', 'Steve', 'Jeff', 'Ryan']\n",
    "print('After changes obj1=\\n',obj1)\n",
    "\n",
    "# 将Series对象看作定长字典，字典的函数也可以使用\n",
    "print('b in obj2?:', 'b'in obj2)\n",
    "print('e in obj2?:', 'e'in obj2)\n",
    "\n",
    "# 传入字典,索引为字典key的有序排列；也可排好字典的键以改变顺序\n",
    "sdata = {'Ohio': 35000, 'Texas': 71000, 'Oregon': 16000, 'Utah': 5000}\n",
    "obj3 = pd.Series(sdata)\n",
    "print('obj3 = \\n', obj3)\n",
    "states = ['California', 'Ohio', 'Oregon', 'Texas']\n",
    "obj4 = pd.Series(sdata, index =states)\n",
    "obj4"
   ]
  },
  {
   "cell_type": "markdown",
   "metadata": {},
   "source": [
    "2.Series对象的应用函数\n",
    "    \n",
    "    missing/NA表示缺失数据，isnull或notnull函数用于检测缺失数据。more refer to chap7\n",
    "    重要功能： 根据索引标签自动数据对齐 +\n",
    "    Series对象及索引有name属性，与其他功能密切相关   \n"
   ]
  },
  {
   "cell_type": "code",
   "execution_count": 15,
   "metadata": {
    "collapsed": true
   },
   "outputs": [
    {
     "name": "stdout",
     "output_type": "stream",
     "text": [
      "isnull?:\n",
      " California     True\n",
      "Ohio          False\n",
      "Oregon        False\n",
      "Texas         False\n",
      "dtype: bool\n",
      "notnull?\n",
      " California    False\n",
      "Ohio           True\n",
      "Oregon         True\n",
      "Texas          True\n",
      "dtype: bool\n"
     ]
    }
   ],
   "source": [
    "# isnull或notnull\n",
    "print('isnull?:\\n',pd.isnull(obj4))\n",
    "print('notnull?\\n',pd.notnull(obj4))"
   ]
  },
  {
   "cell_type": "code",
   "execution_count": 17,
   "metadata": {
    "collapsed": true
   },
   "outputs": [
    {
     "name": "stdout",
     "output_type": "stream",
     "text": [
      "obj3 = \n",
      " Ohio      35000\n",
      "Texas     71000\n",
      "Oregon    16000\n",
      "Utah       5000\n",
      "dtype: int64\n",
      "obj4 = \n",
      " California        NaN\n",
      "Ohio          35000.0\n",
      "Oregon        16000.0\n",
      "Texas         71000.0\n",
      "dtype: float64\n"
     ]
    },
    {
     "data": {
      "text/plain": [
       "California         NaN\n",
       "Ohio           70000.0\n",
       "Oregon         32000.0\n",
       "Texas         142000.0\n",
       "Utah               NaN\n",
       "dtype: float64"
      ]
     },
     "execution_count": 17,
     "metadata": {},
     "output_type": "execute_result"
    }
   ],
   "source": [
    "# 自动对其，类数据库的join\n",
    "sdata = {'Ohio': 35000, 'Texas': 71000, 'Oregon': 16000, 'Utah': 5000}\n",
    "obj3 = pd.Series(sdata)\n",
    "print('obj3 = \\n', obj3)\n",
    "states = ['California', 'Ohio', 'Oregon', 'Texas']\n",
    "obj4 = pd.Series(sdata, index =states)\n",
    "print('obj4 = \\n', obj4)\n",
    "obj3 + obj4"
   ]
  },
  {
   "cell_type": "code",
   "execution_count": 19,
   "metadata": {},
   "outputs": [
    {
     "data": {
      "text/plain": [
       "state\n",
       "California        NaN\n",
       "Ohio          35000.0\n",
       "Oregon        16000.0\n",
       "Texas         71000.0\n",
       "Name: population, dtype: float64"
      ]
     },
     "execution_count": 19,
     "metadata": {},
     "output_type": "execute_result"
    }
   ],
   "source": [
    "# name属性 for  Series对象及索引对象\n",
    "obj4.name = 'population'\n",
    "obj4.index.name = 'state'\n",
    "obj4"
   ]
  },
  {
   "cell_type": "markdown",
   "metadata": {},
   "source": [
    "#### DataFrame\n",
    "\n",
    "    表格型的数据结构，一组有序的列，每列可以是不同的数据类型；可以看成多个Series对象组成的字典(共用行索引)，以下为生成及基本操作。\n",
    "    \n",
    " >笔记：虽然DataFrame是以二维结构保存数据的，但你仍然可以轻松地将其表示为更高维度的数据（层次化索引的表格型结构，这是pandas中许多高级数据处理功能的关键要素，我们会在第8章讨论这个问题）。\n",
    " \n",
    "way1 ：等长的列表或NumPy数组，自动加上索引"
   ]
  },
  {
   "cell_type": "code",
   "execution_count": 2,
   "metadata": {},
   "outputs": [
    {
     "name": "stdout",
     "output_type": "stream",
     "text": [
      "frame= \n",
      "     state  year  pop\n",
      "0    Ohio  2000  1.5\n",
      "1    Ohio  2001  1.7\n",
      "2    Ohio  2002  3.6\n",
      "3  Nevada  2001  2.4\n",
      "4  Nevada  2002  2.9\n",
      "5  Nevada  2003  3.2\n",
      "frame2=\n",
      "        year   state  pop debt\n",
      "one    2000    Ohio  1.5  NaN\n",
      "two    2001    Ohio  1.7  NaN\n",
      "three  2002    Ohio  3.6  NaN\n",
      "four   2001  Nevada  2.4  NaN\n",
      "five   2002  Nevada  2.9  NaN\n",
      "six    2003  Nevada  3.2  NaN\n",
      "frame2 with debt value\n",
      "        year   state  pop  debt\n",
      "one    2000    Ohio  1.5   1.0\n",
      "two    2001    Ohio  1.7   NaN\n",
      "three  2002    Ohio  3.6  -0.5\n",
      "four   2001  Nevada  2.4   3.4\n",
      "five   2002  Nevada  2.9   NaN\n",
      "six    2003  Nevada  3.2   NaN\n",
      "frame2 columns:  Index(['year', 'state', 'pop', 'debt', 'easter'], dtype='object')\n",
      "frame2 columns after deletion:  Index(['year', 'state', 'pop', 'debt'], dtype='object')\n"
     ]
    }
   ],
   "source": [
    "import pandas as pd\n",
    "from pandas import Series, DataFrame\n",
    "data = {'state': ['Ohio', 'Ohio', 'Ohio', 'Nevada', 'Nevada', 'Nevada'],\n",
    "        'year': [2000, 2001, 2002, 2001, 2002, 2003],\n",
    "        'pop': [1.5, 1.7, 3.6, 2.4, 2.9, 3.2]}\n",
    "frame = pd.DataFrame(data)\n",
    "print('frame= \\n', frame)\n",
    "\n",
    "# 指定列序列，传入列没有则自动生成\n",
    "frame2 = pd.DataFrame(data, columns=['year', 'state', 'pop', 'debt'],\n",
    "                             index=['one', 'two', 'three', 'four',\n",
    "                                    'five', 'six'])\n",
    "print('frame2=\\n', frame2)\n",
    "\n",
    "# 可将dataframe的列作为Series对象取出\n",
    "# 传入Series对象作为列的值\n",
    "frame2['debt'] = pd.Series([1.,3.4, -0.5], index = ['one', 'four', 'three'])\n",
    "print('frame2 with debt value\\n', frame2)\n",
    "\n",
    "# del关键字删除列\n",
    "frame2['easter']  = frame2['state']=='Ohio'\n",
    "print('frame2 columns: ', frame2.columns)\n",
    "del frame2['easter']\n",
    "print('frame2 columns after deletion: ', frame2.columns)"
   ]
  },
  {
   "cell_type": "markdown",
   "metadata": {},
   "source": [
    ">note:\n",
    ">\n",
    ">    返回的Series拥有原DataFrame相同的索引，且其name属性也已经被相应地设置好了。\n",
    ">    \n",
    ">    通过索引方式返回的列只是相应数据的视图而已，并不是副本。因此，对返回的Series所做的任何就地修改全都会反映到源DataFrame上。通过Series的copy方法即可指定复制列\n",
    "    \n",
    "way2: 嵌套字典；外部为列索引columns， 内部为行索引index；\n",
    "               内层字典的键会被合并，指定索引则不会产生这种情况"
   ]
  },
  {
   "cell_type": "code",
   "execution_count": 6,
   "metadata": {
    "collapsed": true
   },
   "outputs": [
    {
     "name": "stdout",
     "output_type": "stream",
     "text": [
      "frame3=\n",
      "       Nevada  Ohio\n",
      "2001     2.4   1.7\n",
      "2002     2.9   3.6\n",
      "2000     NaN   1.5\n",
      "frame3 transpose=\n",
      "         2001  2002  2000\n",
      "Nevada   2.4   2.9   NaN\n",
      "Ohio     1.7   3.6   1.5\n",
      "指定索引:\n",
      "       Nevada  Ohio\n",
      "2001     2.4   1.7\n",
      "2002     2.9   3.6\n",
      "2003     NaN   NaN\n"
     ]
    }
   ],
   "source": [
    "pop = {'Nevada': {2001: 2.4, 2002: 2.9},\n",
    "    'Ohio': {2000: 1.5, 2001: 1.7, 2002: 3.6}}\n",
    "frame3 = pd.DataFrame(pop)\n",
    "print('frame3=\\n', frame3)\n",
    "\n",
    "# 类NumPy可对其进行transpose\n",
    "print('frame3 transpose=\\n', frame3.T)\n",
    "\n",
    "# 对其索引指定\n",
    "frame4 = pd.DataFrame(pop, index = [2001, 2002, 2003])\n",
    "print('指定索引:\\n', frame4)"
   ]
  },
  {
   "cell_type": "markdown",
   "metadata": {},
   "source": [
    "Tips：\n",
    "\n",
    "    可传给DataFrame构造器的数据 refer to table5-1；\n",
    "    可对DataFrame的index和columns的name属性进行设置；\n",
    "    values属性返回二维ndarray\n"
   ]
  },
  {
   "cell_type": "markdown",
   "metadata": {},
   "source": [
    "#### Index索引对象\n",
    "\n",
    "    pandas的索引对象负责管理轴标签和其他元数据（比如轴名称等）。构建Series或DataFrame时，所用到的任何数组或其他序列的标签都会被转换成一个Index；\n",
    "    \n",
    "    Index对象是不可变的，因此用户不能对其进行修改；\n",
    "    \n",
    "    不可变可以使Index对象在多个数据结构之间安全共享;\n",
    "    "
   ]
  },
  {
   "cell_type": "code",
   "execution_count": 10,
   "metadata": {
    "collapsed": true
   },
   "outputs": [
    {
     "name": "stdout",
     "output_type": "stream",
     "text": [
      "labels:\n",
      " Int64Index([0, 1, 2], dtype='int64')\n",
      "obj series with index label:\n",
      " 0    1.5\n",
      "1    2.0\n",
      "2   -3.0\n",
      "dtype: float64\n",
      "obj.index is labels?:  True\n"
     ]
    }
   ],
   "source": [
    "import numpy as np\n",
    "labels =  pd.Index(np.arange(3))\n",
    "print('labels:\\n', labels)\n",
    "\n",
    "# 与Series对象共享\n",
    "obj = pd.Series([1.5, 2.0, -3], index = labels)\n",
    "print('obj series with index label:\\n', obj)\n",
    "print('obj.index is labels?: ', obj.index is labels)"
   ]
  },
  {
   "cell_type": "markdown",
   "metadata": {},
   "source": [
    "\n",
    "    除了类似于数组，Index的功能也类似一个固定大小的集合;\n",
    "    \n",
    "    与python的集合不同，pandas的Index可以包含重复的标签；\n",
    "    \n",
    "    每个索引都有一些方法和属性，它们可用于设置逻辑并回答有关该索引所包含的数据的常见问题。表5-2列出了这些函数。"
   ]
  },
  {
   "cell_type": "code",
   "execution_count": 14,
   "metadata": {
    "collapsed": true
   },
   "outputs": [
    {
     "name": "stdout",
     "output_type": "stream",
     "text": [
      "frame3 colunmns:  Index(['Nevada', 'Ohio'], dtype='object', name='state')\n",
      "Ohio in columns?:  True\n",
      "Califorlia in columns?:  False\n"
     ]
    }
   ],
   "source": [
    "frame3.columns.name = 'state'\n",
    "print('frame3 colunmns: ', frame3.columns)\n",
    "print('Ohio in columns?: ', 'Ohio' in frame3.columns)\n",
    "print('Califorlia in columns?: ', 'Cali' in frame3.columns)"
   ]
  },
  {
   "cell_type": "markdown",
   "metadata": {},
   "source": [
    "### 基本功能\n",
    "- reindex\n",
    "- drop\n",
    "- 索引、选取和过滤\n",
    "- loc & iloc\n",
    "- 整数索引\n",
    "- 算术运算和数据对齐\n",
    "- 在算术方法中填充值\n",
    "- DataFrame和Series之间的运算\n",
    "- 函数应用和映射\n",
    "- 排序&排名\n",
    "- 带有重复标签的轴索引\n"
   ]
  },
  {
   "cell_type": "markdown",
   "metadata": {},
   "source": [
    "#### 重新索引reindex\n",
    "\n",
    "  pandas对象的一个重要方法是reindex，其作用是创建一个**新对象**，它的数据符合新的索引。\n",
    "  \n",
    "可以做的事情有：\n",
    "- 根据新索引排序，不存在的引入缺失值 for both Series & DataFrame\n",
    "- 插值：对于时间序列这样的有序数据，重新索引时可能需要做一些插值处理。method选项即可达到此目的，例如，使用ffill可以实现前向值填充\n",
    "- 对DataFrame对象reindex时，传入一个列表默认对行重新索引，对列重新索引关键字columns\n",
    "- more refer to table5-3"
   ]
  },
  {
   "cell_type": "code",
   "execution_count": 15,
   "metadata": {
    "collapsed": true
   },
   "outputs": [
    {
     "name": "stdout",
     "output_type": "stream",
     "text": [
      "the original obj=\n",
      " d    4.5\n",
      "b    7.2\n",
      "a   -5.3\n",
      "c    3.6\n",
      "dtype: float64\n",
      "the reindexed obj=\n",
      " a   -5.3\n",
      "b    7.2\n",
      "c    3.6\n",
      "d    4.5\n",
      "e    NaN\n",
      "dtype: float64\n"
     ]
    }
   ],
   "source": [
    "obj = pd.Series([4.5, 7.2, -5.3, 3.6], index=['d', 'b', 'a', 'c'])\n",
    "print('the original obj=\\n', obj)\n",
    "\n",
    "# Series对象的reindex对其进行重新索引\n",
    "obj2 = obj.reindex(['a', 'b', 'c', 'd', 'e'])\n",
    "print('the reindexed obj=\\n', obj2)"
   ]
  },
  {
   "cell_type": "code",
   "execution_count": 22,
   "metadata": {},
   "outputs": [
    {
     "name": "stdout",
     "output_type": "stream",
     "text": [
      "0      blue\n",
      "2    purple\n",
      "4    yellow\n",
      "dtype: object\n",
      "after 插值：\n",
      " 0      blue\n",
      "1      blue\n",
      "2    purple\n",
      "3    purple\n",
      "4    yellow\n",
      "5    yellow\n",
      "dtype: object\n"
     ]
    }
   ],
   "source": [
    "# 插值\n",
    "obj3 = pd.Series(['blue', 'purple', 'yellow'], index=[0, 2, 4])\n",
    "print(obj3)\n",
    "## ffill前向插值\n",
    "obj4 = obj3.reindex(np.arange(6), method='ffill')\n",
    "print('after 插值：\\n', obj4)"
   ]
  },
  {
   "cell_type": "markdown",
   "metadata": {},
   "source": [
    "#### 丢弃指定轴上的项 drop\n",
    "丢弃某条轴上的一个或多个项很简单，只要有一个索引数组或列表即可。由于需要执行一些数据整理和集合逻辑，所以drop方法返回的是一个在指定轴上删除了指定值的**新对象**\n",
    "\n",
    "对DataFrame对象， 指定axis = columns，对列进行处理\n",
    ">注意： inplace参数可以指定是否原地修改，默认为false，谨慎使用"
   ]
  },
  {
   "cell_type": "code",
   "execution_count": 23,
   "metadata": {},
   "outputs": [
    {
     "name": "stdout",
     "output_type": "stream",
     "text": [
      "the original obj=\n",
      " a    0.0\n",
      "b    1.0\n",
      "c    2.0\n",
      "d    3.0\n",
      "e    4.0\n",
      "dtype: float64\n",
      "drop the d and c\n",
      " a    0.0\n",
      "b    1.0\n",
      "e    4.0\n",
      "dtype: float64\n"
     ]
    }
   ],
   "source": [
    "# for Series\n",
    "obj = pd.Series(np.arange(5.), index=['a', 'b', 'c', 'd', 'e'])\n",
    "print('the original obj=\\n', obj)\n",
    "new_obj = obj.drop(['d','c'])\n",
    "print('drop the d and c\\n', new_obj)"
   ]
  },
  {
   "cell_type": "code",
   "execution_count": 25,
   "metadata": {
    "collapsed": true
   },
   "outputs": [
    {
     "name": "stdout",
     "output_type": "stream",
     "text": [
      "the original frame=\n",
      "           one  two  three  four\n",
      "Ohio        0    1      2     3\n",
      "Colorado    4    5      6     7\n",
      "Utah        8    9     10    11\n",
      "New York   12   13     14    15\n",
      "drop 1 and 3_frame\n",
      "           two  four\n",
      "Ohio        1     3\n",
      "Colorado    5     7\n",
      "Utah        9    11\n",
      "New York   13    15\n"
     ]
    }
   ],
   "source": [
    "# for DataFrame\n",
    "frame = pd.DataFrame(np.arange(16).reshape((4, 4)),\n",
    "                           index=['Ohio', 'Colorado', 'Utah', 'New York'],\n",
    "                           columns=['one', 'two', 'three', 'four'])\n",
    "print('the original frame=\\n', frame)\n",
    "new_frame = frame.drop(['one', 'three'], axis = 'columns')\n",
    "print('drop 1 and 3_frame\\n', new_frame)"
   ]
  },
  {
   "cell_type": "markdown",
   "metadata": {},
   "source": [
    "#### 索引、选取&过滤\n",
    "与Numpy类似\n",
    "- Series:\n",
    "不用数字用标签对其索引；与Python切片不同，这个切片包含末端值；\n",
    "- DataFrame：\n",
    "传入值或序列时对应某列或某几列frame['']orframe[['','']]；传入frame[:2]取前两行\n",
    "\n",
    "也可采用布尔型DataFrame对其索引， 与NumPy二维数组类似"
   ]
  },
  {
   "cell_type": "code",
   "execution_count": 28,
   "metadata": {
    "collapsed": true
   },
   "outputs": [
    {
     "name": "stdout",
     "output_type": "stream",
     "text": [
      "obj[b:d]\n",
      " b    1.0\n",
      "c    2.0\n",
      "d    3.0\n",
      "dtype: float64\n"
     ]
    },
    {
     "data": {
      "text/plain": [
       "a    0.0\n",
       "b    1.0\n",
       "c    2.0\n",
       "d    3.0\n",
       "e    0.0\n",
       "dtype: float64"
      ]
     },
     "execution_count": 28,
     "metadata": {},
     "output_type": "execute_result"
    }
   ],
   "source": [
    "# for series\n",
    "obj = pd.Series(np.arange(5.), index=['a', 'b', 'c', 'd','e'])\n",
    "print('obj[b:d]\\n',obj['b':'d'])\n",
    "# 对大于3的置0\n",
    "obj[obj>3] = 0\n",
    "obj"
   ]
  },
  {
   "cell_type": "code",
   "execution_count": 35,
   "metadata": {},
   "outputs": [
    {
     "name": "stdout",
     "output_type": "stream",
     "text": [
      "data：\n",
      "           one  two  three  four\n",
      "Ohio        0    1      2     3\n",
      "Colorado    4    5      6     7\n",
      "Utah        8    9     10    11\n",
      "New York   12   13     14    15\n",
      "1&3 column：\n",
      "           one  three\n",
      "Ohio        0      2\n",
      "Colorado    4      6\n",
      "Utah        8     10\n",
      "New York   12     14\n",
      "前两行：\n",
      "           one  two  three  four\n",
      "Ohio        0    1      2     3\n",
      "Colorado    4    5      6     7\n",
      "col3 >5: \n",
      "           one  two  three  four\n",
      "Colorado    4    5      6     7\n",
      "Utah        8    9     10    11\n",
      "New York   12   13     14    15\n"
     ]
    }
   ],
   "source": [
    "# for DataFrame\n",
    "data = pd.DataFrame(np.arange(16).reshape((4, 4)),\n",
    "                     index=['Ohio', 'Colorado', 'Utah', 'New York'],\n",
    "                     columns=['one', 'two', 'three', 'four'])\n",
    "print('data：\\n', data)\n",
    "print('1&3 column：\\n', data[['one','three']])\n",
    "print('前两行：\\n', data[:2])\n",
    "print('col3 >5: \\n', data[data['three']>5])"
   ]
  },
  {
   "cell_type": "markdown",
   "metadata": {},
   "source": [
    "#### loc&iloc选取\n",
    "- loc: 通过*标签*进行索引 loc[....]\n",
    "- iloc: 通过*整数*进行索引 iloc[....]\n",
    "> 注意标签和整数一定要在范围内\n",
    "- 也适用于一个标签或多个标签的切片"
   ]
  },
  {
   "cell_type": "code",
   "execution_count": 45,
   "metadata": {},
   "outputs": [
    {
     "name": "stdout",
     "output_type": "stream",
     "text": [
      "data:\n",
      "           one  two  three  four\n",
      "Ohio        0    1      2     3\n",
      "Colorado    4    5      6     7\n",
      "Utah        8    9     10    11\n",
      "New York   12   13     14    15\n",
      "loc & 标签：\n",
      "            one  three\n",
      "Utah       8.0   10.0\n",
      "Colorador  NaN    NaN\n",
      "iloc & 整数：\n",
      " four    15\n",
      "one     12\n",
      "two     13\n",
      "Name: New York, dtype: int64\n",
      "data.loc[:'Utah', 'two']\n",
      " Ohio        1\n",
      "Colorado    5\n",
      "Utah        9\n",
      "Name: two, dtype: int64\n",
      "data.iloc[:, :3][data.three > 5]:\n",
      "           one  two  three\n",
      "Colorado    4    5      6\n",
      "Utah        8    9     10\n",
      "New York   12   13     14\n"
     ]
    }
   ],
   "source": [
    "print('data:\\n',data)\n",
    "# loc和标签\n",
    "print('loc & 标签：\\n', data.loc[['Utah', 'Colorador'],['one','three']])\n",
    "# iloc和整数\n",
    "print('iloc & 整数：\\n', data.iloc[3, [3,0,1]])\n",
    "# 切片\n",
    "print('data.loc[:\\'Utah\\', \\'two\\']\\n',data.loc[:'Utah', 'two'])\n",
    "print('data.iloc[:, :3][data.three > 5]:\\n',data.iloc[:, :3][data.three > 5])"
   ]
  },
  {
   "cell_type": "markdown",
   "metadata": {},
   "source": [
    "在pandas中，有多个方法可以选取和重新组合数据。对于DataFrame，表5-4进行了总结。后面会看到，还有更多的方法进行层级化索引。\n",
    "\n",
    "#### 算术运算和数据对齐\n",
    "\n",
    "可对不同索引的对象进行算术运算，自动的数据对齐操作在不重叠的索引处引入了NA值。缺失值会在算术运算过程中传播。并生成**新的对象**\n",
    "\n",
    "对Series对象进行索引的对齐，对DataFrame对象进行行和列的对齐，并生成新的DataFrame对象\n",
    "    "
   ]
  },
  {
   "cell_type": "code",
   "execution_count": 2,
   "metadata": {
    "collapsed": true
   },
   "outputs": [
    {
     "name": "stdout",
     "output_type": "stream",
     "text": [
      "df1:\n",
      "             b    c    d\n",
      "Ohio      0.0  1.0  2.0\n",
      "Texas     3.0  4.0  5.0\n",
      "Colorado  6.0  7.0  8.0\n",
      "df2:\n",
      "           b     d     e\n",
      "Utah    0.0   1.0   2.0\n",
      "Ohio    3.0   4.0   5.0\n",
      "Texas   6.0   7.0   8.0\n",
      "Oregon  9.0  10.0  11.0\n",
      "df1+df2:\n",
      "             b   c     d   e\n",
      "Colorado  NaN NaN   NaN NaN\n",
      "Ohio      3.0 NaN   6.0 NaN\n",
      "Oregon    NaN NaN   NaN NaN\n",
      "Texas     9.0 NaN  12.0 NaN\n",
      "Utah      NaN NaN   NaN NaN\n"
     ]
    }
   ],
   "source": [
    "import pandas as pd\n",
    "import numpy as np\n",
    "from pandas import Series, DataFrame\n",
    "\n",
    "df1 = pd.DataFrame(np.arange(9.).reshape((3, 3)), columns=list('bcd'),\n",
    "                     index=['Ohio', 'Texas', 'Colorado'])\n",
    "df2 = pd.DataFrame(np.arange(12.).reshape((4, 3)), columns=list('bde'),\n",
    "                     index=['Utah', 'Ohio', 'Texas', 'Oregon'])\n",
    "print('df1:\\n', df1)\n",
    "print('df2:\\n', df2)\n",
    "print('df1+df2:\\n', df1 + df2)\n"
   ]
  },
  {
   "attachments": {
    "1.png": {
     "image/png": "[encoded data removed]"
    }
   },
   "cell_type": "markdown",
   "metadata": {},
   "source": [
    "#### 在算术方法中填充值\n",
    "\n",
    "没有重叠索引时的NaN值，可以通过算术方法中的fill_value参数进行填充\n",
    "\n",
    "> 注意：\n",
    "算术方法处理非重叠索引与+的区别，以及fill_value的影响 ；\n",
    "常用的算术方法: r是参数调换 eg:1/df = df.rdiv(1)\n",
    "    \n",
    "   ![1.png](attachment:1.png)"
   ]
  },
  {
   "cell_type": "code",
   "execution_count": 4,
   "metadata": {
    "collapsed": true
   },
   "outputs": [
    {
     "name": "stdout",
     "output_type": "stream",
     "text": [
      "df1:\n",
      "      a    b     c     d\n",
      "0  0.0  1.0   2.0   3.0\n",
      "1  4.0  5.0   6.0   7.0\n",
      "2  8.0  9.0  10.0  11.0\n",
      "df2:\n",
      "       a     b     c     d     e\n",
      "0   0.0   1.0   2.0   3.0   4.0\n",
      "1   5.0   6.0   NaN   8.0   9.0\n",
      "2  10.0  11.0  12.0  13.0  14.0\n",
      "3  15.0  16.0  17.0  18.0  19.0\n",
      "df1+df2:\n",
      "       a     b     c     d   e\n",
      "0   0.0   2.0   4.0   6.0 NaN\n",
      "1   9.0  11.0   NaN  15.0 NaN\n",
      "2  18.0  20.0  22.0  24.0 NaN\n",
      "3   NaN   NaN   NaN   NaN NaN\n",
      "d1+d1 with fill_value = 1:\n",
      "       a     b     c     d     e\n",
      "0   0.0   2.0   4.0   6.0   5.0\n",
      "1   9.0  11.0   7.0  15.0  10.0\n",
      "2  18.0  20.0  22.0  24.0  15.0\n",
      "3  16.0  17.0  18.0  19.0  20.0\n"
     ]
    }
   ],
   "source": [
    "df1 = pd.DataFrame(np.arange(12.).reshape((3, 4)),\n",
    "                    columns=list('abcd'))\n",
    "df2 = pd.DataFrame(np.arange(20.).reshape((4, 5)),\n",
    "                     columns=list('abcde'))\n",
    "print('df1:\\n', df1)\n",
    "df2.loc[1,'c'] = np.nan\n",
    "print('df2:\\n', df2)\n",
    "print('df1+df2:\\n', df1 + df2)\n",
    "\n",
    "# 对NaN进行填充\n",
    "print('df1+df21 with fill_value = 1:\\n', df1.add(df2, fill_value = 1))"
   ]
  },
  {
   "cell_type": "markdown",
   "metadata": {},
   "source": [
    "#### DataFrame和Series之间的运算\n",
    "与numpy不同维度数组之间的运算类似，DataFrame与Series之间也有广播的机制，且默认Series对象的索引匹配DataFrame对象的列索引；\n",
    "\n",
    "如果某个索引值在DataFrame的列或Series的索引中找不到，则参与运算的两个对象就会被重新索引以形成并集；\n",
    "\n",
    "若要匹配行索引指定axis = index/axis = 0"
   ]
  },
  {
   "cell_type": "code",
   "execution_count": 5,
   "metadata": {
    "collapsed": true
   },
   "outputs": [
    {
     "name": "stdout",
     "output_type": "stream",
     "text": [
      "arr\n",
      " [[ 0.  1.  2.  3.  4.]\n",
      " [ 5.  6.  7.  8.  9.]\n",
      " [10. 11. 12. 13. 14.]\n",
      " [15. 16. 17. 18. 19.]]\n",
      "arr - arr[0]\n",
      " [[ 0.  0.  0.  0.  0.]\n",
      " [ 5.  5.  5.  5.  5.]\n",
      " [10. 10. 10. 10. 10.]\n",
      " [15. 15. 15. 15. 15.]]\n"
     ]
    }
   ],
   "source": [
    "# numpy的例子\n",
    "arr = np.arange(20.).reshape(4,5)\n",
    "print('arr\\n', arr)\n",
    "print('arr - arr[0]\\n', arr - arr[0])"
   ]
  },
  {
   "cell_type": "code",
   "execution_count": 28,
   "metadata": {},
   "outputs": [
    {
     "name": "stdout",
     "output_type": "stream",
     "text": [
      "frame:\n",
      "           b     d     e\n",
      "Utah    0.0   1.0   2.0\n",
      "Ohio    3.0   4.0   5.0\n",
      "Texas   6.0   7.0   8.0\n",
      "Oregon  9.0  10.0  11.0\n",
      "series1\n",
      " b    0.0\n",
      "d    1.0\n",
      "e    2.0\n",
      "Name: Utah, dtype: float64\n",
      "frame - series1\n",
      "           b    d    e\n",
      "Utah    0.0  0.0  0.0\n",
      "Ohio    3.0  3.0  3.0\n",
      "Texas   6.0  6.0  6.0\n",
      "Oregon  9.0  9.0  9.0\n",
      "series2\n",
      " a    0\n",
      "c    1\n",
      "e    2\n",
      "dtype: int64\n",
      "frame + series2\n",
      "          a   b   c   d     e\n",
      "Utah   NaN NaN NaN NaN   4.0\n",
      "Ohio   NaN NaN NaN NaN   7.0\n",
      "Texas  NaN NaN NaN NaN  10.0\n",
      "Oregon NaN NaN NaN NaN  13.0\n",
      "series3\n",
      " Utah      0.0\n",
      "Ohio      3.0\n",
      "Texas     6.0\n",
      "Oregon    9.0\n",
      "Name: b, dtype: float64\n",
      "与frame行匹配\n",
      "           b    d    e\n",
      "Utah    0.0  1.0  2.0\n",
      "Ohio    0.0  1.0  2.0\n",
      "Texas   0.0  1.0  2.0\n",
      "Oregon  0.0  1.0  2.0\n"
     ]
    }
   ],
   "source": [
    "frame = pd.DataFrame(np.arange(12.).reshape((4, 3)),\n",
    "                      columns=list('bde'),\n",
    "                      index=['Utah', 'Ohio', 'Texas', 'Oregon'])\n",
    "print('frame:\\n', frame)\n",
    "series1 = frame.iloc[0]\n",
    "print('series1\\n',series1)\n",
    "print('frame - series1\\n', frame - series1)\n",
    "\n",
    "# 有不重叠索引\n",
    "series2 =  pd.Series(range(3), index = list('ace'))\n",
    "print('series2\\n', series2)\n",
    "# frame + series2 = frame.add(series2)\n",
    "print('frame + series2\\n', frame + series2)\n",
    "\n",
    "# Series对象索引与行索引匹配\n",
    "series3 = frame['b']\n",
    "print('series3\\n', series3)\n",
    "print('与frame行匹配\\n', frame.sub(series3, axis = 0))"
   ]
  },
  {
   "cell_type": "markdown",
   "metadata": {},
   "source": [
    "#### 函数应用和映射\n",
    "1. NumPy的ufuncs可用于操作pandas对象\n",
    "2. **DataFrame**的apply方法可以实现将函数应用到每一列（默认）；传递anxi = 'columns'对每一行操作\n",
    "3. 元素级的Python函数,applymap\n",
    "\n",
    ">？？为啥Sereis对象不能apply，查看元马"
   ]
  },
  {
   "cell_type": "code",
   "execution_count": 18,
   "metadata": {
    "collapsed": true
   },
   "outputs": [
    {
     "name": "stdout",
     "output_type": "stream",
     "text": [
      "frame\n",
      "                b         d         e\n",
      "Utah   -1.192305  0.195479  0.047908\n",
      "Ohio    0.544413  1.952725  0.102777\n",
      "Texas   0.189833  1.067861  0.931190\n",
      "Oregon -0.786287  1.998192 -0.820045\n"
     ]
    },
    {
     "data": {
      "text/html": [
       "<div>\n",
       "<style scoped>\n",
       "    .dataframe tbody tr th:only-of-type {\n",
       "        vertical-align: middle;\n",
       "    }\n",
       "\n",
       "    .dataframe tbody tr th {\n",
       "        vertical-align: top;\n",
       "    }\n",
       "\n",
       "    .dataframe thead th {\n",
       "        text-align: right;\n",
       "    }\n",
       "</style>\n",
       "<table border=\"1\" class=\"dataframe\">\n",
       "  <thead>\n",
       "    <tr style=\"text-align: right;\">\n",
       "      <th></th>\n",
       "      <th>b</th>\n",
       "      <th>d</th>\n",
       "      <th>e</th>\n",
       "    </tr>\n",
       "  </thead>\n",
       "  <tbody>\n",
       "    <tr>\n",
       "      <td>Utah</td>\n",
       "      <td>1.192305</td>\n",
       "      <td>0.195479</td>\n",
       "      <td>0.047908</td>\n",
       "    </tr>\n",
       "    <tr>\n",
       "      <td>Ohio</td>\n",
       "      <td>0.544413</td>\n",
       "      <td>1.952725</td>\n",
       "      <td>0.102777</td>\n",
       "    </tr>\n",
       "    <tr>\n",
       "      <td>Texas</td>\n",
       "      <td>0.189833</td>\n",
       "      <td>1.067861</td>\n",
       "      <td>0.931190</td>\n",
       "    </tr>\n",
       "    <tr>\n",
       "      <td>Oregon</td>\n",
       "      <td>0.786287</td>\n",
       "      <td>1.998192</td>\n",
       "      <td>0.820045</td>\n",
       "    </tr>\n",
       "  </tbody>\n",
       "</table>\n",
       "</div>"
      ],
      "text/plain": [
       "               b         d         e\n",
       "Utah    1.192305  0.195479  0.047908\n",
       "Ohio    0.544413  1.952725  0.102777\n",
       "Texas   0.189833  1.067861  0.931190\n",
       "Oregon  0.786287  1.998192  0.820045"
      ]
     },
     "execution_count": 18,
     "metadata": {},
     "output_type": "execute_result"
    }
   ],
   "source": [
    "frame = pd.DataFrame(np.random.randn(4, 3), columns=list('bde'),\n",
    "                        index=['Utah', 'Ohio', 'Texas', 'Oregon'])\n",
    "print('frame\\n', frame)\n",
    "# numpy unfunc\n",
    "np.abs(frame)\n"
   ]
  },
  {
   "cell_type": "code",
   "execution_count": 29,
   "metadata": {
    "scrolled": true
   },
   "outputs": [
    {
     "name": "stdout",
     "output_type": "stream",
     "text": [
      "对列进行运算\n",
      " b    9.0\n",
      "d    9.0\n",
      "e    9.0\n",
      "dtype: float64\n",
      "对行进行运算\n",
      " Utah      2.0\n",
      "Ohio      2.0\n",
      "Texas     2.0\n",
      "Oregon    2.0\n",
      "dtype: float64\n"
     ]
    }
   ],
   "source": [
    "# DataFrame对象的apply 方法\n",
    "f = lambda x: x.max() - x.min()\n",
    "print('对列进行运算\\n', frame.apply(f))\n",
    "print('对行进行运算\\n', frame.apply(f, axis = 1))\n"
   ]
  },
  {
   "cell_type": "code",
   "execution_count": 22,
   "metadata": {
    "collapsed": true
   },
   "outputs": [
    {
     "data": {
      "text/html": [
       "<div>\n",
       "<style scoped>\n",
       "    .dataframe tbody tr th:only-of-type {\n",
       "        vertical-align: middle;\n",
       "    }\n",
       "\n",
       "    .dataframe tbody tr th {\n",
       "        vertical-align: top;\n",
       "    }\n",
       "\n",
       "    .dataframe thead th {\n",
       "        text-align: right;\n",
       "    }\n",
       "</style>\n",
       "<table border=\"1\" class=\"dataframe\">\n",
       "  <thead>\n",
       "    <tr style=\"text-align: right;\">\n",
       "      <th></th>\n",
       "      <th>b</th>\n",
       "      <th>d</th>\n",
       "      <th>e</th>\n",
       "    </tr>\n",
       "  </thead>\n",
       "  <tbody>\n",
       "    <tr>\n",
       "      <td>Utah</td>\n",
       "      <td>-1.192</td>\n",
       "      <td>0.195</td>\n",
       "      <td>0.048</td>\n",
       "    </tr>\n",
       "    <tr>\n",
       "      <td>Ohio</td>\n",
       "      <td>0.544</td>\n",
       "      <td>1.953</td>\n",
       "      <td>0.103</td>\n",
       "    </tr>\n",
       "    <tr>\n",
       "      <td>Texas</td>\n",
       "      <td>0.190</td>\n",
       "      <td>1.068</td>\n",
       "      <td>0.931</td>\n",
       "    </tr>\n",
       "    <tr>\n",
       "      <td>Oregon</td>\n",
       "      <td>-0.786</td>\n",
       "      <td>1.998</td>\n",
       "      <td>-0.820</td>\n",
       "    </tr>\n",
       "  </tbody>\n",
       "</table>\n",
       "</div>"
      ],
      "text/plain": [
       "             b      d       e\n",
       "Utah    -1.192  0.195   0.048\n",
       "Ohio     0.544  1.953   0.103\n",
       "Texas    0.190  1.068   0.931\n",
       "Oregon  -0.786  1.998  -0.820"
      ]
     },
     "execution_count": 22,
     "metadata": {},
     "output_type": "execute_result"
    }
   ],
   "source": [
    "# python元素级函数\n",
    "format = lambda x: '%.3f'%x\n",
    "frame.applymap(format)"
   ]
  },
  {
   "cell_type": "markdown",
   "metadata": {},
   "source": [
    "#### 排序与排名\n",
    "- 排序：\n",
    "    sort_index：按索引排序，返回已排序的**新对象**\n",
    "    sort_values：按值排序；Series对象的NaN值会排到最后，可指定升降序\n",
    "- 排名：rank\n",
    "  从1开始排名，默认index，默method为average,如数据a在行中排名2，3，4，则输出排名为3；若method为max/min，即为4/2；若为first，则与其在原始数据中出现顺序有关；dense即从1开始递增1；refer to![https://blog.csdn.net/maymay_/article/details/80209709]"
   ]
  },
  {
   "cell_type": "code",
   "execution_count": 24,
   "metadata": {
    "collapsed": true
   },
   "outputs": [
    {
     "name": "stdout",
     "output_type": "stream",
     "text": [
      "frame\n",
      "        d  a  b  c\n",
      "three  0  1  2  3\n",
      "one    4  5  6  7\n"
     ]
    },
    {
     "data": {
      "text/html": [
       "<div>\n",
       "<style scoped>\n",
       "    .dataframe tbody tr th:only-of-type {\n",
       "        vertical-align: middle;\n",
       "    }\n",
       "\n",
       "    .dataframe tbody tr th {\n",
       "        vertical-align: top;\n",
       "    }\n",
       "\n",
       "    .dataframe thead th {\n",
       "        text-align: right;\n",
       "    }\n",
       "</style>\n",
       "<table border=\"1\" class=\"dataframe\">\n",
       "  <thead>\n",
       "    <tr style=\"text-align: right;\">\n",
       "      <th></th>\n",
       "      <th>d</th>\n",
       "      <th>a</th>\n",
       "      <th>b</th>\n",
       "      <th>c</th>\n",
       "    </tr>\n",
       "  </thead>\n",
       "  <tbody>\n",
       "    <tr>\n",
       "      <td>one</td>\n",
       "      <td>4</td>\n",
       "      <td>5</td>\n",
       "      <td>6</td>\n",
       "      <td>7</td>\n",
       "    </tr>\n",
       "    <tr>\n",
       "      <td>three</td>\n",
       "      <td>0</td>\n",
       "      <td>1</td>\n",
       "      <td>2</td>\n",
       "      <td>3</td>\n",
       "    </tr>\n",
       "  </tbody>\n",
       "</table>\n",
       "</div>"
      ],
      "text/plain": [
       "       d  a  b  c\n",
       "one    4  5  6  7\n",
       "three  0  1  2  3"
      ]
     },
     "execution_count": 24,
     "metadata": {},
     "output_type": "execute_result"
    }
   ],
   "source": [
    "# sort by index\n",
    "frame = pd.DataFrame(np.arange(8).reshape((2, 4)),\n",
    "                       index=['three', 'one'],\n",
    "                       columns=['d', 'a', 'b', 'c'])\n",
    "print('frame\\n', frame)\n",
    "frame.sort_index()"
   ]
  },
  {
   "cell_type": "code",
   "execution_count": 26,
   "metadata": {
    "collapsed": true
   },
   "outputs": [
    {
     "name": "stdout",
     "output_type": "stream",
     "text": [
      "obj= \n",
      " 0    4.0\n",
      "1    NaN\n",
      "2    7.0\n",
      "3    NaN\n",
      "4   -3.0\n",
      "5    2.0\n",
      "dtype: float64\n"
     ]
    },
    {
     "data": {
      "text/plain": [
       "4   -3.0\n",
       "5    2.0\n",
       "0    4.0\n",
       "2    7.0\n",
       "1    NaN\n",
       "3    NaN\n",
       "dtype: float64"
      ]
     },
     "execution_count": 26,
     "metadata": {},
     "output_type": "execute_result"
    }
   ],
   "source": [
    "# sort by value\n",
    "obj = pd.Series([4, np.nan, 7, np.nan, -3, 2])\n",
    "print('obj= \\n', obj)\n",
    "obj.sort_values()"
   ]
  },
  {
   "cell_type": "code",
   "execution_count": 27,
   "metadata": {
    "collapsed": true
   },
   "outputs": [
    {
     "name": "stdout",
     "output_type": "stream",
     "text": [
      "frame:\n",
      "    b  a\n",
      "0  4  0\n",
      "1  7  1\n",
      "2 -3  0\n",
      "3  2  1\n"
     ]
    },
    {
     "data": {
      "text/html": [
       "<div>\n",
       "<style scoped>\n",
       "    .dataframe tbody tr th:only-of-type {\n",
       "        vertical-align: middle;\n",
       "    }\n",
       "\n",
       "    .dataframe tbody tr th {\n",
       "        vertical-align: top;\n",
       "    }\n",
       "\n",
       "    .dataframe thead th {\n",
       "        text-align: right;\n",
       "    }\n",
       "</style>\n",
       "<table border=\"1\" class=\"dataframe\">\n",
       "  <thead>\n",
       "    <tr style=\"text-align: right;\">\n",
       "      <th></th>\n",
       "      <th>b</th>\n",
       "      <th>a</th>\n",
       "    </tr>\n",
       "  </thead>\n",
       "  <tbody>\n",
       "    <tr>\n",
       "      <td>2</td>\n",
       "      <td>-3</td>\n",
       "      <td>0</td>\n",
       "    </tr>\n",
       "    <tr>\n",
       "      <td>0</td>\n",
       "      <td>4</td>\n",
       "      <td>0</td>\n",
       "    </tr>\n",
       "    <tr>\n",
       "      <td>3</td>\n",
       "      <td>2</td>\n",
       "      <td>1</td>\n",
       "    </tr>\n",
       "    <tr>\n",
       "      <td>1</td>\n",
       "      <td>7</td>\n",
       "      <td>1</td>\n",
       "    </tr>\n",
       "  </tbody>\n",
       "</table>\n",
       "</div>"
      ],
      "text/plain": [
       "   b  a\n",
       "2 -3  0\n",
       "0  4  0\n",
       "3  2  1\n",
       "1  7  1"
      ]
     },
     "execution_count": 27,
     "metadata": {},
     "output_type": "execute_result"
    }
   ],
   "source": [
    "frame = pd.DataFrame({'b': [4, 7, -3, 2], 'a': [0, 1, 0, 1]})\n",
    "print('frame:\\n', frame)\n",
    "frame.sort_values(by=['a', 'b'])"
   ]
  },
  {
   "cell_type": "code",
   "execution_count": 31,
   "metadata": {
    "collapsed": true
   },
   "outputs": [
    {
     "name": "stdout",
     "output_type": "stream",
     "text": [
      "frame.T\n",
      "      0    1    2    3\n",
      "b  4.3  7.0 -3.0  2.0\n",
      "a  0.0  1.0  0.0  1.0\n",
      "c  5.0  5.0  8.0 -2.5\n"
     ]
    },
    {
     "data": {
      "text/html": [
       "<div>\n",
       "<style scoped>\n",
       "    .dataframe tbody tr th:only-of-type {\n",
       "        vertical-align: middle;\n",
       "    }\n",
       "\n",
       "    .dataframe tbody tr th {\n",
       "        vertical-align: top;\n",
       "    }\n",
       "\n",
       "    .dataframe thead th {\n",
       "        text-align: right;\n",
       "    }\n",
       "</style>\n",
       "<table border=\"1\" class=\"dataframe\">\n",
       "  <thead>\n",
       "    <tr style=\"text-align: right;\">\n",
       "      <th></th>\n",
       "      <th>0</th>\n",
       "      <th>1</th>\n",
       "      <th>2</th>\n",
       "      <th>3</th>\n",
       "    </tr>\n",
       "  </thead>\n",
       "  <tbody>\n",
       "    <tr>\n",
       "      <td>b</td>\n",
       "      <td>3.0</td>\n",
       "      <td>4.0</td>\n",
       "      <td>1.0</td>\n",
       "      <td>2.0</td>\n",
       "    </tr>\n",
       "    <tr>\n",
       "      <td>a</td>\n",
       "      <td>1.5</td>\n",
       "      <td>3.5</td>\n",
       "      <td>1.5</td>\n",
       "      <td>3.5</td>\n",
       "    </tr>\n",
       "    <tr>\n",
       "      <td>c</td>\n",
       "      <td>2.5</td>\n",
       "      <td>2.5</td>\n",
       "      <td>4.0</td>\n",
       "      <td>1.0</td>\n",
       "    </tr>\n",
       "  </tbody>\n",
       "</table>\n",
       "</div>"
      ],
      "text/plain": [
       "     0    1    2    3\n",
       "b  3.0  4.0  1.0  2.0\n",
       "a  1.5  3.5  1.5  3.5\n",
       "c  2.5  2.5  4.0  1.0"
      ]
     },
     "execution_count": 31,
     "metadata": {},
     "output_type": "execute_result"
    }
   ],
   "source": [
    "# 排名\n",
    "frame = pd.DataFrame({'b': [4.3, 7, -3, 2], 'a': [0, 1, 0, 1],\n",
    "                      'c': [5, 5, 8, -2.5]})\n",
    "print('frame.T\\n', frame.T)\n",
    "frame.T.rank(axis = 1)"
   ]
  },
  {
   "cell_type": "markdown",
   "metadata": {},
   "source": [
    "#### 带有重复标签的轴索引\n",
    "\n",
    "索引的is_unique属性可以告诉你它的值是否是唯一的;\n",
    "\n",
    "重复的索引会使代码变复杂，因为索引的输出类型会根据标签是否有重复发生变化。"
   ]
  },
  {
   "cell_type": "code",
   "execution_count": 32,
   "metadata": {},
   "outputs": [
    {
     "data": {
      "text/plain": [
       "False"
      ]
     },
     "execution_count": 32,
     "metadata": {},
     "output_type": "execute_result"
    }
   ],
   "source": [
    "obj = pd.Series(range(5), index=['a', 'a', 'b', 'b', 'c'])\n",
    "obj.index.is_unique"
   ]
  },
  {
   "attachments": {
    "image.png": {
     "image/png": "[encoded data removed]"
    }
   },
   "cell_type": "markdown",
   "metadata": {},
   "source": [
    "### 汇总和计算描述\n",
    "\n",
    "pandas对象拥有一组常用的数学和统计方法。它们大部分都属于约简和汇总统计，用于从Series中提取单个值（如sum或mean）或从DataFrame的行或列中提取一个Series。跟对应的NumPy数组方法相比，它们都是基于没有缺失数据的假设而构建的。\n",
    "- 约简和汇总等计算描述\n",
    "\n",
    "    1.约简方法选项：axis-约简的轴；skipna:是否排除缺失值；level:轴为层次化索引，根据level分组约简\n",
    "    \n",
    "    2.有些方法返回间接统计如idmax返回最大值的索引，有些累计如cumsum；有些均不是，一次性产生多个汇总描述。refer to table5-8\n",
    "- 相关系数与协方差\n",
    "pandas-datareader包,corr及cov函数，dataframe的covwith可对列之间进行计算\n",
    "- 唯一值，值计数及成员资格\n",
    "![image.png](attachment:image.png)"
   ]
  },
  {
   "cell_type": "code",
   "execution_count": 34,
   "metadata": {},
   "outputs": [
    {
     "data": {
      "text/html": [
       "<div>\n",
       "<style scoped>\n",
       "    .dataframe tbody tr th:only-of-type {\n",
       "        vertical-align: middle;\n",
       "    }\n",
       "\n",
       "    .dataframe tbody tr th {\n",
       "        vertical-align: top;\n",
       "    }\n",
       "\n",
       "    .dataframe thead th {\n",
       "        text-align: right;\n",
       "    }\n",
       "</style>\n",
       "<table border=\"1\" class=\"dataframe\">\n",
       "  <thead>\n",
       "    <tr style=\"text-align: right;\">\n",
       "      <th></th>\n",
       "      <th>AAPL</th>\n",
       "      <th>IBM</th>\n",
       "      <th>MSFT</th>\n",
       "      <th>GOOG</th>\n",
       "    </tr>\n",
       "    <tr>\n",
       "      <th>Date</th>\n",
       "      <th></th>\n",
       "      <th></th>\n",
       "      <th></th>\n",
       "      <th></th>\n",
       "    </tr>\n",
       "  </thead>\n",
       "  <tbody>\n",
       "    <tr>\n",
       "      <td>2019-11-27</td>\n",
       "      <td>0.013432</td>\n",
       "      <td>-0.009771</td>\n",
       "      <td>0.001908</td>\n",
       "      <td>-0.000426</td>\n",
       "    </tr>\n",
       "    <tr>\n",
       "      <td>2019-11-29</td>\n",
       "      <td>-0.002203</td>\n",
       "      <td>0.005083</td>\n",
       "      <td>-0.006171</td>\n",
       "      <td>-0.006116</td>\n",
       "    </tr>\n",
       "    <tr>\n",
       "      <td>2019-12-02</td>\n",
       "      <td>-0.011562</td>\n",
       "      <td>-0.011454</td>\n",
       "      <td>-0.012089</td>\n",
       "      <td>-0.011525</td>\n",
       "    </tr>\n",
       "    <tr>\n",
       "      <td>2019-12-03</td>\n",
       "      <td>-0.017830</td>\n",
       "      <td>-0.005944</td>\n",
       "      <td>-0.001605</td>\n",
       "      <td>0.004155</td>\n",
       "    </tr>\n",
       "    <tr>\n",
       "      <td>2019-12-04</td>\n",
       "      <td>0.008826</td>\n",
       "      <td>-0.000984</td>\n",
       "      <td>0.003617</td>\n",
       "      <td>0.019502</td>\n",
       "    </tr>\n",
       "  </tbody>\n",
       "</table>\n",
       "</div>"
      ],
      "text/plain": [
       "                AAPL       IBM      MSFT      GOOG\n",
       "Date                                              \n",
       "2019-11-27  0.013432 -0.009771  0.001908 -0.000426\n",
       "2019-11-29 -0.002203  0.005083 -0.006171 -0.006116\n",
       "2019-12-02 -0.011562 -0.011454 -0.012089 -0.011525\n",
       "2019-12-03 -0.017830 -0.005944 -0.001605  0.004155\n",
       "2019-12-04  0.008826 -0.000984  0.003617  0.019502"
      ]
     },
     "execution_count": 34,
     "metadata": {},
     "output_type": "execute_result"
    }
   ],
   "source": [
    "# data collection\n",
    "from pandas_datareader import data,wb\n",
    "import pandas_datareader.data as web\n",
    "all_data = {ticker: web.get_data_yahoo(ticker)\n",
    "            for ticker in ['AAPL', 'IBM', 'MSFT', 'GOOG']}\n",
    "price = pd.DataFrame({ticker: data['Adj Close']\n",
    "                     for ticker, data in all_data.items()})\n",
    "volume = pd.DataFrame({ticker: data['Volume']\n",
    "                      for ticker, data in all_data.items()})\n",
    "returns = price.pct_change()\n",
    "returns.tail()\n",
    "                      \n",
    "\n"
   ]
  },
  {
   "cell_type": "code",
   "execution_count": 37,
   "metadata": {},
   "outputs": [
    {
     "name": "stdout",
     "output_type": "stream",
     "text": [
      "corr between AAPL & IBM:  0.40666237059947635\n",
      "cov between AAPL & IBM:  8.344416437347757e-05\n"
     ]
    }
   ],
   "source": [
    "# Series对象的corr及cov\n",
    "print('corr between AAPL & IBM: ', returns['AAPL'].corr(returns['IBM']))\n",
    "print('cov between AAPL & IBM: ', returns['AAPL'].cov(returns['IBM']))"
   ]
  },
  {
   "cell_type": "code",
   "execution_count": 38,
   "metadata": {},
   "outputs": [
    {
     "name": "stdout",
     "output_type": "stream",
     "text": [
      "corr= \n",
      "           AAPL       IBM      MSFT      GOOG\n",
      "AAPL  1.000000  0.406662  0.576210  0.523947\n",
      "IBM   0.406662  1.000000  0.488937  0.414642\n",
      "MSFT  0.576210  0.488937  1.000000  0.660128\n",
      "GOOG  0.523947  0.414642  0.660128  1.000000\n",
      "cov = \n",
      "           AAPL       IBM      MSFT      GOOG\n",
      "AAPL  0.000247  0.000083  0.000134  0.000125\n",
      "IBM   0.000083  0.000171  0.000094  0.000082\n",
      "MSFT  0.000134  0.000094  0.000218  0.000148\n",
      "GOOG  0.000125  0.000082  0.000148  0.000231\n",
      "与IBM的相关系数：\n",
      " AAPL    0.406662\n",
      "IBM     1.000000\n",
      "MSFT    0.488937\n",
      "GOOG    0.414642\n",
      "dtype: float64\n"
     ]
    }
   ],
   "source": [
    "# DataFrame进行相关系数及协方差计算返回DataFrame对象(corr，cov)或Series对象(corrwith)\n",
    "print('corr= \\n', returns.corr())\n",
    "print('cov = \\n', returns.cov())\n",
    "print('与IBM的相关系数：\\n', returns.corrwith(returns['IBM']) )"
   ]
  },
  {
   "cell_type": "code",
   "execution_count": 41,
   "metadata": {},
   "outputs": [
    {
     "name": "stdout",
     "output_type": "stream",
     "text": [
      "obj:\n",
      " 0    c\n",
      "1    a\n",
      "2    d\n",
      "3    a\n",
      "4    a\n",
      "5    b\n",
      "6    b\n",
      "7    c\n",
      "8    c\n",
      "dtype: object\n",
      "unique values: ['c' 'a' 'd' 'b']\n",
      "value_counts:\n",
      " b    2\n",
      "d    1\n",
      "c    3\n",
      "a    3\n",
      "dtype: int64\n",
      "obj in ['c','d']\n",
      " 0     True\n",
      "1    False\n",
      "2     True\n",
      "3    False\n",
      "4    False\n",
      "5    False\n",
      "6    False\n",
      "7     True\n",
      "8     True\n",
      "dtype: bool\n"
     ]
    }
   ],
   "source": [
    "# 唯一值，值计数及成员资格\n",
    "obj = pd.Series(['c', 'a', 'd', 'a', 'a', 'b', 'b', 'c', 'c'])\n",
    "print('obj:\\n', obj)\n",
    "# 唯一值\n",
    "print('unique values:', pd.unique(obj.values))\n",
    "# 值计数\n",
    "print('value_counts:\\n', pd.value_counts(obj.values, sort = False))\n",
    "# 成员资格\n",
    "print('obj in [\\'c\\',\\'d\\']\\n', obj.isin(['c','d']))"
   ]
  },
  {
   "cell_type": "code",
   "execution_count": null,
   "metadata": {},
   "outputs": [],
   "source": []
  }
 ],
 "metadata": {
  "kernelspec": {
   "display_name": "Python 3",
   "language": "python",
   "name": "python3"
  },
  "language_info": {
   "codemirror_mode": {
    "name": "ipython",
    "version": 3
   },
   "file_extension": ".py",
   "mimetype": "text/x-python",
   "name": "python",
   "nbconvert_exporter": "python",
   "pygments_lexer": "ipython3",
   "version": "3.7.4"
  }
 },
 "nbformat": 4,
 "nbformat_minor": 2
}
