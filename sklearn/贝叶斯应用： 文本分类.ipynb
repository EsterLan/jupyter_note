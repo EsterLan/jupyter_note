{
 "cells": [
  {
   "cell_type": "markdown",
   "metadata": {},
   "source": [
    "文本分类是现代机器学习应用中的一大模块，nlp基础之一遵循首先将文本编码成数字，然后按分类结果采集需要的信息，nlp领域大部分由深度学习控制，但bayes分类器仍然是文本分类中的一颗明珠\n",
    "### 文本编码技术\n",
    "- 单词计数向量\n",
    "- TF-IDF"
   ]
  },
  {
   "cell_type": "code",
   "execution_count": 4,
   "metadata": {},
   "outputs": [],
   "source": [
    "from sklearn.feature_extraction.text import CountVectorizer  # 单词计数向量"
   ]
  },
  {
   "cell_type": "code",
   "execution_count": 7,
   "metadata": {},
   "outputs": [],
   "source": [
    "sample = ['Machine learning is fascinating, it is wonderful'\n",
    "       , 'Machine learning is a sensational technology'\n",
    "       , 'Elsa is a popular character']\n",
    "\n",
    "vec = CountVectorizer()"
   ]
  },
  {
   "cell_type": "code",
   "execution_count": 9,
   "metadata": {},
   "outputs": [
    {
     "data": {
      "text/plain": [
       "<3x11 sparse matrix of type '<class 'numpy.int64'>'\n",
       "\twith 15 stored elements in Compressed Sparse Row format>"
      ]
     },
     "execution_count": 9,
     "metadata": {},
     "output_type": "execute_result"
    }
   ],
   "source": [
    "X = vec.fit_transform(sample) # sample转换为特征矩阵\n",
    "X"
   ]
  },
  {
   "cell_type": "code",
   "execution_count": 10,
   "metadata": {},
   "outputs": [
    {
     "data": {
      "text/plain": [
       "['character',\n",
       " 'elsa',\n",
       " 'fascinating',\n",
       " 'is',\n",
       " 'it',\n",
       " 'learning',\n",
       " 'machine',\n",
       " 'popular',\n",
       " 'sensational',\n",
       " 'technology',\n",
       " 'wonderful']"
      ]
     },
     "execution_count": 10,
     "metadata": {},
     "output_type": "execute_result"
    }
   ],
   "source": [
    "# 使用接口get_feature_name()调用每个列的名称\n",
    "vec.get_feature_names() # 按照字母排列"
   ]
  },
  {
   "cell_type": "code",
   "execution_count": 11,
   "metadata": {},
   "outputs": [],
   "source": [
    "import pandas as pd\n",
    "# 稀疏矩阵转换为array, DataFrame仅接受array，不接受sparse matrix\n",
    "CVresult = pd.DataFrame(X.toarray(), columns = vec.get_feature_names())"
   ]
  },
  {
   "cell_type": "code",
   "execution_count": 12,
   "metadata": {},
   "outputs": [
    {
     "data": {
      "text/html": [
       "<div>\n",
       "<style scoped>\n",
       "    .dataframe tbody tr th:only-of-type {\n",
       "        vertical-align: middle;\n",
       "    }\n",
       "\n",
       "    .dataframe tbody tr th {\n",
       "        vertical-align: top;\n",
       "    }\n",
       "\n",
       "    .dataframe thead th {\n",
       "        text-align: right;\n",
       "    }\n",
       "</style>\n",
       "<table border=\"1\" class=\"dataframe\">\n",
       "  <thead>\n",
       "    <tr style=\"text-align: right;\">\n",
       "      <th></th>\n",
       "      <th>character</th>\n",
       "      <th>elsa</th>\n",
       "      <th>fascinating</th>\n",
       "      <th>is</th>\n",
       "      <th>it</th>\n",
       "      <th>learning</th>\n",
       "      <th>machine</th>\n",
       "      <th>popular</th>\n",
       "      <th>sensational</th>\n",
       "      <th>technology</th>\n",
       "      <th>wonderful</th>\n",
       "    </tr>\n",
       "  </thead>\n",
       "  <tbody>\n",
       "    <tr>\n",
       "      <td>0</td>\n",
       "      <td>0</td>\n",
       "      <td>0</td>\n",
       "      <td>1</td>\n",
       "      <td>2</td>\n",
       "      <td>1</td>\n",
       "      <td>1</td>\n",
       "      <td>1</td>\n",
       "      <td>0</td>\n",
       "      <td>0</td>\n",
       "      <td>0</td>\n",
       "      <td>1</td>\n",
       "    </tr>\n",
       "    <tr>\n",
       "      <td>1</td>\n",
       "      <td>0</td>\n",
       "      <td>0</td>\n",
       "      <td>0</td>\n",
       "      <td>1</td>\n",
       "      <td>0</td>\n",
       "      <td>1</td>\n",
       "      <td>1</td>\n",
       "      <td>0</td>\n",
       "      <td>1</td>\n",
       "      <td>1</td>\n",
       "      <td>0</td>\n",
       "    </tr>\n",
       "    <tr>\n",
       "      <td>2</td>\n",
       "      <td>1</td>\n",
       "      <td>1</td>\n",
       "      <td>0</td>\n",
       "      <td>1</td>\n",
       "      <td>0</td>\n",
       "      <td>0</td>\n",
       "      <td>0</td>\n",
       "      <td>1</td>\n",
       "      <td>0</td>\n",
       "      <td>0</td>\n",
       "      <td>0</td>\n",
       "    </tr>\n",
       "  </tbody>\n",
       "</table>\n",
       "</div>"
      ],
      "text/plain": [
       "   character  elsa  fascinating  is  it  learning  machine  popular  \\\n",
       "0          0     0            1   2   1         1        1        0   \n",
       "1          0     0            0   1   0         1        1        0   \n",
       "2          1     1            0   1   0         0        0        1   \n",
       "\n",
       "   sensational  technology  wonderful  \n",
       "0            0           0          1  \n",
       "1            1           1          0  \n",
       "2            0           0          0  "
      ]
     },
     "execution_count": 12,
     "metadata": {},
     "output_type": "execute_result"
    }
   ],
   "source": [
    "CVresult"
   ]
  },
  {
   "cell_type": "markdown",
   "metadata": {},
   "source": [
    "### 单词计数向量的问题\n",
    "- 多项式朴素贝叶斯的计算公式\n",
    "将每一列加和/整个特征矩阵的和，为该列对应的概率$\\theta_i$\n",
    "\n",
    "样本词数不同，使得每个样本对结果的贡献不同，此例中第一个样本影响特征最多；但不一定词数的有效信息就多，其含有无效信息的风险也增大。类似样本不均衡问题\n",
    "\n",
    "sol:对于句子特别长的样本而言，样本对$\\theta_i$影响巨大，因此补集贝叶斯让每个特征的权重除以自身的L2范式，避免这种情况；\n",
    "\n",
    "- 观察矩阵可以看出 is 出现了4次，但是is本身对语义影响不大。-> TF-IDF，比起次数，采用单词在句子中占的比例来编码单词\n",
    "\n",
    "### TF-IDF\n",
    "Term frequency-inverse document frequency.通过单词在文当中出现的频率来衡量器权重；\n",
    "IDF的大小与一个词的常见程度成反比，即越常见，权重越小，以此来压制无意义单词对语义的影响？？"
   ]
  },
  {
   "cell_type": "code",
   "execution_count": 14,
   "metadata": {},
   "outputs": [],
   "source": [
    "from sklearn.feature_extraction.text import TfidfVectorizer as TFIDF\n",
    "vec_ = TFIDF()\n"
   ]
  },
  {
   "cell_type": "code",
   "execution_count": 18,
   "metadata": {},
   "outputs": [
    {
     "data": {
      "text/plain": [
       "<3x11 sparse matrix of type '<class 'numpy.float64'>'\n",
       "\twith 15 stored elements in Compressed Sparse Row format>"
      ]
     },
     "execution_count": 18,
     "metadata": {},
     "output_type": "execute_result"
    }
   ],
   "source": [
    "X_ = vec_.fit_transform(sample)\n",
    "X_  # 每个单词作为一个特征，每个单词在这个句子中所占的比例"
   ]
  },
  {
   "cell_type": "code",
   "execution_count": 17,
   "metadata": {},
   "outputs": [
    {
     "data": {
      "text/plain": [
       "['character',\n",
       " 'elsa',\n",
       " 'fascinating',\n",
       " 'is',\n",
       " 'it',\n",
       " 'learning',\n",
       " 'machine',\n",
       " 'popular',\n",
       " 'sensational',\n",
       " 'technology',\n",
       " 'wonderful']"
      ]
     },
     "execution_count": 17,
     "metadata": {},
     "output_type": "execute_result"
    }
   ],
   "source": [
    "vec_.get_feature_names()"
   ]
  },
  {
   "cell_type": "code",
   "execution_count": 19,
   "metadata": {},
   "outputs": [
    {
     "data": {
      "text/html": [
       "<div>\n",
       "<style scoped>\n",
       "    .dataframe tbody tr th:only-of-type {\n",
       "        vertical-align: middle;\n",
       "    }\n",
       "\n",
       "    .dataframe tbody tr th {\n",
       "        vertical-align: top;\n",
       "    }\n",
       "\n",
       "    .dataframe thead th {\n",
       "        text-align: right;\n",
       "    }\n",
       "</style>\n",
       "<table border=\"1\" class=\"dataframe\">\n",
       "  <thead>\n",
       "    <tr style=\"text-align: right;\">\n",
       "      <th></th>\n",
       "      <th>character</th>\n",
       "      <th>elsa</th>\n",
       "      <th>fascinating</th>\n",
       "      <th>is</th>\n",
       "      <th>it</th>\n",
       "      <th>learning</th>\n",
       "      <th>machine</th>\n",
       "      <th>popular</th>\n",
       "      <th>sensational</th>\n",
       "      <th>technology</th>\n",
       "      <th>wonderful</th>\n",
       "    </tr>\n",
       "  </thead>\n",
       "  <tbody>\n",
       "    <tr>\n",
       "      <td>0</td>\n",
       "      <td>0.000000</td>\n",
       "      <td>0.000000</td>\n",
       "      <td>0.424396</td>\n",
       "      <td>0.501310</td>\n",
       "      <td>0.424396</td>\n",
       "      <td>0.322764</td>\n",
       "      <td>0.322764</td>\n",
       "      <td>0.000000</td>\n",
       "      <td>0.000000</td>\n",
       "      <td>0.000000</td>\n",
       "      <td>0.424396</td>\n",
       "    </tr>\n",
       "    <tr>\n",
       "      <td>1</td>\n",
       "      <td>0.000000</td>\n",
       "      <td>0.000000</td>\n",
       "      <td>0.000000</td>\n",
       "      <td>0.315444</td>\n",
       "      <td>0.000000</td>\n",
       "      <td>0.406192</td>\n",
       "      <td>0.406192</td>\n",
       "      <td>0.000000</td>\n",
       "      <td>0.534093</td>\n",
       "      <td>0.534093</td>\n",
       "      <td>0.000000</td>\n",
       "    </tr>\n",
       "    <tr>\n",
       "      <td>2</td>\n",
       "      <td>0.546454</td>\n",
       "      <td>0.546454</td>\n",
       "      <td>0.000000</td>\n",
       "      <td>0.322745</td>\n",
       "      <td>0.000000</td>\n",
       "      <td>0.000000</td>\n",
       "      <td>0.000000</td>\n",
       "      <td>0.546454</td>\n",
       "      <td>0.000000</td>\n",
       "      <td>0.000000</td>\n",
       "      <td>0.000000</td>\n",
       "    </tr>\n",
       "  </tbody>\n",
       "</table>\n",
       "</div>"
      ],
      "text/plain": [
       "   character      elsa  fascinating        is        it  learning   machine  \\\n",
       "0   0.000000  0.000000     0.424396  0.501310  0.424396  0.322764  0.322764   \n",
       "1   0.000000  0.000000     0.000000  0.315444  0.000000  0.406192  0.406192   \n",
       "2   0.546454  0.546454     0.000000  0.322745  0.000000  0.000000  0.000000   \n",
       "\n",
       "    popular  sensational  technology  wonderful  \n",
       "0  0.000000     0.000000    0.000000   0.424396  \n",
       "1  0.000000     0.534093    0.534093   0.000000  \n",
       "2  0.546454     0.000000    0.000000   0.000000  "
      ]
     },
     "execution_count": 19,
     "metadata": {},
     "output_type": "execute_result"
    }
   ],
   "source": [
    "TFresult = pd.DataFrame(X_.toarray(), columns=vec_.get_feature_names())\n",
    "TFresult"
   ]
  },
  {
   "cell_type": "code",
   "execution_count": 21,
   "metadata": {},
   "outputs": [
    {
     "data": {
      "text/plain": [
       "character      0.0625\n",
       "elsa           0.0625\n",
       "fascinating    0.0625\n",
       "is             0.2500\n",
       "it             0.0625\n",
       "learning       0.1250\n",
       "machine        0.1250\n",
       "popular        0.0625\n",
       "sensational    0.0625\n",
       "technology     0.0625\n",
       "wonderful      0.0625\n",
       "dtype: float64"
      ]
     },
     "execution_count": 21,
     "metadata": {},
     "output_type": "execute_result"
    }
   ],
   "source": [
    "import numpy as np\n",
    "CVresult.sum(axis=0)/np.sum(CVresult.sum(axis=0))  # 按列相加"
   ]
  },
  {
   "cell_type": "code",
   "execution_count": 23,
   "metadata": {},
   "outputs": [
    {
     "data": {
      "text/plain": [
       "character      0.083071\n",
       "elsa           0.083071\n",
       "fascinating    0.064516\n",
       "is             0.173225\n",
       "it             0.064516\n",
       "learning       0.110815\n",
       "machine        0.110815\n",
       "popular        0.083071\n",
       "sensational    0.081192\n",
       "technology     0.081192\n",
       "wonderful      0.064516\n",
       "dtype: float64"
      ]
     },
     "execution_count": 23,
     "metadata": {},
     "output_type": "execute_result"
    }
   ],
   "source": [
    "TFresult.sum(axis=0)/np.sum(TFresult.sum(axis=0))\n",
    "# 将原本出现次数多的词进行压缩，以实现压缩权重"
   ]
  },
  {
   "cell_type": "markdown",
   "metadata": {},
   "source": [
    "## 探索文本数据\n"
   ]
  },
  {
   "cell_type": "code",
   "execution_count": 25,
   "metadata": {},
   "outputs": [
    {
     "name": "stderr",
     "output_type": "stream",
     "text": [
      "Downloading 20news dataset. This may take a few minutes.\n",
      "Downloading dataset from https://ndownloader.figshare.com/files/5975967 (14 MB)\n"
     ]
    }
   ],
   "source": [
    "from sklearn.datasets import fetch_20newsgroups\n",
    "data = fetch_20newsgroups()"
   ]
  },
  {
   "cell_type": "code",
   "execution_count": null,
   "metadata": {},
   "outputs": [],
   "source": [
    "# 数据集大\n",
    "\n",
    "# 不同类型的新闻\n",
    "data.target_names"
   ]
  }
 ],
 "metadata": {
  "kernelspec": {
   "display_name": "Python 3",
   "language": "python",
   "name": "python3"
  },
  "language_info": {
   "codemirror_mode": {
    "name": "ipython",
    "version": 3
   },
   "file_extension": ".py",
   "mimetype": "text/x-python",
   "name": "python",
   "nbconvert_exporter": "python",
   "pygments_lexer": "ipython3",
   "version": "3.6.9"
  }
 },
 "nbformat": 4,
 "nbformat_minor": 2
}
