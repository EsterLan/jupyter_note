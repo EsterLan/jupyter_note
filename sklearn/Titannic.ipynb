{
 "cells": [
  {
   "cell_type": "code",
   "execution_count": 240,
   "metadata": {},
   "outputs": [],
   "source": [
    "import pandas as pd\n",
    "import numpy as np\n",
    "import matplotlib.pyplot as plt\n",
    "# from sklearn.tree import DecisionTreeClassifier\n",
    "from sklearn.model_selection import cross_val_score\n",
    "from sklearn import tree\n",
    "from sklearn.model_selection import train_test_split\n",
    "from sklearn.model_selection import GridSearchCV"
   ]
  },
  {
   "cell_type": "code",
   "execution_count": 5,
   "metadata": {},
   "outputs": [],
   "source": [
    "titanic_test = pd.read_csv('./Titannic_Dataset/test.csv')\n"
   ]
  },
  {
   "cell_type": "raw",
   "metadata": {},
   "source": [
    "Xtest = titanic_test.iloc[:,1:]"
   ]
  },
  {
   "cell_type": "code",
   "execution_count": 213,
   "metadata": {},
   "outputs": [
    {
     "name": "stdout",
     "output_type": "stream",
     "text": [
      "<class 'pandas.core.frame.DataFrame'>\n",
      "RangeIndex: 891 entries, 0 to 890\n",
      "Data columns (total 12 columns):\n",
      "PassengerId    891 non-null int64\n",
      "Survived       891 non-null int64\n",
      "Pclass         891 non-null int64\n",
      "Name           891 non-null object\n",
      "Sex            891 non-null object\n",
      "Age            714 non-null float64\n",
      "SibSp          891 non-null int64\n",
      "Parch          891 non-null int64\n",
      "Ticket         891 non-null object\n",
      "Fare           891 non-null float64\n",
      "Cabin          204 non-null object\n",
      "Embarked       889 non-null object\n",
      "dtypes: float64(2), int64(5), object(5)\n",
      "memory usage: 83.7+ KB\n"
     ]
    }
   ],
   "source": [
    "titanic_train = pd.read_csv('./train.csv')\n",
    "titanic_train\n",
    "# 探索数据\n",
    "titanic_train.head()  # 加数字看几行\n",
    "titanic_train.info()  # 在sklearn中用时，需要转换为数字"
   ]
  },
  {
   "cell_type": "code",
   "execution_count": null,
   "metadata": {},
   "outputs": [],
   "source": [
    "# # -筛选特征\n",
    "# #titanic_train.drop(['Cabin','Name','Ticket'], inplace=True, axis=1) # 删掉对应列，并将原数据覆盖；默认false\n",
    "# # -处理缺失值\n",
    "# titanic_train['Age'] = titanic_train['Age'].fillna(titanic_train['Age'].mean()) # Age列\n",
    "# ## Embarked缺失值少，直接删除\n",
    "# titanic_train = titanic_train.dropna()# 默认行\n",
    "# # -字符的转换\n",
    "# labels = titanic_train['Embarked'].unique().tolist() # 将类别列出并转换为list\n",
    "# titanic_train['Embarked'] = titanic_train['Embarked'].apply(lambda x:lables.index(x)) # 转换多分类变量的方式（<10）\n",
    "# titanic['Sex'] = (titanic_train['Sex'] == 'male').astype('int') # 另一种方法\n",
    "\n",
    "# x = titanic_train.iloc[:,titanic_train.columns != 'Survival']\n",
    "\n",
    "X = titanic_train.iloc[:,[2,4,5,6,9,11]]\n",
    "y = titanic_train.iloc[:,1]\n",
    "X"
   ]
  },
  {
   "cell_type": "code",
   "execution_count": 221,
   "metadata": {
    "scrolled": true
   },
   "outputs": [
    {
     "name": "stderr",
     "output_type": "stream",
     "text": [
      "/home/esterl/anaconda3/lib/python3.6/site-packages/ipykernel_launcher.py:6: SettingWithCopyWarning: \n",
      "A value is trying to be set on a copy of a slice from a DataFrame\n",
      "\n",
      "See the caveats in the documentation: http://pandas.pydata.org/pandas-docs/stable/user_guide/indexing.html#returning-a-view-versus-a-copy\n",
      "  \n",
      "/home/esterl/anaconda3/lib/python3.6/site-packages/ipykernel_launcher.py:7: SettingWithCopyWarning: \n",
      "A value is trying to be set on a copy of a slice from a DataFrame\n",
      "\n",
      "See the caveats in the documentation: http://pandas.pydata.org/pandas-docs/stable/user_guide/indexing.html#returning-a-view-versus-a-copy\n",
      "  import sys\n",
      "/home/esterl/anaconda3/lib/python3.6/site-packages/ipykernel_launcher.py:8: SettingWithCopyWarning: \n",
      "A value is trying to be set on a copy of a slice from a DataFrame\n",
      "\n",
      "See the caveats in the documentation: http://pandas.pydata.org/pandas-docs/stable/user_guide/indexing.html#returning-a-view-versus-a-copy\n",
      "  \n",
      "/home/esterl/anaconda3/lib/python3.6/site-packages/ipykernel_launcher.py:9: SettingWithCopyWarning: \n",
      "A value is trying to be set on a copy of a slice from a DataFrame\n",
      "\n",
      "See the caveats in the documentation: http://pandas.pydata.org/pandas-docs/stable/user_guide/indexing.html#returning-a-view-versus-a-copy\n",
      "  if __name__ == '__main__':\n",
      "/home/esterl/anaconda3/lib/python3.6/site-packages/ipykernel_launcher.py:10: SettingWithCopyWarning: \n",
      "A value is trying to be set on a copy of a slice from a DataFrame\n",
      "\n",
      "See the caveats in the documentation: http://pandas.pydata.org/pandas-docs/stable/user_guide/indexing.html#returning-a-view-versus-a-copy\n",
      "  # Remove the CWD from sys.path while we load stuff.\n"
     ]
    },
    {
     "data": {
      "text/plain": [
       "(889, 7)"
      ]
     },
     "execution_count": 221,
     "metadata": {},
     "output_type": "execute_result"
    }
   ],
   "source": [
    "# 数据清洗\n",
    "\n",
    "X1 = X.copy()\n",
    "X1['Survival'] = y\n",
    "# 处理字符串\n",
    "X1['Sex'][X1['Sex'] == 'female'] = 1\n",
    "X1['Sex'][X1['Sex'] == 'male'] = 0\n",
    "X1['Embarked'][X1['Embarked'] == 'S'] = 0\n",
    "X1['Embarked'][X1['Embarked'] == 'Q'] = 1\n",
    "X1['Embarked'][X1['Embarked'] == 'C'] = 2\n",
    "# age列，阿处理na值\n",
    "\n",
    "X1['Age'] = X1['Age'].fillna(X1['Age'].mean())\n",
    "X1[X1.isnull().values == True]\n",
    "X1 = X1.dropna(axis=0, how = 'any')\n",
    "X1[X1.isnull().values == True] \n",
    "X2 = X1.iloc[:,:-1]\n",
    "y = X1.iloc[:,-1]\n",
    "X1.shape"
   ]
  },
  {
   "cell_type": "code",
   "execution_count": 216,
   "metadata": {
    "scrolled": true
   },
   "outputs": [
    {
     "data": {
      "text/html": [
       "<div>\n",
       "<style scoped>\n",
       "    .dataframe tbody tr th:only-of-type {\n",
       "        vertical-align: middle;\n",
       "    }\n",
       "\n",
       "    .dataframe tbody tr th {\n",
       "        vertical-align: top;\n",
       "    }\n",
       "\n",
       "    .dataframe thead th {\n",
       "        text-align: right;\n",
       "    }\n",
       "</style>\n",
       "<table border=\"1\" class=\"dataframe\">\n",
       "  <thead>\n",
       "    <tr style=\"text-align: right;\">\n",
       "      <th></th>\n",
       "      <th>Pclass</th>\n",
       "      <th>Sex</th>\n",
       "      <th>Age</th>\n",
       "      <th>SibSp</th>\n",
       "      <th>Fare</th>\n",
       "      <th>Embarked</th>\n",
       "    </tr>\n",
       "  </thead>\n",
       "  <tbody>\n",
       "    <tr>\n",
       "      <td>0</td>\n",
       "      <td>3</td>\n",
       "      <td>0</td>\n",
       "      <td>43.000000</td>\n",
       "      <td>0</td>\n",
       "      <td>6.4500</td>\n",
       "      <td>0</td>\n",
       "    </tr>\n",
       "    <tr>\n",
       "      <td>1</td>\n",
       "      <td>3</td>\n",
       "      <td>0</td>\n",
       "      <td>65.000000</td>\n",
       "      <td>0</td>\n",
       "      <td>7.7500</td>\n",
       "      <td>1</td>\n",
       "    </tr>\n",
       "    <tr>\n",
       "      <td>2</td>\n",
       "      <td>3</td>\n",
       "      <td>0</td>\n",
       "      <td>29.699118</td>\n",
       "      <td>0</td>\n",
       "      <td>56.4958</td>\n",
       "      <td>0</td>\n",
       "    </tr>\n",
       "    <tr>\n",
       "      <td>3</td>\n",
       "      <td>2</td>\n",
       "      <td>0</td>\n",
       "      <td>54.000000</td>\n",
       "      <td>1</td>\n",
       "      <td>26.0000</td>\n",
       "      <td>0</td>\n",
       "    </tr>\n",
       "    <tr>\n",
       "      <td>4</td>\n",
       "      <td>1</td>\n",
       "      <td>1</td>\n",
       "      <td>52.000000</td>\n",
       "      <td>1</td>\n",
       "      <td>78.2667</td>\n",
       "      <td>2</td>\n",
       "    </tr>\n",
       "    <tr>\n",
       "      <td>...</td>\n",
       "      <td>...</td>\n",
       "      <td>...</td>\n",
       "      <td>...</td>\n",
       "      <td>...</td>\n",
       "      <td>...</td>\n",
       "      <td>...</td>\n",
       "    </tr>\n",
       "    <tr>\n",
       "      <td>706</td>\n",
       "      <td>3</td>\n",
       "      <td>0</td>\n",
       "      <td>29.699118</td>\n",
       "      <td>1</td>\n",
       "      <td>16.1000</td>\n",
       "      <td>0</td>\n",
       "    </tr>\n",
       "    <tr>\n",
       "      <td>707</td>\n",
       "      <td>1</td>\n",
       "      <td>0</td>\n",
       "      <td>80.000000</td>\n",
       "      <td>0</td>\n",
       "      <td>30.0000</td>\n",
       "      <td>0</td>\n",
       "    </tr>\n",
       "    <tr>\n",
       "      <td>708</td>\n",
       "      <td>3</td>\n",
       "      <td>0</td>\n",
       "      <td>40.000000</td>\n",
       "      <td>0</td>\n",
       "      <td>7.2250</td>\n",
       "      <td>2</td>\n",
       "    </tr>\n",
       "    <tr>\n",
       "      <td>709</td>\n",
       "      <td>3</td>\n",
       "      <td>0</td>\n",
       "      <td>28.500000</td>\n",
       "      <td>0</td>\n",
       "      <td>7.2292</td>\n",
       "      <td>2</td>\n",
       "    </tr>\n",
       "    <tr>\n",
       "      <td>710</td>\n",
       "      <td>1</td>\n",
       "      <td>0</td>\n",
       "      <td>24.000000</td>\n",
       "      <td>0</td>\n",
       "      <td>247.5208</td>\n",
       "      <td>2</td>\n",
       "    </tr>\n",
       "  </tbody>\n",
       "</table>\n",
       "<p>711 rows × 6 columns</p>\n",
       "</div>"
      ],
      "text/plain": [
       "     Pclass Sex        Age  SibSp      Fare Embarked\n",
       "0         3   0  43.000000      0    6.4500        0\n",
       "1         3   0  65.000000      0    7.7500        1\n",
       "2         3   0  29.699118      0   56.4958        0\n",
       "3         2   0  54.000000      1   26.0000        0\n",
       "4         1   1  52.000000      1   78.2667        2\n",
       "..      ...  ..        ...    ...       ...      ...\n",
       "706       3   0  29.699118      1   16.1000        0\n",
       "707       1   0  80.000000      0   30.0000        0\n",
       "708       3   0  40.000000      0    7.2250        2\n",
       "709       3   0  28.500000      0    7.2292        2\n",
       "710       1   0  24.000000      0  247.5208        2\n",
       "\n",
       "[711 rows x 6 columns]"
      ]
     },
     "execution_count": 216,
     "metadata": {},
     "output_type": "execute_result"
    }
   ],
   "source": [
    "# 切分训练集\n",
    "Xtrain, Xtest, Ytrain, Ytest = train_test_split(X2, y, test_size = 0.2)\n",
    "# 将索引tide，方便切片，注意操作对索引有影响时一定要将索引整理\n",
    "for s in [Xtrain, Xtest, Ytrain, Ytest]:\n",
    "    s.index = range(s.shape[0])\n",
    "Xtrain"
   ]
  },
  {
   "cell_type": "code",
   "execution_count": 245,
   "metadata": {},
   "outputs": [
    {
     "name": "stdout",
     "output_type": "stream",
     "text": [
      "0.8222803881511748\n"
     ]
    },
    {
     "data": {
      "image/png": "[encoded data removed]",
      "text/plain": [
       "<Figure size 432x288 with 1 Axes>"
      ]
     },
     "metadata": {
      "needs_background": "light"
     },
     "output_type": "display_data"
    }
   ],
   "source": [
    "test_te = []\n",
    "test_tr = []\n",
    "for i in range(10):\n",
    "    clf = tree.DecisionTreeClassifier(random_state=25\n",
    "                                     , max_depth = 1+i\n",
    "                                     , criterion = 'entropy'\n",
    "#                                      ,min_samples_leaf = 0.01+i*0.003\n",
    "                                     )\n",
    "#     clf = clf.fit(Xtrain, Ytrain)\n",
    "    score_tr = clf.fit(Xtrain, Ytrain).score(Xtrain, Ytrain)\n",
    "    score_te = cross_val_score(clf, X2, y, cv=10).mean()\n",
    "    test_te.append(score_te)\n",
    "    test_tr.append(score_tr)\n",
    "#     y_predict = clf.predict(Xtest)\n",
    "#     bias = abs(sum(y_predict - Ytest))/Ytest.size\n",
    "#     variance = sum((y_predict - y_predict.mean())**2)/Ytest.size\n",
    "#     score = bias+variance\n",
    "print(max(test_te))\n",
    "plt.figure()\n",
    "plt.plot(range(1,11), test_tr, color = 'red', label='train')\n",
    "plt.plot(range(1,11), test_te, color = 'blue', label='test')\n",
    "plt.xlabel('max_dept')\n",
    "plt.ylabel('score')\n",
    "plt.xticks(range(1,11))\n",
    "plt.legend()\n",
    "plt.show()"
   ]
  },
  {
   "cell_type": "markdown",
   "metadata": {},
   "source": [
    "上图中分析，随着层数增加，训练集和测试集误差越来越大，在层数大于3之后overfitting加重->剪枝\n",
    "此处采用entropy使决策树更多的学习数据\n",
    "多个参数调整->网格搜索，本质为穷举\n"
   ]
  },
  {
   "cell_type": "code",
   "execution_count": 247,
   "metadata": {},
   "outputs": [],
   "source": [
    "# 网格搜索： 每句\n",
    "# 计算量大\n",
    "# 适用：参数范围小\n",
    "clf = tree.DecisionTreeClassifier(random_state=25)\n",
    "\n",
    "# gini_threholds = np.linspace(0,0.5,50)# 随机，与arange不同\n",
    "# entropy:[0,1]\n",
    "# parameters:  字典 参数：范围\n",
    "parameters = {\n",
    "    \"criterion\":('gini', 'entropy')\n",
    "    , 'splitter':('best', 'random')\n",
    "    , 'max_depth':[*range(1,10)]\n",
    "    , 'min_samples_leaf':[*range(1,50,5)]\n",
    "    , 'min_impurity_decrease':[*np.linspace(0,0.5,20)]# 不是网格搜索谨慎使用\n",
    "}\n",
    "# fit score cross_val-score\n",
    "GS = GridSearchCV(clf, parameters, cv =10)\n",
    "GS = GS.fit(Xtrain, Ytrain)"
   ]
  },
  {
   "cell_type": "code",
   "execution_count": 248,
   "metadata": {},
   "outputs": [
    {
     "data": {
      "text/plain": [
       "{'criterion': 'gini',\n",
       " 'max_depth': 9,\n",
       " 'min_impurity_decrease': 0.0,\n",
       " 'min_samples_leaf': 6,\n",
       " 'splitter': 'best'}"
      ]
     },
     "execution_count": 248,
     "metadata": {},
     "output_type": "execute_result"
    }
   ],
   "source": [
    "# GridSearchCV的两个重要接口\n",
    "GS.best_params_ # 从输入参数和参数取值中搜索到的最佳组合\n"
   ]
  },
  {
   "cell_type": "code",
   "execution_count": 250,
   "metadata": {},
   "outputs": [
    {
     "data": {
      "text/plain": [
       "0.8213783403656821"
      ]
     },
     "execution_count": 250,
     "metadata": {},
     "output_type": "execute_result"
    }
   ],
   "source": [
    "GS.best_score_ # best_params_对应的最大的score"
   ]
  }
 ],
 "metadata": {
  "kernelspec": {
   "display_name": "Python 3",
   "language": "python",
   "name": "python3"
  },
  "language_info": {
   "codemirror_mode": {
    "name": "ipython",
    "version": 3
   },
   "file_extension": ".py",
   "mimetype": "text/x-python",
   "name": "python",
   "nbconvert_exporter": "python",
   "pygments_lexer": "ipython3",
   "version": "3.6.9"
  }
 },
 "nbformat": 4,
 "nbformat_minor": 2
}
