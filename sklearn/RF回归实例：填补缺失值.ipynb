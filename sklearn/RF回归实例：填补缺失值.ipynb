{
 "cells": [
  {
   "cell_type": "markdown",
   "metadata": {},
   "source": [
    "### 填补缺失值\n",
    "- sklearn.impute.SimpleImputer可以导入平均值、中值等常用的数据值\n",
    "\n",
    "这个实例中使用均值、0、随机森林回归来填补缺失值（特征矩阵中的），对比四种情况（完整情况）"
   ]
  },
  {
   "cell_type": "code",
   "execution_count": 1,
   "metadata": {},
   "outputs": [],
   "source": [
    "import numpy as np\n",
    "import pandas as pd\n",
    "import matplotlib.pyplot as plt\n",
    "from sklearn.datasets import load_boston\n",
    "from sklearn.impute import SimpleImputer\n",
    "from sklearn.ensemble import RandomForestRegressor"
   ]
  },
  {
   "cell_type": "code",
   "execution_count": 18,
   "metadata": {},
   "outputs": [
    {
     "data": {
      "text/plain": [
       "numpy.ndarray"
      ]
     },
     "execution_count": 18,
     "metadata": {},
     "output_type": "execute_result"
    }
   ],
   "source": [
    "boston = load_boston()\n",
    "boston.data.shape\n",
    "type(boston.data)"
   ]
  },
  {
   "cell_type": "code",
   "execution_count": 19,
   "metadata": {},
   "outputs": [],
   "source": [
    "# 将boston完整的部分先取出\n",
    "X_full, Y_full = boston.data, boston.target\n",
    "n_samples = X_full.shape[0]\n",
    "n_features = X_full.shape[1]"
   ]
  },
  {
   "cell_type": "code",
   "execution_count": 20,
   "metadata": {},
   "outputs": [],
   "source": [
    "# 确定放入缺失值的比例\n",
    "rng = np.random.RandomState(0) # 随机种子 确定一种随机模式，其实是代替了所有random_state\n",
    "missing_rate = 0.5\n",
    "n_missing_samples = int(np.floor(n_features *n_samples*missing_rate))\n",
    "# np.floor向下取整，返回.0浮点数"
   ]
  },
  {
   "cell_type": "code",
   "execution_count": 21,
   "metadata": {},
   "outputs": [],
   "source": [
    "# 将缺失值随机分布在各行各列\n",
    "# 思路 :n_missing_samples个0-506的行索引和0-13之间的列索引\n",
    "# randint(lo,hi,n)[lo,hi]之间取出n个整数\n",
    "missing_samples = rng.randint(0, n_samples, n_missing_samples)\n",
    "missing_features = rng.randint(0, n_features, n_missing_samples)\n",
    "\n",
    "# 若没有那么多的比例，如果需要的数据量小于样本量506，可以采用\n",
    "# np.random.choice()会抽取不重复的随机数，可以帮助数据更加分散\n",
    "# missing_samples = rng.choice(n_samples, n_missing_samples, replace=False)"
   ]
  },
  {
   "cell_type": "code",
   "execution_count": 22,
   "metadata": {},
   "outputs": [
    {
     "data": {
      "text/plain": [
       "array([[       nan,        nan, 2.3100e+00, ...,        nan,        nan,\n",
       "               nan],\n",
       "       [2.7310e-02, 0.0000e+00,        nan, ..., 1.7800e+01,        nan,\n",
       "        9.1400e+00],\n",
       "       [2.7290e-02,        nan, 7.0700e+00, ...,        nan, 3.9283e+02,\n",
       "        4.0300e+00],\n",
       "       ...,\n",
       "       [6.0760e-02, 0.0000e+00, 1.1930e+01, ..., 2.1000e+01, 3.9690e+02,\n",
       "        5.6400e+00],\n",
       "       [       nan,        nan,        nan, ..., 2.1000e+01,        nan,\n",
       "        6.4800e+00],\n",
       "       [4.7410e-02,        nan,        nan, ...,        nan, 3.9690e+02,\n",
       "        7.8800e+00]])"
      ]
     },
     "execution_count": 22,
     "metadata": {},
     "output_type": "execute_result"
    }
   ],
   "source": [
    "X_missing = X_full.copy()\n",
    "Y_missing = Y_full.copy()\n",
    "\n",
    "X_missing[missing_samples,missing_features] = np.nan\n",
    "#Y_missing[missing_samples] = np.nan标签不能空，\n",
    "X_missing"
   ]
  },
  {
   "cell_type": "code",
   "execution_count": 23,
   "metadata": {},
   "outputs": [],
   "source": [
    "X_missing = pd.DataFrame(X_missing)\n",
    "# numpy对矩阵的运算速度快，但对索引的操作还是pandas好用\n",
    "# X_missing"
   ]
  },
  {
   "cell_type": "code",
   "execution_count": 20,
   "metadata": {},
   "outputs": [],
   "source": [
    "# 使用均值进行填补\n",
    "# SimpleImputer\n",
    "\n",
    "imp_mean = SimpleImputer(missing_values=np.nan, strategy='mean') # 实例化\n",
    "X_missing_mean = imp_mean.fit_transform(X_missing) # fit+predict>>特殊接口 fit_tranform：将缺失值填充并返回"
   ]
  },
  {
   "cell_type": "code",
   "execution_count": 22,
   "metadata": {
    "collapsed": true
   },
   "outputs": [
    {
     "data": {
      "text/plain": [
       "0     0\n",
       "1     0\n",
       "2     0\n",
       "3     0\n",
       "4     0\n",
       "5     0\n",
       "6     0\n",
       "7     0\n",
       "8     0\n",
       "9     0\n",
       "10    0\n",
       "11    0\n",
       "12    0\n",
       "dtype: int64"
      ]
     },
     "execution_count": 22,
     "metadata": {},
     "output_type": "execute_result"
    }
   ],
   "source": [
    "# 看看是否填补完毕\n",
    "pd.DataFrame(X_missing_mean).isnull().sum() \n",
    "# X_missing_mean为array， DataFrame才可以调用isnull()"
   ]
  },
  {
   "cell_type": "code",
   "execution_count": 8,
   "metadata": {},
   "outputs": [],
   "source": [
    "# 使用0进行填补\n",
    "# SimpleImputer\n",
    "\n",
    "imp_0 = SimpleImputer(missing_values=np.nan, strategy='constant', fill_value=0) # 实例化\n",
    "X_missing_0 = imp_0.fit_transform(X_missing) # fit+predict>>特殊接口 fit_tranform：将缺失值填充并返回"
   ]
  },
  {
   "cell_type": "code",
   "execution_count": 32,
   "metadata": {},
   "outputs": [
    {
     "data": {
      "text/plain": [
       "numpy.int64"
      ]
     },
     "execution_count": 32,
     "metadata": {},
     "output_type": "execute_result"
    }
   ],
   "source": [
    "# 使用随机森林填补缺失值\n",
    "# 填补原理：\n",
    "# - 回归：从特征矩阵中学习模型求解连续型标签y的过程\n",
    "# - 标签和特征可以互相转换\n",
    "# 这种做法适用于： 某一特征大量缺失，其他特征很完整的情况\n",
    "# >1个特征大量缺失: 遍历所有特征，从缺失最少的特征开始填补（因为缺失最少的特征需要准确信息最少）\n",
    "\n",
    "X_missing_reg = X_missing.copy()\n",
    "sortindex = np.argsort(X_missing_reg.isnull().sum(axis=0)).values\n",
    "# argsort对索引返回\n",
    "ind = [3,5,4]\n",
    "# type(ind[0])\n",
    "id1 = np.array([3,5,4])\n",
    "type(id1[0])"
   ]
  },
  {
   "cell_type": "code",
   "execution_count": 26,
   "metadata": {},
   "outputs": [],
   "source": [
    "X_missing_reg.loc[X_missing_reg.loc[:,3].isnull(),3] = np.array(range(196))"
   ]
  },
  {
   "cell_type": "code",
   "execution_count": 27,
   "metadata": {},
   "outputs": [
    {
     "data": {
      "text/plain": [
       "0        0.0\n",
       "1        0.0\n",
       "2        0.0\n",
       "3        0.0\n",
       "4        0.0\n",
       "       ...  \n",
       "501    193.0\n",
       "502      0.0\n",
       "503    194.0\n",
       "504    195.0\n",
       "505      0.0\n",
       "Name: 3, Length: 506, dtype: float64"
      ]
     },
     "execution_count": 27,
     "metadata": {},
     "output_type": "execute_result"
    }
   ],
   "source": [
    "X_missing_reg[3]"
   ]
  },
  {
   "cell_type": "code",
   "execution_count": 11,
   "metadata": {},
   "outputs": [],
   "source": [
    "for i in sortindex:\n",
    "    # 构建新的特征矩阵\n",
    "    df = X_missing_reg\n",
    "    fillc = df.iloc[:,i]\n",
    "    df = pd.concat((df.iloc[:,df.columns!=i], pd.DataFrame(Y_full)), axis=1)\n",
    "    \n",
    "    # 填补新的特征矩阵中的缺失值为0\n",
    "    df_0 = SimpleImputer(missing_values=np.nan, strategy='constant', fill_value=0).fit_transform(df)\n",
    "    \n",
    "    # 训练集和测试集\n",
    "    Ytrain = fillc[fillc.notnull()]\n",
    "    Ytest = fillc[fillc.isnull()] # 需要索引值\n",
    "    Xtrain = df_0[Ytrain.index,:]\n",
    "    Xtest = df_0[Ytest.index,:]\n",
    "    \n",
    "    # 采用回归进行填充\n",
    "    rfc = RandomForestRegressor(n_estimators=100)\n",
    "    rfc = rfc.fit(Xtrain, Ytrain)\n",
    "    Ypredict = rfc.predict(Xtest)\n",
    "    \n",
    "    # 将填充值返回到原始特征矩阵\n",
    "    # 填充第i列的空值\n",
    "    X_missing_reg.loc[X_missing_reg.loc[:,i].isnull(),i] = Ypredict"
   ]
  },
  {
   "cell_type": "code",
   "execution_count": 16,
   "metadata": {},
   "outputs": [
    {
     "data": {
      "text/plain": [
       "Series([], Name: 3, dtype: float64)"
      ]
     },
     "execution_count": 16,
     "metadata": {},
     "output_type": "execute_result"
    }
   ],
   "source": [
    "X_missing_reg.loc[X_missing_reg.loc[:,3].isnull(),3]\n",
    "# .sum().values"
   ]
  },
  {
   "cell_type": "code",
   "execution_count": 13,
   "metadata": {
    "scrolled": true
   },
   "outputs": [
    {
     "data": {
      "text/html": [
       "<div>\n",
       "<style scoped>\n",
       "    .dataframe tbody tr th:only-of-type {\n",
       "        vertical-align: middle;\n",
       "    }\n",
       "\n",
       "    .dataframe tbody tr th {\n",
       "        vertical-align: top;\n",
       "    }\n",
       "\n",
       "    .dataframe thead th {\n",
       "        text-align: right;\n",
       "    }\n",
       "</style>\n",
       "<table border=\"1\" class=\"dataframe\">\n",
       "  <thead>\n",
       "    <tr style=\"text-align: right;\">\n",
       "      <th></th>\n",
       "      <th>0</th>\n",
       "      <th>1</th>\n",
       "      <th>2</th>\n",
       "      <th>3</th>\n",
       "      <th>4</th>\n",
       "      <th>5</th>\n",
       "      <th>6</th>\n",
       "      <th>7</th>\n",
       "      <th>8</th>\n",
       "      <th>9</th>\n",
       "      <th>10</th>\n",
       "      <th>11</th>\n",
       "      <th>12</th>\n",
       "    </tr>\n",
       "  </thead>\n",
       "  <tbody>\n",
       "    <tr>\n",
       "      <td>0</td>\n",
       "      <td>0.189002</td>\n",
       "      <td>15.02</td>\n",
       "      <td>2.3100</td>\n",
       "      <td>0.00</td>\n",
       "      <td>0.447704</td>\n",
       "      <td>6.57500</td>\n",
       "      <td>65.200</td>\n",
       "      <td>4.090000</td>\n",
       "      <td>1.00</td>\n",
       "      <td>247.79</td>\n",
       "      <td>18.173</td>\n",
       "      <td>389.1798</td>\n",
       "      <td>7.6388</td>\n",
       "    </tr>\n",
       "    <tr>\n",
       "      <td>1</td>\n",
       "      <td>0.027310</td>\n",
       "      <td>0.00</td>\n",
       "      <td>5.9762</td>\n",
       "      <td>0.00</td>\n",
       "      <td>0.469000</td>\n",
       "      <td>6.42100</td>\n",
       "      <td>46.980</td>\n",
       "      <td>4.967100</td>\n",
       "      <td>2.00</td>\n",
       "      <td>242.00</td>\n",
       "      <td>17.800</td>\n",
       "      <td>391.0834</td>\n",
       "      <td>9.1400</td>\n",
       "    </tr>\n",
       "    <tr>\n",
       "      <td>2</td>\n",
       "      <td>0.027290</td>\n",
       "      <td>26.85</td>\n",
       "      <td>7.0700</td>\n",
       "      <td>0.00</td>\n",
       "      <td>0.442646</td>\n",
       "      <td>7.18500</td>\n",
       "      <td>29.636</td>\n",
       "      <td>4.967100</td>\n",
       "      <td>5.09</td>\n",
       "      <td>242.00</td>\n",
       "      <td>16.596</td>\n",
       "      <td>392.8300</td>\n",
       "      <td>4.0300</td>\n",
       "    </tr>\n",
       "    <tr>\n",
       "      <td>3</td>\n",
       "      <td>0.032370</td>\n",
       "      <td>0.00</td>\n",
       "      <td>4.4213</td>\n",
       "      <td>0.03</td>\n",
       "      <td>0.458000</td>\n",
       "      <td>7.08850</td>\n",
       "      <td>53.648</td>\n",
       "      <td>4.271524</td>\n",
       "      <td>3.98</td>\n",
       "      <td>222.00</td>\n",
       "      <td>18.700</td>\n",
       "      <td>394.6300</td>\n",
       "      <td>5.1041</td>\n",
       "    </tr>\n",
       "    <tr>\n",
       "      <td>4</td>\n",
       "      <td>0.055795</td>\n",
       "      <td>0.00</td>\n",
       "      <td>2.1800</td>\n",
       "      <td>0.00</td>\n",
       "      <td>0.458000</td>\n",
       "      <td>7.12826</td>\n",
       "      <td>54.200</td>\n",
       "      <td>4.743819</td>\n",
       "      <td>3.00</td>\n",
       "      <td>222.29</td>\n",
       "      <td>18.700</td>\n",
       "      <td>396.9000</td>\n",
       "      <td>6.0219</td>\n",
       "    </tr>\n",
       "    <tr>\n",
       "      <td>...</td>\n",
       "      <td>...</td>\n",
       "      <td>...</td>\n",
       "      <td>...</td>\n",
       "      <td>...</td>\n",
       "      <td>...</td>\n",
       "      <td>...</td>\n",
       "      <td>...</td>\n",
       "      <td>...</td>\n",
       "      <td>...</td>\n",
       "      <td>...</td>\n",
       "      <td>...</td>\n",
       "      <td>...</td>\n",
       "      <td>...</td>\n",
       "    </tr>\n",
       "    <tr>\n",
       "      <td>501</td>\n",
       "      <td>0.062630</td>\n",
       "      <td>0.00</td>\n",
       "      <td>11.9300</td>\n",
       "      <td>0.12</td>\n",
       "      <td>0.573000</td>\n",
       "      <td>6.59300</td>\n",
       "      <td>69.100</td>\n",
       "      <td>2.478600</td>\n",
       "      <td>1.00</td>\n",
       "      <td>273.00</td>\n",
       "      <td>21.000</td>\n",
       "      <td>391.9900</td>\n",
       "      <td>9.6700</td>\n",
       "    </tr>\n",
       "    <tr>\n",
       "      <td>502</td>\n",
       "      <td>0.045270</td>\n",
       "      <td>0.00</td>\n",
       "      <td>11.9300</td>\n",
       "      <td>0.00</td>\n",
       "      <td>0.573000</td>\n",
       "      <td>6.12000</td>\n",
       "      <td>79.776</td>\n",
       "      <td>2.287500</td>\n",
       "      <td>3.85</td>\n",
       "      <td>273.00</td>\n",
       "      <td>21.000</td>\n",
       "      <td>396.9000</td>\n",
       "      <td>9.0800</td>\n",
       "    </tr>\n",
       "    <tr>\n",
       "      <td>503</td>\n",
       "      <td>0.060760</td>\n",
       "      <td>0.00</td>\n",
       "      <td>11.9300</td>\n",
       "      <td>0.04</td>\n",
       "      <td>0.573540</td>\n",
       "      <td>6.69452</td>\n",
       "      <td>76.633</td>\n",
       "      <td>2.167500</td>\n",
       "      <td>1.00</td>\n",
       "      <td>273.00</td>\n",
       "      <td>21.000</td>\n",
       "      <td>396.9000</td>\n",
       "      <td>5.6400</td>\n",
       "    </tr>\n",
       "    <tr>\n",
       "      <td>504</td>\n",
       "      <td>0.065161</td>\n",
       "      <td>4.22</td>\n",
       "      <td>5.6905</td>\n",
       "      <td>0.11</td>\n",
       "      <td>0.473220</td>\n",
       "      <td>6.79400</td>\n",
       "      <td>38.053</td>\n",
       "      <td>5.154296</td>\n",
       "      <td>1.00</td>\n",
       "      <td>264.47</td>\n",
       "      <td>21.000</td>\n",
       "      <td>390.5357</td>\n",
       "      <td>6.4800</td>\n",
       "    </tr>\n",
       "    <tr>\n",
       "      <td>505</td>\n",
       "      <td>0.047410</td>\n",
       "      <td>0.00</td>\n",
       "      <td>16.4695</td>\n",
       "      <td>0.00</td>\n",
       "      <td>0.573000</td>\n",
       "      <td>6.20483</td>\n",
       "      <td>80.800</td>\n",
       "      <td>2.505000</td>\n",
       "      <td>17.29</td>\n",
       "      <td>273.00</td>\n",
       "      <td>19.122</td>\n",
       "      <td>396.9000</td>\n",
       "      <td>7.8800</td>\n",
       "    </tr>\n",
       "  </tbody>\n",
       "</table>\n",
       "<p>506 rows × 13 columns</p>\n",
       "</div>"
      ],
      "text/plain": [
       "            0      1        2     3         4        5       6         7  \\\n",
       "0    0.189002  15.02   2.3100  0.00  0.447704  6.57500  65.200  4.090000   \n",
       "1    0.027310   0.00   5.9762  0.00  0.469000  6.42100  46.980  4.967100   \n",
       "2    0.027290  26.85   7.0700  0.00  0.442646  7.18500  29.636  4.967100   \n",
       "3    0.032370   0.00   4.4213  0.03  0.458000  7.08850  53.648  4.271524   \n",
       "4    0.055795   0.00   2.1800  0.00  0.458000  7.12826  54.200  4.743819   \n",
       "..        ...    ...      ...   ...       ...      ...     ...       ...   \n",
       "501  0.062630   0.00  11.9300  0.12  0.573000  6.59300  69.100  2.478600   \n",
       "502  0.045270   0.00  11.9300  0.00  0.573000  6.12000  79.776  2.287500   \n",
       "503  0.060760   0.00  11.9300  0.04  0.573540  6.69452  76.633  2.167500   \n",
       "504  0.065161   4.22   5.6905  0.11  0.473220  6.79400  38.053  5.154296   \n",
       "505  0.047410   0.00  16.4695  0.00  0.573000  6.20483  80.800  2.505000   \n",
       "\n",
       "         8       9      10        11      12  \n",
       "0     1.00  247.79  18.173  389.1798  7.6388  \n",
       "1     2.00  242.00  17.800  391.0834  9.1400  \n",
       "2     5.09  242.00  16.596  392.8300  4.0300  \n",
       "3     3.98  222.00  18.700  394.6300  5.1041  \n",
       "4     3.00  222.29  18.700  396.9000  6.0219  \n",
       "..     ...     ...     ...       ...     ...  \n",
       "501   1.00  273.00  21.000  391.9900  9.6700  \n",
       "502   3.85  273.00  21.000  396.9000  9.0800  \n",
       "503   1.00  273.00  21.000  396.9000  5.6400  \n",
       "504   1.00  264.47  21.000  390.5357  6.4800  \n",
       "505  17.29  273.00  19.122  396.9000  7.8800  \n",
       "\n",
       "[506 rows x 13 columns]"
      ]
     },
     "execution_count": 13,
     "metadata": {},
     "output_type": "execute_result"
    }
   ],
   "source": [
    "X_missing_reg"
   ]
  },
  {
   "cell_type": "code",
   "execution_count": 50,
   "metadata": {
    "scrolled": true
   },
   "outputs": [
    {
     "data": {
      "text/plain": [
       "[21.18148573589594, 42.6996749154339, 45.856943771092986, 15.915806521277418]"
      ]
     },
     "execution_count": 50,
     "metadata": {},
     "output_type": "execute_result"
    }
   ],
   "source": [
    "from sklearn.model_selection import cross_val_score\n",
    "X = [X_full, X_missing_mean, X_missing_0, X_missing_reg]\n",
    "mse = []\n",
    "for x in X:\n",
    "    rfc = RandomForestRegressor(n_estimators=100)\n",
    "    scores = cross_val_score(rfc, x, Y_full, cv=5\n",
    "                   ,scoring = 'neg_mean_squared_error').mean()\n",
    "    mse.append(scores*(-1))\n",
    "\n",
    "mse"
   ]
  },
  {
   "cell_type": "code",
   "execution_count": 51,
   "metadata": {},
   "outputs": [
    {
     "data": {
      "text/plain": [
       "[('X_full', 21.18148573589594),\n",
       " ('X_missing_mean', 42.6996749154339),\n",
       " ('X_missing_0', 45.856943771092986),\n",
       " ('X_missing_reg', 15.915806521277418)]"
      ]
     },
     "execution_count": 51,
     "metadata": {},
     "output_type": "execute_result"
    }
   ],
   "source": [
    "[*zip(['X_full', 'X_missing_mean', 'X_missing_0', 'X_missing_reg'],mse)]"
   ]
  },
  {
   "cell_type": "code",
   "execution_count": 56,
   "metadata": {},
   "outputs": [
    {
     "data": {
      "image/png": "[encoded data removed]",
      "text/plain": [
       "<Figure size 864x432 with 1 Axes>"
      ]
     },
     "metadata": {
      "needs_background": "light"
     },
     "output_type": "display_data"
    }
   ],
   "source": [
    "# 画图\n",
    "x_labels = ['Full data',\n",
    "            'Mean Imputation',\n",
    "            'Zero Imputaion',\n",
    "            'Regressor Imputation'\n",
    "]\n",
    "\n",
    "colors = ['r','g','b','orange']\n",
    "\n",
    "plt.figure(figsize=(12,6))\n",
    "ax = plt.subplot(111)\n",
    "\n",
    "for i in np.arange(len(mse)):\n",
    "    ax.barh(i,mse[i],color=colors[i],alpha = 0.6, align='center')\n",
    "    \n",
    "ax.set_title('Imputation Techniques with Boston data')\n",
    "ax.set_xlim(left = np.min(mse)*0.9,right=np.max(mse)*1.1)\n",
    "ax.set_yticks(np.arange(len(mse)))\n",
    "ax.set_xlabel('MSE')\n",
    "ax.set_yticklabels(x_labels)\n",
    "plt.show()\n"
   ]
  }
 ],
 "metadata": {
  "kernelspec": {
   "display_name": "Python 3",
   "language": "python",
   "name": "python3"
  },
  "language_info": {
   "codemirror_mode": {
    "name": "ipython",
    "version": 3
   },
   "file_extension": ".py",
   "mimetype": "text/x-python",
   "name": "python",
   "nbconvert_exporter": "python",
   "pygments_lexer": "ipython3",
   "version": "3.6.9"
  }
 },
 "nbformat": 4,
 "nbformat_minor": 2
}
