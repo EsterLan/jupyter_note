{
 "cells": [
  {
   "cell_type": "code",
   "execution_count": 2,
   "metadata": {},
   "outputs": [],
   "source": [
    "import pandas as pd\n",
    "import numpy as np\n",
    "import matplotlib.pyplot as plt\n",
    "# from sklearn.datasets import load_titannic"
   ]
  },
  {
   "cell_type": "code",
   "execution_count": null,
   "metadata": {},
   "outputs": [],
   "source": [
    "# 二值化\n",
    "# 如30以上为1，30以下为0\n",
    "from sklearn.preprocessing import Binarizer\n",
    "\n",
    "X = data_2.ilocp[:,0].values.reshpe(-1,1)\n",
    "transformer = Binarizer(threshold=30).fit_transform(X)\n",
    "data_2.iloc[:,0] = transformer"
   ]
  },
  {
   "cell_type": "code",
   "execution_count": 3,
   "metadata": {},
   "outputs": [],
   "source": [
    "# 分箱\n",
    "from sklearn.preprocessing import KBinsDiscretizer\n",
    "# n_bins: 每个特征默认的分箱个数，默认为5，运用到所有的导入特征\n",
    "# encode: 默认onehot,onehot:哑变量，稀疏矩阵；ordinal:每一个箱被编码为一个整数，每个特征下含有不同整数的箱的编码\n",
    "#          编码为整数；onehot-dense:哑变量，返回密集矩阵\n",
    "# strategy:定义箱宽的方式，默认quantile。0-100的范围的数\n",
    "#          uniform：等宽分箱，按照数据的值分箱。0-20，20-40，40-60，60-80，80-100\n",
    "#          quantile: 等位分箱，每个特征的每个箱内的样本数量都相同\n",
    "#          kmeans: 按聚类分箱，每个箱中的值到最近的一维k均值聚类的簇心的距离都相同。"
   ]
  },
  {
   "cell_type": "code",
   "execution_count": null,
   "metadata": {},
   "outputs": [],
   "source": [
    "x = data.iloc[:,0].values.reshape(-1,1)\n",
    "est = KBinsDiscretizer(n_bins=3, encode='ordinal', strategy='uniform') # 等宽分箱\n",
    "est.fit_transform(x)\n",
    "                                  \n",
    "# 查看转换后的分箱\n",
    "set(est.fit_transform(x).ravel()) #集合\n"
   ]
  },
  {
   "cell_type": "code",
   "execution_count": null,
   "metadata": {},
   "outputs": [],
   "source": [
    "est = KBinsDiscretizer(n_bins=3, encode='onehot', strategy='uniform')\n",
    "est.fit_transform(x).toarray()\n"
   ]
  }
 ],
 "metadata": {
  "kernelspec": {
   "display_name": "Python 3",
   "language": "python",
   "name": "python3"
  },
  "language_info": {
   "codemirror_mode": {
    "name": "ipython",
    "version": 3
   },
   "file_extension": ".py",
   "mimetype": "text/x-python",
   "name": "python",
   "nbconvert_exporter": "python",
   "pygments_lexer": "ipython3",
   "version": "3.6.9"
  }
 },
 "nbformat": 4,
 "nbformat_minor": 2
}
