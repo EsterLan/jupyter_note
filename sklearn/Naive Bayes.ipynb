{
 "cells": [
  {
   "cell_type": "code",
   "execution_count": 13,
   "metadata": {
    "collapsed": true
   },
   "outputs": [
    {
     "name": "stdout",
     "output_type": "stream",
     "text": [
      "Collecting watermark\n",
      "  Downloading https://files.pythonhosted.org/packages/60/fe/3ed83b6122e70dce6fe269dfd763103c333f168bf91037add73ea4fe81c2/watermark-2.0.2-py2.py3-none-any.whl\n",
      "Requirement already satisfied: ipython in /home/esterl/anaconda3/lib/python3.6/site-packages (from watermark) (7.8.0)\n",
      "Requirement already satisfied: pickleshare in /home/esterl/anaconda3/lib/python3.6/site-packages (from ipython->watermark) (0.7.5)\n",
      "Requirement already satisfied: backcall in /home/esterl/anaconda3/lib/python3.6/site-packages (from ipython->watermark) (0.1.0)\n",
      "Requirement already satisfied: traitlets>=4.2 in /home/esterl/anaconda3/lib/python3.6/site-packages (from ipython->watermark) (4.3.3)\n",
      "Requirement already satisfied: jedi>=0.10 in /home/esterl/anaconda3/lib/python3.6/site-packages (from ipython->watermark) (0.15.1)\n",
      "Requirement already satisfied: prompt-toolkit<2.1.0,>=2.0.0 in /home/esterl/anaconda3/lib/python3.6/site-packages (from ipython->watermark) (2.0.10)\n",
      "Requirement already satisfied: pygments in /home/esterl/anaconda3/lib/python3.6/site-packages (from ipython->watermark) (2.4.2)\n",
      "Requirement already satisfied: setuptools>=18.5 in /home/esterl/anaconda3/lib/python3.6/site-packages (from ipython->watermark) (41.4.0)\n",
      "Requirement already satisfied: pexpect; sys_platform != \"win32\" in /home/esterl/anaconda3/lib/python3.6/site-packages (from ipython->watermark) (4.7.0)\n",
      "Requirement already satisfied: decorator in /home/esterl/anaconda3/lib/python3.6/site-packages (from ipython->watermark) (4.4.0)\n",
      "Requirement already satisfied: ipython-genutils in /home/esterl/anaconda3/lib/python3.6/site-packages (from traitlets>=4.2->ipython->watermark) (0.2.0)\n",
      "Requirement already satisfied: six in /home/esterl/anaconda3/lib/python3.6/site-packages (from traitlets>=4.2->ipython->watermark) (1.12.0)\n",
      "Requirement already satisfied: parso>=0.5.0 in /home/esterl/anaconda3/lib/python3.6/site-packages (from jedi>=0.10->ipython->watermark) (0.5.1)\n",
      "Requirement already satisfied: wcwidth in /home/esterl/anaconda3/lib/python3.6/site-packages (from prompt-toolkit<2.1.0,>=2.0.0->ipython->watermark) (0.1.7)\n",
      "Requirement already satisfied: ptyprocess>=0.5 in /home/esterl/anaconda3/lib/python3.6/site-packages (from pexpect; sys_platform != \"win32\"->ipython->watermark) (0.6.0)\n",
      "Installing collected packages: watermark\n",
      "Successfully installed watermark-2.0.2\n",
      "\u001b[33mWARNING: You are using pip version 19.3.1; however, version 20.0.2 is available.\n",
      "You should consider upgrading via the 'pip install --upgrade pip' command.\u001b[0m\n",
      "Note: you may need to restart the kernel to use updated packages.\n"
     ]
    }
   ],
   "source": [
    "%pip install watermark\n",
    "# 这是魔法命令 整个cell的第一行"
   ]
  },
  {
   "cell_type": "code",
   "execution_count": 14,
   "metadata": {
    "scrolled": true
   },
   "outputs": [],
   "source": [
    "%load_ext watermark\n",
    "# load_ext只能执行一次"
   ]
  },
  {
   "cell_type": "code",
   "execution_count": 16,
   "metadata": {},
   "outputs": [
    {
     "name": "stdout",
     "output_type": "stream",
     "text": [
      "Ester 2020-04-14 \n",
      "\n",
      "CPython 3.6.9\n",
      "IPython 7.8.0\n",
      "\n",
      "numpy 1.17.2\n",
      "pandas 0.25.1\n",
      "matplotlib 3.1.1\n",
      "scipy 1.3.1\n",
      "sklearn 0.21.3\n",
      "\n",
      "compiler   : GCC 7.3.0\n",
      "system     : Linux\n",
      "release    : 5.0.0-37-generic\n",
      "machine    : x86_64\n",
      "processor  : x86_64\n",
      "CPU cores  : 8\n",
      "interpreter: 64bit\n"
     ]
    }
   ],
   "source": [
    "%watermark -a 'Ester' -d -v -m -p numpy,pandas,matplotlib,scipy,sklearn"
   ]
  },
  {
   "cell_type": "markdown",
   "metadata": {},
   "source": [
    "### 概率分类器-Bayes分类器\n",
    "算法得出的结论，永远不是100%确定的，更多的是判断出一种“样本标签更可能是个是某一类的可能性“\n",
    "\n",
    "决策树： gini/entropy\n",
    "\n",
    "LR：sigmoid函数压缩后的似然(接口predict_proba调用)\n",
    "\n",
    "SVM：样本距离决策边界的距离（decision_function调用）\n",
    "\n",
    "以上都是置信度，真正的概率分类器-Navie Bayes.\n",
    "### 处理连续性变量\n",
    "分箱：到底分多少箱难以决定->采用概率论中计算连续型变量的概率分布\n",
    "\n",
    "### sklearn中的naive bayes\n",
    "贝叶斯岭回归用的不多\n",
    "\n",
    "虽然navie bayes的假设过于简化，但在实际情况中应用不错：如垃圾邮件过滤，文本分类。\n",
    "\n",
    "由于navie bayes从概率角度进行估计，需要样本量较少；但显然对于所有机器学习算法来说，样本数量小于特征数目时，算法的效果和功能就会削弱；\n",
    "\n",
    "与SVM和随机森林相比，naive bayes计算更快（并行计算，特征独立），predict_proba不是总是指向分类的结果"
   ]
  },
  {
   "cell_type": "code",
   "execution_count": 17,
   "metadata": {},
   "outputs": [],
   "source": [
    "import numpy as np\n",
    "import pandas as pd\n",
    "import matplotlib.pyplot as plt\n",
    "from sklearn.datasets import load_digits\n",
    "from sklearn.model_selection import train_test_split"
   ]
  },
  {
   "cell_type": "code",
   "execution_count": 20,
   "metadata": {},
   "outputs": [],
   "source": [
    "# GaussianNB\n",
    "# P(xi|C)服从正态分布\n",
    "# 基本不进行调参\n",
    "# paras:\n",
    "# - priors: P(C1) P(C2);\n",
    "# - var_smoothing： 无效果，不添加；将所有特征中最大的方差以一定比例添加（var_smoothing）\n",
    "# 过于简单\n",
    "from sklearn.naive_bayes import GaussianNB"
   ]
  },
  {
   "cell_type": "code",
   "execution_count": 21,
   "metadata": {},
   "outputs": [],
   "source": [
    "digits = load_digits()\n",
    "X,y = digits.data, digits.target"
   ]
  },
  {
   "cell_type": "code",
   "execution_count": 22,
   "metadata": {},
   "outputs": [],
   "source": [
    "Xtrain, Xtest, Ytrain, Ytest = train_test_split(X, y, test_size=0.3,random_state=420)"
   ]
  },
  {
   "cell_type": "code",
   "execution_count": 24,
   "metadata": {},
   "outputs": [
    {
     "data": {
      "text/plain": [
       "array([0, 1, 2, 3, 4, 5, 6, 7, 8, 9])"
      ]
     },
     "execution_count": 24,
     "metadata": {},
     "output_type": "execute_result"
    }
   ],
   "source": [
    "# 探索标签\n",
    "np.unique(Ytrain) # 多分类问题，类别是10个"
   ]
  },
  {
   "cell_type": "code",
   "execution_count": 25,
   "metadata": {},
   "outputs": [],
   "source": [
    "gnb = GaussianNB().fit(Xtrain,Ytrain)"
   ]
  },
  {
   "cell_type": "code",
   "execution_count": 27,
   "metadata": {},
   "outputs": [
    {
     "data": {
      "text/plain": [
       "0.8592592592592593"
      ]
     },
     "execution_count": 27,
     "metadata": {},
     "output_type": "execute_result"
    }
   ],
   "source": [
    "# 查看分数acc\n",
    "acc_score = gnb.score(Xtest,Ytest)\n",
    "acc_score"
   ]
  },
  {
   "cell_type": "code",
   "execution_count": 28,
   "metadata": {},
   "outputs": [],
   "source": [
    "# 查看预测结果\n",
    "Y_pred = gnb.predict(Xtest)"
   ]
  },
  {
   "cell_type": "code",
   "execution_count": 29,
   "metadata": {},
   "outputs": [
    {
     "data": {
      "text/plain": [
       "(540, 10)"
      ]
     },
     "execution_count": 29,
     "metadata": {},
     "output_type": "execute_result"
    }
   ],
   "source": [
    "# 产看每个类别的概率\n",
    "prob = gnb.predict_proba(Xtest)\n",
    "prob.shape"
   ]
  },
  {
   "cell_type": "code",
   "execution_count": 30,
   "metadata": {},
   "outputs": [
    {
     "data": {
      "text/plain": [
       "1.000000000000003"
      ]
     },
     "execution_count": 30,
     "metadata": {},
     "output_type": "execute_result"
    }
   ],
   "source": [
    "prob[1,:].sum()"
   ]
  },
  {
   "cell_type": "code",
   "execution_count": 31,
   "metadata": {},
   "outputs": [
    {
     "data": {
      "text/plain": [
       "540.0"
      ]
     },
     "execution_count": 31,
     "metadata": {},
     "output_type": "execute_result"
    }
   ],
   "source": [
    "prob.sum(axis=1).sum()  # 行数方向上加和"
   ]
  },
  {
   "cell_type": "code",
   "execution_count": 32,
   "metadata": {
    "scrolled": true
   },
   "outputs": [
    {
     "data": {
      "text/plain": [
       "array([[47,  0,  0,  0,  0,  0,  0,  1,  0,  0],\n",
       "       [ 0, 46,  2,  0,  0,  0,  0,  3,  6,  2],\n",
       "       [ 0,  2, 35,  0,  0,  0,  1,  0, 16,  0],\n",
       "       [ 0,  0,  1, 40,  0,  1,  0,  3,  4,  0],\n",
       "       [ 0,  0,  1,  0, 39,  0,  1,  4,  0,  0],\n",
       "       [ 0,  0,  0,  2,  0, 58,  1,  1,  1,  0],\n",
       "       [ 0,  0,  1,  0,  0,  1, 49,  0,  0,  0],\n",
       "       [ 0,  0,  0,  0,  0,  0,  0, 54,  0,  0],\n",
       "       [ 0,  3,  0,  1,  0,  0,  0,  2, 55,  0],\n",
       "       [ 1,  1,  0,  1,  2,  0,  0,  3,  7, 41]])"
      ]
     },
     "execution_count": 32,
     "metadata": {},
     "output_type": "execute_result"
    }
   ],
   "source": [
    "# 混淆矩阵\n",
    "# 多分类下先看这个\n",
    "from sklearn.metrics import confusion_matrix as CM\n",
    "CM(Ytest, Y_pred)"
   ]
  },
  {
   "cell_type": "markdown",
   "metadata": {},
   "source": [
    "### 探索bayes：高斯朴素bayes擅长的数据集\n",
    "- 参考svm中对核函数的考量\n",
    "\n",
    "1.决策边界为弧线；\n",
    "\n",
    "2.从图上看，高斯贝叶斯属于比较特殊的一类分类器，其分类效果再二分数据和月亮型数据上表现优秀，但是环形数据不太擅长；\n",
    "\n",
    "3.之前的线性模型如LR和线性SVM绘制线性的决策边界，故难以对月亮型和环形数据进行区分，但naive bayes决策边界为弧线，所以往往在月亮型和环形数据上表现好。\n",
    "\n",
    "4.但是由于naive bayes假设特征之间线性可分，与实际不符。\n",
    "\n",
    "5.数据线性可分->LR, 不是线性可分->SVM. 轮不到朴素贝叶斯"
   ]
  },
  {
   "cell_type": "code",
   "execution_count": null,
   "metadata": {},
   "outputs": [],
   "source": [
    "from sklearn.datasets import make_moons,make_circles,make_classification\n"
   ]
  },
  {
   "cell_type": "markdown",
   "metadata": {},
   "source": [
    "### 比较高斯普斯贝叶斯，随机森林和SVM的拟合效果和运算速度\n",
    "\n",
    "sklearn learning_curve\n",
    "\n",
    "横：训练样本量， 纵：测试准确度\n",
    "\n",
    "返回三组数据：横坐标，训练纵坐标，测试纵坐标"
   ]
  },
  {
   "cell_type": "code",
   "execution_count": 33,
   "metadata": {},
   "outputs": [],
   "source": [
    "from sklearn.svm import SVC\n",
    "from sklearn.ensemble import RandomForestClassifier as RFC\n",
    "from sklearn.tree import DecisionTreeClassifier as DTC\n",
    "from sklearn.linear_model import LogisticRegression as LR\n",
    "from sklearn.model_selection import learning_curve\n",
    "from sklearn.model_selection import ShuffleSplit\n",
    "from time import time\n",
    "import datetime"
   ]
  },
  {
   "cell_type": "code",
   "execution_count": 42,
   "metadata": {},
   "outputs": [],
   "source": [
    "def plot_learning_curve(estimator, title,X, y,\n",
    "                        ax,  # 选定的子图\n",
    "                        ylim=None,\n",
    "                        cv=None,\n",
    "                        n_jobs=None                        \n",
    "                       ):\n",
    "    # 输入： 分类器，数据，画图的参数，交叉验证的模式\n",
    "    train_size, train_scores, test_scores = learning_curve(estimator # 分类器\n",
    "                                                          , X, y\n",
    "                                                          , cv=cv # 交叉验证模式\n",
    "                                                          , n_jobs=n_jobs # 每次运行时可并行使用的线程，-1表示所有（谨慎使用）\n",
    "                                                          )\n",
    "    ax.set_title(title)\n",
    "    if ylim is not None:\n",
    "        ax.set_ylim(*ylim)\n",
    "    ax.set_xlabel('Training examples')\n",
    "    ax.set_ylabel('Score')\n",
    "    ax.grid()\n",
    "    ax.plot(train_size, np.mean(train_scores, axis=1),'o-', color='r', label= 'training score')\n",
    "    ax.plot(train_size, np.mean(test_scores, axis=1),'o-', color='g', label= 'testing score')\n",
    "    ax.legend(loc='best')\n",
    "    return ax\n",
    "    \n",
    "   \n",
    "   \n",
    "    \n",
    "    "
   ]
  },
  {
   "cell_type": "code",
   "execution_count": 35,
   "metadata": {},
   "outputs": [],
   "source": [
    "model = [GaussianNB(),\n",
    "         SVC(kernel='linear', gamma=0.01),\n",
    "        LR(C=0.1, solver='lbfgs'),\n",
    "        DTC(),\n",
    "        RFC(n_estimators=50, random_state=0)]\n",
    "title = ['GNB','SVC','LR', 'DTC', 'RFC']\n",
    "cv = ShuffleSplit(n_splits=50, test_size=0.2, random_state=0)  # 50折验证\n"
   ]
  },
  {
   "cell_type": "code",
   "execution_count": 52,
   "metadata": {
    "scrolled": true
   },
   "outputs": [
    {
     "name": "stdout",
     "output_type": "stream",
     "text": [
      "GNB:00:00:945926\n",
      "SVC:00:02:935432\n",
      "LR:00:15:621790\n",
      "DTC:00:00:896317\n",
      "RFC:00:07:609618\n"
     ]
    },
    {
     "data": {
      "image/png": "[encoded data removed]",
      "text/plain": [
       "<Figure size 1080x360 with 5 Axes>"
      ]
     },
     "metadata": {
      "needs_background": "light"
     },
     "output_type": "display_data"
    }
   ],
   "source": [
    "fig, axes = plt.subplots(1, 5, figsize=[15,5])\n",
    "for i in range(len(model)):\n",
    "    times = time()\n",
    "    plot_learning_curve(model[i], title[i], X, y, axes[i],[0.7,1.05], cv, 4)\n",
    "    print('{}:{}'.format(title[i], datetime.datetime.fromtimestamp(time()-times).strftime('%M:%S:%f')))\n",
    "plt.show()"
   ]
  },
  {
   "cell_type": "code",
   "execution_count": 55,
   "metadata": {},
   "outputs": [
    {
     "name": "stdout",
     "output_type": "stream",
     "text": [
      "GNB:00:00:726599\n",
      "SVC:00:02:922720\n",
      "LR:00:15:409580\n",
      "DTC:00:00:726786\n",
      "RFC:00:07:701336\n"
     ]
    }
   ],
   "source": [
    "for ind, title_, model_ in zip(range(len(title)), title,model):\n",
    "    times = time()\n",
    "    plot_learning_curve(model_, title_, X, y, ax=axes[i], ylim=[0.7,1.05], cv=cv, n_jobs=4)\n",
    "    print('{}:{}'.format(title_, datetime.datetime.fromtimestamp(time()-times).strftime('%M:%S:%f')))\n",
    "plt.show()"
   ]
  },
  {
   "cell_type": "code",
   "execution_count": 56,
   "metadata": {
    "collapsed": true
   },
   "outputs": [
    {
     "data": {
      "text/plain": [
       "[(0, 'GNB', GaussianNB(priors=None, var_smoothing=1e-09)),\n",
       " (1, 'SVC', SVC(C=1.0, cache_size=200, class_weight=None, coef0=0.0,\n",
       "      decision_function_shape='ovr', degree=3, gamma=0.01, kernel='linear',\n",
       "      max_iter=-1, probability=False, random_state=None, shrinking=True,\n",
       "      tol=0.001, verbose=False)),\n",
       " (2,\n",
       "  'LR',\n",
       "  LogisticRegression(C=0.1, class_weight=None, dual=False, fit_intercept=True,\n",
       "                     intercept_scaling=1, l1_ratio=None, max_iter=100,\n",
       "                     multi_class='warn', n_jobs=None, penalty='l2',\n",
       "                     random_state=None, solver='lbfgs', tol=0.0001, verbose=0,\n",
       "                     warm_start=False)),\n",
       " (3,\n",
       "  'DTC',\n",
       "  DecisionTreeClassifier(class_weight=None, criterion='gini', max_depth=None,\n",
       "                         max_features=None, max_leaf_nodes=None,\n",
       "                         min_impurity_decrease=0.0, min_impurity_split=None,\n",
       "                         min_samples_leaf=1, min_samples_split=2,\n",
       "                         min_weight_fraction_leaf=0.0, presort=False,\n",
       "                         random_state=None, splitter='best')),\n",
       " (4,\n",
       "  'RFC',\n",
       "  RandomForestClassifier(bootstrap=True, class_weight=None, criterion='gini',\n",
       "                         max_depth=None, max_features='auto', max_leaf_nodes=None,\n",
       "                         min_impurity_decrease=0.0, min_impurity_split=None,\n",
       "                         min_samples_leaf=1, min_samples_split=2,\n",
       "                         min_weight_fraction_leaf=0.0, n_estimators=50,\n",
       "                         n_jobs=None, oob_score=False, random_state=0, verbose=0,\n",
       "                         warm_start=False))]"
      ]
     },
     "execution_count": 56,
     "metadata": {},
     "output_type": "execute_result"
    }
   ],
   "source": [
    "[*zip(range(len(title)), title,model)]"
   ]
  },
  {
   "cell_type": "markdown",
   "metadata": {},
   "source": [
    "### 比较分析\n",
    "- 运算速度\n",
    "\n",
    "决策树和朴素bayes差不多：每次分枝，随机选取特征来建树；但随着样本量增大，bayes快于决策树，原因在于bayes在样本量较少时训练效果与样本量大差别不大\n",
    "\n",
    "LR再线性数据上好，但是特征过多，手写数字辨识受稀疏矩阵的影响， 运算速度较慢。\n",
    "\n",
    "- 过拟合问题\n",
    "\n",
    "bayes是通过训练集上的误差增大\n",
    "\n",
    "- 泛化误差大小\n",
    "\n",
    "DTC和NB的表现较差，但决策树可以通过剪枝来改善，但bayes的acc_score无论是通过增大样本量或是调参都无法改善，即只要给的数据量大，naive bayes在训练集上的表现就与其极限相似\n",
    "\n",
    ">Conclusion：\n",
    "1. bayes速度快，但效果一般，且初次训练的结果很接近极限，基本没有条参余地；\n",
    "2. **概率预测**，越准越好->LR\n",
    "3. 数据过于复杂，稀疏矩阵特征过多->bayes/方差过滤等特征选泽再使用LR\n",
    "4. 特征过多且无法降维->Bayes,速度快\n",
    "5. 仅对分类要求：DTC/Bayes测试集上效果好，congratulations！bad:换上更复杂的模型SVC/RFC\n",
    "\n",
    "\n"
   ]
  },
  {
   "cell_type": "markdown",
   "metadata": {},
   "source": [
    "### 概率型评估指标\n",
    "- brier_score_loss"
   ]
  },
  {
   "cell_type": "code",
   "execution_count": 65,
   "metadata": {},
   "outputs": [
    {
     "data": {
      "text/plain": [
       "array([0, 1, 2, 3, 4, 5, 6, 7, 8, 9])"
      ]
     },
     "execution_count": 65,
     "metadata": {},
     "output_type": "execute_result"
    }
   ],
   "source": [
    "np.unique(Ytest)"
   ]
  },
  {
   "cell_type": "code",
   "execution_count": 66,
   "metadata": {},
   "outputs": [
    {
     "ename": "ValueError",
     "evalue": "Only binary classification is supported. Labels in y_true: [0 1 2 3 4 5 6 7 8 9].",
     "output_type": "error",
     "traceback": [
      "\u001b[0;31m---------------------------------------------------------------------------\u001b[0m",
      "\u001b[0;31mValueError\u001b[0m                                Traceback (most recent call last)",
      "\u001b[0;32m<ipython-input-66-d065b66cdf15>\u001b[0m in \u001b[0;36m<module>\u001b[0;34m\u001b[0m\n\u001b[1;32m      1\u001b[0m \u001b[0;32mfrom\u001b[0m \u001b[0msklearn\u001b[0m\u001b[0;34m.\u001b[0m\u001b[0mmetrics\u001b[0m \u001b[0;32mimport\u001b[0m \u001b[0mbrier_score_loss\u001b[0m \u001b[0;32mas\u001b[0m \u001b[0mbs\u001b[0m\u001b[0;34m\u001b[0m\u001b[0;34m\u001b[0m\u001b[0m\n\u001b[0;32m----> 2\u001b[0;31m \u001b[0mbs\u001b[0m\u001b[0;34m(\u001b[0m\u001b[0mYtest\u001b[0m\u001b[0;34m,\u001b[0m \u001b[0mprob\u001b[0m\u001b[0;34m[\u001b[0m\u001b[0;34m:\u001b[0m\u001b[0;34m,\u001b[0m\u001b[0;36m3\u001b[0m\u001b[0;34m]\u001b[0m\u001b[0;34m,\u001b[0m \u001b[0mpos_label\u001b[0m\u001b[0;34m=\u001b[0m\u001b[0;36m3\u001b[0m\u001b[0;34m)\u001b[0m \u001b[0;31m# 少数类的概率\u001b[0m\u001b[0;34m\u001b[0m\u001b[0;34m\u001b[0m\u001b[0m\n\u001b[0m",
      "\u001b[0;32m~/anaconda3/lib/python3.6/site-packages/sklearn/metrics/classification.py\u001b[0m in \u001b[0;36mbrier_score_loss\u001b[0;34m(y_true, y_prob, sample_weight, pos_label)\u001b[0m\n\u001b[1;32m   2377\u001b[0m     \u001b[0;32mif\u001b[0m \u001b[0mlen\u001b[0m\u001b[0;34m(\u001b[0m\u001b[0mlabels\u001b[0m\u001b[0;34m)\u001b[0m \u001b[0;34m>\u001b[0m \u001b[0;36m2\u001b[0m\u001b[0;34m:\u001b[0m\u001b[0;34m\u001b[0m\u001b[0;34m\u001b[0m\u001b[0m\n\u001b[1;32m   2378\u001b[0m         raise ValueError(\"Only binary classification is supported. \"\n\u001b[0;32m-> 2379\u001b[0;31m                          \"Labels in y_true: %s.\" % labels)\n\u001b[0m\u001b[1;32m   2380\u001b[0m     \u001b[0;32mif\u001b[0m \u001b[0my_prob\u001b[0m\u001b[0;34m.\u001b[0m\u001b[0mmax\u001b[0m\u001b[0;34m(\u001b[0m\u001b[0;34m)\u001b[0m \u001b[0;34m>\u001b[0m \u001b[0;36m1\u001b[0m\u001b[0;34m:\u001b[0m\u001b[0;34m\u001b[0m\u001b[0;34m\u001b[0m\u001b[0m\n\u001b[1;32m   2381\u001b[0m         \u001b[0;32mraise\u001b[0m \u001b[0mValueError\u001b[0m\u001b[0;34m(\u001b[0m\u001b[0;34m\"y_prob contains values greater than 1.\"\u001b[0m\u001b[0;34m)\u001b[0m\u001b[0;34m\u001b[0m\u001b[0;34m\u001b[0m\u001b[0m\n",
      "\u001b[0;31mValueError\u001b[0m: Only binary classification is supported. Labels in y_true: [0 1 2 3 4 5 6 7 8 9]."
     ]
    }
   ],
   "source": [
    "from sklearn.metrics import brier_score_loss as bs\n",
    "bs(Ytest, prob[:,3], pos_label=3) # 少数类的概率"
   ]
  }
 ],
 "metadata": {
  "kernelspec": {
   "display_name": "Python 3",
   "language": "python",
   "name": "python3"
  },
  "language_info": {
   "codemirror_mode": {
    "name": "ipython",
    "version": 3
   },
   "file_extension": ".py",
   "mimetype": "text/x-python",
   "name": "python",
   "nbconvert_exporter": "python",
   "pygments_lexer": "ipython3",
   "version": "3.6.9"
  }
 },
 "nbformat": 4,
 "nbformat_minor": 2
}
