{
 "cells": [
  {
   "cell_type": "markdown",
   "metadata": {},
   "source": [
    "## 现实数据处理\n",
    "（1）算法无法理解的特征数据：日期/时间->带有有效信息的值\n",
    " (2) 文字型转换为数字形：填补缺失值（连续型/分类型）\n",
    " (3）数据编码：OneHot\n",
    " \n",
    " 日期可以看作分类型变量：365类（1年365天）"
   ]
  },
  {
   "cell_type": "code",
   "execution_count": null,
   "metadata": {},
   "outputs": [],
   "source": [
    "# 描述性统计\n",
    "%1 %3 %10"
   ]
  }
 ],
 "metadata": {
  "kernelspec": {
   "display_name": "Python 3",
   "language": "python",
   "name": "python3"
  },
  "language_info": {
   "codemirror_mode": {
    "name": "ipython",
    "version": 3
   },
   "file_extension": ".py",
   "mimetype": "text/x-python",
   "name": "python",
   "nbconvert_exporter": "python",
   "pygments_lexer": "ipython3",
   "version": "3.6.9"
  }
 },
 "nbformat": 4,
 "nbformat_minor": 2
}
