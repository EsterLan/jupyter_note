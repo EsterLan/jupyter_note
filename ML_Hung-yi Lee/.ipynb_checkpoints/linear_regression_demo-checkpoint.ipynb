{
 "cells": [
  {
   "cell_type": "code",
   "execution_count": null,
   "metadata": {},
   "outputs": [],
   "source": [
    "#remianing ptoblem : block 3 Z[j][i]not Z[i][j]??? or the same"
   ]
  },
  {
   "cell_type": "code",
   "execution_count": 6,
   "metadata": {},
   "outputs": [],
   "source": [
    "x_data = [338., 333., 328., 207., 226.,25., 179., 60., 208., 606.]\n",
    "y_data = [640., 633., 619.,393., 428., 27., 193., 66., 226., 1591.]\n",
    "# ydata = b + w * xdata"
   ]
  },
  {
   "cell_type": "code",
   "execution_count": 22,
   "metadata": {
    "scrolled": true
   },
   "outputs": [],
   "source": [
    "# 指定范围对w,b进行迭代 ？怎么确定初始范围？\n",
    "import numpy as np\n",
    "x = np.arange(-200,-100,1) # bias\n",
    "y = np.arange(-5,5,0.1) # weight\n",
    "Z = np.zeros((len(x),len(y))) # loss\n",
    "\n",
    "for i in range(len(x)):\n",
    "    for j in range(len(y)):\n",
    "        w = y[j]\n",
    "        b = x[i]\n",
    "        Z[i][j] = 0\n",
    "        for n in range(len(x_data)):\n",
    "             Z[i][j] = Z[i][j] + (y_data[n] - b - w*x_data[n])**2\n",
    "        Z[i][j] = Z[i][j]/len(x_data)"
   ]
  },
  {
   "cell_type": "markdown",
   "metadata": {},
   "source": [
    "### gradient descent\n",
    "the loss function for the linear regression model $f_j$ is:\n",
    "$$ L(f) = \\sum\\limits_i {{{\\left({{y_i} - f({x_i})} \\right)}^2}}$$\n",
    "the gradient descent for parameter w and b respectively is :\n",
    "$$ w_{i+1} = w_i - \\eta {\\left.{\\frac{{\\partial L}}{{\\partial w}}} \\right|_{w = {w_i}}} $$\n",
    "\n",
    "where $\\eta$ is learning rate"
   ]
  },
  {
   "cell_type": "code",
   "execution_count": 46,
   "metadata": {},
   "outputs": [
    {
     "data": {
      "text/plain": [
       "<function matplotlib.pyplot.show(*args, **kw)>"
      ]
     },
     "execution_count": 46,
     "metadata": {},
     "output_type": "execute_result"
    },
    {
     "data": {
      "image/png": "[encoded data removed]",
      "text/plain": [
       "<Figure size 432x288 with 1 Axes>"
      ]
     },
     "metadata": {
      "needs_background": "light"
     },
     "output_type": "display_data"
    }
   ],
   "source": [
    "# gradient descent for linear regression\n",
    "import matplotlib.pyplot as plt\n",
    "\n",
    "w = -4 # initial weight\n",
    "b = -120 # initial bias\n",
    "iteration = 100000\n",
    "#lr = 0.000001 # learning rate\n",
    "lr = 1 \n",
    "\n",
    "# customilized learning rate-> adagrad\n",
    "lr_b = 0\n",
    "lr_w = 0\n",
    "\n",
    "# store initial values for plotting\n",
    "b_history = [b]\n",
    "w_history = [w]\n",
    "\n",
    "for i in range(iteration):\n",
    "    # initial gradient \n",
    "    b_grad = 0.0\n",
    "    w_grad = 0.0\n",
    "    \n",
    "    # 计算当前迭代下的梯度，\n",
    "    for n in range(len(x_data)):\n",
    "        # wrong! 仅与最后一组数据有关; 2*你写个锤子\n",
    "        #b_grad = -2(y_data[n] - b - w*x_data[n])\n",
    "        #w_grad = -2(w*x_data[n] + b - y_data[n])*x_data[n]\n",
    "        b_grad = b_grad - 2.0*(y_data[n] - b - w*x_data[n])*1.0\n",
    "        w_grad = w_grad - 2.0*(y_data[n] - b - w*x_data[n])*x_data[n]\n",
    "        lr_b = lr_b + b_grad ** 2\n",
    "        lr_w = lr_w + w_grad ** 2\n",
    "        \n",
    "    # adagrad; updating the parameters\n",
    "    w = w - lr/np.sqrt(lr_w) * w_grad\n",
    "    b = b - lr/np.sqrt(lr_b) * b_grad\n",
    "    \n",
    "        \n",
    "    # store the parameters for plotting\n",
    "    b_history.append(b)\n",
    "    w_history.append(w)\n",
    "    \n",
    "# plot the figure\n",
    "plt.contourf(x,y,Z, 50, alpha=0.5, cmap=plt.get_cmap('jet'))\n",
    "plt.plot([-188.4],[2.67],'x',ms=12,markeredgewidth=3,color='red')\n",
    "plt.plot(b_history, w_history, 'o-',ms=3,lw=1.5,color = 'black')\n",
    "plt.xlim(-200,-100)\n",
    "plt.ylim(-5,5)\n",
    "plt.xlabel(r'$b$', fontsize=16)\n",
    "plt.ylabel(r'$w$', fontsize=16)\n",
    "plt.show\n",
    "\n",
    "        "
   ]
  },
  {
   "cell_type": "markdown",
   "metadata": {},
   "source": [
    "### 对gradient descent 的改进 adagrad\n",
    "主要思想为将learning rate 改为定制（适应各个参数的变化）\n",
    "每次更新w/b时采用： $lr/{\\sqrt {lr_b}}$， $lr_b$为b的梯度累加和"
   ]
  }
 ],
 "metadata": {
  "kernelspec": {
   "display_name": "Python 3",
   "language": "python",
   "name": "python3"
  },
  "language_info": {
   "codemirror_mode": {
    "name": "ipython",
    "version": 3
   },
   "file_extension": ".py",
   "mimetype": "text/x-python",
   "name": "python",
   "nbconvert_exporter": "python",
   "pygments_lexer": "ipython3",
   "version": "3.6.9"
  }
 },
 "nbformat": 4,
 "nbformat_minor": 2
}
