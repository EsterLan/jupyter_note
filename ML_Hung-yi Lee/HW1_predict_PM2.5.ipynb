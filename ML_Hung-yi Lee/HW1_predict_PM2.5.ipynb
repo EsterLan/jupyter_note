{
 "cells": [
  {
   "cell_type": "markdown",
   "metadata": {},
   "source": [
    "### Task description\n",
    "\n",
    "balblabla about background\n",
    "\n",
    "- Step 1: Model\n",
    "    y: N时PM2.5\n",
    "    $x_{K,M}$: N-K时的M观测值，M = PM2.5, NO, ...(18种)\n",
    " \n",
    "- Step 2: Loss function(MSE)\n",
    "    mean square error\n",
    "    $$\n",
    "- Step 3: Gradient Descent\n"
   ]
  },
  {
   "cell_type": "code",
   "execution_count": 1,
   "metadata": {},
   "outputs": [
    {
     "ename": "IndentationError",
     "evalue": "expected an indented block (<ipython-input-1-bda0cb13d0ef>, line 8)",
     "output_type": "error",
     "traceback": [
      "\u001b[0;36m  File \u001b[0;32m\"<ipython-input-1-bda0cb13d0ef>\"\u001b[0;36m, line \u001b[0;32m8\u001b[0m\n\u001b[0;31m    for i in range(iteration):\u001b[0m\n\u001b[0m      ^\u001b[0m\n\u001b[0;31mIndentationError\u001b[0m\u001b[0;31m:\u001b[0m expected an indented block\n"
     ]
    }
   ],
   "source": [
    "import pandas as pd\n",
    "import numpy as np\n",
    "import matplotlib.pyplot as plt\n",
    "\n",
    "# gradient decsent for each day\n",
    "def gd(x_data, y_data,iteration,lr,W ,b):\n",
    "    for n in range(len(x_data)):\n",
    "    for i in range(iteration):\n",
    "        # initial gradient\n",
    "        b_grad = 0.0\n",
    "        W_grad = np.zeros([18,9])# x_data.shape???\n",
    "         \n",
    "        b_grad = 1/81 *(y_data[n]- np.sum(W*x_data[n])-b)*1.0\n",
    "        # W_grad = W_grad - 2.0*(y_data[n]- np.sum(W*x_data[n])-b)*x_data[n] \n",
    "        W_grad = 1/81 * x_data[n].dot(x_data[n].T.dot(W)-y_data[n])\n",
    "        # update\n",
    "        W = W - lr*W_grad\n",
    "        b = b - lr*b_grad\n",
    "    return [W,b] \n",
    "\n",
    "# parse RAINFALL feature\n",
    "# 对dataFrame中每一行的RainFall进行处理:将NR变为0\n",
    "def parseRain(data):\n",
    "    data[data=='NR'] ='0'\n",
    "    return data\n",
    "    \n",
    "\n"
   ]
  },
  {
   "cell_type": "code",
   "execution_count": 5,
   "metadata": {},
   "outputs": [
    {
     "name": "stderr",
     "output_type": "stream",
     "text": [
      "/home/esterl/anaconda3/lib/python3.6/site-packages/ipykernel_launcher.py:23: SettingWithCopyWarning: \n",
      "A value is trying to be set on a copy of a slice from a DataFrame.\n",
      "Try using .loc[row_indexer,col_indexer] = value instead\n",
      "\n",
      "See the caveats in the documentation: http://pandas.pydata.org/pandas-docs/stable/user_guide/indexing.html#returning-a-view-versus-a-copy\n"
     ]
    }
   ],
   "source": [
    "# 数据预处理\n",
    "\n",
    "# 将trainning data读入为df\n",
    "df_train = pd.read_csv('data_HW1/train.csv', encoding = 'gb18030')\n",
    "# dataFrame 先对RainFall进行处理，再将其转换为 matrix\n",
    "#day1 = df_train.iloc[:,:].iloc[:,2:]\n",
    "# RainFall NR->0\n",
    "train_df = df_train.iloc[:,3:].copy()\n",
    "for i in np.arange(10, (train_df.shape[0]-7), 18):\n",
    "    s = train_df[i:i+1]\n",
    "    train_df[i:i+1] = parseRain(s)\n",
    "# dataFrame转换为array\n",
    "train_data = train_df.apply(pd.to_numeric).values\n",
    "\n",
    "# 输入定义为空列表\n",
    "# train数据240天\n",
    "x_data = [] #存储输入\n",
    "y_data = [] #存储输出\n",
    "#每天15笔\n",
    "# training data: \n",
    "# input: 前9个小时的M值，M（eg:0-8） \n",
    "# output： 第10小时的PM2.5值（eg：9）\n",
    "for j in np.arange(int(train_data.shape[0]/18)):\n",
    "    x_data_day = []\n",
    "    y_data_day = []\n",
    "    for i in np.arange(15):       \n",
    "        x_data_day.append(train_data[j:j+18, i:i+9])\n",
    "        y_data_day.append(train_data[9+j,9+i])\n",
    "    x_data.append(x_data_day)\n",
    "    y_data.append(y_data_day)\n",
    "    \n",
    "#print(len(x_data)==len(y_data))\n",
    "#x_data_day = x_data[0]\n",
    "#y_data_day = y_data[0]\n",
    "#x_data_day[1].shape\n",
    "#y_data_day[1]\n",
    "#len(x_data)\n",
    "\n",
    "\n",
    "\n",
    "# 切分training data为前15天为training set， 后5天为validation set\n",
    "\n",
    "# Model采用linear regression"
   ]
  },
  {
   "cell_type": "code",
   "execution_count": 18,
   "metadata": {
    "scrolled": true
   },
   "outputs": [
    {
     "name": "stdout",
     "output_type": "stream",
     "text": [
      "[[ 1.53354641e+137  3.37866662e+136 -6.09023681e+136  1.31214903e+137\n",
      "  -3.09968570e+136  4.48951267e+136  1.48536378e+137  1.93641737e+137\n",
      "   4.20800529e+135]\n",
      " [ 1.43954023e+136  3.17155483e+135 -5.71690616e+135  1.23171448e+136\n",
      "  -2.90967541e+135  4.21430618e+135  1.39431119e+136  1.81771527e+136\n",
      "   3.95005516e+134]\n",
      " [ 3.48051564e+135  7.66817485e+134 -1.38223169e+135  2.97803521e+135\n",
      "  -7.03500363e+134  1.01893356e+135  3.37116101e+135  4.39486599e+135\n",
      "   9.55043039e+133]\n",
      " [ 1.04634187e+135  2.30527119e+134 -4.15538111e+134  8.95281981e+134\n",
      "  -2.11492193e+134  3.06320373e+134  1.01346676e+135  1.32122156e+135\n",
      "   2.87113067e+133]\n",
      " [ 1.72836087e+136  3.80787641e+135 -6.86391163e+135  1.47883822e+136\n",
      "  -3.49345508e+135  5.05983908e+135  1.67405735e+136  2.18241066e+136\n",
      "   4.74257033e+134]\n",
      " [ 1.14613587e+137  2.52513455e+136 -4.55169720e+136  9.80668771e+136\n",
      "  -2.31663089e+136  3.35535430e+136  1.11012533e+137  1.44723199e+137\n",
      "   3.14496242e+135]\n",
      " [ 1.32267618e+137  2.91408323e+136 -5.25279911e+136  1.13172204e+137\n",
      "  -2.67346357e+136  3.87218245e+136  1.28111891e+137  1.67015040e+137\n",
      "   3.62938373e+135]\n",
      " [ 3.89882895e+137  8.58979107e+136 -1.54835821e+137  3.33595683e+137\n",
      "  -7.88052080e+136  1.14139630e+137  3.77633131e+137  4.92307249e+137\n",
      "   1.06982696e+136]\n",
      " [ 4.66732694e+137  1.02829244e+137 -1.85355502e+137  3.99350712e+137\n",
      "  -9.43384986e+136  1.36637687e+137  4.52068379e+137  5.89345907e+137\n",
      "   1.28070050e+136]\n",
      " [ 3.22013409e+137  7.09450950e+136 -1.27882528e+137  2.75524483e+137\n",
      "  -6.50870658e+136  9.42705922e+136  3.11896042e+137  4.06608080e+137\n",
      "   8.83595125e+135]\n",
      " [ 3.27754768e-001 -9.56049173e-001 -1.10361223e+000  1.72021170e+000\n",
      "  -1.05489832e+000 -8.96067802e-001 -6.41940651e-001  4.87629224e-001\n",
      "   5.45047281e-001]\n",
      " [ 4.74959274e+137  1.04641701e+137 -1.88622558e+137  4.06389625e+137\n",
      "  -9.60012988e+136  1.39046048e+137  4.60036487e+137  5.99733654e+137\n",
      "   1.30327398e+136]\n",
      " [ 3.65071942e+136  8.04316308e+135 -1.44982543e+136  3.12366676e+136\n",
      "  -7.37902859e+135  1.06876134e+136  3.53601715e+136  4.60978324e+136\n",
      "   1.00174645e+135]\n",
      " [ 1.53951532e+136  3.39181717e+135 -6.11394142e+135  1.31725621e+136\n",
      "  -3.11175039e+135  4.50698688e+135  1.49114516e+136  1.94395436e+136\n",
      "   4.22438381e+134]\n",
      " [ 1.74707454e+138  3.84910585e+137 -6.93823002e+137  1.49485021e+138\n",
      "  -3.53128015e+137  5.11462403e+137  1.69218306e+138  2.20604051e+138\n",
      "   4.79392009e+136]\n",
      " [ 1.72935395e+138  3.81006434e+137 -6.86785550e+137  1.47968793e+138\n",
      "  -3.49546234e+137  5.06274636e+137  1.67501923e+138  2.18366463e+138\n",
      "   4.74529532e+136]\n",
      " [ 1.82659986e+136  4.02431381e+135 -7.25405222e+135  1.56289449e+136\n",
      "  -3.69202095e+135  5.34743727e+135  1.76920976e+136  2.30645756e+136\n",
      "   5.01213517e+134]\n",
      " [ 1.71545779e+136  3.77944870e+135 -6.81266908e+135  1.46779795e+136\n",
      "  -3.46737468e+135  5.02206483e+135  1.66155967e+136  2.16611787e+136\n",
      "   4.70716466e+134]]\n"
     ]
    },
    {
     "data": {
      "text/plain": [
       "array([[-2.08888790e+140, -4.60193287e+139,  8.29612954e+139,\n",
       "        -1.78731156e+140,  4.22255173e+139, -6.11507130e+139,\n",
       "        -2.02325595e+140, -2.63765840e+140, -5.72876953e+138],\n",
       "       [-3.60958259e+140, -7.95228496e+139,  1.43353278e+140,\n",
       "        -3.08846427e+140,  7.29626086e+139, -1.05669601e+140,\n",
       "        -3.49617181e+140, -4.55784785e+140, -9.90151011e+138],\n",
       "       [-1.84470280e+140, -4.06395109e+139,  7.32638709e+139,\n",
       "        -1.57837935e+140,  3.72899180e+139, -5.40021059e+139,\n",
       "        -1.78674293e+140, -2.32932455e+140, -5.05873296e+138],\n",
       "       [-3.03691797e+140, -6.69060627e+139,  1.20610809e+140,\n",
       "        -2.59847497e+140,  6.13876063e+139, -8.89046371e+139,\n",
       "        -2.94149979e+140, -3.83474113e+140, -8.33013559e+138],\n",
       "       [-4.23881517e+140, -9.33859259e+139,  1.68342254e+140,\n",
       "        -3.62685483e+140,  8.56809926e+139, -1.24090613e+140,\n",
       "        -4.10563447e+140, -5.35238324e+140, -1.16281054e+139],\n",
       "       [-4.49184543e+140, -9.89606181e+139,  1.78390950e+140,\n",
       "        -3.84335523e+140,  9.07953752e+139, -1.31498166e+140,\n",
       "        -4.35071476e+140, -5.67188593e+140, -1.23224128e+139],\n",
       "       [-4.18203500e+140, -9.21349612e+139,  1.66087320e+140,\n",
       "        -3.57827199e+140,  8.45333217e+139, -1.22428353e+140,\n",
       "        -4.05063829e+140, -5.28068662e+140, -1.14723023e+139],\n",
       "       [-3.99142948e+140, -8.79355935e+139,  1.58517723e+140,\n",
       "        -3.41518410e+140,  8.06807013e+139, -1.16848307e+140,\n",
       "        -3.86602142e+140, -5.04000799e+140, -1.09492865e+139],\n",
       "       [-6.75941800e+140, -1.48919144e+140,  2.68444006e+140,\n",
       "        -5.78355940e+140,  1.36628760e+140, -1.97882174e+140,\n",
       "        -6.54704227e+140, -8.53516212e+140, -1.85445639e+139]])"
      ]
     },
     "execution_count": 18,
     "metadata": {},
     "output_type": "execute_result"
    }
   ],
   "source": [
    "# loss func 为MSE\n",
    "# gradient descent训练\n",
    "iteration = 10\n",
    "lr = 0.001\n",
    "W = np.random.randn(18,9)\n",
    "W_init = W\n",
    "b =np.random.randn(1,1)\n",
    "for i in np.arange(1):\n",
    "    [W,b] = gd(x_data[i], y_data[i],iteration, lr, W, b)\n",
    "    \n",
    "#print(W_init)\n",
    "W>0\n",
    "print(W)\n",
    "x_data_day0 = x_data[0]\n",
    "y_data_day0 = y_data[0]\n",
    "y_data_day0[0]-x_data_day0[0].T.dot(W)-b"
   ]
  },
  {
   "cell_type": "code",
   "execution_count": 15,
   "metadata": {},
   "outputs": [
    {
     "name": "stdout",
     "output_type": "stream",
     "text": [
      "    0  1  2  3  4  5  6  7  8\n",
      "10  0  0  0  0  0  0  0  0  0\n",
      "207.926904268648\n"
     ]
    },
    {
     "name": "stderr",
     "output_type": "stream",
     "text": [
      "/home/esterl/anaconda3/lib/python3.6/site-packages/ipykernel_launcher.py:22: SettingWithCopyWarning: \n",
      "A value is trying to be set on a copy of a slice from a DataFrame.\n",
      "Try using .loc[row_indexer,col_indexer] = value instead\n",
      "\n",
      "See the caveats in the documentation: http://pandas.pydata.org/pandas-docs/stable/user_guide/indexing.html#returning-a-view-versus-a-copy\n"
     ]
    },
    {
     "data": {
      "text/plain": [
       "array([161.71985065, 172.74831702, 177.4962053 , 186.20001731,\n",
       "       190.26325341, 187.9727582 , 179.68608672, 171.05425642,\n",
       "       165.75759058])"
      ]
     },
     "execution_count": 15,
     "metadata": {},
     "output_type": "execute_result"
    }
   ],
   "source": [
    "# test for dataframe\n",
    "data1 = df_train.iloc[0:18, 3:12].copy()\n",
    "data2 = np.random.randn(18,9)\n",
    "data1.iloc[[10],:] = parseRain(data1.iloc[[10],:])\n",
    "data1.apply(pd.to_numeric)\n",
    "data1_p = data1.apply(pd.to_numeric).values\n",
    "print(data1[10:11])\n",
    "result = data1_p*data2\n",
    "print(sum(sum(result)))\n",
    "np.sum(result)\n",
    "np.arange(15)\n",
    "int(train_data.shape[0]/18)\n",
    "W[0]-2"
   ]
  }
 ],
 "metadata": {
  "kernelspec": {
   "display_name": "Python 3",
   "language": "python",
   "name": "python3"
  },
  "language_info": {
   "codemirror_mode": {
    "name": "ipython",
    "version": 3
   },
   "file_extension": ".py",
   "mimetype": "text/x-python",
   "name": "python",
   "nbconvert_exporter": "python",
   "pygments_lexer": "ipython3",
   "version": "3.6.9"
  }
 },
 "nbformat": 4,
 "nbformat_minor": 2
}
