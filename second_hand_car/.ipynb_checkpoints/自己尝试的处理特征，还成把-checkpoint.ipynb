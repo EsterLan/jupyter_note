{
 "cells": [
  {
   "cell_type": "code",
   "execution_count": null,
   "metadata": {},
   "outputs": [],
   "source": [
    "import pandas as pd\n",
    "import numpy as np\n",
    "import matplotlib.pyplot as plt\n",
    "from sklearn.preprocessing import OneHotEncoder\n",
    "from sklearn.impute import SimpleImputer"
   ]
  },
  {
   "cell_type": "code",
   "execution_count": null,
   "metadata": {
    "scrolled": true
   },
   "outputs": [],
   "source": [
    "# 注意读取csv文件的不同格式\n",
    "data = pd.read_table('./used_car_train_20200313.csv', sep = ' ',index_col=0)  # index_col将SalesID转换为行索引\n",
    "data.iloc[:,range(0,17)].head()\n",
    "data.head()"
   ]
  },
  {
   "cell_type": "code",
   "execution_count": 3,
   "metadata": {
    "scrolled": true
   },
   "outputs": [
    {
     "name": "stdout",
     "output_type": "stream",
     "text": [
      "<class 'pandas.core.frame.DataFrame'>\n",
      "Int64Index: 150000 entries, 0 to 149999\n",
      "Data columns (total 30 columns):\n",
      "name                 150000 non-null int64\n",
      "regDate              150000 non-null int64\n",
      "model                149999 non-null float64\n",
      "brand                150000 non-null int64\n",
      "bodyType             145494 non-null float64\n",
      "fuelType             141320 non-null float64\n",
      "gearbox              144019 non-null float64\n",
      "power                150000 non-null int64\n",
      "kilometer            150000 non-null float64\n",
      "notRepairedDamage    150000 non-null object\n",
      "regionCode           150000 non-null int64\n",
      "seller               150000 non-null int64\n",
      "offerType            150000 non-null int64\n",
      "creatDate            150000 non-null int64\n",
      "price                150000 non-null int64\n",
      "v_0                  150000 non-null float64\n",
      "v_1                  150000 non-null float64\n",
      "v_2                  150000 non-null float64\n",
      "v_3                  150000 non-null float64\n",
      "v_4                  150000 non-null float64\n",
      "v_5                  150000 non-null float64\n",
      "v_6                  150000 non-null float64\n",
      "v_7                  150000 non-null float64\n",
      "v_8                  150000 non-null float64\n",
      "v_9                  150000 non-null float64\n",
      "v_10                 150000 non-null float64\n",
      "v_11                 150000 non-null float64\n",
      "v_12                 150000 non-null float64\n",
      "v_13                 150000 non-null float64\n",
      "v_14                 150000 non-null float64\n",
      "dtypes: float64(20), int64(9), object(1)\n",
      "memory usage: 35.5+ MB\n"
     ]
    }
   ],
   "source": [
    "data.info()"
   ]
  },
  {
   "cell_type": "markdown",
   "metadata": {},
   "source": [
    "### 需要处理的特征数据：\n",
    "（1）与结果无关：name\n",
    "（2）算法难以理解：regDate,createDate\n",
    " (3) 缺失： model(1),bodyType,fuelType,gearbox\n",
    " \n",
    " 特征类型:\n",
    " - 分类型变量：常为object，若碰到用数字int等类型表示的特征"
   ]
  },
  {
   "cell_type": "markdown",
   "metadata": {},
   "source": [
    "- Field\tDescription\n",
    "- SaleID\t交易ID，唯一编码\n",
    "- name\t汽车交易名称，已脱敏\n",
    "- regDate\t汽车注册日期，例如20160101，2016年01月01日\n",
    "- model\t车型编码，已脱敏\n",
    "- brand\t汽车品牌，已脱敏\n",
    "- bodyType\t车身类型：豪华轿车：0，微型车：1，厢型车：2，大巴车：3，敞篷车：4，双门汽车：5，商务车：6，搅拌车：7- \n",
    "- fuelType\t燃油类型：汽油：0，柴油：1，液化石油气：2，天然气：3，混合动力：4，其他：5，电动：6\n",
    "- gearbox\t变速箱：手动：0，自动：1\n",
    "- power\t发动机功率：范围 [ 0, 600 ]\n",
    "- kilometer\t汽车已行驶公里，单位万km\n",
    "- notRepairedDamage\t汽车有尚未修复的损坏：是：0，否：1\n",
    "- regionCode\t地区编码，已脱敏\n",
    "- seller\t销售方：个体：0，非个体：1\n",
    "- offerType\t报价类型：提供：0，请求：1\n",
    "- creatDate\t汽车上线时间，即开始售卖时间\n",
    "- price\t二手车交易价格（预测目标）\n",
    "- v系列特征\t匿名特征，包含v0-14在内15个匿名特征"
   ]
  },
  {
   "cell_type": "code",
   "execution_count": 5,
   "metadata": {},
   "outputs": [],
   "source": [
    "# 人为筛选无用特征，交易名称,axis=1对列进行操作\n",
    "data.drop(['name'], axis=1, inplace=True)"
   ]
  },
  {
   "cell_type": "code",
   "execution_count": 8,
   "metadata": {},
   "outputs": [
    {
     "data": {
      "text/plain": [
       "(96,)"
      ]
     },
     "execution_count": 8,
     "metadata": {},
     "output_type": "execute_result"
    }
   ],
   "source": [
    "np.unique(data.creatDate).shape"
   ]
  },
  {
   "cell_type": "code",
   "execution_count": 53,
   "metadata": {},
   "outputs": [
    {
     "data": {
      "text/plain": [
       "SaleID\n",
       "0         1046\n",
       "1         4366\n",
       "2         2806\n",
       "3          434\n",
       "4         6977\n",
       "          ... \n",
       "149995    4576\n",
       "149996    2826\n",
       "149997    3302\n",
       "149998    1877\n",
       "149999     235\n",
       "Name: regionCode, Length: 150000, dtype: int64"
      ]
     },
     "execution_count": 53,
     "metadata": {},
     "output_type": "execute_result"
    }
   ],
   "source": [
    "data.regionCode"
   ]
  },
  {
   "cell_type": "markdown",
   "metadata": {},
   "source": [
    "## 数据预处理-- 处理日期\n",
    "（1）算法无法理解的特征数据：日期/时间->带有有效信息的值\n",
    " (2) 文字型转换为数字形：填补缺失值（连续型/分类型）\n",
    " (3）数据编码：OneHot\n",
    " \n",
    " 显然int型的日期特征对价格有影响，但是上线日期和开始售卖的日期中，开始售卖的年份(也许还有月份)和上线的时长(即使用的时长)是比较值得关注的特征量\n",
    " "
   ]
  },
  {
   "cell_type": "code",
   "execution_count": 41,
   "metadata": {},
   "outputs": [],
   "source": [
    "# data_time = data.loc[:,['regDate','creatDate']].copy()\n",
    "# data_time['reg_year'] = data_time['regDate']//10000\n",
    "# data_time['create_year'] = data_time['creatDate']//10000\n",
    "# data_time['create_day'] = data_time['creatDate']%100\n",
    "# data_time['create_mounth'] = ((data_time['creatDate']%10000 - data_time['create_day'])/100).astype(int)"
   ]
  },
  {
   "cell_type": "code",
   "execution_count": 48,
   "metadata": {},
   "outputs": [
    {
     "data": {
      "text/plain": [
       "count    150000.000000\n",
       "mean          3.161580\n",
       "std           0.380709\n",
       "min           1.000000\n",
       "25%           3.000000\n",
       "50%           3.000000\n",
       "75%           3.000000\n",
       "max          12.000000\n",
       "Name: create_mounth, dtype: float64"
      ]
     },
     "execution_count": 48,
     "metadata": {},
     "output_type": "execute_result"
    }
   ],
   "source": [
    "# data_time['use_time'] = data_time['create_year'] - data_time['reg_year']\n",
    "# np.unique(data_time['create_day'])\n",
    "# data_time['create_mounth'].describe()"
   ]
  },
  {
   "cell_type": "code",
   "execution_count": 37,
   "metadata": {
    "collapsed": true
   },
   "outputs": [
    {
     "data": {
      "text/plain": [
       "SaleID\n",
       "0         400\n",
       "1         300\n",
       "2         400\n",
       "3         300\n",
       "4         300\n",
       "         ... \n",
       "149995    300\n",
       "149996    300\n",
       "149997    300\n",
       "149998    400\n",
       "149999    300\n",
       "Name: creatDate, Length: 150000, dtype: int64"
      ]
     },
     "execution_count": 37,
     "metadata": {},
     "output_type": "execute_result"
    }
   ],
   "source": [
    "# mounth = (data_time['creatDate']%10000 - data_time['creatDate']%100)/100\n",
    "# # mounth = int(mounth)\n",
    "# data_time['creatDate']%100\n",
    "# (data_time['creatDate']%10000 - data_time['creatDate']%100)"
   ]
  },
  {
   "cell_type": "markdown",
   "metadata": {},
   "source": [
    "### 数据预处理--处理地点\n",
    "对于超过25个类别的分类型变量，会被算法认为是连续型变量，而不是25个类"
   ]
  },
  {
   "cell_type": "code",
   "execution_count": 49,
   "metadata": {},
   "outputs": [
    {
     "data": {
      "text/plain": [
       "7905"
      ]
     },
     "execution_count": 49,
     "metadata": {},
     "output_type": "execute_result"
    }
   ],
   "source": [
    "# data['regionCode'].value_counts().count()"
   ]
  },
  {
   "cell_type": "markdown",
   "metadata": {},
   "source": [
    "## 数据预处理-对缺失值的处理\n",
    "- 文字型转换成数字型变量->que\n",
    "缺失值->编码和哑变量\n",
    "- 有噪声的特征notRepairedDamage:float '-'\n",
    "\n",
    "存在缺失值的特征：\n",
    "- model(1)，可忽略； df = df.dropna(subset=['model'])删除，且将行索引重排\n",
    "- bodyType:车型(145494); 与brand，power, kilometers\n",
    "- fuelType：燃油类型(141320); 与brand，power,bodyType有关\n",
    "- gearbox：变速箱0/1(144019); 与bodyType，brand有关"
   ]
  },
  {
   "cell_type": "code",
   "execution_count": 197,
   "metadata": {
    "scrolled": true
   },
   "outputs": [
    {
     "data": {
      "text/plain": [
       "array(['-', '0.0', '1.0'], dtype=object)"
      ]
     },
     "execution_count": 197,
     "metadata": {},
     "output_type": "execute_result"
    }
   ],
   "source": [
    "# np.unique(data.notRepairedDamage)"
   ]
  },
  {
   "cell_type": "code",
   "execution_count": 198,
   "metadata": {},
   "outputs": [],
   "source": [
    "# test_d = np.array(data.notRepairedDamage).reshape(-1,1)\n",
    "# tranform_d = SimpleImputer(missing_values='-', strategy='constant',fill_value='1.0').fit_transform(test_d)\n",
    "# data.notRepairedDamage = pd.DataFrame(tranform_d).astype(float)"
   ]
  },
  {
   "cell_type": "code",
   "execution_count": 199,
   "metadata": {
    "scrolled": true
   },
   "outputs": [
    {
     "name": "stdout",
     "output_type": "stream",
     "text": [
      "<class 'pandas.core.frame.DataFrame'>\n",
      "Int64Index: 150000 entries, 0 to 149999\n",
      "Data columns (total 29 columns):\n",
      "regDate              150000 non-null int64\n",
      "model                149999 non-null float64\n",
      "brand                150000 non-null int64\n",
      "bodyType             145494 non-null float64\n",
      "fuelType             141320 non-null float64\n",
      "gearbox              144019 non-null float64\n",
      "power                150000 non-null int64\n",
      "kilometer            150000 non-null float64\n",
      "notRepairedDamage    150000 non-null float64\n",
      "regionCode           150000 non-null int64\n",
      "seller               150000 non-null int64\n",
      "offerType            150000 non-null int64\n",
      "creatDate            150000 non-null int64\n",
      "price                150000 non-null int64\n",
      "v_0                  150000 non-null float64\n",
      "v_1                  150000 non-null float64\n",
      "v_2                  150000 non-null float64\n",
      "v_3                  150000 non-null float64\n",
      "v_4                  150000 non-null float64\n",
      "v_5                  150000 non-null float64\n",
      "v_6                  150000 non-null float64\n",
      "v_7                  150000 non-null float64\n",
      "v_8                  150000 non-null float64\n",
      "v_9                  150000 non-null float64\n",
      "v_10                 150000 non-null float64\n",
      "v_11                 150000 non-null float64\n",
      "v_12                 150000 non-null float64\n",
      "v_13                 150000 non-null float64\n",
      "v_14                 150000 non-null float64\n",
      "dtypes: float64(21), int64(8)\n",
      "memory usage: 34.3 MB\n"
     ]
    }
   ],
   "source": [
    "data.info()"
   ]
  },
  {
   "cell_type": "code",
   "execution_count": 200,
   "metadata": {
    "collapsed": true
   },
   "outputs": [
    {
     "data": {
      "text/plain": [
       "SaleID\n",
       "0         0.0\n",
       "1         0.0\n",
       "2         0.0\n",
       "3         0.0\n",
       "4         0.0\n",
       "         ... \n",
       "149995    0.0\n",
       "149996    0.0\n",
       "149997    1.0\n",
       "149998    1.0\n",
       "149999    0.0\n",
       "Name: fuelType, Length: 141320, dtype: float64"
      ]
     },
     "execution_count": 200,
     "metadata": {},
     "output_type": "execute_result"
    }
   ],
   "source": [
    "## for test\n",
    "np.unique(data['fuelType'][data.fuelType.isnull().values == False])\n",
    "data['fuelType'][data.fuelType.isnull().values == False]"
   ]
  },
  {
   "cell_type": "code",
   "execution_count": 204,
   "metadata": {},
   "outputs": [
    {
     "name": "stdout",
     "output_type": "stream",
     "text": [
      "<class 'pandas.core.frame.DataFrame'>\n",
      "Int64Index: 149999 entries, 0 to 149999\n",
      "Data columns (total 29 columns):\n",
      "regDate              149999 non-null int64\n",
      "model                149999 non-null float64\n",
      "brand                149999 non-null int64\n",
      "bodyType             145493 non-null float64\n",
      "fuelType             141319 non-null float64\n",
      "gearbox              144018 non-null float64\n",
      "power                149999 non-null int64\n",
      "kilometer            149999 non-null float64\n",
      "notRepairedDamage    149999 non-null float64\n",
      "regionCode           149999 non-null int64\n",
      "seller               149999 non-null int64\n",
      "offerType            149999 non-null int64\n",
      "creatDate            149999 non-null int64\n",
      "price                149999 non-null int64\n",
      "v_0                  149999 non-null float64\n",
      "v_1                  149999 non-null float64\n",
      "v_2                  149999 non-null float64\n",
      "v_3                  149999 non-null float64\n",
      "v_4                  149999 non-null float64\n",
      "v_5                  149999 non-null float64\n",
      "v_6                  149999 non-null float64\n",
      "v_7                  149999 non-null float64\n",
      "v_8                  149999 non-null float64\n",
      "v_9                  149999 non-null float64\n",
      "v_10                 149999 non-null float64\n",
      "v_11                 149999 non-null float64\n",
      "v_12                 149999 non-null float64\n",
      "v_13                 149999 non-null float64\n",
      "v_14                 149999 non-null float64\n",
      "dtypes: float64(21), int64(8)\n",
      "memory usage: 34.3 MB\n"
     ]
    }
   ],
   "source": [
    "data = data.dropna(subset=['model'])\n",
    "data.info()"
   ]
  },
  {
   "cell_type": "code",
   "execution_count": 143,
   "metadata": {
    "scrolled": true
   },
   "outputs": [],
   "source": [
    "## for test 用变量接受dropna后的值，否则会只删除那一列的值\n",
    "l = np.zeros((4,4))\n",
    "l[2][1]=np.nan\n",
    "df = pd.DataFrame(l)\n",
    "df1 = df.dropna(subset=[1])"
   ]
  },
  {
   "cell_type": "code",
   "execution_count": 205,
   "metadata": {},
   "outputs": [
    {
     "data": {
      "text/plain": [
       "(149999, 28)"
      ]
     },
     "execution_count": 205,
     "metadata": {},
     "output_type": "execute_result"
    }
   ],
   "source": [
    "# 划分特征和标签\n",
    "X = data.iloc[:, data.columns != 'price']\n",
    "y = data.iloc[:, data.columns == 'price']\n",
    "X.shape"
   ]
  },
  {
   "cell_type": "code",
   "execution_count": 206,
   "metadata": {},
   "outputs": [],
   "source": [
    "# 对行索引进行整理\n",
    "for x in [X,y]:\n",
    "    x.index = range(x.shape[0])"
   ]
  },
  {
   "cell_type": "code",
   "execution_count": 208,
   "metadata": {},
   "outputs": [
    {
     "data": {
      "text/plain": [
       "(149999, 28)"
      ]
     },
     "execution_count": 208,
     "metadata": {},
     "output_type": "execute_result"
    }
   ],
   "source": [
    "X.shape"
   ]
  },
  {
   "cell_type": "markdown",
   "metadata": {},
   "source": [
    "### 对bodyType、fuelType和gearbox进行填充，采用LR/RFC\n",
    "- 首先查看是否有需要进行特征的编码或者无量纲化：\n",
    "\n",
    "非匿名特征除了power和kilometer外均为数值型分类型变量，无需处理；\n",
    "\n",
    "是否对power和kilometers进行无量纲化？\n",
    "\n",
    "- 使用RF对上述进行填充，树模型算法，不需要无量纲化"
   ]
  },
  {
   "cell_type": "markdown",
   "metadata": {},
   "source": [
    "### little tip：机器学习特征工程--标准化和归一化\n",
    "- 标准化适用条件：\n",
    "\n",
    "（1）不需要对特征进行归一化：基于数模型的方法，如RF/bagging/boosting/xgboosting\n",
    "\n",
    "（2）需要标准化（基于距离的模型）：回归分析/LR/NN/SVM\n",
    "- 相关定义及sklearn中的使用"
   ]
  },
  {
   "cell_type": "code",
   "execution_count": 56,
   "metadata": {
    "collapsed": true
   },
   "outputs": [
    {
     "data": {
      "text/plain": [
       "regDate                 0\n",
       "model                   0\n",
       "brand                   0\n",
       "bodyType             4506\n",
       "fuelType             8680\n",
       "gearbox              5981\n",
       "power                   0\n",
       "kilometer               0\n",
       "notRepairedDamage       0\n",
       "regionCode              0\n",
       "seller                  0\n",
       "offerType               0\n",
       "creatDate               0\n",
       "v_0                     0\n",
       "v_1                     0\n",
       "v_2                     0\n",
       "v_3                     0\n",
       "v_4                     0\n",
       "v_5                     0\n",
       "v_6                     0\n",
       "v_7                     0\n",
       "v_8                     0\n",
       "v_9                     0\n",
       "v_10                    0\n",
       "v_11                    0\n",
       "v_12                    0\n",
       "v_13                    0\n",
       "v_14                    0\n",
       "dtype: int64"
      ]
     },
     "execution_count": 56,
     "metadata": {},
     "output_type": "execute_result"
    }
   ],
   "source": [
    "# FOR test: 每一列的缺失值\n",
    "X.isnull().sum(axis=0)"
   ]
  },
  {
   "cell_type": "code",
   "execution_count": 209,
   "metadata": {},
   "outputs": [],
   "source": [
    "# 使用随机森林填补缺失值\n",
    "# 找出缺失向量数从小到大的的索引序列\n",
    "from sklearn.impute import SimpleImputer\n",
    "from sklearn.ensemble import RandomForestClassifier as RFC\n",
    "sortindex = np.argsort(X.isnull().sum(axis=0)).values\n",
    "sortindex\n",
    "ind = ['bodyType','gearbox','fuelType']"
   ]
  },
  {
   "cell_type": "code",
   "execution_count": 210,
   "metadata": {},
   "outputs": [
    {
     "data": {
      "text/plain": [
       "Index(['regDate', 'model', 'brand', 'bodyType', 'fuelType', 'gearbox', 'power',\n",
       "       'kilometer', 'notRepairedDamage', 'regionCode', 'seller', 'offerType',\n",
       "       'creatDate', 'v_0', 'v_1', 'v_2', 'v_3', 'v_4', 'v_5', 'v_6', 'v_7',\n",
       "       'v_8', 'v_9', 'v_10', 'v_11', 'v_12', 'v_13', 'v_14'],\n",
       "      dtype='object')"
      ]
     },
     "execution_count": 210,
     "metadata": {},
     "output_type": "execute_result"
    }
   ],
   "source": [
    "X.columns"
   ]
  },
  {
   "cell_type": "code",
   "execution_count": 211,
   "metadata": {
    "scrolled": true
   },
   "outputs": [
    {
     "name": "stderr",
     "output_type": "stream",
     "text": [
      "/home/esterl/anaconda3/lib/python3.6/site-packages/pandas/core/indexing.py:494: SettingWithCopyWarning: \n",
      "A value is trying to be set on a copy of a slice from a DataFrame.\n",
      "Try using .loc[row_indexer,col_indexer] = value instead\n",
      "\n",
      "See the caveats in the documentation: http://pandas.pydata.org/pandas-docs/stable/user_guide/indexing.html#returning-a-view-versus-a-copy\n",
      "  self.obj[item] = s\n",
      "/home/esterl/anaconda3/lib/python3.6/site-packages/pandas/core/indexing.py:494: SettingWithCopyWarning: \n",
      "A value is trying to be set on a copy of a slice from a DataFrame.\n",
      "Try using .loc[row_indexer,col_indexer] = value instead\n",
      "\n",
      "See the caveats in the documentation: http://pandas.pydata.org/pandas-docs/stable/user_guide/indexing.html#returning-a-view-versus-a-copy\n",
      "  self.obj[item] = s\n",
      "/home/esterl/anaconda3/lib/python3.6/site-packages/pandas/core/indexing.py:494: SettingWithCopyWarning: \n",
      "A value is trying to be set on a copy of a slice from a DataFrame.\n",
      "Try using .loc[row_indexer,col_indexer] = value instead\n",
      "\n",
      "See the caveats in the documentation: http://pandas.pydata.org/pandas-docs/stable/user_guide/indexing.html#returning-a-view-versus-a-copy\n",
      "  self.obj[item] = s\n"
     ]
    }
   ],
   "source": [
    "for i in ind:\n",
    "    # 构建新的特征矩阵\n",
    "    df = X\n",
    "    fillc = df.loc[:,i]\n",
    "    df = pd.concat((df.loc[:,df.columns!=i], pd.DataFrame(y)),axis=1)\n",
    "    \n",
    "    # 新的特征矩阵中的值进行填补\n",
    "    df_0 = SimpleImputer(missing_values=np.nan, strategy='constant', fill_value=0).fit_transform(df)\n",
    "    \n",
    "    # 训练集和测试集\n",
    "    Ytrain = fillc[fillc.notnull()]\n",
    "    Ytest = fillc[fillc.isnull()] # 需要Ytest的原因，为了ta的索引取出Xtest\n",
    "    Xtrain = df_0[Ytrain.index,:]\n",
    "    Xtest = df_0[Ytest.index,:]\n",
    "    \n",
    "    # RFC填充\n",
    "    rfc = RFC(n_estimators=100).fit(Xtrain,Ytrain)\n",
    "    Y_predict = rfc.predict(Xtest)\n",
    "    \n",
    "    # 将填充值返回到原特征矩阵\n",
    "    X.loc[X.loc[:,i].isnull(), i] = Y_predict\n",
    "    "
   ]
  },
  {
   "cell_type": "code",
   "execution_count": 186,
   "metadata": {},
   "outputs": [],
   "source": [
    "## for test:  loc/iloc的使用\n",
    "# - 在\n",
    "df = X\n",
    "fillc = df.loc[:,'bodyType']\n",
    "df = pd.concat((df.loc[:,df.columns!='bodyType'], pd.DataFrame(y)),axis=1)\n",
    "    \n",
    "    # 新的特征矩阵中的值进行填补\n",
    "df_0 = SimpleImputer(missing_values=np.nan, strategy='constant', fill_value=0).fit_transform(df)\n",
    "    \n",
    "    # 训练集和测试集\n",
    "Ytrain = fillc[fillc.notnull()]\n",
    "Ytest = fillc[fillc.isnull()] # 需要Ytest的原因，为了ta的索引取出Xtest\n",
    "Xtrain = df_0[Ytrain.index,:]\n",
    "Xtest = df_0[Ytest.index,:]\n",
    "    \n",
    "    # RFC填充\n",
    "rfc = RFC(n_estimators=100).fit(Xtrain,Ytrain)\n",
    "Y_predict = rfc.predict(Xtest)\n",
    "    \n",
    "    # 将填充值返回到原特征矩阵\n",
    "X_ = X\n",
    "X_.loc[X_.loc[:,'bodyType'].isnull(), 'bodyType'] = Y_predict"
   ]
  },
  {
   "cell_type": "code",
   "execution_count": 183,
   "metadata": {},
   "outputs": [],
   "source": [
    "# 另一种处理缺失值的方法 \n",
    "# DataFrame的fillna方法\n",
    "# data_ = data.copy()\n",
    "# data_.loc[:,'bodyType'] = data_.loc[:,'bodyType'].fillna(data_.loc[:,'bodyType'].median()) #  中位数\n",
    "# data_.loc[:,'bodyType'] = data_.loc[:,'bodyType'].fillna(data_.loc[:,'bodyType'].mode()[0]) # 众数\n",
    "# data_.info()"
   ]
  },
  {
   "cell_type": "code",
   "execution_count": 4,
   "metadata": {},
   "outputs": [
    {
     "ename": "NameError",
     "evalue": "name 'X' is not defined",
     "output_type": "error",
     "traceback": [
      "\u001b[0;31m---------------------------------------------------------------------------\u001b[0m",
      "\u001b[0;31mNameError\u001b[0m                                 Traceback (most recent call last)",
      "\u001b[0;32m<ipython-input-4-dcbfa1313a8b>\u001b[0m in \u001b[0;36m<module>\u001b[0;34m\u001b[0m\n\u001b[0;32m----> 1\u001b[0;31m \u001b[0mnp\u001b[0m\u001b[0;34m.\u001b[0m\u001b[0munique\u001b[0m\u001b[0;34m(\u001b[0m\u001b[0mX\u001b[0m\u001b[0;34m.\u001b[0m\u001b[0mregDate\u001b[0m\u001b[0;34m)\u001b[0m\u001b[0;34m.\u001b[0m\u001b[0mshape\u001b[0m\u001b[0;34m\u001b[0m\u001b[0;34m\u001b[0m\u001b[0m\n\u001b[0m",
      "\u001b[0;31mNameError\u001b[0m: name 'X' is not defined"
     ]
    }
   ],
   "source": [
    "np.unique(X.regDate).shape"
   ]
  },
  {
   "cell_type": "markdown",
   "metadata": {},
   "source": [
    "## 特征工程--feature selection\n",
    "预计采用xgboost 树模型进行回归预测\n"
   ]
  }
 ],
 "metadata": {
  "kernelspec": {
   "display_name": "Python 3",
   "language": "python",
   "name": "python3"
  },
  "language_info": {
   "codemirror_mode": {
    "name": "ipython",
    "version": 3
   },
   "file_extension": ".py",
   "mimetype": "text/x-python",
   "name": "python",
   "nbconvert_exporter": "python",
   "pygments_lexer": "ipython3",
   "version": "3.6.9"
  }
 },
 "nbformat": 4,
 "nbformat_minor": 2
}
