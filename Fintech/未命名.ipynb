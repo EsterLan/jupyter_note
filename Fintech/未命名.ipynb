{
 "cells": [
  {
   "cell_type": "code",
   "execution_count": 1,
   "metadata": {},
   "outputs": [],
   "source": [
    "import numpy as np\n",
    "import pandas as pd\n",
    "import matplotlib.pyplot as plt\n",
    "from sklearn.model_selection import train_test_split\n",
    "from sklearn.metrics import roc_auc_score as auc"
   ]
  },
  {
   "cell_type": "code",
   "execution_count": 2,
   "metadata": {},
   "outputs": [],
   "source": [
    "data_train_trd = pd.read_csv('./训练数据集1/训练数据集_trd.csv')\n",
    "data_train_beh = pd.read_csv('./训练数据集1/训练数据集_beh.csv')\n",
    "test_trd = pd.read_csv('./b/评分数据集_trd_b.csv')\n",
    "test_beh = pd.read_csv('./b/评分数据集_beh_b.csv')"
   ]
  },
  {
   "cell_type": "markdown",
   "metadata": {},
   "source": [
    "## 对beh表的所有pg_no进行挖掘"
   ]
  },
  {
   "cell_type": "code",
   "execution_count": 3,
   "metadata": {},
   "outputs": [],
   "source": [
    "def beh_pg_train(code):\n",
    "    output_dict = {}\n",
    "    with open('./训练数据集1/训练数据集_beh.csv') as f:\n",
    "        for line_num, line in enumerate(f):\n",
    "            if line_num >0:\n",
    "                user = line.split(',')[0]\n",
    "                pay_way = line.split(',')[2]\n",
    "                Trx1_1 = 0\n",
    "                if user in output_dict:\n",
    "                    Trx1_1 += output_dict[user]\n",
    "                    if pay_way == code:\n",
    "                        Trx1_1 += 1\n",
    "                        output_dict.update({user:Trx1_1}) # update当前指标加上原指标\n",
    "                        continue\n",
    "                else:\n",
    "                    if pay_way == code:\n",
    "                        Trx1_1 = 1\n",
    "                    output_dict.update({user:Trx1_1})\n",
    "    output_list = [{'user':k, code:v} for k, v in output_dict.items()]\n",
    "    Trx1_1_df = pd.DataFrame(output_list)\n",
    "    return Trx1_1_df"
   ]
  },
  {
   "cell_type": "code",
   "execution_count": 7,
   "metadata": {},
   "outputs": [],
   "source": [
    "ind = list(data_train_beh.page_no.value_counts().index)"
   ]
  },
  {
   "cell_type": "code",
   "execution_count": 9,
   "metadata": {
    "collapsed": true
   },
   "outputs": [
    {
     "data": {
      "text/plain": [
       "['CQA',\n",
       " 'CQE',\n",
       " 'AAO',\n",
       " 'TRN',\n",
       " 'XAI',\n",
       " 'MSG',\n",
       " 'FTR',\n",
       " 'SZA',\n",
       " 'BWA',\n",
       " 'CTR',\n",
       " 'XAG',\n",
       " 'CQD',\n",
       " 'SZD',\n",
       " 'CQC',\n",
       " 'EGA',\n",
       " 'GBA',\n",
       " 'CQB',\n",
       " 'LC0',\n",
       " 'BWE',\n",
       " 'JF2',\n",
       " 'JJK',\n",
       " 'EGB',\n",
       " 'MTA',\n",
       " 'FLS',\n",
       " 'LCT',\n",
       " 'FDA',\n",
       " 'SYK',\n",
       " 'JJD',\n",
       " 'ZY1']"
      ]
     },
     "execution_count": 9,
     "metadata": {},
     "output_type": "execute_result"
    }
   ],
   "source": [
    "ind"
   ]
  },
  {
   "cell_type": "code",
   "execution_count": 10,
   "metadata": {},
   "outputs": [],
   "source": [
    "train_pg_no = beh_pg_train('CQA')"
   ]
  },
  {
   "cell_type": "code",
   "execution_count": 12,
   "metadata": {},
   "outputs": [],
   "source": [
    "for code in ind[1:]:\n",
    "    cur = beh_pg_train(code)\n",
    "    train_pg_no = pd.merge(train_pg_no, cur, how='left', left_on='user', right_on='user')"
   ]
  },
  {
   "cell_type": "code",
   "execution_count": 13,
   "metadata": {
    "collapsed": true
   },
   "outputs": [
    {
     "data": {
      "text/html": [
       "<div>\n",
       "<style scoped>\n",
       "    .dataframe tbody tr th:only-of-type {\n",
       "        vertical-align: middle;\n",
       "    }\n",
       "\n",
       "    .dataframe tbody tr th {\n",
       "        vertical-align: top;\n",
       "    }\n",
       "\n",
       "    .dataframe thead th {\n",
       "        text-align: right;\n",
       "    }\n",
       "</style>\n",
       "<table border=\"1\" class=\"dataframe\">\n",
       "  <thead>\n",
       "    <tr style=\"text-align: right;\">\n",
       "      <th></th>\n",
       "      <th>user</th>\n",
       "      <th>CQA</th>\n",
       "      <th>CQE</th>\n",
       "      <th>AAO</th>\n",
       "      <th>TRN</th>\n",
       "      <th>XAI</th>\n",
       "      <th>MSG</th>\n",
       "      <th>FTR</th>\n",
       "      <th>SZA</th>\n",
       "      <th>BWA</th>\n",
       "      <th>...</th>\n",
       "      <th>JF2</th>\n",
       "      <th>JJK</th>\n",
       "      <th>EGB</th>\n",
       "      <th>MTA</th>\n",
       "      <th>FLS</th>\n",
       "      <th>LCT</th>\n",
       "      <th>FDA</th>\n",
       "      <th>SYK</th>\n",
       "      <th>JJD</th>\n",
       "      <th>ZY1</th>\n",
       "    </tr>\n",
       "  </thead>\n",
       "  <tbody>\n",
       "    <tr>\n",
       "      <td>0</td>\n",
       "      <td>U64F0C9</td>\n",
       "      <td>4</td>\n",
       "      <td>7</td>\n",
       "      <td>6</td>\n",
       "      <td>0</td>\n",
       "      <td>0</td>\n",
       "      <td>0</td>\n",
       "      <td>0</td>\n",
       "      <td>2</td>\n",
       "      <td>0</td>\n",
       "      <td>...</td>\n",
       "      <td>0</td>\n",
       "      <td>0</td>\n",
       "      <td>0</td>\n",
       "      <td>0</td>\n",
       "      <td>0</td>\n",
       "      <td>0</td>\n",
       "      <td>0</td>\n",
       "      <td>0</td>\n",
       "      <td>0</td>\n",
       "      <td>0</td>\n",
       "    </tr>\n",
       "    <tr>\n",
       "      <td>1</td>\n",
       "      <td>UA262F2</td>\n",
       "      <td>2</td>\n",
       "      <td>0</td>\n",
       "      <td>0</td>\n",
       "      <td>0</td>\n",
       "      <td>0</td>\n",
       "      <td>0</td>\n",
       "      <td>0</td>\n",
       "      <td>0</td>\n",
       "      <td>0</td>\n",
       "      <td>...</td>\n",
       "      <td>0</td>\n",
       "      <td>0</td>\n",
       "      <td>0</td>\n",
       "      <td>0</td>\n",
       "      <td>0</td>\n",
       "      <td>0</td>\n",
       "      <td>0</td>\n",
       "      <td>0</td>\n",
       "      <td>0</td>\n",
       "      <td>0</td>\n",
       "    </tr>\n",
       "    <tr>\n",
       "      <td>2</td>\n",
       "      <td>U7EDD34</td>\n",
       "      <td>3</td>\n",
       "      <td>4</td>\n",
       "      <td>0</td>\n",
       "      <td>0</td>\n",
       "      <td>7</td>\n",
       "      <td>0</td>\n",
       "      <td>0</td>\n",
       "      <td>0</td>\n",
       "      <td>2</td>\n",
       "      <td>...</td>\n",
       "      <td>0</td>\n",
       "      <td>0</td>\n",
       "      <td>0</td>\n",
       "      <td>0</td>\n",
       "      <td>0</td>\n",
       "      <td>0</td>\n",
       "      <td>0</td>\n",
       "      <td>0</td>\n",
       "      <td>0</td>\n",
       "      <td>0</td>\n",
       "    </tr>\n",
       "    <tr>\n",
       "      <td>3</td>\n",
       "      <td>UFF6271</td>\n",
       "      <td>17</td>\n",
       "      <td>0</td>\n",
       "      <td>0</td>\n",
       "      <td>0</td>\n",
       "      <td>0</td>\n",
       "      <td>7</td>\n",
       "      <td>0</td>\n",
       "      <td>0</td>\n",
       "      <td>0</td>\n",
       "      <td>...</td>\n",
       "      <td>0</td>\n",
       "      <td>0</td>\n",
       "      <td>0</td>\n",
       "      <td>0</td>\n",
       "      <td>0</td>\n",
       "      <td>0</td>\n",
       "      <td>0</td>\n",
       "      <td>0</td>\n",
       "      <td>0</td>\n",
       "      <td>0</td>\n",
       "    </tr>\n",
       "    <tr>\n",
       "      <td>4</td>\n",
       "      <td>U29A12A</td>\n",
       "      <td>19</td>\n",
       "      <td>12</td>\n",
       "      <td>8</td>\n",
       "      <td>0</td>\n",
       "      <td>6</td>\n",
       "      <td>6</td>\n",
       "      <td>0</td>\n",
       "      <td>1</td>\n",
       "      <td>1</td>\n",
       "      <td>...</td>\n",
       "      <td>0</td>\n",
       "      <td>0</td>\n",
       "      <td>0</td>\n",
       "      <td>0</td>\n",
       "      <td>0</td>\n",
       "      <td>0</td>\n",
       "      <td>0</td>\n",
       "      <td>0</td>\n",
       "      <td>0</td>\n",
       "      <td>0</td>\n",
       "    </tr>\n",
       "  </tbody>\n",
       "</table>\n",
       "<p>5 rows × 30 columns</p>\n",
       "</div>"
      ],
      "text/plain": [
       "      user  CQA  CQE  AAO  TRN  XAI  MSG  FTR  SZA  BWA  ...  JF2  JJK  EGB  \\\n",
       "0  U64F0C9    4    7    6    0    0    0    0    2    0  ...    0    0    0   \n",
       "1  UA262F2    2    0    0    0    0    0    0    0    0  ...    0    0    0   \n",
       "2  U7EDD34    3    4    0    0    7    0    0    0    2  ...    0    0    0   \n",
       "3  UFF6271   17    0    0    0    0    7    0    0    0  ...    0    0    0   \n",
       "4  U29A12A   19   12    8    0    6    6    0    1    1  ...    0    0    0   \n",
       "\n",
       "   MTA  FLS  LCT  FDA  SYK  JJD  ZY1  \n",
       "0    0    0    0    0    0    0    0  \n",
       "1    0    0    0    0    0    0    0  \n",
       "2    0    0    0    0    0    0    0  \n",
       "3    0    0    0    0    0    0    0  \n",
       "4    0    0    0    0    0    0    0  \n",
       "\n",
       "[5 rows x 30 columns]"
      ]
     },
     "execution_count": 13,
     "metadata": {},
     "output_type": "execute_result"
    }
   ],
   "source": [
    "train_pg_no.head()"
   ]
  },
  {
   "cell_type": "code",
   "execution_count": 14,
   "metadata": {},
   "outputs": [],
   "source": [
    "def beh_pg_test(code):\n",
    "    output_dict = {}\n",
    "    with open('./b/评分数据集_beh_b.csv') as f:\n",
    "        for line_num, line in enumerate(f):\n",
    "            if line_num >0:\n",
    "                user = line.split(',')[0]\n",
    "                pay_way = line.split(',')[1]\n",
    "                Trx1_1 = 0\n",
    "                if user in output_dict:\n",
    "                    Trx1_1 += output_dict[user]\n",
    "                    if pay_way == code:\n",
    "                        Trx1_1 += 1\n",
    "                        output_dict.update({user:Trx1_1}) # update当前指标加上原指标\n",
    "                        continue\n",
    "                else:\n",
    "                    if pay_way == code:\n",
    "                        Trx1_1 = 1\n",
    "                    output_dict.update({user:Trx1_1})\n",
    "    output_list = [{'user':k, code:v} for k, v in output_dict.items()]\n",
    "    Trx1_1_df = pd.DataFrame(output_list)\n",
    "    return Trx1_1_df"
   ]
  },
  {
   "cell_type": "code",
   "execution_count": 16,
   "metadata": {},
   "outputs": [],
   "source": [
    "test_pg_no = beh_pg_test('CQA')"
   ]
  },
  {
   "cell_type": "code",
   "execution_count": 19,
   "metadata": {},
   "outputs": [],
   "source": [
    "for code in ind[1:]:\n",
    "    cur = beh_pg_test(code)\n",
    "    test_pg_no = pd.merge(test_pg_no, cur, how='left', left_on='user', right_on='user')"
   ]
  },
  {
   "cell_type": "code",
   "execution_count": 20,
   "metadata": {},
   "outputs": [],
   "source": [
    "# beh训练集\n",
    "user_pgTimes = pd.DataFrame(data_train_beh.id.value_counts())\n",
    "user_pgTimes['index'] = user_pgTimes.index\n",
    "user_pgTimes.index = range(len(user_pgTimes))\n",
    "user_pgTimes.columns = ['pg_times', 'user']\n",
    "user_pgTimes = user_pgTimes[['user', 'pg_times']]"
   ]
  },
  {
   "cell_type": "code",
   "execution_count": 21,
   "metadata": {},
   "outputs": [
    {
     "data": {
      "text/plain": [
       "(1232, 2)"
      ]
     },
     "execution_count": 21,
     "metadata": {},
     "output_type": "execute_result"
    }
   ],
   "source": [
    "# beh测试集\n",
    "test_user_pgTimes = pd.DataFrame(test_beh.id.value_counts())\n",
    "test_user_pgTimes['index'] = test_user_pgTimes.index\n",
    "test_user_pgTimes.index = range(len(test_user_pgTimes))\n",
    "test_user_pgTimes.columns = ['pg_times', 'user']\n",
    "test_user_pgTimes = test_user_pgTimes[['user', 'pg_times']]\n",
    "test_user_pgTimes.shape"
   ]
  },
  {
   "cell_type": "code",
   "execution_count": 22,
   "metadata": {},
   "outputs": [
    {
     "data": {
      "text/plain": [
       "(11913, 31)"
      ]
     },
     "execution_count": 22,
     "metadata": {},
     "output_type": "execute_result"
    }
   ],
   "source": [
    "train_beh = pd.merge(user_pgTimes, train_pg_no, how='left', left_on='user', right_on='user')\n",
    "train_beh.shape"
   ]
  },
  {
   "cell_type": "code",
   "execution_count": 23,
   "metadata": {},
   "outputs": [
    {
     "data": {
      "text/plain": [
       "(1232, 31)"
      ]
     },
     "execution_count": 23,
     "metadata": {},
     "output_type": "execute_result"
    }
   ],
   "source": [
    "test_beh = pd.merge(test_user_pgTimes, test_pg_no, how='left', left_on='user', right_on='user')\n",
    "test_beh.shape"
   ]
  },
  {
   "cell_type": "markdown",
   "metadata": {},
   "source": [
    "## 合并数据 填充众数"
   ]
  },
  {
   "cell_type": "code",
   "execution_count": 24,
   "metadata": {},
   "outputs": [],
   "source": [
    "train_tag = pd.read_csv('./训练数据集1/train_tag_Ori.csv')\n",
    "test_tag = pd.read_csv('./b/test_tag_Ori.csv')"
   ]
  },
  {
   "cell_type": "code",
   "execution_count": 25,
   "metadata": {},
   "outputs": [],
   "source": [
    "train_trd_mf = pd.read_csv('./tide_up/train_trd_mf.csv')\n",
    "test_trd_mf = pd.read_csv('./tide_up/test_trd_mf.csv')"
   ]
  },
  {
   "cell_type": "code",
   "execution_count": 27,
   "metadata": {},
   "outputs": [
    {
     "data": {
      "text/plain": [
       "(39923, 55)"
      ]
     },
     "execution_count": 27,
     "metadata": {},
     "output_type": "execute_result"
    }
   ],
   "source": [
    "train_data_mf = pd.merge(train_tag, train_trd_mf, how='left', left_on='id', right_on='user')\n",
    "train_data_mf.drop(['user'], axis=1, inplace=True)\n",
    "train_data_mf.shape"
   ]
  },
  {
   "cell_type": "code",
   "execution_count": 28,
   "metadata": {},
   "outputs": [
    {
     "data": {
      "text/plain": [
       "(39923, 85)"
      ]
     },
     "execution_count": 28,
     "metadata": {},
     "output_type": "execute_result"
    }
   ],
   "source": [
    "train_data_mf = pd.merge(train_data_mf, train_beh, how='left', left_on='id', right_on='user')\n",
    "train_data_mf.drop(['user'], axis=1, inplace=True)\n",
    "train_data_mf.shape"
   ]
  },
  {
   "cell_type": "code",
   "execution_count": 37,
   "metadata": {
    "collapsed": true
   },
   "outputs": [
    {
     "name": "stdout",
     "output_type": "stream",
     "text": [
      "<class 'pandas.core.frame.DataFrame'>\n",
      "Int64Index: 39923 entries, 0 to 39922\n",
      "Data columns (total 85 columns):\n",
      "id                                 39923 non-null object\n",
      "flag                               39923 non-null float64\n",
      "gdr_cd                             39923 non-null float64\n",
      "age                                39923 non-null int64\n",
      "mrg_situ_cd                        39923 non-null float64\n",
      "edu_deg_cd                         39923 non-null float64\n",
      "acdm_deg_cd                        39923 non-null float64\n",
      "deg_cd                             39923 non-null float64\n",
      "job_year                           39923 non-null int64\n",
      "ic_ind                             39923 non-null float64\n",
      "fr_or_sh_ind                       39923 non-null float64\n",
      "dnl_mbl_bnk_ind                    39923 non-null float64\n",
      "dnl_bind_cmb_lif_ind               39923 non-null float64\n",
      "hav_car_grp_ind                    39923 non-null float64\n",
      "hav_hou_grp_ind                    39923 non-null float64\n",
      "l6mon_agn_ind                      39923 non-null float64\n",
      "frs_agn_dt_cnt                     39923 non-null int64\n",
      "vld_rsk_ases_ind                   39923 non-null float64\n",
      "fin_rsk_ases_grd_cd                39923 non-null int64\n",
      "confirm_rsk_ases_lvl_typ_cd        39923 non-null float64\n",
      "cust_inv_rsk_endu_lvl_cd           39923 non-null float64\n",
      "l6mon_daim_aum_cd                  39923 non-null int64\n",
      "tot_ast_lvl_cd                     39923 non-null float64\n",
      "pot_ast_lvl_cd                     39923 non-null float64\n",
      "bk1_cur_year_mon_avg_agn_amt_cd    39923 non-null int64\n",
      "l12mon_buy_fin_mng_whl_tms         39923 non-null int64\n",
      "l12_mon_fnd_buy_whl_tms            39923 non-null int64\n",
      "l12_mon_insu_buy_whl_tms           39923 non-null int64\n",
      "l12_mon_gld_buy_whl_tms            39923 non-null int64\n",
      "loan_act_ind                       39923 non-null float64\n",
      "pl_crd_lmt_cd                      39923 non-null int64\n",
      "ovd_30d_loan_tot_cnt               39923 non-null int64\n",
      "his_lng_ovd_day                    39923 non-null int64\n",
      "hld_crd_card_grd_cd                39923 non-null float64\n",
      "crd_card_act_ind                   39923 non-null float64\n",
      "l1y_crd_card_csm_amt_dlm_cd        39923 non-null int64\n",
      "atdd_type                          39923 non-null float64\n",
      "perm_crd_lmt_cd                    39923 non-null int64\n",
      "cur_debit_cnt                      39923 non-null int64\n",
      "cur_credit_cnt                     39923 non-null int64\n",
      "cur_debit_min_opn_dt_cnt           39923 non-null int64\n",
      "cur_credit_min_opn_dt_cnt          39923 non-null int64\n",
      "cur_debit_crd_lvl                  39923 non-null int64\n",
      "trd_times                          31993 non-null float64\n",
      "total_count                        31993 non-null float64\n",
      "B_out                              31993 non-null float64\n",
      "C_in                               31993 non-null float64\n",
      "out_count                          31993 non-null float64\n",
      "in_count                           31993 non-null float64\n",
      "Flg3_A                             31993 non-null float64\n",
      "Flg3_B                             31993 non-null float64\n",
      "Flg3_C                             31993 non-null float64\n",
      "Trx1_1                             31993 non-null float64\n",
      "Trx1_2                             31993 non-null float64\n",
      "Trx1_3                             31993 non-null float64\n",
      "pg_times                           11913 non-null float64\n",
      "CQA                                11913 non-null float64\n",
      "CQE                                11913 non-null float64\n",
      "AAO                                11913 non-null float64\n",
      "TRN                                11913 non-null float64\n",
      "XAI                                11913 non-null float64\n",
      "MSG                                11913 non-null float64\n",
      "FTR                                11913 non-null float64\n",
      "SZA                                11913 non-null float64\n",
      "BWA                                11913 non-null float64\n",
      "CTR                                11913 non-null float64\n",
      "XAG                                11913 non-null float64\n",
      "CQD                                11913 non-null float64\n",
      "SZD                                11913 non-null float64\n",
      "CQC                                11913 non-null float64\n",
      "EGA                                11913 non-null float64\n",
      "GBA                                11913 non-null float64\n",
      "CQB                                11913 non-null float64\n",
      "LC0                                11913 non-null float64\n",
      "BWE                                11913 non-null float64\n",
      "JF2                                11913 non-null float64\n",
      "JJK                                11913 non-null float64\n",
      "EGB                                11913 non-null float64\n",
      "MTA                                11913 non-null float64\n",
      "FLS                                11913 non-null float64\n",
      "LCT                                11913 non-null float64\n",
      "FDA                                11913 non-null float64\n",
      "SYK                                11913 non-null float64\n",
      "JJD                                11913 non-null float64\n",
      "ZY1                                11913 non-null float64\n",
      "dtypes: float64(64), int64(20), object(1)\n",
      "memory usage: 26.2+ MB\n"
     ]
    }
   ],
   "source": [
    "train_data_mf.info()"
   ]
  },
  {
   "cell_type": "code",
   "execution_count": 38,
   "metadata": {},
   "outputs": [
    {
     "data": {
      "text/plain": [
       "(4000, 54)"
      ]
     },
     "execution_count": 38,
     "metadata": {},
     "output_type": "execute_result"
    }
   ],
   "source": [
    "test_data_mf = pd.merge(test_tag, test_trd_mf, how='left', left_on='id', right_on='user')\n",
    "test_data_mf.drop(['user'], axis=1, inplace=True)\n",
    "test_data_mf.shape"
   ]
  },
  {
   "cell_type": "code",
   "execution_count": 39,
   "metadata": {},
   "outputs": [
    {
     "data": {
      "text/plain": [
       "(4000, 84)"
      ]
     },
     "execution_count": 39,
     "metadata": {},
     "output_type": "execute_result"
    }
   ],
   "source": [
    "test_data_mf = pd.merge(test_data_mf, test_beh, how='left', left_on='id', right_on='user')\n",
    "test_data_mf.drop(['user'], axis=1, inplace=True)\n",
    "test_data_mf.shape"
   ]
  },
  {
   "cell_type": "code",
   "execution_count": 40,
   "metadata": {},
   "outputs": [],
   "source": [
    "train_data_ = train_data_mf.copy()\n",
    "test_data_ = test_data_mf.copy()\n",
    "\n",
    "for i in range(-20,0):\n",
    "    train_data_.iloc[:, i].fillna(train_data_.iloc[:, i].mode()[0], inplace=True)\n",
    "    test_data_.iloc[:, i].fillna(train_data_.iloc[:, i].mode()[0], inplace=True)"
   ]
  },
  {
   "cell_type": "code",
   "execution_count": 46,
   "metadata": {
    "collapsed": true
   },
   "outputs": [
    {
     "data": {
      "text/html": [
       "<div>\n",
       "<style scoped>\n",
       "    .dataframe tbody tr th:only-of-type {\n",
       "        vertical-align: middle;\n",
       "    }\n",
       "\n",
       "    .dataframe tbody tr th {\n",
       "        vertical-align: top;\n",
       "    }\n",
       "\n",
       "    .dataframe thead th {\n",
       "        text-align: right;\n",
       "    }\n",
       "</style>\n",
       "<table border=\"1\" class=\"dataframe\">\n",
       "  <thead>\n",
       "    <tr style=\"text-align: right;\">\n",
       "      <th></th>\n",
       "      <th>id</th>\n",
       "      <th>flag</th>\n",
       "      <th>gdr_cd</th>\n",
       "      <th>age</th>\n",
       "      <th>mrg_situ_cd</th>\n",
       "      <th>edu_deg_cd</th>\n",
       "      <th>acdm_deg_cd</th>\n",
       "      <th>deg_cd</th>\n",
       "      <th>job_year</th>\n",
       "      <th>ic_ind</th>\n",
       "      <th>...</th>\n",
       "      <th>JF2</th>\n",
       "      <th>JJK</th>\n",
       "      <th>EGB</th>\n",
       "      <th>MTA</th>\n",
       "      <th>FLS</th>\n",
       "      <th>LCT</th>\n",
       "      <th>FDA</th>\n",
       "      <th>SYK</th>\n",
       "      <th>JJD</th>\n",
       "      <th>ZY1</th>\n",
       "    </tr>\n",
       "  </thead>\n",
       "  <tbody>\n",
       "    <tr>\n",
       "      <td>0</td>\n",
       "      <td>U7A4BAD</td>\n",
       "      <td>0.0</td>\n",
       "      <td>1.0</td>\n",
       "      <td>41</td>\n",
       "      <td>1.0</td>\n",
       "      <td>1.0</td>\n",
       "      <td>6.0</td>\n",
       "      <td>5.0</td>\n",
       "      <td>3</td>\n",
       "      <td>0.0</td>\n",
       "      <td>...</td>\n",
       "      <td>0.0</td>\n",
       "      <td>0.0</td>\n",
       "      <td>0.0</td>\n",
       "      <td>0.0</td>\n",
       "      <td>0.0</td>\n",
       "      <td>0.0</td>\n",
       "      <td>0.0</td>\n",
       "      <td>0.0</td>\n",
       "      <td>0.0</td>\n",
       "      <td>0.0</td>\n",
       "    </tr>\n",
       "    <tr>\n",
       "      <td>1</td>\n",
       "      <td>U557810</td>\n",
       "      <td>0.0</td>\n",
       "      <td>1.0</td>\n",
       "      <td>35</td>\n",
       "      <td>0.0</td>\n",
       "      <td>4.0</td>\n",
       "      <td>5.0</td>\n",
       "      <td>5.0</td>\n",
       "      <td>4</td>\n",
       "      <td>0.0</td>\n",
       "      <td>...</td>\n",
       "      <td>0.0</td>\n",
       "      <td>0.0</td>\n",
       "      <td>0.0</td>\n",
       "      <td>0.0</td>\n",
       "      <td>0.0</td>\n",
       "      <td>0.0</td>\n",
       "      <td>0.0</td>\n",
       "      <td>0.0</td>\n",
       "      <td>0.0</td>\n",
       "      <td>0.0</td>\n",
       "    </tr>\n",
       "    <tr>\n",
       "      <td>2</td>\n",
       "      <td>U1E9240</td>\n",
       "      <td>0.0</td>\n",
       "      <td>1.0</td>\n",
       "      <td>53</td>\n",
       "      <td>1.0</td>\n",
       "      <td>0.0</td>\n",
       "      <td>2.0</td>\n",
       "      <td>2.0</td>\n",
       "      <td>9</td>\n",
       "      <td>0.0</td>\n",
       "      <td>...</td>\n",
       "      <td>0.0</td>\n",
       "      <td>0.0</td>\n",
       "      <td>0.0</td>\n",
       "      <td>0.0</td>\n",
       "      <td>0.0</td>\n",
       "      <td>0.0</td>\n",
       "      <td>0.0</td>\n",
       "      <td>0.0</td>\n",
       "      <td>0.0</td>\n",
       "      <td>0.0</td>\n",
       "    </tr>\n",
       "    <tr>\n",
       "      <td>3</td>\n",
       "      <td>U6DED00</td>\n",
       "      <td>0.0</td>\n",
       "      <td>0.0</td>\n",
       "      <td>41</td>\n",
       "      <td>1.0</td>\n",
       "      <td>4.0</td>\n",
       "      <td>6.0</td>\n",
       "      <td>5.0</td>\n",
       "      <td>0</td>\n",
       "      <td>0.0</td>\n",
       "      <td>...</td>\n",
       "      <td>0.0</td>\n",
       "      <td>0.0</td>\n",
       "      <td>0.0</td>\n",
       "      <td>0.0</td>\n",
       "      <td>0.0</td>\n",
       "      <td>0.0</td>\n",
       "      <td>0.0</td>\n",
       "      <td>0.0</td>\n",
       "      <td>0.0</td>\n",
       "      <td>0.0</td>\n",
       "    </tr>\n",
       "    <tr>\n",
       "      <td>4</td>\n",
       "      <td>UDA8E28</td>\n",
       "      <td>0.0</td>\n",
       "      <td>0.0</td>\n",
       "      <td>42</td>\n",
       "      <td>1.0</td>\n",
       "      <td>1.0</td>\n",
       "      <td>6.0</td>\n",
       "      <td>1.0</td>\n",
       "      <td>3</td>\n",
       "      <td>1.0</td>\n",
       "      <td>...</td>\n",
       "      <td>0.0</td>\n",
       "      <td>0.0</td>\n",
       "      <td>0.0</td>\n",
       "      <td>0.0</td>\n",
       "      <td>0.0</td>\n",
       "      <td>0.0</td>\n",
       "      <td>0.0</td>\n",
       "      <td>0.0</td>\n",
       "      <td>0.0</td>\n",
       "      <td>0.0</td>\n",
       "    </tr>\n",
       "    <tr>\n",
       "      <td>...</td>\n",
       "      <td>...</td>\n",
       "      <td>...</td>\n",
       "      <td>...</td>\n",
       "      <td>...</td>\n",
       "      <td>...</td>\n",
       "      <td>...</td>\n",
       "      <td>...</td>\n",
       "      <td>...</td>\n",
       "      <td>...</td>\n",
       "      <td>...</td>\n",
       "      <td>...</td>\n",
       "      <td>...</td>\n",
       "      <td>...</td>\n",
       "      <td>...</td>\n",
       "      <td>...</td>\n",
       "      <td>...</td>\n",
       "      <td>...</td>\n",
       "      <td>...</td>\n",
       "      <td>...</td>\n",
       "      <td>...</td>\n",
       "      <td>...</td>\n",
       "    </tr>\n",
       "    <tr>\n",
       "      <td>39918</td>\n",
       "      <td>U8E66E5</td>\n",
       "      <td>1.0</td>\n",
       "      <td>1.0</td>\n",
       "      <td>24</td>\n",
       "      <td>0.0</td>\n",
       "      <td>4.0</td>\n",
       "      <td>5.0</td>\n",
       "      <td>5.0</td>\n",
       "      <td>1</td>\n",
       "      <td>0.0</td>\n",
       "      <td>...</td>\n",
       "      <td>0.0</td>\n",
       "      <td>0.0</td>\n",
       "      <td>0.0</td>\n",
       "      <td>0.0</td>\n",
       "      <td>0.0</td>\n",
       "      <td>0.0</td>\n",
       "      <td>0.0</td>\n",
       "      <td>0.0</td>\n",
       "      <td>0.0</td>\n",
       "      <td>0.0</td>\n",
       "    </tr>\n",
       "    <tr>\n",
       "      <td>39919</td>\n",
       "      <td>U70BACF</td>\n",
       "      <td>0.0</td>\n",
       "      <td>1.0</td>\n",
       "      <td>41</td>\n",
       "      <td>1.0</td>\n",
       "      <td>4.0</td>\n",
       "      <td>5.0</td>\n",
       "      <td>5.0</td>\n",
       "      <td>1</td>\n",
       "      <td>0.0</td>\n",
       "      <td>...</td>\n",
       "      <td>0.0</td>\n",
       "      <td>0.0</td>\n",
       "      <td>0.0</td>\n",
       "      <td>0.0</td>\n",
       "      <td>0.0</td>\n",
       "      <td>0.0</td>\n",
       "      <td>0.0</td>\n",
       "      <td>0.0</td>\n",
       "      <td>0.0</td>\n",
       "      <td>0.0</td>\n",
       "    </tr>\n",
       "    <tr>\n",
       "      <td>39920</td>\n",
       "      <td>U777E7D</td>\n",
       "      <td>0.0</td>\n",
       "      <td>1.0</td>\n",
       "      <td>29</td>\n",
       "      <td>0.0</td>\n",
       "      <td>4.0</td>\n",
       "      <td>5.0</td>\n",
       "      <td>5.0</td>\n",
       "      <td>0</td>\n",
       "      <td>0.0</td>\n",
       "      <td>...</td>\n",
       "      <td>0.0</td>\n",
       "      <td>0.0</td>\n",
       "      <td>0.0</td>\n",
       "      <td>0.0</td>\n",
       "      <td>0.0</td>\n",
       "      <td>0.0</td>\n",
       "      <td>0.0</td>\n",
       "      <td>0.0</td>\n",
       "      <td>0.0</td>\n",
       "      <td>0.0</td>\n",
       "    </tr>\n",
       "    <tr>\n",
       "      <td>39921</td>\n",
       "      <td>UE77AAD</td>\n",
       "      <td>0.0</td>\n",
       "      <td>1.0</td>\n",
       "      <td>31</td>\n",
       "      <td>0.0</td>\n",
       "      <td>4.0</td>\n",
       "      <td>1.0</td>\n",
       "      <td>5.0</td>\n",
       "      <td>0</td>\n",
       "      <td>0.0</td>\n",
       "      <td>...</td>\n",
       "      <td>0.0</td>\n",
       "      <td>0.0</td>\n",
       "      <td>0.0</td>\n",
       "      <td>0.0</td>\n",
       "      <td>0.0</td>\n",
       "      <td>0.0</td>\n",
       "      <td>0.0</td>\n",
       "      <td>0.0</td>\n",
       "      <td>0.0</td>\n",
       "      <td>0.0</td>\n",
       "    </tr>\n",
       "    <tr>\n",
       "      <td>39922</td>\n",
       "      <td>UA5346E</td>\n",
       "      <td>0.0</td>\n",
       "      <td>1.0</td>\n",
       "      <td>33</td>\n",
       "      <td>2.0</td>\n",
       "      <td>4.0</td>\n",
       "      <td>6.0</td>\n",
       "      <td>5.0</td>\n",
       "      <td>3</td>\n",
       "      <td>0.0</td>\n",
       "      <td>...</td>\n",
       "      <td>0.0</td>\n",
       "      <td>0.0</td>\n",
       "      <td>0.0</td>\n",
       "      <td>0.0</td>\n",
       "      <td>0.0</td>\n",
       "      <td>0.0</td>\n",
       "      <td>0.0</td>\n",
       "      <td>0.0</td>\n",
       "      <td>0.0</td>\n",
       "      <td>0.0</td>\n",
       "    </tr>\n",
       "  </tbody>\n",
       "</table>\n",
       "<p>39923 rows × 85 columns</p>\n",
       "</div>"
      ],
      "text/plain": [
       "            id  flag  gdr_cd  age  mrg_situ_cd  edu_deg_cd  acdm_deg_cd  \\\n",
       "0      U7A4BAD   0.0     1.0   41          1.0         1.0          6.0   \n",
       "1      U557810   0.0     1.0   35          0.0         4.0          5.0   \n",
       "2      U1E9240   0.0     1.0   53          1.0         0.0          2.0   \n",
       "3      U6DED00   0.0     0.0   41          1.0         4.0          6.0   \n",
       "4      UDA8E28   0.0     0.0   42          1.0         1.0          6.0   \n",
       "...        ...   ...     ...  ...          ...         ...          ...   \n",
       "39918  U8E66E5   1.0     1.0   24          0.0         4.0          5.0   \n",
       "39919  U70BACF   0.0     1.0   41          1.0         4.0          5.0   \n",
       "39920  U777E7D   0.0     1.0   29          0.0         4.0          5.0   \n",
       "39921  UE77AAD   0.0     1.0   31          0.0         4.0          1.0   \n",
       "39922  UA5346E   0.0     1.0   33          2.0         4.0          6.0   \n",
       "\n",
       "       deg_cd  job_year  ic_ind  ...  JF2  JJK  EGB  MTA  FLS  LCT  FDA  SYK  \\\n",
       "0         5.0         3     0.0  ...  0.0  0.0  0.0  0.0  0.0  0.0  0.0  0.0   \n",
       "1         5.0         4     0.0  ...  0.0  0.0  0.0  0.0  0.0  0.0  0.0  0.0   \n",
       "2         2.0         9     0.0  ...  0.0  0.0  0.0  0.0  0.0  0.0  0.0  0.0   \n",
       "3         5.0         0     0.0  ...  0.0  0.0  0.0  0.0  0.0  0.0  0.0  0.0   \n",
       "4         1.0         3     1.0  ...  0.0  0.0  0.0  0.0  0.0  0.0  0.0  0.0   \n",
       "...       ...       ...     ...  ...  ...  ...  ...  ...  ...  ...  ...  ...   \n",
       "39918     5.0         1     0.0  ...  0.0  0.0  0.0  0.0  0.0  0.0  0.0  0.0   \n",
       "39919     5.0         1     0.0  ...  0.0  0.0  0.0  0.0  0.0  0.0  0.0  0.0   \n",
       "39920     5.0         0     0.0  ...  0.0  0.0  0.0  0.0  0.0  0.0  0.0  0.0   \n",
       "39921     5.0         0     0.0  ...  0.0  0.0  0.0  0.0  0.0  0.0  0.0  0.0   \n",
       "39922     5.0         3     0.0  ...  0.0  0.0  0.0  0.0  0.0  0.0  0.0  0.0   \n",
       "\n",
       "       JJD  ZY1  \n",
       "0      0.0  0.0  \n",
       "1      0.0  0.0  \n",
       "2      0.0  0.0  \n",
       "3      0.0  0.0  \n",
       "4      0.0  0.0  \n",
       "...    ...  ...  \n",
       "39918  0.0  0.0  \n",
       "39919  0.0  0.0  \n",
       "39920  0.0  0.0  \n",
       "39921  0.0  0.0  \n",
       "39922  0.0  0.0  \n",
       "\n",
       "[39923 rows x 85 columns]"
      ]
     },
     "execution_count": 46,
     "metadata": {},
     "output_type": "execute_result"
    }
   ],
   "source": [
    "train_data_"
   ]
  },
  {
   "cell_type": "code",
   "execution_count": 194,
   "metadata": {},
   "outputs": [
    {
     "data": {
      "text/html": [
       "<div>\n",
       "<style scoped>\n",
       "    .dataframe tbody tr th:only-of-type {\n",
       "        vertical-align: middle;\n",
       "    }\n",
       "\n",
       "    .dataframe tbody tr th {\n",
       "        vertical-align: top;\n",
       "    }\n",
       "\n",
       "    .dataframe thead th {\n",
       "        text-align: right;\n",
       "    }\n",
       "</style>\n",
       "<table border=\"1\" class=\"dataframe\">\n",
       "  <thead>\n",
       "    <tr style=\"text-align: right;\">\n",
       "      <th></th>\n",
       "      <th>id</th>\n",
       "      <th>gdr_cd</th>\n",
       "      <th>age</th>\n",
       "      <th>mrg_situ_cd</th>\n",
       "      <th>edu_deg_cd</th>\n",
       "      <th>acdm_deg_cd</th>\n",
       "      <th>deg_cd</th>\n",
       "      <th>job_year</th>\n",
       "      <th>ic_ind</th>\n",
       "      <th>fr_or_sh_ind</th>\n",
       "      <th>...</th>\n",
       "      <th>JF2</th>\n",
       "      <th>JJK</th>\n",
       "      <th>EGB</th>\n",
       "      <th>MTA</th>\n",
       "      <th>FLS</th>\n",
       "      <th>LCT</th>\n",
       "      <th>FDA</th>\n",
       "      <th>SYK</th>\n",
       "      <th>JJD</th>\n",
       "      <th>ZY1</th>\n",
       "    </tr>\n",
       "  </thead>\n",
       "  <tbody>\n",
       "    <tr>\n",
       "      <td>0</td>\n",
       "      <td>U1E63A3</td>\n",
       "      <td>1.0</td>\n",
       "      <td>40</td>\n",
       "      <td>1.0</td>\n",
       "      <td>2.0</td>\n",
       "      <td>1.0</td>\n",
       "      <td>5.0</td>\n",
       "      <td>1</td>\n",
       "      <td>0.0</td>\n",
       "      <td>1.0</td>\n",
       "      <td>...</td>\n",
       "      <td>0.0</td>\n",
       "      <td>0.0</td>\n",
       "      <td>0.0</td>\n",
       "      <td>0.0</td>\n",
       "      <td>0.0</td>\n",
       "      <td>0.0</td>\n",
       "      <td>0.0</td>\n",
       "      <td>0.0</td>\n",
       "      <td>0.0</td>\n",
       "      <td>0.0</td>\n",
       "    </tr>\n",
       "    <tr>\n",
       "      <td>1</td>\n",
       "      <td>U3EC77F</td>\n",
       "      <td>1.0</td>\n",
       "      <td>46</td>\n",
       "      <td>0.0</td>\n",
       "      <td>2.0</td>\n",
       "      <td>1.0</td>\n",
       "      <td>5.0</td>\n",
       "      <td>3</td>\n",
       "      <td>0.0</td>\n",
       "      <td>0.0</td>\n",
       "      <td>...</td>\n",
       "      <td>0.0</td>\n",
       "      <td>0.0</td>\n",
       "      <td>0.0</td>\n",
       "      <td>0.0</td>\n",
       "      <td>0.0</td>\n",
       "      <td>0.0</td>\n",
       "      <td>0.0</td>\n",
       "      <td>0.0</td>\n",
       "      <td>0.0</td>\n",
       "      <td>0.0</td>\n",
       "    </tr>\n",
       "    <tr>\n",
       "      <td>2</td>\n",
       "      <td>U27DC0C</td>\n",
       "      <td>1.0</td>\n",
       "      <td>42</td>\n",
       "      <td>1.0</td>\n",
       "      <td>4.0</td>\n",
       "      <td>5.0</td>\n",
       "      <td>5.0</td>\n",
       "      <td>3</td>\n",
       "      <td>0.0</td>\n",
       "      <td>0.0</td>\n",
       "      <td>...</td>\n",
       "      <td>0.0</td>\n",
       "      <td>0.0</td>\n",
       "      <td>0.0</td>\n",
       "      <td>0.0</td>\n",
       "      <td>0.0</td>\n",
       "      <td>0.0</td>\n",
       "      <td>0.0</td>\n",
       "      <td>0.0</td>\n",
       "      <td>0.0</td>\n",
       "      <td>0.0</td>\n",
       "    </tr>\n",
       "    <tr>\n",
       "      <td>3</td>\n",
       "      <td>U3FAAAC</td>\n",
       "      <td>0.0</td>\n",
       "      <td>35</td>\n",
       "      <td>1.0</td>\n",
       "      <td>1.0</td>\n",
       "      <td>0.0</td>\n",
       "      <td>5.0</td>\n",
       "      <td>5</td>\n",
       "      <td>0.0</td>\n",
       "      <td>1.0</td>\n",
       "      <td>...</td>\n",
       "      <td>0.0</td>\n",
       "      <td>0.0</td>\n",
       "      <td>0.0</td>\n",
       "      <td>0.0</td>\n",
       "      <td>0.0</td>\n",
       "      <td>0.0</td>\n",
       "      <td>0.0</td>\n",
       "      <td>0.0</td>\n",
       "      <td>0.0</td>\n",
       "      <td>0.0</td>\n",
       "    </tr>\n",
       "    <tr>\n",
       "      <td>4</td>\n",
       "      <td>U04EA0B</td>\n",
       "      <td>1.0</td>\n",
       "      <td>34</td>\n",
       "      <td>0.0</td>\n",
       "      <td>4.0</td>\n",
       "      <td>5.0</td>\n",
       "      <td>5.0</td>\n",
       "      <td>9</td>\n",
       "      <td>0.0</td>\n",
       "      <td>0.0</td>\n",
       "      <td>...</td>\n",
       "      <td>0.0</td>\n",
       "      <td>0.0</td>\n",
       "      <td>1.0</td>\n",
       "      <td>0.0</td>\n",
       "      <td>5.0</td>\n",
       "      <td>0.0</td>\n",
       "      <td>0.0</td>\n",
       "      <td>0.0</td>\n",
       "      <td>0.0</td>\n",
       "      <td>0.0</td>\n",
       "    </tr>\n",
       "    <tr>\n",
       "      <td>...</td>\n",
       "      <td>...</td>\n",
       "      <td>...</td>\n",
       "      <td>...</td>\n",
       "      <td>...</td>\n",
       "      <td>...</td>\n",
       "      <td>...</td>\n",
       "      <td>...</td>\n",
       "      <td>...</td>\n",
       "      <td>...</td>\n",
       "      <td>...</td>\n",
       "      <td>...</td>\n",
       "      <td>...</td>\n",
       "      <td>...</td>\n",
       "      <td>...</td>\n",
       "      <td>...</td>\n",
       "      <td>...</td>\n",
       "      <td>...</td>\n",
       "      <td>...</td>\n",
       "      <td>...</td>\n",
       "      <td>...</td>\n",
       "      <td>...</td>\n",
       "    </tr>\n",
       "    <tr>\n",
       "      <td>3995</td>\n",
       "      <td>U0FBFE2</td>\n",
       "      <td>0.0</td>\n",
       "      <td>58</td>\n",
       "      <td>1.0</td>\n",
       "      <td>1.0</td>\n",
       "      <td>0.0</td>\n",
       "      <td>0.0</td>\n",
       "      <td>29</td>\n",
       "      <td>0.0</td>\n",
       "      <td>0.0</td>\n",
       "      <td>...</td>\n",
       "      <td>0.0</td>\n",
       "      <td>0.0</td>\n",
       "      <td>0.0</td>\n",
       "      <td>0.0</td>\n",
       "      <td>0.0</td>\n",
       "      <td>0.0</td>\n",
       "      <td>0.0</td>\n",
       "      <td>0.0</td>\n",
       "      <td>0.0</td>\n",
       "      <td>0.0</td>\n",
       "    </tr>\n",
       "    <tr>\n",
       "      <td>3996</td>\n",
       "      <td>U506AD2</td>\n",
       "      <td>1.0</td>\n",
       "      <td>50</td>\n",
       "      <td>1.0</td>\n",
       "      <td>2.0</td>\n",
       "      <td>1.0</td>\n",
       "      <td>5.0</td>\n",
       "      <td>25</td>\n",
       "      <td>0.0</td>\n",
       "      <td>0.0</td>\n",
       "      <td>...</td>\n",
       "      <td>0.0</td>\n",
       "      <td>0.0</td>\n",
       "      <td>0.0</td>\n",
       "      <td>0.0</td>\n",
       "      <td>0.0</td>\n",
       "      <td>0.0</td>\n",
       "      <td>0.0</td>\n",
       "      <td>0.0</td>\n",
       "      <td>0.0</td>\n",
       "      <td>0.0</td>\n",
       "    </tr>\n",
       "    <tr>\n",
       "      <td>3997</td>\n",
       "      <td>U287B33</td>\n",
       "      <td>1.0</td>\n",
       "      <td>39</td>\n",
       "      <td>0.0</td>\n",
       "      <td>10.0</td>\n",
       "      <td>6.0</td>\n",
       "      <td>5.0</td>\n",
       "      <td>0</td>\n",
       "      <td>1.0</td>\n",
       "      <td>1.0</td>\n",
       "      <td>...</td>\n",
       "      <td>0.0</td>\n",
       "      <td>0.0</td>\n",
       "      <td>0.0</td>\n",
       "      <td>0.0</td>\n",
       "      <td>0.0</td>\n",
       "      <td>0.0</td>\n",
       "      <td>0.0</td>\n",
       "      <td>0.0</td>\n",
       "      <td>0.0</td>\n",
       "      <td>0.0</td>\n",
       "    </tr>\n",
       "    <tr>\n",
       "      <td>3998</td>\n",
       "      <td>U15134F</td>\n",
       "      <td>1.0</td>\n",
       "      <td>34</td>\n",
       "      <td>0.0</td>\n",
       "      <td>1.0</td>\n",
       "      <td>0.0</td>\n",
       "      <td>5.0</td>\n",
       "      <td>2</td>\n",
       "      <td>0.0</td>\n",
       "      <td>0.0</td>\n",
       "      <td>...</td>\n",
       "      <td>0.0</td>\n",
       "      <td>0.0</td>\n",
       "      <td>0.0</td>\n",
       "      <td>0.0</td>\n",
       "      <td>0.0</td>\n",
       "      <td>0.0</td>\n",
       "      <td>0.0</td>\n",
       "      <td>0.0</td>\n",
       "      <td>0.0</td>\n",
       "      <td>0.0</td>\n",
       "    </tr>\n",
       "    <tr>\n",
       "      <td>3999</td>\n",
       "      <td>U41D5EB</td>\n",
       "      <td>1.0</td>\n",
       "      <td>63</td>\n",
       "      <td>1.0</td>\n",
       "      <td>2.0</td>\n",
       "      <td>1.0</td>\n",
       "      <td>5.0</td>\n",
       "      <td>0</td>\n",
       "      <td>0.0</td>\n",
       "      <td>0.0</td>\n",
       "      <td>...</td>\n",
       "      <td>0.0</td>\n",
       "      <td>0.0</td>\n",
       "      <td>0.0</td>\n",
       "      <td>0.0</td>\n",
       "      <td>0.0</td>\n",
       "      <td>0.0</td>\n",
       "      <td>0.0</td>\n",
       "      <td>0.0</td>\n",
       "      <td>0.0</td>\n",
       "      <td>0.0</td>\n",
       "    </tr>\n",
       "  </tbody>\n",
       "</table>\n",
       "<p>4000 rows × 84 columns</p>\n",
       "</div>"
      ],
      "text/plain": [
       "           id  gdr_cd  age  mrg_situ_cd  edu_deg_cd  acdm_deg_cd  deg_cd  \\\n",
       "0     U1E63A3     1.0   40          1.0         2.0          1.0     5.0   \n",
       "1     U3EC77F     1.0   46          0.0         2.0          1.0     5.0   \n",
       "2     U27DC0C     1.0   42          1.0         4.0          5.0     5.0   \n",
       "3     U3FAAAC     0.0   35          1.0         1.0          0.0     5.0   \n",
       "4     U04EA0B     1.0   34          0.0         4.0          5.0     5.0   \n",
       "...       ...     ...  ...          ...         ...          ...     ...   \n",
       "3995  U0FBFE2     0.0   58          1.0         1.0          0.0     0.0   \n",
       "3996  U506AD2     1.0   50          1.0         2.0          1.0     5.0   \n",
       "3997  U287B33     1.0   39          0.0        10.0          6.0     5.0   \n",
       "3998  U15134F     1.0   34          0.0         1.0          0.0     5.0   \n",
       "3999  U41D5EB     1.0   63          1.0         2.0          1.0     5.0   \n",
       "\n",
       "      job_year  ic_ind  fr_or_sh_ind  ...  JF2  JJK  EGB  MTA  FLS  LCT  FDA  \\\n",
       "0            1     0.0           1.0  ...  0.0  0.0  0.0  0.0  0.0  0.0  0.0   \n",
       "1            3     0.0           0.0  ...  0.0  0.0  0.0  0.0  0.0  0.0  0.0   \n",
       "2            3     0.0           0.0  ...  0.0  0.0  0.0  0.0  0.0  0.0  0.0   \n",
       "3            5     0.0           1.0  ...  0.0  0.0  0.0  0.0  0.0  0.0  0.0   \n",
       "4            9     0.0           0.0  ...  0.0  0.0  1.0  0.0  5.0  0.0  0.0   \n",
       "...        ...     ...           ...  ...  ...  ...  ...  ...  ...  ...  ...   \n",
       "3995        29     0.0           0.0  ...  0.0  0.0  0.0  0.0  0.0  0.0  0.0   \n",
       "3996        25     0.0           0.0  ...  0.0  0.0  0.0  0.0  0.0  0.0  0.0   \n",
       "3997         0     1.0           1.0  ...  0.0  0.0  0.0  0.0  0.0  0.0  0.0   \n",
       "3998         2     0.0           0.0  ...  0.0  0.0  0.0  0.0  0.0  0.0  0.0   \n",
       "3999         0     0.0           0.0  ...  0.0  0.0  0.0  0.0  0.0  0.0  0.0   \n",
       "\n",
       "      SYK  JJD  ZY1  \n",
       "0     0.0  0.0  0.0  \n",
       "1     0.0  0.0  0.0  \n",
       "2     0.0  0.0  0.0  \n",
       "3     0.0  0.0  0.0  \n",
       "4     0.0  0.0  0.0  \n",
       "...   ...  ...  ...  \n",
       "3995  0.0  0.0  0.0  \n",
       "3996  0.0  0.0  0.0  \n",
       "3997  0.0  0.0  0.0  \n",
       "3998  0.0  0.0  0.0  \n",
       "3999  0.0  0.0  0.0  \n",
       "\n",
       "[4000 rows x 84 columns]"
      ]
     },
     "execution_count": 194,
     "metadata": {},
     "output_type": "execute_result"
    }
   ],
   "source": [
    "test_data_"
   ]
  },
  {
   "cell_type": "markdown",
   "metadata": {},
   "source": [
    "## 建模分析"
   ]
  },
  {
   "cell_type": "code",
   "execution_count": 47,
   "metadata": {},
   "outputs": [],
   "source": [
    "train_data_1 = train_data_.copy()\n",
    "X, y = train_data_1.iloc[:,2:], train_data_1['flag']"
   ]
  },
  {
   "cell_type": "code",
   "execution_count": 48,
   "metadata": {},
   "outputs": [],
   "source": [
    "Xtrain, Xtest, Ytrain, Ytest = train_test_split(X, y, test_size=0.3, random_state=0)"
   ]
  },
  {
   "cell_type": "code",
   "execution_count": 49,
   "metadata": {},
   "outputs": [],
   "source": [
    "import xgboost as xgb\n",
    "\n",
    "dtrain = xgb.DMatrix(Xtrain, Ytrain)"
   ]
  },
  {
   "cell_type": "code",
   "execution_count": 50,
   "metadata": {},
   "outputs": [],
   "source": [
    "dtest = xgb.DMatrix(Xtest, Ytest)"
   ]
  },
  {
   "cell_type": "code",
   "execution_count": 51,
   "metadata": {},
   "outputs": [],
   "source": [
    "dfull = xgb.DMatrix(X,y)"
   ]
  },
  {
   "cell_type": "code",
   "execution_count": 173,
   "metadata": {},
   "outputs": [],
   "source": [
    "params = {'booster': 'gbtree',\n",
    "         'objective': 'binary:logistic',\n",
    "         'eval_metric': 'auc',\n",
    "         'max_depth': 3,\n",
    "         'lambda': 100,\n",
    "         'gamma':0.1,\n",
    "         'subsample': 0.75,\n",
    "         'colsample_bytree': 0.5,\n",
    "         'colsample_bylevel': 1,\n",
    "         'colsample_bynode': 0.75,\n",
    "         'min_child_weight': 30,\n",
    "         'eta': 0.03,\n",
    "         'seed': 0,\n",
    "         'silent': 1,\n",
    "         'n_fold': 5,\n",
    "         'scale_pos_weight':1}\n",
    "params1 = {'booster': 'gbtree',\n",
    "         'objective': 'binary:logistic',\n",
    "         'eval_metric': 'auc',\n",
    "         'max_depth': 3,\n",
    "         'lambda': 300,\n",
    "         'gamma':0.1,\n",
    "         'subsample': 1,\n",
    "         'colsample_bytree': 0.75,\n",
    "         'colsample_bylevel': 0.5,\n",
    "         'colsample_bynode': 1,\n",
    "         'min_child_weight': 5,\n",
    "         'eta': 0.028,\n",
    "         'seed': 0,\n",
    "         'silent': 1,\n",
    "         'n_fold': 5,\n",
    "         'scale_pos_weight':1}\n",
    "params2 = {'booster': 'gbtree',\n",
    "         'objective': 'binary:logistic',\n",
    "         'eval_metric': 'auc',\n",
    "         'max_depth': 3,\n",
    "         'lambda': 300,\n",
    "         'gamma':0.15,\n",
    "         'subsample': 0.75,\n",
    "         'colsample_bytree': 0.5,\n",
    "         'colsample_bylevel': 1,\n",
    "         'colsample_bynode': 0.75,\n",
    "         'min_child_weight': 30,\n",
    "         'eta': 0.03,\n",
    "         'seed': 0,\n",
    "         'silent': 1,\n",
    "         'n_fold': 5,\n",
    "         'scale_pos_weight':1}\n",
    "params3 = {'booster': 'gbtree',\n",
    "         'objective': 'binary:logistic',\n",
    "         'eval_metric': 'auc',\n",
    "         'max_depth': 3,\n",
    "         'lambda': 80,\n",
    "         'gamma':0.2,\n",
    "         'subsample': 0.75,\n",
    "         'colsample_bytree': 0.75,\n",
    "         'colsample_bylevel': 0.5,\n",
    "         'colsample_bynode': 1,\n",
    "         'min_child_weight': 20,\n",
    "         'eta': 0.028,\n",
    "         'seed': 0,\n",
    "         'silent': 1,\n",
    "         'n_fold': 5,\n",
    "         'scale_pos_weight':1}\n",
    "num_round=600"
   ]
  },
  {
   "cell_type": "code",
   "execution_count": 120,
   "metadata": {},
   "outputs": [
    {
     "name": "stdout",
     "output_type": "stream",
     "text": [
      "train:0.7647171088025331\n"
     ]
    },
    {
     "data": {
      "text/plain": [
       "0.7470036326356891"
      ]
     },
     "execution_count": 120,
     "metadata": {},
     "output_type": "execute_result"
    }
   ],
   "source": [
    "bst = xgb.train(params, dtrain, num_round)\n",
    "preds = bst.predict(dtest)\n",
    "print('train:{}'.format(auc(Ytrain, bst.predict(dtrain))))\n",
    "auc(Ytest, preds)"
   ]
  },
  {
   "cell_type": "code",
   "execution_count": 187,
   "metadata": {},
   "outputs": [
    {
     "name": "stdout",
     "output_type": "stream",
     "text": [
      "train:0.7595616032366613\n"
     ]
    },
    {
     "data": {
      "text/plain": [
       "0.7461310748689707"
      ]
     },
     "execution_count": 187,
     "metadata": {},
     "output_type": "execute_result"
    }
   ],
   "source": [
    "bst = xgb.train(params1, dtrain, num_round)\n",
    "preds = bst.predict(dtest)\n",
    "print('train:{}'.format(auc(Ytrain, bst.predict(dtrain))))\n",
    "auc(Ytest, preds)"
   ]
  },
  {
   "cell_type": "code",
   "execution_count": 186,
   "metadata": {},
   "outputs": [
    {
     "name": "stdout",
     "output_type": "stream",
     "text": [
      "train:0.759291232294717\n"
     ]
    },
    {
     "data": {
      "text/plain": [
       "0.7460148070457302"
      ]
     },
     "execution_count": 186,
     "metadata": {},
     "output_type": "execute_result"
    }
   ],
   "source": [
    "bst = xgb.train(params1, dtrain, 590)\n",
    "preds = bst.predict(dtest)\n",
    "print('train:{}'.format(auc(Ytrain, bst.predict(dtrain))))\n",
    "auc(Ytest, preds)"
   ]
  },
  {
   "cell_type": "code",
   "execution_count": 174,
   "metadata": {},
   "outputs": [
    {
     "name": "stdout",
     "output_type": "stream",
     "text": [
      "train:0.7648282344366911\n"
     ]
    },
    {
     "data": {
      "text/plain": [
       "0.747033662999102"
      ]
     },
     "execution_count": 174,
     "metadata": {},
     "output_type": "execute_result"
    }
   ],
   "source": [
    "bst = xgb.train(params3, dtrain, num_round)\n",
    "preds = bst.predict(dtest)\n",
    "print('train:{}'.format(auc(Ytrain, bst.predict(dtrain))))\n",
    "auc(Ytest, preds)"
   ]
  },
  {
   "cell_type": "code",
   "execution_count": 141,
   "metadata": {
    "scrolled": true
   },
   "outputs": [
    {
     "name": "stdout",
     "output_type": "stream",
     "text": [
      "train:0.7587315204383892\n"
     ]
    },
    {
     "data": {
      "text/plain": [
       "0.7459506530845297"
      ]
     },
     "execution_count": 141,
     "metadata": {},
     "output_type": "execute_result"
    }
   ],
   "source": [
    "bst = xgb.train(params2, dtrain, num_round)\n",
    "preds = bst.predict(dtest)\n",
    "print('train:{}'.format(auc(Ytrain, bst.predict(dtrain))))\n",
    "auc(Ytest, preds)"
   ]
  },
  {
   "cell_type": "code",
   "execution_count": 98,
   "metadata": {},
   "outputs": [],
   "source": [
    "from time import time\n",
    "import datetime\n",
    "\n",
    "# (y==1).sum()/len(y)"
   ]
  },
  {
   "cell_type": "code",
   "execution_count": 188,
   "metadata": {},
   "outputs": [],
   "source": [
    "params_ = {'booster': 'gbtree',\n",
    "         'objective': 'binary:logistic',\n",
    "         'eval_metric': 'auc',\n",
    "         'max_depth': 3,\n",
    "         'lambda': 300,\n",
    "         'gamma':0.1,\n",
    "         'subsample': 1,\n",
    "         'colsample_bytree': 0.75,\n",
    "         'colsample_bylevel': 0.5,\n",
    "         'colsample_bynode': 1,\n",
    "         'min_child_weight': 5,\n",
    "         'eta': 0.028,\n",
    "         'seed': 0,\n",
    "         'silent': 1,\n",
    "         'n_fold': 5,\n",
    "         'scale_pos_weight':1}\n",
    "num_round=600"
   ]
  },
  {
   "cell_type": "code",
   "execution_count": 189,
   "metadata": {},
   "outputs": [],
   "source": [
    "bst = xgb.train(params_, dfull, num_round)"
   ]
  },
  {
   "cell_type": "code",
   "execution_count": 190,
   "metadata": {},
   "outputs": [
    {
     "data": {
      "text/plain": [
       "['./b/xgboost-fintech-joblib_4.dat']"
      ]
     },
     "execution_count": 190,
     "metadata": {},
     "output_type": "execute_result"
    }
   ],
   "source": [
    "import joblib\n",
    "\n",
    "joblib.dump(bst, './b/xgboost-fintech-joblib_4.dat')"
   ]
  },
  {
   "cell_type": "code",
   "execution_count": 192,
   "metadata": {},
   "outputs": [
    {
     "data": {
      "text/plain": [
       "0.7626988503242761"
      ]
     },
     "execution_count": 192,
     "metadata": {},
     "output_type": "execute_result"
    }
   ],
   "source": [
    "loaded_model_joblib = joblib.load('./b/xgboost-fintech-joblib_4.dat')\n",
    "preds = loaded_model_joblib.predict(dtest)\n",
    "\n",
    "auc(Ytest, preds)"
   ]
  },
  {
   "cell_type": "code",
   "execution_count": 195,
   "metadata": {},
   "outputs": [],
   "source": [
    "data_test_ = test_data_.copy()"
   ]
  },
  {
   "cell_type": "code",
   "execution_count": 196,
   "metadata": {},
   "outputs": [
    {
     "data": {
      "text/plain": [
       "(4000, 83)"
      ]
     },
     "execution_count": 196,
     "metadata": {},
     "output_type": "execute_result"
    }
   ],
   "source": [
    "test_data_feature = data_test_.drop(['id'], axis=1)\n",
    "user_id = data_test_['id']\n",
    "test_data_feature.shape"
   ]
  },
  {
   "cell_type": "code",
   "execution_count": 197,
   "metadata": {},
   "outputs": [],
   "source": [
    "dtest_a = xgb.DMatrix(test_data_feature)"
   ]
  },
  {
   "cell_type": "code",
   "execution_count": 198,
   "metadata": {},
   "outputs": [],
   "source": [
    "data_test_['preds'] = loaded_model_joblib.predict(dtest_a)"
   ]
  },
  {
   "cell_type": "code",
   "execution_count": 199,
   "metadata": {},
   "outputs": [],
   "source": [
    "output_a = data_test_.loc[:,['id', 'preds']]"
   ]
  },
  {
   "cell_type": "code",
   "execution_count": 200,
   "metadata": {},
   "outputs": [],
   "source": [
    "output_a.to_csv('./b/submit_b_4.txt', sep='\\t',header=None, index=False, encoding='utf8')"
   ]
  },
  {
   "cell_type": "code",
   "execution_count": 201,
   "metadata": {},
   "outputs": [],
   "source": [
    "from sklearn.linear_model import LogisticRegression as LR"
   ]
  },
  {
   "cell_type": "code",
   "execution_count": 202,
   "metadata": {},
   "outputs": [],
   "source": [
    "LR_ = LR()"
   ]
  },
  {
   "cell_type": "code",
   "execution_count": 203,
   "metadata": {
    "collapsed": true
   },
   "outputs": [
    {
     "name": "stderr",
     "output_type": "stream",
     "text": [
      "/home/esterl/anaconda3/lib/python3.6/site-packages/sklearn/linear_model/logistic.py:432: FutureWarning: Default solver will be changed to 'lbfgs' in 0.22. Specify a solver to silence this warning.\n",
      "  FutureWarning)\n"
     ]
    },
    {
     "ename": "ValueError",
     "evalue": "Input contains NaN, infinity or a value too large for dtype('float64').",
     "output_type": "error",
     "traceback": [
      "\u001b[0;31m---------------------------------------------------------------------------\u001b[0m",
      "\u001b[0;31mValueError\u001b[0m                                Traceback (most recent call last)",
      "\u001b[0;32m<ipython-input-203-1c0892fc8f4f>\u001b[0m in \u001b[0;36m<module>\u001b[0;34m\u001b[0m\n\u001b[0;32m----> 1\u001b[0;31m \u001b[0mLR_\u001b[0m \u001b[0;34m=\u001b[0m \u001b[0mLR_\u001b[0m\u001b[0;34m.\u001b[0m\u001b[0mfit\u001b[0m\u001b[0;34m(\u001b[0m\u001b[0mXtrain\u001b[0m\u001b[0;34m,\u001b[0m \u001b[0mYtrain\u001b[0m\u001b[0;34m)\u001b[0m\u001b[0;34m\u001b[0m\u001b[0;34m\u001b[0m\u001b[0m\n\u001b[0m",
      "\u001b[0;32m~/anaconda3/lib/python3.6/site-packages/sklearn/linear_model/logistic.py\u001b[0m in \u001b[0;36mfit\u001b[0;34m(self, X, y, sample_weight)\u001b[0m\n\u001b[1;32m   1530\u001b[0m \u001b[0;34m\u001b[0m\u001b[0m\n\u001b[1;32m   1531\u001b[0m         X, y = check_X_y(X, y, accept_sparse='csr', dtype=_dtype, order=\"C\",\n\u001b[0;32m-> 1532\u001b[0;31m                          accept_large_sparse=solver != 'liblinear')\n\u001b[0m\u001b[1;32m   1533\u001b[0m         \u001b[0mcheck_classification_targets\u001b[0m\u001b[0;34m(\u001b[0m\u001b[0my\u001b[0m\u001b[0;34m)\u001b[0m\u001b[0;34m\u001b[0m\u001b[0;34m\u001b[0m\u001b[0m\n\u001b[1;32m   1534\u001b[0m         \u001b[0mself\u001b[0m\u001b[0;34m.\u001b[0m\u001b[0mclasses_\u001b[0m \u001b[0;34m=\u001b[0m \u001b[0mnp\u001b[0m\u001b[0;34m.\u001b[0m\u001b[0munique\u001b[0m\u001b[0;34m(\u001b[0m\u001b[0my\u001b[0m\u001b[0;34m)\u001b[0m\u001b[0;34m\u001b[0m\u001b[0;34m\u001b[0m\u001b[0m\n",
      "\u001b[0;32m~/anaconda3/lib/python3.6/site-packages/sklearn/utils/validation.py\u001b[0m in \u001b[0;36mcheck_X_y\u001b[0;34m(X, y, accept_sparse, accept_large_sparse, dtype, order, copy, force_all_finite, ensure_2d, allow_nd, multi_output, ensure_min_samples, ensure_min_features, y_numeric, warn_on_dtype, estimator)\u001b[0m\n\u001b[1;32m    717\u001b[0m                     \u001b[0mensure_min_features\u001b[0m\u001b[0;34m=\u001b[0m\u001b[0mensure_min_features\u001b[0m\u001b[0;34m,\u001b[0m\u001b[0;34m\u001b[0m\u001b[0;34m\u001b[0m\u001b[0m\n\u001b[1;32m    718\u001b[0m                     \u001b[0mwarn_on_dtype\u001b[0m\u001b[0;34m=\u001b[0m\u001b[0mwarn_on_dtype\u001b[0m\u001b[0;34m,\u001b[0m\u001b[0;34m\u001b[0m\u001b[0;34m\u001b[0m\u001b[0m\n\u001b[0;32m--> 719\u001b[0;31m                     estimator=estimator)\n\u001b[0m\u001b[1;32m    720\u001b[0m     \u001b[0;32mif\u001b[0m \u001b[0mmulti_output\u001b[0m\u001b[0;34m:\u001b[0m\u001b[0;34m\u001b[0m\u001b[0;34m\u001b[0m\u001b[0m\n\u001b[1;32m    721\u001b[0m         y = check_array(y, 'csr', force_all_finite=True, ensure_2d=False,\n",
      "\u001b[0;32m~/anaconda3/lib/python3.6/site-packages/sklearn/utils/validation.py\u001b[0m in \u001b[0;36mcheck_array\u001b[0;34m(array, accept_sparse, accept_large_sparse, dtype, order, copy, force_all_finite, ensure_2d, allow_nd, ensure_min_samples, ensure_min_features, warn_on_dtype, estimator)\u001b[0m\n\u001b[1;32m    540\u001b[0m         \u001b[0;32mif\u001b[0m \u001b[0mforce_all_finite\u001b[0m\u001b[0;34m:\u001b[0m\u001b[0;34m\u001b[0m\u001b[0;34m\u001b[0m\u001b[0m\n\u001b[1;32m    541\u001b[0m             _assert_all_finite(array,\n\u001b[0;32m--> 542\u001b[0;31m                                allow_nan=force_all_finite == 'allow-nan')\n\u001b[0m\u001b[1;32m    543\u001b[0m \u001b[0;34m\u001b[0m\u001b[0m\n\u001b[1;32m    544\u001b[0m     \u001b[0;32mif\u001b[0m \u001b[0mensure_min_samples\u001b[0m \u001b[0;34m>\u001b[0m \u001b[0;36m0\u001b[0m\u001b[0;34m:\u001b[0m\u001b[0;34m\u001b[0m\u001b[0;34m\u001b[0m\u001b[0m\n",
      "\u001b[0;32m~/anaconda3/lib/python3.6/site-packages/sklearn/utils/validation.py\u001b[0m in \u001b[0;36m_assert_all_finite\u001b[0;34m(X, allow_nan)\u001b[0m\n\u001b[1;32m     54\u001b[0m                 not allow_nan and not np.isfinite(X).all()):\n\u001b[1;32m     55\u001b[0m             \u001b[0mtype_err\u001b[0m \u001b[0;34m=\u001b[0m \u001b[0;34m'infinity'\u001b[0m \u001b[0;32mif\u001b[0m \u001b[0mallow_nan\u001b[0m \u001b[0;32melse\u001b[0m \u001b[0;34m'NaN, infinity'\u001b[0m\u001b[0;34m\u001b[0m\u001b[0;34m\u001b[0m\u001b[0m\n\u001b[0;32m---> 56\u001b[0;31m             \u001b[0;32mraise\u001b[0m \u001b[0mValueError\u001b[0m\u001b[0;34m(\u001b[0m\u001b[0mmsg_err\u001b[0m\u001b[0;34m.\u001b[0m\u001b[0mformat\u001b[0m\u001b[0;34m(\u001b[0m\u001b[0mtype_err\u001b[0m\u001b[0;34m,\u001b[0m \u001b[0mX\u001b[0m\u001b[0;34m.\u001b[0m\u001b[0mdtype\u001b[0m\u001b[0;34m)\u001b[0m\u001b[0;34m)\u001b[0m\u001b[0;34m\u001b[0m\u001b[0;34m\u001b[0m\u001b[0m\n\u001b[0m\u001b[1;32m     57\u001b[0m     \u001b[0;31m# for object dtype data, we only check for NaNs (GH-13254)\u001b[0m\u001b[0;34m\u001b[0m\u001b[0;34m\u001b[0m\u001b[0;34m\u001b[0m\u001b[0m\n\u001b[1;32m     58\u001b[0m     \u001b[0;32melif\u001b[0m \u001b[0mX\u001b[0m\u001b[0;34m.\u001b[0m\u001b[0mdtype\u001b[0m \u001b[0;34m==\u001b[0m \u001b[0mnp\u001b[0m\u001b[0;34m.\u001b[0m\u001b[0mdtype\u001b[0m\u001b[0;34m(\u001b[0m\u001b[0;34m'object'\u001b[0m\u001b[0;34m)\u001b[0m \u001b[0;32mand\u001b[0m \u001b[0;32mnot\u001b[0m \u001b[0mallow_nan\u001b[0m\u001b[0;34m:\u001b[0m\u001b[0;34m\u001b[0m\u001b[0;34m\u001b[0m\u001b[0m\n",
      "\u001b[0;31mValueError\u001b[0m: Input contains NaN, infinity or a value too large for dtype('float64')."
     ]
    }
   ],
   "source": [
    "LR_ = LR_.fit(Xtrain, Ytrain)"
   ]
  },
  {
   "cell_type": "code",
   "execution_count": 205,
   "metadata": {},
   "outputs": [
    {
     "data": {
      "text/plain": [
       "gdr_cd         0\n",
       "age            0\n",
       "mrg_situ_cd    0\n",
       "edu_deg_cd     0\n",
       "acdm_deg_cd    0\n",
       "              ..\n",
       "LCT            0\n",
       "FDA            0\n",
       "SYK            0\n",
       "JJD            0\n",
       "ZY1            0\n",
       "Length: 83, dtype: int64"
      ]
     },
     "execution_count": 205,
     "metadata": {},
     "output_type": "execute_result"
    }
   ],
   "source": [
    "Xtrain.isnull().sum()"
   ]
  }
 ],
 "metadata": {
  "kernelspec": {
   "display_name": "Python 3",
   "language": "python",
   "name": "python3"
  },
  "language_info": {
   "codemirror_mode": {
    "name": "ipython",
    "version": 3
   },
   "file_extension": ".py",
   "mimetype": "text/x-python",
   "name": "python",
   "nbconvert_exporter": "python",
   "pygments_lexer": "ipython3",
   "version": "3.6.9"
  }
 },
 "nbformat": 4,
 "nbformat_minor": 2
}
