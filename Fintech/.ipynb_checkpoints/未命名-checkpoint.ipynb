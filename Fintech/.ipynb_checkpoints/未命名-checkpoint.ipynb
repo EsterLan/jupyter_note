{
 "cells": [
  {
   "cell_type": "code",
   "execution_count": 1,
   "metadata": {},
   "outputs": [],
   "source": [
    "import numpy as np\n",
    "import pandas as pd\n",
    "import matplotlib.pyplot as plt\n",
    "from sklearn.model_selection import train_test_split\n",
    "from sklearn.metrics import roc_auc_score as auc"
   ]
  },
  {
   "cell_type": "code",
   "execution_count": 2,
   "metadata": {},
   "outputs": [],
   "source": [
    "data_train_trd = pd.read_csv('./训练数据集1/训练数据集_trd.csv')\n",
    "data_train_beh = pd.read_csv('./训练数据集1/训练数据集_beh.csv')\n",
    "test_trd = pd.read_csv('./b/评分数据集_trd_b.csv')\n",
    "test_beh = pd.read_csv('./b/评分数据集_beh_b.csv')"
   ]
  },
  {
   "cell_type": "markdown",
   "metadata": {},
   "source": [
    "## 对beh表的所有pg_no进行挖掘"
   ]
  },
  {
   "cell_type": "code",
   "execution_count": 3,
   "metadata": {},
   "outputs": [],
   "source": [
    "def beh_pg_train(code):\n",
    "    output_dict = {}\n",
    "    with open('./训练数据集1/训练数据集_beh.csv') as f:\n",
    "        for line_num, line in enumerate(f):\n",
    "            if line_num >0:\n",
    "                user = line.split(',')[0]\n",
    "                pay_way = line.split(',')[2]\n",
    "                Trx1_1 = 0\n",
    "                if user in output_dict:\n",
    "                    Trx1_1 += output_dict[user]\n",
    "                    if pay_way == code:\n",
    "                        Trx1_1 += 1\n",
    "                        output_dict.update({user:Trx1_1}) # update当前指标加上原指标\n",
    "                        continue\n",
    "                else:\n",
    "                    if pay_way == code:\n",
    "                        Trx1_1 = 1\n",
    "                    output_dict.update({user:Trx1_1})\n",
    "    output_list = [{'user':k, code:v} for k, v in output_dict.items()]\n",
    "    Trx1_1_df = pd.DataFrame(output_list)\n",
    "    return Trx1_1_df"
   ]
  },
  {
   "cell_type": "code",
   "execution_count": 7,
   "metadata": {},
   "outputs": [],
   "source": [
    "ind = list(data_train_beh.page_no.value_counts().index)"
   ]
  },
  {
   "cell_type": "code",
   "execution_count": 9,
   "metadata": {
    "collapsed": true
   },
   "outputs": [
    {
     "data": {
      "text/plain": [
       "['CQA',\n",
       " 'CQE',\n",
       " 'AAO',\n",
       " 'TRN',\n",
       " 'XAI',\n",
       " 'MSG',\n",
       " 'FTR',\n",
       " 'SZA',\n",
       " 'BWA',\n",
       " 'CTR',\n",
       " 'XAG',\n",
       " 'CQD',\n",
       " 'SZD',\n",
       " 'CQC',\n",
       " 'EGA',\n",
       " 'GBA',\n",
       " 'CQB',\n",
       " 'LC0',\n",
       " 'BWE',\n",
       " 'JF2',\n",
       " 'JJK',\n",
       " 'EGB',\n",
       " 'MTA',\n",
       " 'FLS',\n",
       " 'LCT',\n",
       " 'FDA',\n",
       " 'SYK',\n",
       " 'JJD',\n",
       " 'ZY1']"
      ]
     },
     "execution_count": 9,
     "metadata": {},
     "output_type": "execute_result"
    }
   ],
   "source": [
    "ind"
   ]
  },
  {
   "cell_type": "code",
   "execution_count": 10,
   "metadata": {},
   "outputs": [],
   "source": [
    "train_pg_no = beh_pg_train('CQA')"
   ]
  },
  {
   "cell_type": "code",
   "execution_count": 12,
   "metadata": {},
   "outputs": [],
   "source": [
    "for code in ind[1:]:\n",
    "    cur = beh_pg_train(code)\n",
    "    train_pg_no = pd.merge(train_pg_no, cur, how='left', left_on='user', right_on='user')"
   ]
  },
  {
   "cell_type": "code",
   "execution_count": 13,
   "metadata": {
    "collapsed": true
   },
   "outputs": [
    {
     "data": {
      "text/html": [
       "<div>\n",
       "<style scoped>\n",
       "    .dataframe tbody tr th:only-of-type {\n",
       "        vertical-align: middle;\n",
       "    }\n",
       "\n",
       "    .dataframe tbody tr th {\n",
       "        vertical-align: top;\n",
       "    }\n",
       "\n",
       "    .dataframe thead th {\n",
       "        text-align: right;\n",
       "    }\n",
       "</style>\n",
       "<table border=\"1\" class=\"dataframe\">\n",
       "  <thead>\n",
       "    <tr style=\"text-align: right;\">\n",
       "      <th></th>\n",
       "      <th>user</th>\n",
       "      <th>CQA</th>\n",
       "      <th>CQE</th>\n",
       "      <th>AAO</th>\n",
       "      <th>TRN</th>\n",
       "      <th>XAI</th>\n",
       "      <th>MSG</th>\n",
       "      <th>FTR</th>\n",
       "      <th>SZA</th>\n",
       "      <th>BWA</th>\n",
       "      <th>...</th>\n",
       "      <th>JF2</th>\n",
       "      <th>JJK</th>\n",
       "      <th>EGB</th>\n",
       "      <th>MTA</th>\n",
       "      <th>FLS</th>\n",
       "      <th>LCT</th>\n",
       "      <th>FDA</th>\n",
       "      <th>SYK</th>\n",
       "      <th>JJD</th>\n",
       "      <th>ZY1</th>\n",
       "    </tr>\n",
       "  </thead>\n",
       "  <tbody>\n",
       "    <tr>\n",
       "      <td>0</td>\n",
       "      <td>U64F0C9</td>\n",
       "      <td>4</td>\n",
       "      <td>7</td>\n",
       "      <td>6</td>\n",
       "      <td>0</td>\n",
       "      <td>0</td>\n",
       "      <td>0</td>\n",
       "      <td>0</td>\n",
       "      <td>2</td>\n",
       "      <td>0</td>\n",
       "      <td>...</td>\n",
       "      <td>0</td>\n",
       "      <td>0</td>\n",
       "      <td>0</td>\n",
       "      <td>0</td>\n",
       "      <td>0</td>\n",
       "      <td>0</td>\n",
       "      <td>0</td>\n",
       "      <td>0</td>\n",
       "      <td>0</td>\n",
       "      <td>0</td>\n",
       "    </tr>\n",
       "    <tr>\n",
       "      <td>1</td>\n",
       "      <td>UA262F2</td>\n",
       "      <td>2</td>\n",
       "      <td>0</td>\n",
       "      <td>0</td>\n",
       "      <td>0</td>\n",
       "      <td>0</td>\n",
       "      <td>0</td>\n",
       "      <td>0</td>\n",
       "      <td>0</td>\n",
       "      <td>0</td>\n",
       "      <td>...</td>\n",
       "      <td>0</td>\n",
       "      <td>0</td>\n",
       "      <td>0</td>\n",
       "      <td>0</td>\n",
       "      <td>0</td>\n",
       "      <td>0</td>\n",
       "      <td>0</td>\n",
       "      <td>0</td>\n",
       "      <td>0</td>\n",
       "      <td>0</td>\n",
       "    </tr>\n",
       "    <tr>\n",
       "      <td>2</td>\n",
       "      <td>U7EDD34</td>\n",
       "      <td>3</td>\n",
       "      <td>4</td>\n",
       "      <td>0</td>\n",
       "      <td>0</td>\n",
       "      <td>7</td>\n",
       "      <td>0</td>\n",
       "      <td>0</td>\n",
       "      <td>0</td>\n",
       "      <td>2</td>\n",
       "      <td>...</td>\n",
       "      <td>0</td>\n",
       "      <td>0</td>\n",
       "      <td>0</td>\n",
       "      <td>0</td>\n",
       "      <td>0</td>\n",
       "      <td>0</td>\n",
       "      <td>0</td>\n",
       "      <td>0</td>\n",
       "      <td>0</td>\n",
       "      <td>0</td>\n",
       "    </tr>\n",
       "    <tr>\n",
       "      <td>3</td>\n",
       "      <td>UFF6271</td>\n",
       "      <td>17</td>\n",
       "      <td>0</td>\n",
       "      <td>0</td>\n",
       "      <td>0</td>\n",
       "      <td>0</td>\n",
       "      <td>7</td>\n",
       "      <td>0</td>\n",
       "      <td>0</td>\n",
       "      <td>0</td>\n",
       "      <td>...</td>\n",
       "      <td>0</td>\n",
       "      <td>0</td>\n",
       "      <td>0</td>\n",
       "      <td>0</td>\n",
       "      <td>0</td>\n",
       "      <td>0</td>\n",
       "      <td>0</td>\n",
       "      <td>0</td>\n",
       "      <td>0</td>\n",
       "      <td>0</td>\n",
       "    </tr>\n",
       "    <tr>\n",
       "      <td>4</td>\n",
       "      <td>U29A12A</td>\n",
       "      <td>19</td>\n",
       "      <td>12</td>\n",
       "      <td>8</td>\n",
       "      <td>0</td>\n",
       "      <td>6</td>\n",
       "      <td>6</td>\n",
       "      <td>0</td>\n",
       "      <td>1</td>\n",
       "      <td>1</td>\n",
       "      <td>...</td>\n",
       "      <td>0</td>\n",
       "      <td>0</td>\n",
       "      <td>0</td>\n",
       "      <td>0</td>\n",
       "      <td>0</td>\n",
       "      <td>0</td>\n",
       "      <td>0</td>\n",
       "      <td>0</td>\n",
       "      <td>0</td>\n",
       "      <td>0</td>\n",
       "    </tr>\n",
       "  </tbody>\n",
       "</table>\n",
       "<p>5 rows × 30 columns</p>\n",
       "</div>"
      ],
      "text/plain": [
       "      user  CQA  CQE  AAO  TRN  XAI  MSG  FTR  SZA  BWA  ...  JF2  JJK  EGB  \\\n",
       "0  U64F0C9    4    7    6    0    0    0    0    2    0  ...    0    0    0   \n",
       "1  UA262F2    2    0    0    0    0    0    0    0    0  ...    0    0    0   \n",
       "2  U7EDD34    3    4    0    0    7    0    0    0    2  ...    0    0    0   \n",
       "3  UFF6271   17    0    0    0    0    7    0    0    0  ...    0    0    0   \n",
       "4  U29A12A   19   12    8    0    6    6    0    1    1  ...    0    0    0   \n",
       "\n",
       "   MTA  FLS  LCT  FDA  SYK  JJD  ZY1  \n",
       "0    0    0    0    0    0    0    0  \n",
       "1    0    0    0    0    0    0    0  \n",
       "2    0    0    0    0    0    0    0  \n",
       "3    0    0    0    0    0    0    0  \n",
       "4    0    0    0    0    0    0    0  \n",
       "\n",
       "[5 rows x 30 columns]"
      ]
     },
     "execution_count": 13,
     "metadata": {},
     "output_type": "execute_result"
    }
   ],
   "source": [
    "train_pg_no.head()"
   ]
  },
  {
   "cell_type": "code",
   "execution_count": 14,
   "metadata": {},
   "outputs": [],
   "source": [
    "def beh_pg_test(code):\n",
    "    output_dict = {}\n",
    "    with open('./b/评分数据集_beh_b.csv') as f:\n",
    "        for line_num, line in enumerate(f):\n",
    "            if line_num >0:\n",
    "                user = line.split(',')[0]\n",
    "                pay_way = line.split(',')[1]\n",
    "                Trx1_1 = 0\n",
    "                if user in output_dict:\n",
    "                    Trx1_1 += output_dict[user]\n",
    "                    if pay_way == code:\n",
    "                        Trx1_1 += 1\n",
    "                        output_dict.update({user:Trx1_1}) # update当前指标加上原指标\n",
    "                        continue\n",
    "                else:\n",
    "                    if pay_way == code:\n",
    "                        Trx1_1 = 1\n",
    "                    output_dict.update({user:Trx1_1})\n",
    "    output_list = [{'user':k, code:v} for k, v in output_dict.items()]\n",
    "    Trx1_1_df = pd.DataFrame(output_list)\n",
    "    return Trx1_1_df"
   ]
  },
  {
   "cell_type": "code",
   "execution_count": 16,
   "metadata": {},
   "outputs": [],
   "source": [
    "test_pg_no = beh_pg_test('CQA')"
   ]
  },
  {
   "cell_type": "code",
   "execution_count": 19,
   "metadata": {},
   "outputs": [],
   "source": [
    "for code in ind[1:]:\n",
    "    cur = beh_pg_test(code)\n",
    "    test_pg_no = pd.merge(test_pg_no, cur, how='left', left_on='user', right_on='user')"
   ]
  },
  {
   "cell_type": "code",
   "execution_count": 20,
   "metadata": {},
   "outputs": [],
   "source": [
    "# beh训练集\n",
    "user_pgTimes = pd.DataFrame(data_train_beh.id.value_counts())\n",
    "user_pgTimes['index'] = user_pgTimes.index\n",
    "user_pgTimes.index = range(len(user_pgTimes))\n",
    "user_pgTimes.columns = ['pg_times', 'user']\n",
    "user_pgTimes = user_pgTimes[['user', 'pg_times']]"
   ]
  },
  {
   "cell_type": "code",
   "execution_count": 21,
   "metadata": {},
   "outputs": [
    {
     "data": {
      "text/plain": [
       "(1232, 2)"
      ]
     },
     "execution_count": 21,
     "metadata": {},
     "output_type": "execute_result"
    }
   ],
   "source": [
    "# beh测试集\n",
    "test_user_pgTimes = pd.DataFrame(test_beh.id.value_counts())\n",
    "test_user_pgTimes['index'] = test_user_pgTimes.index\n",
    "test_user_pgTimes.index = range(len(test_user_pgTimes))\n",
    "test_user_pgTimes.columns = ['pg_times', 'user']\n",
    "test_user_pgTimes = test_user_pgTimes[['user', 'pg_times']]\n",
    "test_user_pgTimes.shape"
   ]
  },
  {
   "cell_type": "code",
   "execution_count": 22,
   "metadata": {},
   "outputs": [
    {
     "data": {
      "text/plain": [
       "(11913, 31)"
      ]
     },
     "execution_count": 22,
     "metadata": {},
     "output_type": "execute_result"
    }
   ],
   "source": [
    "train_beh = pd.merge(user_pgTimes, train_pg_no, how='left', left_on='user', right_on='user')\n",
    "train_beh.shape"
   ]
  },
  {
   "cell_type": "code",
   "execution_count": 23,
   "metadata": {},
   "outputs": [
    {
     "data": {
      "text/plain": [
       "(1232, 31)"
      ]
     },
     "execution_count": 23,
     "metadata": {},
     "output_type": "execute_result"
    }
   ],
   "source": [
    "test_beh = pd.merge(test_user_pgTimes, test_pg_no, how='left', left_on='user', right_on='user')\n",
    "test_beh.shape"
   ]
  },
  {
   "cell_type": "markdown",
   "metadata": {},
   "source": [
    "## 合并数据 填充众数"
   ]
  },
  {
   "cell_type": "code",
   "execution_count": 24,
   "metadata": {},
   "outputs": [],
   "source": [
    "train_tag = pd.read_csv('./训练数据集1/train_tag_Ori.csv')\n",
    "test_tag = pd.read_csv('./b/test_tag_Ori.csv')"
   ]
  },
  {
   "cell_type": "code",
   "execution_count": 25,
   "metadata": {},
   "outputs": [],
   "source": [
    "train_trd_mf = pd.read_csv('./tide_up/train_trd_mf.csv')\n",
    "test_trd_mf = pd.read_csv('./tide_up/test_trd_mf.csv')"
   ]
  },
  {
   "cell_type": "code",
   "execution_count": 27,
   "metadata": {},
   "outputs": [
    {
     "data": {
      "text/plain": [
       "(39923, 55)"
      ]
     },
     "execution_count": 27,
     "metadata": {},
     "output_type": "execute_result"
    }
   ],
   "source": [
    "train_data_mf = pd.merge(train_tag, train_trd_mf, how='left', left_on='id', right_on='user')\n",
    "train_data_mf.drop(['user'], axis=1, inplace=True)\n",
    "train_data_mf.shape"
   ]
  },
  {
   "cell_type": "code",
   "execution_count": 28,
   "metadata": {},
   "outputs": [
    {
     "data": {
      "text/plain": [
       "(39923, 85)"
      ]
     },
     "execution_count": 28,
     "metadata": {},
     "output_type": "execute_result"
    }
   ],
   "source": [
    "train_data_mf = pd.merge(train_data_mf, train_beh, how='left', left_on='id', right_on='user')\n",
    "train_data_mf.drop(['user'], axis=1, inplace=True)\n",
    "train_data_mf.shape"
   ]
  },
  {
   "cell_type": "code",
   "execution_count": 37,
   "metadata": {
    "collapsed": true
   },
   "outputs": [
    {
     "name": "stdout",
     "output_type": "stream",
     "text": [
      "<class 'pandas.core.frame.DataFrame'>\n",
      "Int64Index: 39923 entries, 0 to 39922\n",
      "Data columns (total 85 columns):\n",
      "id                                 39923 non-null object\n",
      "flag                               39923 non-null float64\n",
      "gdr_cd                             39923 non-null float64\n",
      "age                                39923 non-null int64\n",
      "mrg_situ_cd                        39923 non-null float64\n",
      "edu_deg_cd                         39923 non-null float64\n",
      "acdm_deg_cd                        39923 non-null float64\n",
      "deg_cd                             39923 non-null float64\n",
      "job_year                           39923 non-null int64\n",
      "ic_ind                             39923 non-null float64\n",
      "fr_or_sh_ind                       39923 non-null float64\n",
      "dnl_mbl_bnk_ind                    39923 non-null float64\n",
      "dnl_bind_cmb_lif_ind               39923 non-null float64\n",
      "hav_car_grp_ind                    39923 non-null float64\n",
      "hav_hou_grp_ind                    39923 non-null float64\n",
      "l6mon_agn_ind                      39923 non-null float64\n",
      "frs_agn_dt_cnt                     39923 non-null int64\n",
      "vld_rsk_ases_ind                   39923 non-null float64\n",
      "fin_rsk_ases_grd_cd                39923 non-null int64\n",
      "confirm_rsk_ases_lvl_typ_cd        39923 non-null float64\n",
      "cust_inv_rsk_endu_lvl_cd           39923 non-null float64\n",
      "l6mon_daim_aum_cd                  39923 non-null int64\n",
      "tot_ast_lvl_cd                     39923 non-null float64\n",
      "pot_ast_lvl_cd                     39923 non-null float64\n",
      "bk1_cur_year_mon_avg_agn_amt_cd    39923 non-null int64\n",
      "l12mon_buy_fin_mng_whl_tms         39923 non-null int64\n",
      "l12_mon_fnd_buy_whl_tms            39923 non-null int64\n",
      "l12_mon_insu_buy_whl_tms           39923 non-null int64\n",
      "l12_mon_gld_buy_whl_tms            39923 non-null int64\n",
      "loan_act_ind                       39923 non-null float64\n",
      "pl_crd_lmt_cd                      39923 non-null int64\n",
      "ovd_30d_loan_tot_cnt               39923 non-null int64\n",
      "his_lng_ovd_day                    39923 non-null int64\n",
      "hld_crd_card_grd_cd                39923 non-null float64\n",
      "crd_card_act_ind                   39923 non-null float64\n",
      "l1y_crd_card_csm_amt_dlm_cd        39923 non-null int64\n",
      "atdd_type                          39923 non-null float64\n",
      "perm_crd_lmt_cd                    39923 non-null int64\n",
      "cur_debit_cnt                      39923 non-null int64\n",
      "cur_credit_cnt                     39923 non-null int64\n",
      "cur_debit_min_opn_dt_cnt           39923 non-null int64\n",
      "cur_credit_min_opn_dt_cnt          39923 non-null int64\n",
      "cur_debit_crd_lvl                  39923 non-null int64\n",
      "trd_times                          31993 non-null float64\n",
      "total_count                        31993 non-null float64\n",
      "B_out                              31993 non-null float64\n",
      "C_in                               31993 non-null float64\n",
      "out_count                          31993 non-null float64\n",
      "in_count                           31993 non-null float64\n",
      "Flg3_A                             31993 non-null float64\n",
      "Flg3_B                             31993 non-null float64\n",
      "Flg3_C                             31993 non-null float64\n",
      "Trx1_1                             31993 non-null float64\n",
      "Trx1_2                             31993 non-null float64\n",
      "Trx1_3                             31993 non-null float64\n",
      "pg_times                           11913 non-null float64\n",
      "CQA                                11913 non-null float64\n",
      "CQE                                11913 non-null float64\n",
      "AAO                                11913 non-null float64\n",
      "TRN                                11913 non-null float64\n",
      "XAI                                11913 non-null float64\n",
      "MSG                                11913 non-null float64\n",
      "FTR                                11913 non-null float64\n",
      "SZA                                11913 non-null float64\n",
      "BWA                                11913 non-null float64\n",
      "CTR                                11913 non-null float64\n",
      "XAG                                11913 non-null float64\n",
      "CQD                                11913 non-null float64\n",
      "SZD                                11913 non-null float64\n",
      "CQC                                11913 non-null float64\n",
      "EGA                                11913 non-null float64\n",
      "GBA                                11913 non-null float64\n",
      "CQB                                11913 non-null float64\n",
      "LC0                                11913 non-null float64\n",
      "BWE                                11913 non-null float64\n",
      "JF2                                11913 non-null float64\n",
      "JJK                                11913 non-null float64\n",
      "EGB                                11913 non-null float64\n",
      "MTA                                11913 non-null float64\n",
      "FLS                                11913 non-null float64\n",
      "LCT                                11913 non-null float64\n",
      "FDA                                11913 non-null float64\n",
      "SYK                                11913 non-null float64\n",
      "JJD                                11913 non-null float64\n",
      "ZY1                                11913 non-null float64\n",
      "dtypes: float64(64), int64(20), object(1)\n",
      "memory usage: 26.2+ MB\n"
     ]
    }
   ],
   "source": [
    "train_data_mf.info()"
   ]
  },
  {
   "cell_type": "code",
   "execution_count": 38,
   "metadata": {},
   "outputs": [
    {
     "data": {
      "text/plain": [
       "(4000, 54)"
      ]
     },
     "execution_count": 38,
     "metadata": {},
     "output_type": "execute_result"
    }
   ],
   "source": [
    "test_data_mf = pd.merge(test_tag, test_trd_mf, how='left', left_on='id', right_on='user')\n",
    "test_data_mf.drop(['user'], axis=1, inplace=True)\n",
    "test_data_mf.shape"
   ]
  },
  {
   "cell_type": "code",
   "execution_count": 39,
   "metadata": {},
   "outputs": [
    {
     "data": {
      "text/plain": [
       "(4000, 84)"
      ]
     },
     "execution_count": 39,
     "metadata": {},
     "output_type": "execute_result"
    }
   ],
   "source": [
    "test_data_mf = pd.merge(test_data_mf, test_beh, how='left', left_on='id', right_on='user')\n",
    "test_data_mf.drop(['user'], axis=1, inplace=True)\n",
    "test_data_mf.shape"
   ]
  },
  {
   "cell_type": "code",
   "execution_count": 40,
   "metadata": {},
   "outputs": [],
   "source": [
    "train_data_ = train_data_mf.copy()\n",
    "test_data_ = test_data_mf.copy()\n",
    "\n",
    "for i in range(-20,0):\n",
    "    train_data_.iloc[:, i].fillna(train_data_.iloc[:, i].mode()[0], inplace=True)\n",
    "    test_data_.iloc[:, i].fillna(train_data_.iloc[:, i].mode()[0], inplace=True)"
   ]
  },
  {
   "cell_type": "code",
   "execution_count": null,
   "metadata": {},
   "outputs": [],
   "source": []
  }
 ],
 "metadata": {
  "kernelspec": {
   "display_name": "Python 3",
   "language": "python",
   "name": "python3"
  },
  "language_info": {
   "codemirror_mode": {
    "name": "ipython",
    "version": 3
   },
   "file_extension": ".py",
   "mimetype": "text/x-python",
   "name": "python",
   "nbconvert_exporter": "python",
   "pygments_lexer": "ipython3",
   "version": "3.6.9"
  }
 },
 "nbformat": 4,
 "nbformat_minor": 2
}
