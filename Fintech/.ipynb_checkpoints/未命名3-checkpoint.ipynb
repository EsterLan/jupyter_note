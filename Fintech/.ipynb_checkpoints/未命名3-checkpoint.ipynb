{
 "cells": [
  {
   "cell_type": "code",
   "execution_count": 271,
   "metadata": {},
   "outputs": [],
   "source": [
    "import numpy as np\n",
    "import pandas as pd\n",
    "import matplotlib.pyplot as plt\n",
    "from sklearn.model_selection import train_test_split\n",
    "from sklearn.metrics import roc_auc_score as auc"
   ]
  },
  {
   "cell_type": "code",
   "execution_count": 2,
   "metadata": {},
   "outputs": [],
   "source": [
    "\n",
    "data_train_tag = pd.read_csv('./训练数据集1/训练数据集_tag.csv')\n",
    "data_train_trd = pd.read_csv('./训练数据集1/训练数据集_trd.csv')\n",
    "data_train_beh = pd.read_csv('./训练数据集1/训练数据集_beh.csv')\n",
    "\n",
    "test_tag = pd.read_csv('./评分数据集1/评分数据集_tag.csv')\n",
    "test_trd = pd.read_csv('./评分数据集1/评分数据集_trd.csv')\n",
    "test_beh = pd.read_csv('./评分数据集1/评分数据集_beh.csv')\n"
   ]
  },
  {
   "cell_type": "code",
   "execution_count": 3,
   "metadata": {},
   "outputs": [],
   "source": [
    "# beh训练集\n",
    "user_pgTimes = pd.DataFrame(data_train_beh.id.value_counts())\n",
    "user_pgTimes['index'] = user_pgTimes.index\n",
    "user_pgTimes.index = range(len(user_pgTimes))\n",
    "user_pgTimes.columns = ['pg_times', 'user']\n",
    "user_pgTimes = user_pgTimes[['user', 'pg_times']]"
   ]
  },
  {
   "cell_type": "code",
   "execution_count": 4,
   "metadata": {},
   "outputs": [
    {
     "data": {
      "text/plain": [
       "(1844, 2)"
      ]
     },
     "execution_count": 4,
     "metadata": {},
     "output_type": "execute_result"
    }
   ],
   "source": [
    "# beh测试集\n",
    "test_user_pgTimes = pd.DataFrame(test_beh.id.value_counts())\n",
    "test_user_pgTimes['index'] = test_user_pgTimes.index\n",
    "test_user_pgTimes.index = range(len(test_user_pgTimes))\n",
    "test_user_pgTimes.columns = ['pg_times', 'user']\n",
    "test_user_pgTimes = test_user_pgTimes[['user', 'pg_times']]\n",
    "test_user_pgTimes.shape"
   ]
  },
  {
   "cell_type": "markdown",
   "metadata": {},
   "source": [
    "### 对tag表进行处理\n"
   ]
  },
  {
   "cell_type": "code",
   "execution_count": 5,
   "metadata": {
    "collapsed": true
   },
   "outputs": [
    {
     "name": "stdout",
     "output_type": "stream",
     "text": [
      "<class 'pandas.core.frame.DataFrame'>\n",
      "RangeIndex: 39923 entries, 0 to 39922\n",
      "Data columns (total 43 columns):\n",
      "id                                 39923 non-null object\n",
      "flag                               39923 non-null int64\n",
      "gdr_cd                             39923 non-null object\n",
      "age                                39923 non-null int64\n",
      "mrg_situ_cd                        39923 non-null object\n",
      "edu_deg_cd                         27487 non-null object\n",
      "acdm_deg_cd                        39922 non-null object\n",
      "deg_cd                             18960 non-null object\n",
      "job_year                           39923 non-null object\n",
      "ic_ind                             39923 non-null object\n",
      "fr_or_sh_ind                       39923 non-null object\n",
      "dnl_mbl_bnk_ind                    39923 non-null object\n",
      "dnl_bind_cmb_lif_ind               39923 non-null object\n",
      "hav_car_grp_ind                    39923 non-null object\n",
      "hav_hou_grp_ind                    39923 non-null object\n",
      "l6mon_agn_ind                      39923 non-null object\n",
      "frs_agn_dt_cnt                     39923 non-null object\n",
      "vld_rsk_ases_ind                   39923 non-null object\n",
      "fin_rsk_ases_grd_cd                39923 non-null object\n",
      "confirm_rsk_ases_lvl_typ_cd        39923 non-null object\n",
      "cust_inv_rsk_endu_lvl_cd           39923 non-null object\n",
      "l6mon_daim_aum_cd                  39923 non-null int64\n",
      "tot_ast_lvl_cd                     39923 non-null object\n",
      "pot_ast_lvl_cd                     39923 non-null object\n",
      "bk1_cur_year_mon_avg_agn_amt_cd    39923 non-null int64\n",
      "l12mon_buy_fin_mng_whl_tms         39923 non-null object\n",
      "l12_mon_fnd_buy_whl_tms            39923 non-null object\n",
      "l12_mon_insu_buy_whl_tms           39923 non-null object\n",
      "l12_mon_gld_buy_whl_tms            39923 non-null object\n",
      "loan_act_ind                       39923 non-null object\n",
      "pl_crd_lmt_cd                      39923 non-null int64\n",
      "ovd_30d_loan_tot_cnt               39923 non-null object\n",
      "his_lng_ovd_day                    39923 non-null object\n",
      "hld_crd_card_grd_cd                39923 non-null object\n",
      "crd_card_act_ind                   39923 non-null object\n",
      "l1y_crd_card_csm_amt_dlm_cd        39923 non-null object\n",
      "atdd_type                          16266 non-null object\n",
      "perm_crd_lmt_cd                    39923 non-null int64\n",
      "cur_debit_cnt                      39923 non-null int64\n",
      "cur_credit_cnt                     39923 non-null int64\n",
      "cur_debit_min_opn_dt_cnt           39923 non-null int64\n",
      "cur_credit_min_opn_dt_cnt          39923 non-null int64\n",
      "cur_debit_crd_lvl                  39923 non-null int64\n",
      "dtypes: int64(11), object(32)\n",
      "memory usage: 13.1+ MB\n"
     ]
    }
   ],
   "source": [
    "data_train_tag.info()"
   ]
  },
  {
   "cell_type": "code",
   "execution_count": 22,
   "metadata": {},
   "outputs": [],
   "source": [
    "# 用众数填补缺失值\n",
    "data_train_tag_1 = data_train_tag.copy()\n",
    "data_train_tag_1.atdd_type.fillna(data_train_tag_1.atdd_type.mode()[0], inplace=True)\n",
    "data_train_tag_1.acdm_deg_cd.fillna(data_train_tag_1.acdm_deg_cd.mode()[0], inplace=True)\n",
    "data_train_tag_1.edu_deg_cd.fillna(data_train_tag_1.edu_deg_cd.mode()[0], inplace=True)\n",
    "data_train_tag_1.deg_cd.fillna(data_train_tag_1.deg_cd.mode()[0], inplace=True)"
   ]
  },
  {
   "cell_type": "code",
   "execution_count": 23,
   "metadata": {},
   "outputs": [],
   "source": [
    "# 用训练集众数 填补测试集缺失值\n",
    "test_tag_1 = test_tag.copy()\n",
    "test_tag_1.atdd_type.fillna(data_train_tag_1.atdd_type.mode()[0], inplace=True)\n",
    "test_tag_1.acdm_deg_cd.fillna(data_train_tag_1.acdm_deg_cd.mode()[0], inplace=True)\n",
    "test_tag_1.edu_deg_cd.fillna(data_train_tag_1.edu_deg_cd.mode()[0], inplace=True)\n",
    "test_tag_1.deg_cd.fillna(data_train_tag_1.deg_cd.mode()[0], inplace=True)"
   ]
  },
  {
   "cell_type": "code",
   "execution_count": 24,
   "metadata": {
    "collapsed": true
   },
   "outputs": [
    {
     "data": {
      "text/plain": [
       "Index(['id', 'gdr_cd', 'mrg_situ_cd', 'edu_deg_cd', 'acdm_deg_cd', 'deg_cd',\n",
       "       'job_year', 'ic_ind', 'fr_or_sh_ind', 'dnl_mbl_bnk_ind',\n",
       "       'dnl_bind_cmb_lif_ind', 'hav_car_grp_ind', 'hav_hou_grp_ind',\n",
       "       'l6mon_agn_ind', 'frs_agn_dt_cnt', 'vld_rsk_ases_ind',\n",
       "       'fin_rsk_ases_grd_cd', 'confirm_rsk_ases_lvl_typ_cd',\n",
       "       'cust_inv_rsk_endu_lvl_cd', 'tot_ast_lvl_cd', 'pot_ast_lvl_cd',\n",
       "       'l12mon_buy_fin_mng_whl_tms', 'l12_mon_fnd_buy_whl_tms',\n",
       "       'l12_mon_insu_buy_whl_tms', 'l12_mon_gld_buy_whl_tms', 'loan_act_ind',\n",
       "       'ovd_30d_loan_tot_cnt', 'his_lng_ovd_day', 'hld_crd_card_grd_cd',\n",
       "       'crd_card_act_ind', 'l1y_crd_card_csm_amt_dlm_cd', 'atdd_type'],\n",
       "      dtype='object')"
      ]
     },
     "execution_count": 24,
     "metadata": {},
     "output_type": "execute_result"
    }
   ],
   "source": [
    "categorical_cols = data_train_tag_1.select_dtypes(include='object').columns\n",
    "categorical_cols"
   ]
  },
  {
   "cell_type": "code",
   "execution_count": 25,
   "metadata": {},
   "outputs": [],
   "source": [
    "# 对category'/N'用众数填充\n",
    "from sklearn.impute import SimpleImputer\n",
    "imp_mode = SimpleImputer(missing_values = r'\\N', strategy='most_frequent')\n",
    "imp_mode = imp_mode.fit(data_train_tag_1.loc[:, categorical_cols[1:]])\n",
    "data_train_tag_1.loc[:, categorical_cols[1:]] = imp_mode.transform(data_train_tag_1.loc[:, categorical_cols[1:]])\n"
   ]
  },
  {
   "cell_type": "code",
   "execution_count": 26,
   "metadata": {},
   "outputs": [],
   "source": [
    "test_tag_1.loc[:, categorical_cols[1:]] = imp_mode.transform(test_tag_1.loc[:, categorical_cols[1:]])"
   ]
  },
  {
   "cell_type": "markdown",
   "metadata": {},
   "source": [
    "**要将训练集测试集拼接来进行编码和类型转换**"
   ]
  },
  {
   "cell_type": "code",
   "execution_count": 96,
   "metadata": {
    "scrolled": true
   },
   "outputs": [
    {
     "data": {
      "text/plain": [
       "0      3502\n",
       "0.0    2332\n",
       "1.0     166\n",
       "Name: atdd_type, dtype: int64"
      ]
     },
     "execution_count": 96,
     "metadata": {},
     "output_type": "execute_result"
    }
   ],
   "source": [
    "test_tag_1.atdd_type.value_counts()"
   ]
  },
  {
   "cell_type": "code",
   "execution_count": 131,
   "metadata": {},
   "outputs": [
    {
     "data": {
      "text/plain": [
       "str"
      ]
     },
     "execution_count": 131,
     "metadata": {},
     "output_type": "execute_result"
    }
   ],
   "source": [
    "type(data_train_tag_1.atdd_type[0])"
   ]
  },
  {
   "cell_type": "code",
   "execution_count": 132,
   "metadata": {},
   "outputs": [],
   "source": [
    "# 对上述进行处理\n",
    "test_tag_1.atdd_type = test_tag_1.atdd_type.astype(str)"
   ]
  },
  {
   "cell_type": "code",
   "execution_count": 136,
   "metadata": {},
   "outputs": [],
   "source": [
    "data = pd.concat([data_train_tag_1, test_tag_1], ignore_index=True, sort=False)"
   ]
  },
  {
   "cell_type": "code",
   "execution_count": 137,
   "metadata": {
    "collapsed": true
   },
   "outputs": [
    {
     "name": "stdout",
     "output_type": "stream",
     "text": [
      "<class 'pandas.core.frame.DataFrame'>\n",
      "RangeIndex: 45923 entries, 0 to 45922\n",
      "Data columns (total 43 columns):\n",
      "id                                 45923 non-null object\n",
      "flag                               39923 non-null float64\n",
      "gdr_cd                             45923 non-null object\n",
      "age                                45923 non-null int64\n",
      "mrg_situ_cd                        45923 non-null object\n",
      "edu_deg_cd                         45923 non-null object\n",
      "acdm_deg_cd                        45923 non-null object\n",
      "deg_cd                             45923 non-null object\n",
      "job_year                           45923 non-null object\n",
      "ic_ind                             45923 non-null object\n",
      "fr_or_sh_ind                       45923 non-null object\n",
      "dnl_mbl_bnk_ind                    45923 non-null object\n",
      "dnl_bind_cmb_lif_ind               45923 non-null object\n",
      "hav_car_grp_ind                    45923 non-null object\n",
      "hav_hou_grp_ind                    45923 non-null object\n",
      "l6mon_agn_ind                      45923 non-null object\n",
      "frs_agn_dt_cnt                     45923 non-null object\n",
      "vld_rsk_ases_ind                   45923 non-null object\n",
      "fin_rsk_ases_grd_cd                45923 non-null object\n",
      "confirm_rsk_ases_lvl_typ_cd        45923 non-null object\n",
      "cust_inv_rsk_endu_lvl_cd           45923 non-null object\n",
      "l6mon_daim_aum_cd                  45923 non-null int64\n",
      "tot_ast_lvl_cd                     45923 non-null object\n",
      "pot_ast_lvl_cd                     45923 non-null object\n",
      "bk1_cur_year_mon_avg_agn_amt_cd    45923 non-null int64\n",
      "l12mon_buy_fin_mng_whl_tms         45923 non-null object\n",
      "l12_mon_fnd_buy_whl_tms            45923 non-null object\n",
      "l12_mon_insu_buy_whl_tms           45923 non-null object\n",
      "l12_mon_gld_buy_whl_tms            45923 non-null object\n",
      "loan_act_ind                       45923 non-null object\n",
      "pl_crd_lmt_cd                      45923 non-null int64\n",
      "ovd_30d_loan_tot_cnt               45923 non-null object\n",
      "his_lng_ovd_day                    45923 non-null object\n",
      "hld_crd_card_grd_cd                45923 non-null object\n",
      "crd_card_act_ind                   45923 non-null object\n",
      "l1y_crd_card_csm_amt_dlm_cd        45923 non-null object\n",
      "atdd_type                          45923 non-null object\n",
      "perm_crd_lmt_cd                    45923 non-null int64\n",
      "cur_debit_cnt                      45923 non-null int64\n",
      "cur_credit_cnt                     45923 non-null int64\n",
      "cur_debit_min_opn_dt_cnt           45923 non-null int64\n",
      "cur_credit_min_opn_dt_cnt          45923 non-null int64\n",
      "cur_debit_crd_lvl                  45923 non-null int64\n",
      "dtypes: float64(1), int64(10), object(32)\n",
      "memory usage: 15.1+ MB\n"
     ]
    }
   ],
   "source": [
    "data.info()"
   ]
  },
  {
   "cell_type": "code",
   "execution_count": 138,
   "metadata": {},
   "outputs": [
    {
     "data": {
      "text/html": [
       "<div>\n",
       "<style scoped>\n",
       "    .dataframe tbody tr th:only-of-type {\n",
       "        vertical-align: middle;\n",
       "    }\n",
       "\n",
       "    .dataframe tbody tr th {\n",
       "        vertical-align: top;\n",
       "    }\n",
       "\n",
       "    .dataframe thead th {\n",
       "        text-align: right;\n",
       "    }\n",
       "</style>\n",
       "<table border=\"1\" class=\"dataframe\">\n",
       "  <thead>\n",
       "    <tr style=\"text-align: right;\">\n",
       "      <th></th>\n",
       "      <th>id</th>\n",
       "      <th>flag</th>\n",
       "      <th>gdr_cd</th>\n",
       "      <th>age</th>\n",
       "      <th>mrg_situ_cd</th>\n",
       "      <th>edu_deg_cd</th>\n",
       "      <th>acdm_deg_cd</th>\n",
       "      <th>deg_cd</th>\n",
       "      <th>job_year</th>\n",
       "      <th>ic_ind</th>\n",
       "      <th>...</th>\n",
       "      <th>hld_crd_card_grd_cd</th>\n",
       "      <th>crd_card_act_ind</th>\n",
       "      <th>l1y_crd_card_csm_amt_dlm_cd</th>\n",
       "      <th>atdd_type</th>\n",
       "      <th>perm_crd_lmt_cd</th>\n",
       "      <th>cur_debit_cnt</th>\n",
       "      <th>cur_credit_cnt</th>\n",
       "      <th>cur_debit_min_opn_dt_cnt</th>\n",
       "      <th>cur_credit_min_opn_dt_cnt</th>\n",
       "      <th>cur_debit_crd_lvl</th>\n",
       "    </tr>\n",
       "  </thead>\n",
       "  <tbody>\n",
       "    <tr>\n",
       "      <td>0</td>\n",
       "      <td>U7A4BAD</td>\n",
       "      <td>0.0</td>\n",
       "      <td>M</td>\n",
       "      <td>41</td>\n",
       "      <td>B</td>\n",
       "      <td>B</td>\n",
       "      <td>Z</td>\n",
       "      <td>~</td>\n",
       "      <td>3</td>\n",
       "      <td>0</td>\n",
       "      <td>...</td>\n",
       "      <td>-1</td>\n",
       "      <td>0</td>\n",
       "      <td>0</td>\n",
       "      <td>0</td>\n",
       "      <td>3</td>\n",
       "      <td>1</td>\n",
       "      <td>0</td>\n",
       "      <td>3492</td>\n",
       "      <td>-1</td>\n",
       "      <td>10</td>\n",
       "    </tr>\n",
       "    <tr>\n",
       "      <td>1</td>\n",
       "      <td>U557810</td>\n",
       "      <td>0.0</td>\n",
       "      <td>M</td>\n",
       "      <td>35</td>\n",
       "      <td>A</td>\n",
       "      <td>F</td>\n",
       "      <td>G</td>\n",
       "      <td>~</td>\n",
       "      <td>4</td>\n",
       "      <td>0</td>\n",
       "      <td>...</td>\n",
       "      <td>-1</td>\n",
       "      <td>0</td>\n",
       "      <td>0</td>\n",
       "      <td>0</td>\n",
       "      <td>1</td>\n",
       "      <td>1</td>\n",
       "      <td>0</td>\n",
       "      <td>4575</td>\n",
       "      <td>-1</td>\n",
       "      <td>10</td>\n",
       "    </tr>\n",
       "    <tr>\n",
       "      <td>2</td>\n",
       "      <td>U1E9240</td>\n",
       "      <td>0.0</td>\n",
       "      <td>M</td>\n",
       "      <td>53</td>\n",
       "      <td>B</td>\n",
       "      <td>A</td>\n",
       "      <td>C</td>\n",
       "      <td>C</td>\n",
       "      <td>9</td>\n",
       "      <td>0</td>\n",
       "      <td>...</td>\n",
       "      <td>-1</td>\n",
       "      <td>0</td>\n",
       "      <td>0</td>\n",
       "      <td>0</td>\n",
       "      <td>7</td>\n",
       "      <td>2</td>\n",
       "      <td>0</td>\n",
       "      <td>4894</td>\n",
       "      <td>-1</td>\n",
       "      <td>40</td>\n",
       "    </tr>\n",
       "    <tr>\n",
       "      <td>3</td>\n",
       "      <td>U6DED00</td>\n",
       "      <td>0.0</td>\n",
       "      <td>F</td>\n",
       "      <td>41</td>\n",
       "      <td>B</td>\n",
       "      <td>F</td>\n",
       "      <td>Z</td>\n",
       "      <td>~</td>\n",
       "      <td>0</td>\n",
       "      <td>0</td>\n",
       "      <td>...</td>\n",
       "      <td>-1</td>\n",
       "      <td>0</td>\n",
       "      <td>0</td>\n",
       "      <td>0</td>\n",
       "      <td>1</td>\n",
       "      <td>1</td>\n",
       "      <td>0</td>\n",
       "      <td>4938</td>\n",
       "      <td>-1</td>\n",
       "      <td>10</td>\n",
       "    </tr>\n",
       "    <tr>\n",
       "      <td>4</td>\n",
       "      <td>UDA8E28</td>\n",
       "      <td>0.0</td>\n",
       "      <td>F</td>\n",
       "      <td>42</td>\n",
       "      <td>B</td>\n",
       "      <td>B</td>\n",
       "      <td>Z</td>\n",
       "      <td>B</td>\n",
       "      <td>3</td>\n",
       "      <td>1</td>\n",
       "      <td>...</td>\n",
       "      <td>-1</td>\n",
       "      <td>0</td>\n",
       "      <td>0</td>\n",
       "      <td>0</td>\n",
       "      <td>2</td>\n",
       "      <td>7</td>\n",
       "      <td>0</td>\n",
       "      <td>2378</td>\n",
       "      <td>-1</td>\n",
       "      <td>20</td>\n",
       "    </tr>\n",
       "  </tbody>\n",
       "</table>\n",
       "<p>5 rows × 43 columns</p>\n",
       "</div>"
      ],
      "text/plain": [
       "        id  flag gdr_cd  age mrg_situ_cd edu_deg_cd acdm_deg_cd deg_cd  \\\n",
       "0  U7A4BAD   0.0      M   41           B          B           Z      ~   \n",
       "1  U557810   0.0      M   35           A          F           G      ~   \n",
       "2  U1E9240   0.0      M   53           B          A           C      C   \n",
       "3  U6DED00   0.0      F   41           B          F           Z      ~   \n",
       "4  UDA8E28   0.0      F   42           B          B           Z      B   \n",
       "\n",
       "  job_year ic_ind  ... hld_crd_card_grd_cd crd_card_act_ind  \\\n",
       "0        3      0  ...                  -1                0   \n",
       "1        4      0  ...                  -1                0   \n",
       "2        9      0  ...                  -1                0   \n",
       "3        0      0  ...                  -1                0   \n",
       "4        3      1  ...                  -1                0   \n",
       "\n",
       "  l1y_crd_card_csm_amt_dlm_cd atdd_type perm_crd_lmt_cd cur_debit_cnt  \\\n",
       "0                           0         0               3             1   \n",
       "1                           0         0               1             1   \n",
       "2                           0         0               7             2   \n",
       "3                           0         0               1             1   \n",
       "4                           0         0               2             7   \n",
       "\n",
       "  cur_credit_cnt cur_debit_min_opn_dt_cnt cur_credit_min_opn_dt_cnt  \\\n",
       "0              0                     3492                        -1   \n",
       "1              0                     4575                        -1   \n",
       "2              0                     4894                        -1   \n",
       "3              0                     4938                        -1   \n",
       "4              0                     2378                        -1   \n",
       "\n",
       "  cur_debit_crd_lvl  \n",
       "0                10  \n",
       "1                10  \n",
       "2                40  \n",
       "3                10  \n",
       "4                20  \n",
       "\n",
       "[5 rows x 43 columns]"
      ]
     },
     "execution_count": 138,
     "metadata": {},
     "output_type": "execute_result"
    }
   ],
   "source": [
    "data.head()"
   ]
  },
  {
   "cell_type": "code",
   "execution_count": 139,
   "metadata": {},
   "outputs": [],
   "source": [
    "# 将部分category转换为数值类型\n",
    "categorical_num = ['hld_crd_card_grd_cd','l1y_crd_card_csm_amt_dlm_cd','job_year', 'frs_agn_dt_cnt','fin_rsk_ases_grd_cd', 'confirm_rsk_ases_lvl_typ_cd',\n",
    " 'cust_inv_rsk_endu_lvl_cd', 'tot_ast_lvl_cd', 'pot_ast_lvl_cd', 'l12mon_buy_fin_mng_whl_tms',\n",
    "       'l12_mon_fnd_buy_whl_tms', 'l12_mon_insu_buy_whl_tms',\n",
    "       'l12_mon_gld_buy_whl_tms', 'ovd_30d_loan_tot_cnt',\n",
    "       'his_lng_ovd_day']\n",
    "categorical_ind = [x for x in categorical_cols if x not in categorical_num]"
   ]
  },
  {
   "cell_type": "code",
   "execution_count": 140,
   "metadata": {
    "collapsed": true
   },
   "outputs": [
    {
     "data": {
      "text/plain": [
       "['id',\n",
       " 'gdr_cd',\n",
       " 'mrg_situ_cd',\n",
       " 'edu_deg_cd',\n",
       " 'acdm_deg_cd',\n",
       " 'deg_cd',\n",
       " 'ic_ind',\n",
       " 'fr_or_sh_ind',\n",
       " 'dnl_mbl_bnk_ind',\n",
       " 'dnl_bind_cmb_lif_ind',\n",
       " 'hav_car_grp_ind',\n",
       " 'hav_hou_grp_ind',\n",
       " 'l6mon_agn_ind',\n",
       " 'vld_rsk_ases_ind',\n",
       " 'loan_act_ind',\n",
       " 'crd_card_act_ind',\n",
       " 'atdd_type']"
      ]
     },
     "execution_count": 140,
     "metadata": {},
     "output_type": "execute_result"
    }
   ],
   "source": [
    "categorical_ind"
   ]
  },
  {
   "cell_type": "code",
   "execution_count": 141,
   "metadata": {},
   "outputs": [],
   "source": [
    "data.loc[:, categorical_num] = data.loc[:, categorical_num].astype(int)"
   ]
  },
  {
   "cell_type": "code",
   "execution_count": 142,
   "metadata": {
    "scrolled": true
   },
   "outputs": [],
   "source": [
    "from sklearn.preprocessing import OrdinalEncoder\n",
    "oe = OrdinalEncoder().fit(data.loc[:, categorical_ind[1:]])\n",
    "data.loc[:, categorical_ind[1:]] = oe.transform(data.loc[:, categorical_ind[1:]])   "
   ]
  },
  {
   "cell_type": "code",
   "execution_count": 159,
   "metadata": {
    "scrolled": true
   },
   "outputs": [
    {
     "data": {
      "text/plain": [
       "39923"
      ]
     },
     "execution_count": 159,
     "metadata": {},
     "output_type": "execute_result"
    }
   ],
   "source": [
    "(data.iloc[:len(data_train_tag_1),:].id == data_train_tag_1.id).sum()"
   ]
  },
  {
   "cell_type": "code",
   "execution_count": 163,
   "metadata": {},
   "outputs": [],
   "source": [
    "a = data.iloc[len(data_train_tag_1):, :].id.copy()\n",
    "a.index = np.arange(len(a))"
   ]
  },
  {
   "cell_type": "code",
   "execution_count": 164,
   "metadata": {},
   "outputs": [
    {
     "data": {
      "text/plain": [
       "6000"
      ]
     },
     "execution_count": 164,
     "metadata": {},
     "output_type": "execute_result"
    }
   ],
   "source": [
    "(a == test_tag_1.id).sum()"
   ]
  },
  {
   "cell_type": "code",
   "execution_count": 165,
   "metadata": {},
   "outputs": [],
   "source": [
    "train_tag = data.iloc[:len(data_train_tag_1),:]"
   ]
  },
  {
   "cell_type": "code",
   "execution_count": 172,
   "metadata": {},
   "outputs": [],
   "source": [
    "test_tag = data.iloc[len(data_train_tag_1):, :]\n",
    "test_tag.index = np.arange(len(test_tag))"
   ]
  },
  {
   "cell_type": "code",
   "execution_count": 174,
   "metadata": {},
   "outputs": [
    {
     "name": "stderr",
     "output_type": "stream",
     "text": [
      "/home/esterl/anaconda3/lib/python3.6/site-packages/pandas/core/frame.py:4102: SettingWithCopyWarning: \n",
      "A value is trying to be set on a copy of a slice from a DataFrame\n",
      "\n",
      "See the caveats in the documentation: http://pandas.pydata.org/pandas-docs/stable/user_guide/indexing.html#returning-a-view-versus-a-copy\n",
      "  errors=errors,\n"
     ]
    }
   ],
   "source": [
    "test_tag.drop(['flag'], axis=1, inplace=True)"
   ]
  },
  {
   "cell_type": "code",
   "execution_count": 175,
   "metadata": {
    "collapsed": true
   },
   "outputs": [
    {
     "data": {
      "text/html": [
       "<div>\n",
       "<style scoped>\n",
       "    .dataframe tbody tr th:only-of-type {\n",
       "        vertical-align: middle;\n",
       "    }\n",
       "\n",
       "    .dataframe tbody tr th {\n",
       "        vertical-align: top;\n",
       "    }\n",
       "\n",
       "    .dataframe thead th {\n",
       "        text-align: right;\n",
       "    }\n",
       "</style>\n",
       "<table border=\"1\" class=\"dataframe\">\n",
       "  <thead>\n",
       "    <tr style=\"text-align: right;\">\n",
       "      <th></th>\n",
       "      <th>id</th>\n",
       "      <th>gdr_cd</th>\n",
       "      <th>age</th>\n",
       "      <th>mrg_situ_cd</th>\n",
       "      <th>edu_deg_cd</th>\n",
       "      <th>acdm_deg_cd</th>\n",
       "      <th>deg_cd</th>\n",
       "      <th>job_year</th>\n",
       "      <th>ic_ind</th>\n",
       "      <th>fr_or_sh_ind</th>\n",
       "      <th>...</th>\n",
       "      <th>hld_crd_card_grd_cd</th>\n",
       "      <th>crd_card_act_ind</th>\n",
       "      <th>l1y_crd_card_csm_amt_dlm_cd</th>\n",
       "      <th>atdd_type</th>\n",
       "      <th>perm_crd_lmt_cd</th>\n",
       "      <th>cur_debit_cnt</th>\n",
       "      <th>cur_credit_cnt</th>\n",
       "      <th>cur_debit_min_opn_dt_cnt</th>\n",
       "      <th>cur_credit_min_opn_dt_cnt</th>\n",
       "      <th>cur_debit_crd_lvl</th>\n",
       "    </tr>\n",
       "  </thead>\n",
       "  <tbody>\n",
       "    <tr>\n",
       "      <td>0</td>\n",
       "      <td>UC37930</td>\n",
       "      <td>0.0</td>\n",
       "      <td>39</td>\n",
       "      <td>1.0</td>\n",
       "      <td>2.0</td>\n",
       "      <td>1.0</td>\n",
       "      <td>5.0</td>\n",
       "      <td>0</td>\n",
       "      <td>0.0</td>\n",
       "      <td>0.0</td>\n",
       "      <td>...</td>\n",
       "      <td>20</td>\n",
       "      <td>1.0</td>\n",
       "      <td>4</td>\n",
       "      <td>0.0</td>\n",
       "      <td>6</td>\n",
       "      <td>3</td>\n",
       "      <td>4</td>\n",
       "      <td>4378</td>\n",
       "      <td>683</td>\n",
       "      <td>20</td>\n",
       "    </tr>\n",
       "    <tr>\n",
       "      <td>1</td>\n",
       "      <td>U5BE130</td>\n",
       "      <td>0.0</td>\n",
       "      <td>40</td>\n",
       "      <td>1.0</td>\n",
       "      <td>10.0</td>\n",
       "      <td>6.0</td>\n",
       "      <td>5.0</td>\n",
       "      <td>1</td>\n",
       "      <td>0.0</td>\n",
       "      <td>0.0</td>\n",
       "      <td>...</td>\n",
       "      <td>10</td>\n",
       "      <td>0.0</td>\n",
       "      <td>1</td>\n",
       "      <td>0.0</td>\n",
       "      <td>2</td>\n",
       "      <td>1</td>\n",
       "      <td>1</td>\n",
       "      <td>1078</td>\n",
       "      <td>1637</td>\n",
       "      <td>10</td>\n",
       "    </tr>\n",
       "    <tr>\n",
       "      <td>2</td>\n",
       "      <td>UD025AE</td>\n",
       "      <td>0.0</td>\n",
       "      <td>48</td>\n",
       "      <td>1.0</td>\n",
       "      <td>2.0</td>\n",
       "      <td>1.0</td>\n",
       "      <td>0.0</td>\n",
       "      <td>0</td>\n",
       "      <td>0.0</td>\n",
       "      <td>1.0</td>\n",
       "      <td>...</td>\n",
       "      <td>30</td>\n",
       "      <td>1.0</td>\n",
       "      <td>5</td>\n",
       "      <td>0.0</td>\n",
       "      <td>7</td>\n",
       "      <td>5</td>\n",
       "      <td>3</td>\n",
       "      <td>6361</td>\n",
       "      <td>4809</td>\n",
       "      <td>20</td>\n",
       "    </tr>\n",
       "    <tr>\n",
       "      <td>3</td>\n",
       "      <td>UC2D00D</td>\n",
       "      <td>1.0</td>\n",
       "      <td>47</td>\n",
       "      <td>1.0</td>\n",
       "      <td>0.0</td>\n",
       "      <td>6.0</td>\n",
       "      <td>2.0</td>\n",
       "      <td>0</td>\n",
       "      <td>0.0</td>\n",
       "      <td>1.0</td>\n",
       "      <td>...</td>\n",
       "      <td>10</td>\n",
       "      <td>1.0</td>\n",
       "      <td>5</td>\n",
       "      <td>0.0</td>\n",
       "      <td>7</td>\n",
       "      <td>8</td>\n",
       "      <td>3</td>\n",
       "      <td>8032</td>\n",
       "      <td>5447</td>\n",
       "      <td>40</td>\n",
       "    </tr>\n",
       "    <tr>\n",
       "      <td>4</td>\n",
       "      <td>UAF705D</td>\n",
       "      <td>0.0</td>\n",
       "      <td>36</td>\n",
       "      <td>1.0</td>\n",
       "      <td>1.0</td>\n",
       "      <td>0.0</td>\n",
       "      <td>5.0</td>\n",
       "      <td>2</td>\n",
       "      <td>0.0</td>\n",
       "      <td>0.0</td>\n",
       "      <td>...</td>\n",
       "      <td>20</td>\n",
       "      <td>1.0</td>\n",
       "      <td>5</td>\n",
       "      <td>0.0</td>\n",
       "      <td>8</td>\n",
       "      <td>4</td>\n",
       "      <td>2</td>\n",
       "      <td>5885</td>\n",
       "      <td>1748</td>\n",
       "      <td>10</td>\n",
       "    </tr>\n",
       "    <tr>\n",
       "      <td>...</td>\n",
       "      <td>...</td>\n",
       "      <td>...</td>\n",
       "      <td>...</td>\n",
       "      <td>...</td>\n",
       "      <td>...</td>\n",
       "      <td>...</td>\n",
       "      <td>...</td>\n",
       "      <td>...</td>\n",
       "      <td>...</td>\n",
       "      <td>...</td>\n",
       "      <td>...</td>\n",
       "      <td>...</td>\n",
       "      <td>...</td>\n",
       "      <td>...</td>\n",
       "      <td>...</td>\n",
       "      <td>...</td>\n",
       "      <td>...</td>\n",
       "      <td>...</td>\n",
       "      <td>...</td>\n",
       "      <td>...</td>\n",
       "      <td>...</td>\n",
       "    </tr>\n",
       "    <tr>\n",
       "      <td>5995</td>\n",
       "      <td>U71611F</td>\n",
       "      <td>1.0</td>\n",
       "      <td>49</td>\n",
       "      <td>1.0</td>\n",
       "      <td>4.0</td>\n",
       "      <td>5.0</td>\n",
       "      <td>5.0</td>\n",
       "      <td>7</td>\n",
       "      <td>0.0</td>\n",
       "      <td>0.0</td>\n",
       "      <td>...</td>\n",
       "      <td>20</td>\n",
       "      <td>1.0</td>\n",
       "      <td>3</td>\n",
       "      <td>1.0</td>\n",
       "      <td>4</td>\n",
       "      <td>1</td>\n",
       "      <td>1</td>\n",
       "      <td>2102</td>\n",
       "      <td>2063</td>\n",
       "      <td>10</td>\n",
       "    </tr>\n",
       "    <tr>\n",
       "      <td>5996</td>\n",
       "      <td>U52CFE4</td>\n",
       "      <td>1.0</td>\n",
       "      <td>36</td>\n",
       "      <td>0.0</td>\n",
       "      <td>4.0</td>\n",
       "      <td>5.0</td>\n",
       "      <td>5.0</td>\n",
       "      <td>0</td>\n",
       "      <td>0.0</td>\n",
       "      <td>1.0</td>\n",
       "      <td>...</td>\n",
       "      <td>10</td>\n",
       "      <td>1.0</td>\n",
       "      <td>3</td>\n",
       "      <td>0.0</td>\n",
       "      <td>6</td>\n",
       "      <td>1</td>\n",
       "      <td>1</td>\n",
       "      <td>1799</td>\n",
       "      <td>1741</td>\n",
       "      <td>20</td>\n",
       "    </tr>\n",
       "    <tr>\n",
       "      <td>5997</td>\n",
       "      <td>U6A5425</td>\n",
       "      <td>1.0</td>\n",
       "      <td>28</td>\n",
       "      <td>1.0</td>\n",
       "      <td>2.0</td>\n",
       "      <td>1.0</td>\n",
       "      <td>5.0</td>\n",
       "      <td>2</td>\n",
       "      <td>0.0</td>\n",
       "      <td>0.0</td>\n",
       "      <td>...</td>\n",
       "      <td>10</td>\n",
       "      <td>1.0</td>\n",
       "      <td>4</td>\n",
       "      <td>0.0</td>\n",
       "      <td>3</td>\n",
       "      <td>1</td>\n",
       "      <td>1</td>\n",
       "      <td>438</td>\n",
       "      <td>438</td>\n",
       "      <td>10</td>\n",
       "    </tr>\n",
       "    <tr>\n",
       "      <td>5998</td>\n",
       "      <td>UB8871F</td>\n",
       "      <td>1.0</td>\n",
       "      <td>31</td>\n",
       "      <td>0.0</td>\n",
       "      <td>10.0</td>\n",
       "      <td>6.0</td>\n",
       "      <td>5.0</td>\n",
       "      <td>3</td>\n",
       "      <td>0.0</td>\n",
       "      <td>0.0</td>\n",
       "      <td>...</td>\n",
       "      <td>10</td>\n",
       "      <td>1.0</td>\n",
       "      <td>3</td>\n",
       "      <td>0.0</td>\n",
       "      <td>2</td>\n",
       "      <td>1</td>\n",
       "      <td>1</td>\n",
       "      <td>597</td>\n",
       "      <td>586</td>\n",
       "      <td>10</td>\n",
       "    </tr>\n",
       "    <tr>\n",
       "      <td>5999</td>\n",
       "      <td>U5573FB</td>\n",
       "      <td>1.0</td>\n",
       "      <td>42</td>\n",
       "      <td>0.0</td>\n",
       "      <td>10.0</td>\n",
       "      <td>6.0</td>\n",
       "      <td>5.0</td>\n",
       "      <td>2</td>\n",
       "      <td>0.0</td>\n",
       "      <td>1.0</td>\n",
       "      <td>...</td>\n",
       "      <td>20</td>\n",
       "      <td>1.0</td>\n",
       "      <td>4</td>\n",
       "      <td>0.0</td>\n",
       "      <td>2</td>\n",
       "      <td>1</td>\n",
       "      <td>1</td>\n",
       "      <td>1411</td>\n",
       "      <td>1103</td>\n",
       "      <td>20</td>\n",
       "    </tr>\n",
       "  </tbody>\n",
       "</table>\n",
       "<p>6000 rows × 42 columns</p>\n",
       "</div>"
      ],
      "text/plain": [
       "           id  gdr_cd  age  mrg_situ_cd  edu_deg_cd  acdm_deg_cd  deg_cd  \\\n",
       "0     UC37930     0.0   39          1.0         2.0          1.0     5.0   \n",
       "1     U5BE130     0.0   40          1.0        10.0          6.0     5.0   \n",
       "2     UD025AE     0.0   48          1.0         2.0          1.0     0.0   \n",
       "3     UC2D00D     1.0   47          1.0         0.0          6.0     2.0   \n",
       "4     UAF705D     0.0   36          1.0         1.0          0.0     5.0   \n",
       "...       ...     ...  ...          ...         ...          ...     ...   \n",
       "5995  U71611F     1.0   49          1.0         4.0          5.0     5.0   \n",
       "5996  U52CFE4     1.0   36          0.0         4.0          5.0     5.0   \n",
       "5997  U6A5425     1.0   28          1.0         2.0          1.0     5.0   \n",
       "5998  UB8871F     1.0   31          0.0        10.0          6.0     5.0   \n",
       "5999  U5573FB     1.0   42          0.0        10.0          6.0     5.0   \n",
       "\n",
       "      job_year  ic_ind  fr_or_sh_ind  ...  hld_crd_card_grd_cd  \\\n",
       "0            0     0.0           0.0  ...                   20   \n",
       "1            1     0.0           0.0  ...                   10   \n",
       "2            0     0.0           1.0  ...                   30   \n",
       "3            0     0.0           1.0  ...                   10   \n",
       "4            2     0.0           0.0  ...                   20   \n",
       "...        ...     ...           ...  ...                  ...   \n",
       "5995         7     0.0           0.0  ...                   20   \n",
       "5996         0     0.0           1.0  ...                   10   \n",
       "5997         2     0.0           0.0  ...                   10   \n",
       "5998         3     0.0           0.0  ...                   10   \n",
       "5999         2     0.0           1.0  ...                   20   \n",
       "\n",
       "      crd_card_act_ind  l1y_crd_card_csm_amt_dlm_cd  atdd_type  \\\n",
       "0                  1.0                            4        0.0   \n",
       "1                  0.0                            1        0.0   \n",
       "2                  1.0                            5        0.0   \n",
       "3                  1.0                            5        0.0   \n",
       "4                  1.0                            5        0.0   \n",
       "...                ...                          ...        ...   \n",
       "5995               1.0                            3        1.0   \n",
       "5996               1.0                            3        0.0   \n",
       "5997               1.0                            4        0.0   \n",
       "5998               1.0                            3        0.0   \n",
       "5999               1.0                            4        0.0   \n",
       "\n",
       "      perm_crd_lmt_cd  cur_debit_cnt  cur_credit_cnt  \\\n",
       "0                   6              3               4   \n",
       "1                   2              1               1   \n",
       "2                   7              5               3   \n",
       "3                   7              8               3   \n",
       "4                   8              4               2   \n",
       "...               ...            ...             ...   \n",
       "5995                4              1               1   \n",
       "5996                6              1               1   \n",
       "5997                3              1               1   \n",
       "5998                2              1               1   \n",
       "5999                2              1               1   \n",
       "\n",
       "      cur_debit_min_opn_dt_cnt  cur_credit_min_opn_dt_cnt  cur_debit_crd_lvl  \n",
       "0                         4378                        683                 20  \n",
       "1                         1078                       1637                 10  \n",
       "2                         6361                       4809                 20  \n",
       "3                         8032                       5447                 40  \n",
       "4                         5885                       1748                 10  \n",
       "...                        ...                        ...                ...  \n",
       "5995                      2102                       2063                 10  \n",
       "5996                      1799                       1741                 20  \n",
       "5997                       438                        438                 10  \n",
       "5998                       597                        586                 10  \n",
       "5999                      1411                       1103                 20  \n",
       "\n",
       "[6000 rows x 42 columns]"
      ]
     },
     "execution_count": 175,
     "metadata": {},
     "output_type": "execute_result"
    }
   ],
   "source": [
    "test_tag"
   ]
  },
  {
   "cell_type": "markdown",
   "metadata": {},
   "source": [
    "## 拼接所有表格"
   ]
  },
  {
   "cell_type": "code",
   "execution_count": 187,
   "metadata": {},
   "outputs": [],
   "source": [
    "del(train_trd)"
   ]
  },
  {
   "cell_type": "code",
   "execution_count": 194,
   "metadata": {},
   "outputs": [],
   "source": [
    "# 读取trd表\n",
    "train_trd = pd.read_csv('./训练数据集1/train_use_trd.csv')\n",
    "test_trd = pd.read_csv('./评分数据集1/train_use_trd.csv')"
   ]
  },
  {
   "cell_type": "code",
   "execution_count": 195,
   "metadata": {
    "collapsed": true
   },
   "outputs": [
    {
     "data": {
      "text/html": [
       "<div>\n",
       "<style scoped>\n",
       "    .dataframe tbody tr th:only-of-type {\n",
       "        vertical-align: middle;\n",
       "    }\n",
       "\n",
       "    .dataframe tbody tr th {\n",
       "        vertical-align: top;\n",
       "    }\n",
       "\n",
       "    .dataframe thead th {\n",
       "        text-align: right;\n",
       "    }\n",
       "</style>\n",
       "<table border=\"1\" class=\"dataframe\">\n",
       "  <thead>\n",
       "    <tr style=\"text-align: right;\">\n",
       "      <th></th>\n",
       "      <th>user</th>\n",
       "      <th>trd_times</th>\n",
       "      <th>total_count</th>\n",
       "      <th>B_out</th>\n",
       "      <th>C_in</th>\n",
       "      <th>out_count</th>\n",
       "      <th>in_count</th>\n",
       "    </tr>\n",
       "  </thead>\n",
       "  <tbody>\n",
       "    <tr>\n",
       "      <td>0</td>\n",
       "      <td>U712783</td>\n",
       "      <td>4861</td>\n",
       "      <td>-6711.07</td>\n",
       "      <td>25</td>\n",
       "      <td>1</td>\n",
       "      <td>488005.59</td>\n",
       "      <td>481294.52</td>\n",
       "    </tr>\n",
       "    <tr>\n",
       "      <td>1</td>\n",
       "      <td>U9EF083</td>\n",
       "      <td>1836</td>\n",
       "      <td>356904.56</td>\n",
       "      <td>19</td>\n",
       "      <td>149</td>\n",
       "      <td>4044394.56</td>\n",
       "      <td>4401299.12</td>\n",
       "    </tr>\n",
       "    <tr>\n",
       "      <td>2</td>\n",
       "      <td>U60405F</td>\n",
       "      <td>1257</td>\n",
       "      <td>-13440.31</td>\n",
       "      <td>14</td>\n",
       "      <td>5</td>\n",
       "      <td>3079613.19</td>\n",
       "      <td>3066172.88</td>\n",
       "    </tr>\n",
       "    <tr>\n",
       "      <td>3</td>\n",
       "      <td>U70EBFD</td>\n",
       "      <td>1093</td>\n",
       "      <td>8623.13</td>\n",
       "      <td>84</td>\n",
       "      <td>0</td>\n",
       "      <td>1251960.31</td>\n",
       "      <td>1260583.44</td>\n",
       "    </tr>\n",
       "    <tr>\n",
       "      <td>4</td>\n",
       "      <td>UA94395</td>\n",
       "      <td>1014</td>\n",
       "      <td>2442.08</td>\n",
       "      <td>3</td>\n",
       "      <td>0</td>\n",
       "      <td>1208216.04</td>\n",
       "      <td>1210658.12</td>\n",
       "    </tr>\n",
       "    <tr>\n",
       "      <td>...</td>\n",
       "      <td>...</td>\n",
       "      <td>...</td>\n",
       "      <td>...</td>\n",
       "      <td>...</td>\n",
       "      <td>...</td>\n",
       "      <td>...</td>\n",
       "      <td>...</td>\n",
       "    </tr>\n",
       "    <tr>\n",
       "      <td>4782</td>\n",
       "      <td>U61693B</td>\n",
       "      <td>1</td>\n",
       "      <td>0.07</td>\n",
       "      <td>0</td>\n",
       "      <td>0</td>\n",
       "      <td>0.00</td>\n",
       "      <td>0.07</td>\n",
       "    </tr>\n",
       "    <tr>\n",
       "      <td>4783</td>\n",
       "      <td>U54B80C</td>\n",
       "      <td>1</td>\n",
       "      <td>2.58</td>\n",
       "      <td>0</td>\n",
       "      <td>0</td>\n",
       "      <td>0.00</td>\n",
       "      <td>2.58</td>\n",
       "    </tr>\n",
       "    <tr>\n",
       "      <td>4784</td>\n",
       "      <td>U9241B9</td>\n",
       "      <td>1</td>\n",
       "      <td>0.09</td>\n",
       "      <td>0</td>\n",
       "      <td>0</td>\n",
       "      <td>0.00</td>\n",
       "      <td>0.09</td>\n",
       "    </tr>\n",
       "    <tr>\n",
       "      <td>4785</td>\n",
       "      <td>U6EBA82</td>\n",
       "      <td>1</td>\n",
       "      <td>34.80</td>\n",
       "      <td>1</td>\n",
       "      <td>0</td>\n",
       "      <td>0.00</td>\n",
       "      <td>34.80</td>\n",
       "    </tr>\n",
       "    <tr>\n",
       "      <td>4786</td>\n",
       "      <td>UB73EB7</td>\n",
       "      <td>1</td>\n",
       "      <td>-5540.00</td>\n",
       "      <td>1</td>\n",
       "      <td>0</td>\n",
       "      <td>5540.00</td>\n",
       "      <td>0.00</td>\n",
       "    </tr>\n",
       "  </tbody>\n",
       "</table>\n",
       "<p>4787 rows × 7 columns</p>\n",
       "</div>"
      ],
      "text/plain": [
       "         user  trd_times  total_count  B_out  C_in   out_count    in_count\n",
       "0     U712783       4861     -6711.07     25     1   488005.59   481294.52\n",
       "1     U9EF083       1836    356904.56     19   149  4044394.56  4401299.12\n",
       "2     U60405F       1257    -13440.31     14     5  3079613.19  3066172.88\n",
       "3     U70EBFD       1093      8623.13     84     0  1251960.31  1260583.44\n",
       "4     UA94395       1014      2442.08      3     0  1208216.04  1210658.12\n",
       "...       ...        ...          ...    ...   ...         ...         ...\n",
       "4782  U61693B          1         0.07      0     0        0.00        0.07\n",
       "4783  U54B80C          1         2.58      0     0        0.00        2.58\n",
       "4784  U9241B9          1         0.09      0     0        0.00        0.09\n",
       "4785  U6EBA82          1        34.80      1     0        0.00       34.80\n",
       "4786  UB73EB7          1     -5540.00      1     0     5540.00        0.00\n",
       "\n",
       "[4787 rows x 7 columns]"
      ]
     },
     "execution_count": 195,
     "metadata": {},
     "output_type": "execute_result"
    }
   ],
   "source": [
    "test_trd"
   ]
  },
  {
   "cell_type": "code",
   "execution_count": 196,
   "metadata": {
    "collapsed": true
   },
   "outputs": [
    {
     "data": {
      "text/html": [
       "<div>\n",
       "<style scoped>\n",
       "    .dataframe tbody tr th:only-of-type {\n",
       "        vertical-align: middle;\n",
       "    }\n",
       "\n",
       "    .dataframe tbody tr th {\n",
       "        vertical-align: top;\n",
       "    }\n",
       "\n",
       "    .dataframe thead th {\n",
       "        text-align: right;\n",
       "    }\n",
       "</style>\n",
       "<table border=\"1\" class=\"dataframe\">\n",
       "  <thead>\n",
       "    <tr style=\"text-align: right;\">\n",
       "      <th></th>\n",
       "      <th>user</th>\n",
       "      <th>trd_times</th>\n",
       "      <th>total_count</th>\n",
       "      <th>B_out</th>\n",
       "      <th>C_in</th>\n",
       "      <th>out_count</th>\n",
       "      <th>in_count</th>\n",
       "    </tr>\n",
       "  </thead>\n",
       "  <tbody>\n",
       "    <tr>\n",
       "      <td>0</td>\n",
       "      <td>UBD9C48</td>\n",
       "      <td>5836</td>\n",
       "      <td>2173.69</td>\n",
       "      <td>5693</td>\n",
       "      <td>143</td>\n",
       "      <td>962039.77</td>\n",
       "      <td>964213.46</td>\n",
       "    </tr>\n",
       "    <tr>\n",
       "      <td>1</td>\n",
       "      <td>U8AE05B</td>\n",
       "      <td>2589</td>\n",
       "      <td>-19.04</td>\n",
       "      <td>1232</td>\n",
       "      <td>1357</td>\n",
       "      <td>3354162.49</td>\n",
       "      <td>3354143.45</td>\n",
       "    </tr>\n",
       "    <tr>\n",
       "      <td>2</td>\n",
       "      <td>U0015B2</td>\n",
       "      <td>2490</td>\n",
       "      <td>-13241.21</td>\n",
       "      <td>1535</td>\n",
       "      <td>955</td>\n",
       "      <td>1966131.73</td>\n",
       "      <td>1952890.52</td>\n",
       "    </tr>\n",
       "    <tr>\n",
       "      <td>3</td>\n",
       "      <td>U9E0C0D</td>\n",
       "      <td>2392</td>\n",
       "      <td>4145.88</td>\n",
       "      <td>1117</td>\n",
       "      <td>1275</td>\n",
       "      <td>3940858.61</td>\n",
       "      <td>3945004.49</td>\n",
       "    </tr>\n",
       "    <tr>\n",
       "      <td>4</td>\n",
       "      <td>U7EF7EC</td>\n",
       "      <td>2237</td>\n",
       "      <td>-1990.99</td>\n",
       "      <td>2063</td>\n",
       "      <td>174</td>\n",
       "      <td>342173.63</td>\n",
       "      <td>340182.64</td>\n",
       "    </tr>\n",
       "    <tr>\n",
       "      <td>...</td>\n",
       "      <td>...</td>\n",
       "      <td>...</td>\n",
       "      <td>...</td>\n",
       "      <td>...</td>\n",
       "      <td>...</td>\n",
       "      <td>...</td>\n",
       "      <td>...</td>\n",
       "    </tr>\n",
       "    <tr>\n",
       "      <td>31988</td>\n",
       "      <td>U0FB42D</td>\n",
       "      <td>1</td>\n",
       "      <td>4.80</td>\n",
       "      <td>0</td>\n",
       "      <td>1</td>\n",
       "      <td>0.00</td>\n",
       "      <td>4.80</td>\n",
       "    </tr>\n",
       "    <tr>\n",
       "      <td>31989</td>\n",
       "      <td>U802EEF</td>\n",
       "      <td>1</td>\n",
       "      <td>0.04</td>\n",
       "      <td>0</td>\n",
       "      <td>1</td>\n",
       "      <td>0.00</td>\n",
       "      <td>0.04</td>\n",
       "    </tr>\n",
       "    <tr>\n",
       "      <td>31990</td>\n",
       "      <td>U0E3E25</td>\n",
       "      <td>1</td>\n",
       "      <td>-120.00</td>\n",
       "      <td>1</td>\n",
       "      <td>0</td>\n",
       "      <td>120.00</td>\n",
       "      <td>0.00</td>\n",
       "    </tr>\n",
       "    <tr>\n",
       "      <td>31991</td>\n",
       "      <td>U74C352</td>\n",
       "      <td>1</td>\n",
       "      <td>0.06</td>\n",
       "      <td>0</td>\n",
       "      <td>1</td>\n",
       "      <td>0.00</td>\n",
       "      <td>0.06</td>\n",
       "    </tr>\n",
       "    <tr>\n",
       "      <td>31992</td>\n",
       "      <td>U0D5A4C</td>\n",
       "      <td>1</td>\n",
       "      <td>2.00</td>\n",
       "      <td>0</td>\n",
       "      <td>1</td>\n",
       "      <td>0.00</td>\n",
       "      <td>2.00</td>\n",
       "    </tr>\n",
       "  </tbody>\n",
       "</table>\n",
       "<p>31993 rows × 7 columns</p>\n",
       "</div>"
      ],
      "text/plain": [
       "          user  trd_times  total_count  B_out  C_in   out_count    in_count\n",
       "0      UBD9C48       5836      2173.69   5693   143   962039.77   964213.46\n",
       "1      U8AE05B       2589       -19.04   1232  1357  3354162.49  3354143.45\n",
       "2      U0015B2       2490    -13241.21   1535   955  1966131.73  1952890.52\n",
       "3      U9E0C0D       2392      4145.88   1117  1275  3940858.61  3945004.49\n",
       "4      U7EF7EC       2237     -1990.99   2063   174   342173.63   340182.64\n",
       "...        ...        ...          ...    ...   ...         ...         ...\n",
       "31988  U0FB42D          1         4.80      0     1        0.00        4.80\n",
       "31989  U802EEF          1         0.04      0     1        0.00        0.04\n",
       "31990  U0E3E25          1      -120.00      1     0      120.00        0.00\n",
       "31991  U74C352          1         0.06      0     1        0.00        0.06\n",
       "31992  U0D5A4C          1         2.00      0     1        0.00        2.00\n",
       "\n",
       "[31993 rows x 7 columns]"
      ]
     },
     "execution_count": 196,
     "metadata": {},
     "output_type": "execute_result"
    }
   ],
   "source": [
    "train_trd"
   ]
  },
  {
   "cell_type": "code",
   "execution_count": 197,
   "metadata": {},
   "outputs": [
    {
     "data": {
      "text/plain": [
       "(39923, 49)"
      ]
     },
     "execution_count": 197,
     "metadata": {},
     "output_type": "execute_result"
    }
   ],
   "source": [
    "train_data = pd.merge(train_tag, train_trd, how='left', left_on='id', right_on='user')\n",
    "train_data.drop(['user'], axis=1, inplace=True)\n",
    "train_data.shape"
   ]
  },
  {
   "cell_type": "code",
   "execution_count": 198,
   "metadata": {},
   "outputs": [
    {
     "data": {
      "text/plain": [
       "(39923, 50)"
      ]
     },
     "execution_count": 198,
     "metadata": {},
     "output_type": "execute_result"
    }
   ],
   "source": [
    "train_data = pd.merge(train_data, user_pgTimes, how='left', left_on='id', right_on='user')\n",
    "train_data.drop(['user'], axis=1, inplace=True)\n",
    "train_data.shape"
   ]
  },
  {
   "cell_type": "code",
   "execution_count": 199,
   "metadata": {},
   "outputs": [
    {
     "data": {
      "text/plain": [
       "(6000, 48)"
      ]
     },
     "execution_count": 199,
     "metadata": {},
     "output_type": "execute_result"
    }
   ],
   "source": [
    "test_data = pd.merge(test_tag, test_trd, how='left', left_on='id', right_on='user')\n",
    "test_data.drop(['user'], axis=1, inplace=True)\n",
    "test_data.shape"
   ]
  },
  {
   "cell_type": "code",
   "execution_count": 200,
   "metadata": {},
   "outputs": [
    {
     "data": {
      "text/plain": [
       "(6000, 49)"
      ]
     },
     "execution_count": 200,
     "metadata": {},
     "output_type": "execute_result"
    }
   ],
   "source": [
    "test_data = pd.merge(test_data, test_user_pgTimes, how='left', left_on='id', right_on='user')\n",
    "test_data.drop(['user'], axis=1, inplace=True)\n",
    "test_data.shape"
   ]
  },
  {
   "cell_type": "code",
   "execution_count": 203,
   "metadata": {},
   "outputs": [],
   "source": [
    "# 对pgTime进行填充\n",
    "train_data.pg_times.fillna(train_data.pg_times.mode()[0], inplace=True)\n",
    "test_data.pg_times.fillna(train_data.pg_times.mode()[0], inplace=True)"
   ]
  },
  {
   "cell_type": "code",
   "execution_count": 204,
   "metadata": {
    "collapsed": true
   },
   "outputs": [
    {
     "data": {
      "text/html": [
       "<div>\n",
       "<style scoped>\n",
       "    .dataframe tbody tr th:only-of-type {\n",
       "        vertical-align: middle;\n",
       "    }\n",
       "\n",
       "    .dataframe tbody tr th {\n",
       "        vertical-align: top;\n",
       "    }\n",
       "\n",
       "    .dataframe thead th {\n",
       "        text-align: right;\n",
       "    }\n",
       "</style>\n",
       "<table border=\"1\" class=\"dataframe\">\n",
       "  <thead>\n",
       "    <tr style=\"text-align: right;\">\n",
       "      <th></th>\n",
       "      <th>id</th>\n",
       "      <th>flag</th>\n",
       "      <th>gdr_cd</th>\n",
       "      <th>age</th>\n",
       "      <th>mrg_situ_cd</th>\n",
       "      <th>edu_deg_cd</th>\n",
       "      <th>acdm_deg_cd</th>\n",
       "      <th>deg_cd</th>\n",
       "      <th>job_year</th>\n",
       "      <th>ic_ind</th>\n",
       "      <th>...</th>\n",
       "      <th>cur_debit_min_opn_dt_cnt</th>\n",
       "      <th>cur_credit_min_opn_dt_cnt</th>\n",
       "      <th>cur_debit_crd_lvl</th>\n",
       "      <th>trd_times</th>\n",
       "      <th>total_count</th>\n",
       "      <th>B_out</th>\n",
       "      <th>C_in</th>\n",
       "      <th>out_count</th>\n",
       "      <th>in_count</th>\n",
       "      <th>pg_times</th>\n",
       "    </tr>\n",
       "  </thead>\n",
       "  <tbody>\n",
       "    <tr>\n",
       "      <td>0</td>\n",
       "      <td>U7A4BAD</td>\n",
       "      <td>0.0</td>\n",
       "      <td>1.0</td>\n",
       "      <td>41</td>\n",
       "      <td>1.0</td>\n",
       "      <td>1.0</td>\n",
       "      <td>6.0</td>\n",
       "      <td>5.0</td>\n",
       "      <td>3</td>\n",
       "      <td>0.0</td>\n",
       "      <td>...</td>\n",
       "      <td>3492</td>\n",
       "      <td>-1</td>\n",
       "      <td>10</td>\n",
       "      <td>3.0</td>\n",
       "      <td>2400.00</td>\n",
       "      <td>1.0</td>\n",
       "      <td>2.0</td>\n",
       "      <td>15000.00</td>\n",
       "      <td>17400.00</td>\n",
       "      <td>1.0</td>\n",
       "    </tr>\n",
       "    <tr>\n",
       "      <td>1</td>\n",
       "      <td>U557810</td>\n",
       "      <td>0.0</td>\n",
       "      <td>1.0</td>\n",
       "      <td>35</td>\n",
       "      <td>0.0</td>\n",
       "      <td>4.0</td>\n",
       "      <td>5.0</td>\n",
       "      <td>5.0</td>\n",
       "      <td>4</td>\n",
       "      <td>0.0</td>\n",
       "      <td>...</td>\n",
       "      <td>4575</td>\n",
       "      <td>-1</td>\n",
       "      <td>10</td>\n",
       "      <td>NaN</td>\n",
       "      <td>NaN</td>\n",
       "      <td>NaN</td>\n",
       "      <td>NaN</td>\n",
       "      <td>NaN</td>\n",
       "      <td>NaN</td>\n",
       "      <td>1.0</td>\n",
       "    </tr>\n",
       "    <tr>\n",
       "      <td>2</td>\n",
       "      <td>U1E9240</td>\n",
       "      <td>0.0</td>\n",
       "      <td>1.0</td>\n",
       "      <td>53</td>\n",
       "      <td>1.0</td>\n",
       "      <td>0.0</td>\n",
       "      <td>2.0</td>\n",
       "      <td>2.0</td>\n",
       "      <td>9</td>\n",
       "      <td>0.0</td>\n",
       "      <td>...</td>\n",
       "      <td>4894</td>\n",
       "      <td>-1</td>\n",
       "      <td>40</td>\n",
       "      <td>17.0</td>\n",
       "      <td>-25439.96</td>\n",
       "      <td>6.0</td>\n",
       "      <td>11.0</td>\n",
       "      <td>131158.00</td>\n",
       "      <td>105718.04</td>\n",
       "      <td>35.0</td>\n",
       "    </tr>\n",
       "    <tr>\n",
       "      <td>3</td>\n",
       "      <td>U6DED00</td>\n",
       "      <td>0.0</td>\n",
       "      <td>0.0</td>\n",
       "      <td>41</td>\n",
       "      <td>1.0</td>\n",
       "      <td>4.0</td>\n",
       "      <td>6.0</td>\n",
       "      <td>5.0</td>\n",
       "      <td>0</td>\n",
       "      <td>0.0</td>\n",
       "      <td>...</td>\n",
       "      <td>4938</td>\n",
       "      <td>-1</td>\n",
       "      <td>10</td>\n",
       "      <td>NaN</td>\n",
       "      <td>NaN</td>\n",
       "      <td>NaN</td>\n",
       "      <td>NaN</td>\n",
       "      <td>NaN</td>\n",
       "      <td>NaN</td>\n",
       "      <td>1.0</td>\n",
       "    </tr>\n",
       "    <tr>\n",
       "      <td>4</td>\n",
       "      <td>UDA8E28</td>\n",
       "      <td>0.0</td>\n",
       "      <td>0.0</td>\n",
       "      <td>42</td>\n",
       "      <td>1.0</td>\n",
       "      <td>1.0</td>\n",
       "      <td>6.0</td>\n",
       "      <td>1.0</td>\n",
       "      <td>3</td>\n",
       "      <td>1.0</td>\n",
       "      <td>...</td>\n",
       "      <td>2378</td>\n",
       "      <td>-1</td>\n",
       "      <td>20</td>\n",
       "      <td>18.0</td>\n",
       "      <td>9089.51</td>\n",
       "      <td>5.0</td>\n",
       "      <td>13.0</td>\n",
       "      <td>70416.04</td>\n",
       "      <td>79505.55</td>\n",
       "      <td>22.0</td>\n",
       "    </tr>\n",
       "  </tbody>\n",
       "</table>\n",
       "<p>5 rows × 50 columns</p>\n",
       "</div>"
      ],
      "text/plain": [
       "        id  flag  gdr_cd  age  mrg_situ_cd  edu_deg_cd  acdm_deg_cd  deg_cd  \\\n",
       "0  U7A4BAD   0.0     1.0   41          1.0         1.0          6.0     5.0   \n",
       "1  U557810   0.0     1.0   35          0.0         4.0          5.0     5.0   \n",
       "2  U1E9240   0.0     1.0   53          1.0         0.0          2.0     2.0   \n",
       "3  U6DED00   0.0     0.0   41          1.0         4.0          6.0     5.0   \n",
       "4  UDA8E28   0.0     0.0   42          1.0         1.0          6.0     1.0   \n",
       "\n",
       "   job_year  ic_ind  ...  cur_debit_min_opn_dt_cnt  cur_credit_min_opn_dt_cnt  \\\n",
       "0         3     0.0  ...                      3492                         -1   \n",
       "1         4     0.0  ...                      4575                         -1   \n",
       "2         9     0.0  ...                      4894                         -1   \n",
       "3         0     0.0  ...                      4938                         -1   \n",
       "4         3     1.0  ...                      2378                         -1   \n",
       "\n",
       "   cur_debit_crd_lvl  trd_times  total_count  B_out  C_in  out_count  \\\n",
       "0                 10        3.0      2400.00    1.0   2.0   15000.00   \n",
       "1                 10        NaN          NaN    NaN   NaN        NaN   \n",
       "2                 40       17.0    -25439.96    6.0  11.0  131158.00   \n",
       "3                 10        NaN          NaN    NaN   NaN        NaN   \n",
       "4                 20       18.0      9089.51    5.0  13.0   70416.04   \n",
       "\n",
       "    in_count  pg_times  \n",
       "0   17400.00       1.0  \n",
       "1        NaN       1.0  \n",
       "2  105718.04      35.0  \n",
       "3        NaN       1.0  \n",
       "4   79505.55      22.0  \n",
       "\n",
       "[5 rows x 50 columns]"
      ]
     },
     "execution_count": 204,
     "metadata": {},
     "output_type": "execute_result"
    }
   ],
   "source": [
    "train_data.head()"
   ]
  },
  {
   "cell_type": "markdown",
   "metadata": {},
   "source": [
    "## 建模分析"
   ]
  },
  {
   "cell_type": "code",
   "execution_count": 206,
   "metadata": {},
   "outputs": [],
   "source": [
    "train_data_ = train_data.copy()\n",
    "X, y = train_data_.iloc[:,2:], train_data_['flag']"
   ]
  },
  {
   "cell_type": "code",
   "execution_count": 209,
   "metadata": {},
   "outputs": [],
   "source": [
    "Xtrain, Xtest, Ytrain, Ytest = train_test_split(X, y, test_size=0.3, random_state=0)"
   ]
  },
  {
   "cell_type": "code",
   "execution_count": 210,
   "metadata": {},
   "outputs": [],
   "source": [
    "import xgboost as xgb"
   ]
  },
  {
   "cell_type": "code",
   "execution_count": 212,
   "metadata": {},
   "outputs": [],
   "source": [
    "dtrain = xgb.DMatrix(Xtrain, Ytrain)\n",
    "dtest = xgb.DMatrix(Xtest, Ytest)\n",
    "dfull = xgb.DMatrix(X,y)"
   ]
  },
  {
   "cell_type": "code",
   "execution_count": 213,
   "metadata": {},
   "outputs": [],
   "source": [
    "from time import time\n",
    "import datetime"
   ]
  },
  {
   "cell_type": "code",
   "execution_count": 215,
   "metadata": {},
   "outputs": [
    {
     "data": {
      "text/plain": [
       "0.22425669413621221"
      ]
     },
     "execution_count": 215,
     "metadata": {},
     "output_type": "execute_result"
    }
   ],
   "source": [
    "(y==1).sum()/len(y)"
   ]
  },
  {
   "cell_type": "code",
   "execution_count": 288,
   "metadata": {
    "scrolled": true
   },
   "outputs": [
    {
     "name": "stdout",
     "output_type": "stream",
     "text": [
      "00:21:757185\n",
      "00:15:384563\n",
      "00:19:237429\n"
     ]
    },
    {
     "data": {
      "image/png": "[encoded data removed]",
      "text/plain": [
       "<Figure size 1080x576 with 1 Axes>"
      ]
     },
     "metadata": {
      "needs_background": "light"
     },
     "output_type": "display_data"
    }
   ],
   "source": [
    "param1 = {'booster': 'gbtree',\n",
    "         'objective': 'binary:logistic',\n",
    "         'eval_metric': 'auc',\n",
    "         'max_depth': 3,\n",
    "         'lambda': 100,\n",
    "         'gamma': 30,\n",
    "         'subsample': 0.5,\n",
    "         'colsample_bytree': 1,\n",
    "         'colsample_bylevel': 0.5,\n",
    "         'colsample_bynode': 0.75,\n",
    "         'min_child_weight': 1,\n",
    "         'eta': 0.05,\n",
    "         'seed': 0,\n",
    "         'silent': 1,\n",
    "         'n_fold': 5,\n",
    "         'scale_pos_weight':5}\n",
    "num_round = 500\n",
    "\n",
    "time0 = time()\n",
    "cvResult = xgb.cv(param1, dfull, num_round)\n",
    "print(datetime.datetime.fromtimestamp(time()-time0).strftime(\"%M:%S:%f\"))\n",
    "fig, ax = plt.subplots(1,figsize=(15,8))\n",
    "ax.grid()\n",
    "ax.plot(range(1,(num_round+1)), cvResult.iloc[:,0], c='r', label='train, original')\n",
    "ax.plot(range(1,(num_round+1)), cvResult.iloc[:,2], c='orange', label='test, original')\n",
    "\n",
    "param2 = {'booster': 'gbtree',\n",
    "         'objective': 'binary:logistic',\n",
    "         'eval_metric': 'auc',\n",
    "         'max_depth': 2,\n",
    "         'lambda': 100,\n",
    "         'gamma':0,\n",
    "         'subsample': 0.75,\n",
    "         'colsample_bytree': 1,\n",
    "         'colsample_bylevel': 0.75,\n",
    "         'colsample_bynode': 0.75,\n",
    "         'min_child_weight': 1,\n",
    "         'eta': 0.05,\n",
    "         'seed': 0,\n",
    "         'silent': 1,\n",
    "         'n_fold': 5,\n",
    "         'scale_pos_weight':10}\n",
    "param3 = {'booster': 'gbtree',\n",
    "         'objective': 'binary:logistic',\n",
    "         'eval_metric': 'auc',\n",
    "         'max_depth': 4,\n",
    "         'lambda': 100,\n",
    "         'gamma':30,\n",
    "         'subsample': 0.75,\n",
    "         'colsample_bytree': 1,\n",
    "         'colsample_bylevel': 0.5,\n",
    "         'colsample_bynode': 0.75,\n",
    "         'min_child_weight': 1,\n",
    "         'eta': 0.05,\n",
    "         'seed': 0,\n",
    "         'silent': 1,\n",
    "         'n_fold': 5,\n",
    "         'scale_pos_weight':5}\n",
    "time0 = time()\n",
    "cvResult2 = xgb.cv(param2, dfull, num_round)\n",
    "print(datetime.datetime.fromtimestamp(time()-time0).strftime(\"%M:%S:%f\"))\n",
    "\n",
    "time0 = time()\n",
    "cvResult3 = xgb.cv(param3, dfull, num_round)\n",
    "print(datetime.datetime.fromtimestamp(time()-time0).strftime(\"%M:%S:%f\"))\n",
    "\n",
    "ax.plot(range(1,(num_round+1)), cvResult2.iloc[:,0], c='green', label='train last')\n",
    "ax.plot(range(1,(num_round+1)), cvResult2.iloc[:,2], c='blue', label='test last')\n",
    "\n",
    "\n",
    "ax.plot(range(1,(num_round+1)), cvResult3.iloc[:,0], c='grey', label='train this')\n",
    "ax.plot(range(1,(num_round+1)), cvResult3.iloc[:,2], c='pink', label='test this')\n",
    "ax.legend(fontsize='xx-large')\n",
    "# plt.yticks([0.7,0.75,0.8])\n",
    "plt.show()"
   ]
  },
  {
   "cell_type": "code",
   "execution_count": 217,
   "metadata": {
    "collapsed": true
   },
   "outputs": [
    {
     "data": {
      "text/html": [
       "<div>\n",
       "<style scoped>\n",
       "    .dataframe tbody tr th:only-of-type {\n",
       "        vertical-align: middle;\n",
       "    }\n",
       "\n",
       "    .dataframe tbody tr th {\n",
       "        vertical-align: top;\n",
       "    }\n",
       "\n",
       "    .dataframe thead th {\n",
       "        text-align: right;\n",
       "    }\n",
       "</style>\n",
       "<table border=\"1\" class=\"dataframe\">\n",
       "  <thead>\n",
       "    <tr style=\"text-align: right;\">\n",
       "      <th></th>\n",
       "      <th>train-auc-mean</th>\n",
       "      <th>train-auc-std</th>\n",
       "      <th>test-auc-mean</th>\n",
       "      <th>test-auc-std</th>\n",
       "    </tr>\n",
       "  </thead>\n",
       "  <tbody>\n",
       "    <tr>\n",
       "      <td>0</td>\n",
       "      <td>0.687930</td>\n",
       "      <td>0.004195</td>\n",
       "      <td>0.677270</td>\n",
       "      <td>0.008513</td>\n",
       "    </tr>\n",
       "    <tr>\n",
       "      <td>1</td>\n",
       "      <td>0.699340</td>\n",
       "      <td>0.005106</td>\n",
       "      <td>0.688569</td>\n",
       "      <td>0.007093</td>\n",
       "    </tr>\n",
       "    <tr>\n",
       "      <td>2</td>\n",
       "      <td>0.708088</td>\n",
       "      <td>0.003485</td>\n",
       "      <td>0.695439</td>\n",
       "      <td>0.007740</td>\n",
       "    </tr>\n",
       "    <tr>\n",
       "      <td>3</td>\n",
       "      <td>0.718880</td>\n",
       "      <td>0.006008</td>\n",
       "      <td>0.705113</td>\n",
       "      <td>0.005417</td>\n",
       "    </tr>\n",
       "    <tr>\n",
       "      <td>4</td>\n",
       "      <td>0.724682</td>\n",
       "      <td>0.005824</td>\n",
       "      <td>0.708834</td>\n",
       "      <td>0.006058</td>\n",
       "    </tr>\n",
       "    <tr>\n",
       "      <td>...</td>\n",
       "      <td>...</td>\n",
       "      <td>...</td>\n",
       "      <td>...</td>\n",
       "      <td>...</td>\n",
       "    </tr>\n",
       "    <tr>\n",
       "      <td>495</td>\n",
       "      <td>0.943589</td>\n",
       "      <td>0.001807</td>\n",
       "      <td>0.720223</td>\n",
       "      <td>0.004631</td>\n",
       "    </tr>\n",
       "    <tr>\n",
       "      <td>496</td>\n",
       "      <td>0.943695</td>\n",
       "      <td>0.001860</td>\n",
       "      <td>0.720092</td>\n",
       "      <td>0.004633</td>\n",
       "    </tr>\n",
       "    <tr>\n",
       "      <td>497</td>\n",
       "      <td>0.943832</td>\n",
       "      <td>0.001823</td>\n",
       "      <td>0.720065</td>\n",
       "      <td>0.004626</td>\n",
       "    </tr>\n",
       "    <tr>\n",
       "      <td>498</td>\n",
       "      <td>0.943998</td>\n",
       "      <td>0.001793</td>\n",
       "      <td>0.720096</td>\n",
       "      <td>0.004502</td>\n",
       "    </tr>\n",
       "    <tr>\n",
       "      <td>499</td>\n",
       "      <td>0.944185</td>\n",
       "      <td>0.001821</td>\n",
       "      <td>0.720182</td>\n",
       "      <td>0.004453</td>\n",
       "    </tr>\n",
       "  </tbody>\n",
       "</table>\n",
       "<p>500 rows × 4 columns</p>\n",
       "</div>"
      ],
      "text/plain": [
       "     train-auc-mean  train-auc-std  test-auc-mean  test-auc-std\n",
       "0          0.687930       0.004195       0.677270      0.008513\n",
       "1          0.699340       0.005106       0.688569      0.007093\n",
       "2          0.708088       0.003485       0.695439      0.007740\n",
       "3          0.718880       0.006008       0.705113      0.005417\n",
       "4          0.724682       0.005824       0.708834      0.006058\n",
       "..              ...            ...            ...           ...\n",
       "495        0.943589       0.001807       0.720223      0.004631\n",
       "496        0.943695       0.001860       0.720092      0.004633\n",
       "497        0.943832       0.001823       0.720065      0.004626\n",
       "498        0.943998       0.001793       0.720096      0.004502\n",
       "499        0.944185       0.001821       0.720182      0.004453\n",
       "\n",
       "[500 rows x 4 columns]"
      ]
     },
     "execution_count": 217,
     "metadata": {},
     "output_type": "execute_result"
    }
   ],
   "source": [
    "cvResult"
   ]
  },
  {
   "cell_type": "code",
   "execution_count": 285,
   "metadata": {},
   "outputs": [],
   "source": [
    "params = {'booster': 'gbtree',\n",
    "         'objective': 'binary:logistic',\n",
    "         'eval_metric': 'auc',\n",
    "         'max_depth': 4,\n",
    "         'lambda': 100,\n",
    "         'gamma':30,\n",
    "         'subsample': 0.75,\n",
    "         'colsample_bytree': 1,\n",
    "         'colsample_bylevel': 0.5,\n",
    "         'colsample_bynode': 0.75,\n",
    "         'min_child_weight': 1,\n",
    "         'eta': 0.06,\n",
    "         'seed': 0,\n",
    "         'silent': 1,\n",
    "         'n_fold': 5,\n",
    "         'scale_pos_weight':5}\n",
    "num_round = 500"
   ]
  },
  {
   "cell_type": "code",
   "execution_count": 286,
   "metadata": {},
   "outputs": [],
   "source": [
    "bst = xgb.train(params, dtrain, num_round)\n",
    "preds = bst.predict(dtest)"
   ]
  },
  {
   "cell_type": "code",
   "execution_count": 287,
   "metadata": {},
   "outputs": [
    {
     "data": {
      "text/plain": [
       "0.7345978379256494"
      ]
     },
     "execution_count": 287,
     "metadata": {},
     "output_type": "execute_result"
    }
   ],
   "source": [
    "roc_auc_score(Ytest, preds)"
   ]
  },
  {
   "cell_type": "code",
   "execution_count": 268,
   "metadata": {},
   "outputs": [],
   "source": [
    "bst = xgb.train(params, dtrain, num_round)"
   ]
  },
  {
   "cell_type": "code",
   "execution_count": 269,
   "metadata": {},
   "outputs": [
    {
     "data": {
      "text/plain": [
       "['./训练数据集1/xgboost-fintech-joblib_1.dat']"
      ]
     },
     "execution_count": 269,
     "metadata": {},
     "output_type": "execute_result"
    }
   ],
   "source": [
    "import joblib\n",
    "\n",
    "joblib.dump(bst, './训练数据集1/xgboost-fintech-joblib_1.dat')"
   ]
  },
  {
   "cell_type": "code",
   "execution_count": 272,
   "metadata": {},
   "outputs": [
    {
     "data": {
      "text/plain": [
       "0.7323679237062644"
      ]
     },
     "execution_count": 272,
     "metadata": {},
     "output_type": "execute_result"
    }
   ],
   "source": [
    "loaded_model_joblib = joblib.load('./训练数据集1/xgboost-fintech-joblib_1.dat')\n",
    "preds = loaded_model_joblib.predict(dtest)\n",
    "\n",
    "auc(Ytest, preds)"
   ]
  },
  {
   "cell_type": "code",
   "execution_count": 273,
   "metadata": {},
   "outputs": [],
   "source": [
    "data_test_ = test_data.copy()"
   ]
  },
  {
   "cell_type": "code",
   "execution_count": 274,
   "metadata": {},
   "outputs": [
    {
     "data": {
      "text/plain": [
       "(6000, 48)"
      ]
     },
     "execution_count": 274,
     "metadata": {},
     "output_type": "execute_result"
    }
   ],
   "source": [
    "test_data_feature = data_test_.drop(['id'], axis=1)\n",
    "user_id = data_test_['id']\n",
    "test_data_feature.shape"
   ]
  },
  {
   "cell_type": "code",
   "execution_count": 275,
   "metadata": {},
   "outputs": [],
   "source": [
    "dtest_a = xgb.DMatrix(test_data_feature)"
   ]
  },
  {
   "cell_type": "code",
   "execution_count": 276,
   "metadata": {},
   "outputs": [],
   "source": [
    "data_test_['preds'] = loaded_model_joblib.predict(dtest_a)"
   ]
  },
  {
   "cell_type": "code",
   "execution_count": 277,
   "metadata": {},
   "outputs": [],
   "source": [
    "output_a = data_test_.loc[:,['id', 'preds']]"
   ]
  },
  {
   "cell_type": "code",
   "execution_count": 278,
   "metadata": {},
   "outputs": [],
   "source": [
    "output_a.to_csv('./训练数据集1/submit_a_1.txt', sep='\\t', index=False, encoding='utf8')"
   ]
  }
 ],
 "metadata": {
  "kernelspec": {
   "display_name": "Python 3",
   "language": "python",
   "name": "python3"
  },
  "language_info": {
   "codemirror_mode": {
    "name": "ipython",
    "version": 3
   },
   "file_extension": ".py",
   "mimetype": "text/x-python",
   "name": "python",
   "nbconvert_exporter": "python",
   "pygments_lexer": "ipython3",
   "version": "3.6.9"
  }
 },
 "nbformat": 4,
 "nbformat_minor": 2
}
