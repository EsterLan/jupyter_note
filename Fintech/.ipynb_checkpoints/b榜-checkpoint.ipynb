{
 "cells": [
  {
   "cell_type": "code",
   "execution_count": 1,
   "metadata": {},
   "outputs": [],
   "source": [
    "import numpy as np\n",
    "import pandas as pd\n",
    "import matplotlib.pyplot as plt\n",
    "from sklearn.model_selection import train_test_split\n",
    "from sklearn.metrics import roc_auc_score as auc"
   ]
  },
  {
   "cell_type": "code",
   "execution_count": 2,
   "metadata": {},
   "outputs": [],
   "source": [
    "\n",
    "data_train_tag = pd.read_csv('./训练数据集1/训练数据集_tag.csv')\n",
    "data_train_trd = pd.read_csv('./训练数据集1/训练数据集_trd.csv')\n",
    "data_train_beh = pd.read_csv('./训练数据集1/训练数据集_beh.csv')\n",
    "\n",
    "test_tag = pd.read_csv('./b/评分数据集_tag_b.csv')\n",
    "test_trd = pd.read_csv('./b/评分数据集_trd_b.csv')\n",
    "test_beh = pd.read_csv('./b/评分数据集_beh_b.csv')\n"
   ]
  },
  {
   "cell_type": "code",
   "execution_count": 3,
   "metadata": {},
   "outputs": [],
   "source": [
    "# beh训练集\n",
    "user_pgTimes = pd.DataFrame(data_train_beh.id.value_counts())\n",
    "user_pgTimes['index'] = user_pgTimes.index\n",
    "user_pgTimes.index = range(len(user_pgTimes))\n",
    "user_pgTimes.columns = ['pg_times', 'user']\n",
    "user_pgTimes = user_pgTimes[['user', 'pg_times']]"
   ]
  },
  {
   "cell_type": "code",
   "execution_count": 4,
   "metadata": {},
   "outputs": [
    {
     "data": {
      "text/plain": [
       "(1232, 2)"
      ]
     },
     "execution_count": 4,
     "metadata": {},
     "output_type": "execute_result"
    }
   ],
   "source": [
    "# beh测试集\n",
    "test_user_pgTimes = pd.DataFrame(test_beh.id.value_counts())\n",
    "test_user_pgTimes['index'] = test_user_pgTimes.index\n",
    "test_user_pgTimes.index = range(len(test_user_pgTimes))\n",
    "test_user_pgTimes.columns = ['pg_times', 'user']\n",
    "test_user_pgTimes = test_user_pgTimes[['user', 'pg_times']]\n",
    "test_user_pgTimes.shape"
   ]
  },
  {
   "cell_type": "markdown",
   "metadata": {},
   "source": [
    "### 对tag表进行处理"
   ]
  },
  {
   "cell_type": "code",
   "execution_count": 5,
   "metadata": {
    "collapsed": true
   },
   "outputs": [
    {
     "name": "stdout",
     "output_type": "stream",
     "text": [
      "<class 'pandas.core.frame.DataFrame'>\n",
      "RangeIndex: 39923 entries, 0 to 39922\n",
      "Data columns (total 43 columns):\n",
      "id                                 39923 non-null object\n",
      "flag                               39923 non-null int64\n",
      "gdr_cd                             39923 non-null object\n",
      "age                                39923 non-null int64\n",
      "mrg_situ_cd                        39923 non-null object\n",
      "edu_deg_cd                         27487 non-null object\n",
      "acdm_deg_cd                        39922 non-null object\n",
      "deg_cd                             18960 non-null object\n",
      "job_year                           39923 non-null object\n",
      "ic_ind                             39923 non-null object\n",
      "fr_or_sh_ind                       39923 non-null object\n",
      "dnl_mbl_bnk_ind                    39923 non-null object\n",
      "dnl_bind_cmb_lif_ind               39923 non-null object\n",
      "hav_car_grp_ind                    39923 non-null object\n",
      "hav_hou_grp_ind                    39923 non-null object\n",
      "l6mon_agn_ind                      39923 non-null object\n",
      "frs_agn_dt_cnt                     39923 non-null object\n",
      "vld_rsk_ases_ind                   39923 non-null object\n",
      "fin_rsk_ases_grd_cd                39923 non-null object\n",
      "confirm_rsk_ases_lvl_typ_cd        39923 non-null object\n",
      "cust_inv_rsk_endu_lvl_cd           39923 non-null object\n",
      "l6mon_daim_aum_cd                  39923 non-null int64\n",
      "tot_ast_lvl_cd                     39923 non-null object\n",
      "pot_ast_lvl_cd                     39923 non-null object\n",
      "bk1_cur_year_mon_avg_agn_amt_cd    39923 non-null int64\n",
      "l12mon_buy_fin_mng_whl_tms         39923 non-null object\n",
      "l12_mon_fnd_buy_whl_tms            39923 non-null object\n",
      "l12_mon_insu_buy_whl_tms           39923 non-null object\n",
      "l12_mon_gld_buy_whl_tms            39923 non-null object\n",
      "loan_act_ind                       39923 non-null object\n",
      "pl_crd_lmt_cd                      39923 non-null int64\n",
      "ovd_30d_loan_tot_cnt               39923 non-null object\n",
      "his_lng_ovd_day                    39923 non-null object\n",
      "hld_crd_card_grd_cd                39923 non-null object\n",
      "crd_card_act_ind                   39923 non-null object\n",
      "l1y_crd_card_csm_amt_dlm_cd        39923 non-null object\n",
      "atdd_type                          16266 non-null object\n",
      "perm_crd_lmt_cd                    39923 non-null int64\n",
      "cur_debit_cnt                      39923 non-null int64\n",
      "cur_credit_cnt                     39923 non-null int64\n",
      "cur_debit_min_opn_dt_cnt           39923 non-null int64\n",
      "cur_credit_min_opn_dt_cnt          39923 non-null int64\n",
      "cur_debit_crd_lvl                  39923 non-null int64\n",
      "dtypes: int64(11), object(32)\n",
      "memory usage: 13.1+ MB\n"
     ]
    }
   ],
   "source": [
    "data_train_tag.info()"
   ]
  },
  {
   "cell_type": "code",
   "execution_count": 6,
   "metadata": {},
   "outputs": [],
   "source": [
    "# 用众数填补缺失值\n",
    "data_train_tag_1 = data_train_tag.copy()\n",
    "data_train_tag_1.atdd_type.fillna(data_train_tag_1.atdd_type.mode()[0], inplace=True)\n",
    "data_train_tag_1.acdm_deg_cd.fillna(data_train_tag_1.acdm_deg_cd.mode()[0], inplace=True)\n",
    "data_train_tag_1.edu_deg_cd.fillna(data_train_tag_1.edu_deg_cd.mode()[0], inplace=True)\n",
    "data_train_tag_1.deg_cd.fillna(data_train_tag_1.deg_cd.mode()[0], inplace=True)"
   ]
  },
  {
   "cell_type": "code",
   "execution_count": 7,
   "metadata": {},
   "outputs": [],
   "source": [
    "# 用训练集众数 填补测试集缺失值\n",
    "test_tag_1 = test_tag.copy()\n",
    "test_tag_1.atdd_type.fillna(data_train_tag_1.atdd_type.mode()[0], inplace=True)\n",
    "test_tag_1.acdm_deg_cd.fillna(data_train_tag_1.acdm_deg_cd.mode()[0], inplace=True)\n",
    "test_tag_1.edu_deg_cd.fillna(data_train_tag_1.edu_deg_cd.mode()[0], inplace=True)\n",
    "test_tag_1.deg_cd.fillna(data_train_tag_1.deg_cd.mode()[0], inplace=True)"
   ]
  },
  {
   "cell_type": "code",
   "execution_count": 8,
   "metadata": {},
   "outputs": [
    {
     "data": {
      "text/plain": [
       "Index(['id', 'gdr_cd', 'mrg_situ_cd', 'edu_deg_cd', 'acdm_deg_cd', 'deg_cd',\n",
       "       'job_year', 'ic_ind', 'fr_or_sh_ind', 'dnl_mbl_bnk_ind',\n",
       "       'dnl_bind_cmb_lif_ind', 'hav_car_grp_ind', 'hav_hou_grp_ind',\n",
       "       'l6mon_agn_ind', 'frs_agn_dt_cnt', 'vld_rsk_ases_ind',\n",
       "       'fin_rsk_ases_grd_cd', 'confirm_rsk_ases_lvl_typ_cd',\n",
       "       'cust_inv_rsk_endu_lvl_cd', 'tot_ast_lvl_cd', 'pot_ast_lvl_cd',\n",
       "       'l12mon_buy_fin_mng_whl_tms', 'l12_mon_fnd_buy_whl_tms',\n",
       "       'l12_mon_insu_buy_whl_tms', 'l12_mon_gld_buy_whl_tms', 'loan_act_ind',\n",
       "       'ovd_30d_loan_tot_cnt', 'his_lng_ovd_day', 'hld_crd_card_grd_cd',\n",
       "       'crd_card_act_ind', 'l1y_crd_card_csm_amt_dlm_cd', 'atdd_type'],\n",
       "      dtype='object')"
      ]
     },
     "execution_count": 8,
     "metadata": {},
     "output_type": "execute_result"
    }
   ],
   "source": [
    "categorical_cols = data_train_tag_1.select_dtypes(include='object').columns\n",
    "categorical_cols"
   ]
  },
  {
   "cell_type": "code",
   "execution_count": 9,
   "metadata": {},
   "outputs": [],
   "source": [
    "# 对category'/N'用众数填充\n",
    "from sklearn.impute import SimpleImputer\n",
    "imp_mode = SimpleImputer(missing_values = r'\\N', strategy='most_frequent')\n",
    "imp_mode = imp_mode.fit(data_train_tag_1.loc[:, categorical_cols[1:]])\n",
    "data_train_tag_1.loc[:, categorical_cols[1:]] = imp_mode.transform(data_train_tag_1.loc[:, categorical_cols[1:]])\n",
    "\n",
    "\n",
    "test_tag_1.loc[:, categorical_cols[1:]] = imp_mode.transform(test_tag_1.loc[:, categorical_cols[1:]])"
   ]
  },
  {
   "cell_type": "markdown",
   "metadata": {},
   "source": [
    "**要将训练集测试集拼接来进行编码和类型转换**"
   ]
  },
  {
   "cell_type": "code",
   "execution_count": 49,
   "metadata": {},
   "outputs": [],
   "source": [
    "del(data)"
   ]
  },
  {
   "cell_type": "code",
   "execution_count": 50,
   "metadata": {},
   "outputs": [
    {
     "data": {
      "text/plain": [
       "0      2356\n",
       "0.0    1529\n",
       "1.0     115\n",
       "Name: atdd_type, dtype: int64"
      ]
     },
     "execution_count": 50,
     "metadata": {},
     "output_type": "execute_result"
    }
   ],
   "source": [
    "test_tag_1.atdd_type.value_counts()"
   ]
  },
  {
   "cell_type": "code",
   "execution_count": 51,
   "metadata": {},
   "outputs": [],
   "source": [
    "test_tag_1.atdd_type = test_tag_1.atdd_type.astype(int)\n",
    "test_tag_1.atdd_type = test_tag_1.atdd_type.astype(str)"
   ]
  },
  {
   "cell_type": "code",
   "execution_count": 53,
   "metadata": {},
   "outputs": [],
   "source": [
    "data = pd.concat([data_train_tag_1, test_tag_1], ignore_index=True, sort=False)"
   ]
  },
  {
   "cell_type": "code",
   "execution_count": 70,
   "metadata": {},
   "outputs": [],
   "source": [
    "# 将部分category转换为数值类型\n",
    "categorical_num = ['l1y_crd_card_csm_amt_dlm_cd','job_year', 'frs_agn_dt_cnt','fin_rsk_ases_grd_cd', 'l12mon_buy_fin_mng_whl_tms',\n",
    "       'l12_mon_fnd_buy_whl_tms', 'l12_mon_insu_buy_whl_tms',\n",
    "       'l12_mon_gld_buy_whl_tms', 'ovd_30d_loan_tot_cnt',\n",
    "       'his_lng_ovd_day']\n",
    "categorical_ind = [x for x in categorical_cols if x not in categorical_num]"
   ]
  },
  {
   "cell_type": "code",
   "execution_count": 71,
   "metadata": {
    "collapsed": true
   },
   "outputs": [
    {
     "name": "stdout",
     "output_type": "stream",
     "text": [
      "<class 'pandas.core.frame.DataFrame'>\n",
      "RangeIndex: 43923 entries, 0 to 43922\n",
      "Data columns (total 43 columns):\n",
      "id                                 43923 non-null object\n",
      "flag                               39923 non-null float64\n",
      "gdr_cd                             43923 non-null object\n",
      "age                                43923 non-null int64\n",
      "mrg_situ_cd                        43923 non-null object\n",
      "edu_deg_cd                         43923 non-null object\n",
      "acdm_deg_cd                        43923 non-null object\n",
      "deg_cd                             43923 non-null object\n",
      "job_year                           43923 non-null object\n",
      "ic_ind                             43923 non-null object\n",
      "fr_or_sh_ind                       43923 non-null object\n",
      "dnl_mbl_bnk_ind                    43923 non-null object\n",
      "dnl_bind_cmb_lif_ind               43923 non-null object\n",
      "hav_car_grp_ind                    43923 non-null object\n",
      "hav_hou_grp_ind                    43923 non-null object\n",
      "l6mon_agn_ind                      43923 non-null object\n",
      "frs_agn_dt_cnt                     43923 non-null object\n",
      "vld_rsk_ases_ind                   43923 non-null object\n",
      "fin_rsk_ases_grd_cd                43923 non-null object\n",
      "confirm_rsk_ases_lvl_typ_cd        43923 non-null object\n",
      "cust_inv_rsk_endu_lvl_cd           43923 non-null object\n",
      "l6mon_daim_aum_cd                  43923 non-null int64\n",
      "tot_ast_lvl_cd                     43923 non-null object\n",
      "pot_ast_lvl_cd                     43923 non-null object\n",
      "bk1_cur_year_mon_avg_agn_amt_cd    43923 non-null int64\n",
      "l12mon_buy_fin_mng_whl_tms         43923 non-null object\n",
      "l12_mon_fnd_buy_whl_tms            43923 non-null object\n",
      "l12_mon_insu_buy_whl_tms           43923 non-null object\n",
      "l12_mon_gld_buy_whl_tms            43923 non-null object\n",
      "loan_act_ind                       43923 non-null object\n",
      "pl_crd_lmt_cd                      43923 non-null int64\n",
      "ovd_30d_loan_tot_cnt               43923 non-null object\n",
      "his_lng_ovd_day                    43923 non-null object\n",
      "hld_crd_card_grd_cd                43923 non-null object\n",
      "crd_card_act_ind                   43923 non-null object\n",
      "l1y_crd_card_csm_amt_dlm_cd        43923 non-null object\n",
      "atdd_type                          43923 non-null object\n",
      "perm_crd_lmt_cd                    43923 non-null int64\n",
      "cur_debit_cnt                      43923 non-null int64\n",
      "cur_credit_cnt                     43923 non-null int64\n",
      "cur_debit_min_opn_dt_cnt           43923 non-null int64\n",
      "cur_credit_min_opn_dt_cnt          43923 non-null int64\n",
      "cur_debit_crd_lvl                  43923 non-null int64\n",
      "dtypes: float64(1), int64(10), object(32)\n",
      "memory usage: 14.4+ MB\n"
     ]
    }
   ],
   "source": [
    "data.info()"
   ]
  },
  {
   "cell_type": "code",
   "execution_count": 72,
   "metadata": {
    "collapsed": true
   },
   "outputs": [
    {
     "data": {
      "text/html": [
       "<div>\n",
       "<style scoped>\n",
       "    .dataframe tbody tr th:only-of-type {\n",
       "        vertical-align: middle;\n",
       "    }\n",
       "\n",
       "    .dataframe tbody tr th {\n",
       "        vertical-align: top;\n",
       "    }\n",
       "\n",
       "    .dataframe thead th {\n",
       "        text-align: right;\n",
       "    }\n",
       "</style>\n",
       "<table border=\"1\" class=\"dataframe\">\n",
       "  <thead>\n",
       "    <tr style=\"text-align: right;\">\n",
       "      <th></th>\n",
       "      <th>id</th>\n",
       "      <th>flag</th>\n",
       "      <th>gdr_cd</th>\n",
       "      <th>age</th>\n",
       "      <th>mrg_situ_cd</th>\n",
       "      <th>edu_deg_cd</th>\n",
       "      <th>acdm_deg_cd</th>\n",
       "      <th>deg_cd</th>\n",
       "      <th>job_year</th>\n",
       "      <th>ic_ind</th>\n",
       "      <th>...</th>\n",
       "      <th>hld_crd_card_grd_cd</th>\n",
       "      <th>crd_card_act_ind</th>\n",
       "      <th>l1y_crd_card_csm_amt_dlm_cd</th>\n",
       "      <th>atdd_type</th>\n",
       "      <th>perm_crd_lmt_cd</th>\n",
       "      <th>cur_debit_cnt</th>\n",
       "      <th>cur_credit_cnt</th>\n",
       "      <th>cur_debit_min_opn_dt_cnt</th>\n",
       "      <th>cur_credit_min_opn_dt_cnt</th>\n",
       "      <th>cur_debit_crd_lvl</th>\n",
       "    </tr>\n",
       "  </thead>\n",
       "  <tbody>\n",
       "    <tr>\n",
       "      <td>0</td>\n",
       "      <td>U7A4BAD</td>\n",
       "      <td>0.0</td>\n",
       "      <td>M</td>\n",
       "      <td>41</td>\n",
       "      <td>B</td>\n",
       "      <td>B</td>\n",
       "      <td>Z</td>\n",
       "      <td>~</td>\n",
       "      <td>3</td>\n",
       "      <td>0</td>\n",
       "      <td>...</td>\n",
       "      <td>-1</td>\n",
       "      <td>0</td>\n",
       "      <td>0</td>\n",
       "      <td>0</td>\n",
       "      <td>3</td>\n",
       "      <td>1</td>\n",
       "      <td>0</td>\n",
       "      <td>3492</td>\n",
       "      <td>-1</td>\n",
       "      <td>10</td>\n",
       "    </tr>\n",
       "    <tr>\n",
       "      <td>1</td>\n",
       "      <td>U557810</td>\n",
       "      <td>0.0</td>\n",
       "      <td>M</td>\n",
       "      <td>35</td>\n",
       "      <td>A</td>\n",
       "      <td>F</td>\n",
       "      <td>G</td>\n",
       "      <td>~</td>\n",
       "      <td>4</td>\n",
       "      <td>0</td>\n",
       "      <td>...</td>\n",
       "      <td>-1</td>\n",
       "      <td>0</td>\n",
       "      <td>0</td>\n",
       "      <td>0</td>\n",
       "      <td>1</td>\n",
       "      <td>1</td>\n",
       "      <td>0</td>\n",
       "      <td>4575</td>\n",
       "      <td>-1</td>\n",
       "      <td>10</td>\n",
       "    </tr>\n",
       "    <tr>\n",
       "      <td>2</td>\n",
       "      <td>U1E9240</td>\n",
       "      <td>0.0</td>\n",
       "      <td>M</td>\n",
       "      <td>53</td>\n",
       "      <td>B</td>\n",
       "      <td>A</td>\n",
       "      <td>C</td>\n",
       "      <td>C</td>\n",
       "      <td>9</td>\n",
       "      <td>0</td>\n",
       "      <td>...</td>\n",
       "      <td>-1</td>\n",
       "      <td>0</td>\n",
       "      <td>0</td>\n",
       "      <td>0</td>\n",
       "      <td>7</td>\n",
       "      <td>2</td>\n",
       "      <td>0</td>\n",
       "      <td>4894</td>\n",
       "      <td>-1</td>\n",
       "      <td>40</td>\n",
       "    </tr>\n",
       "    <tr>\n",
       "      <td>3</td>\n",
       "      <td>U6DED00</td>\n",
       "      <td>0.0</td>\n",
       "      <td>F</td>\n",
       "      <td>41</td>\n",
       "      <td>B</td>\n",
       "      <td>F</td>\n",
       "      <td>Z</td>\n",
       "      <td>~</td>\n",
       "      <td>0</td>\n",
       "      <td>0</td>\n",
       "      <td>...</td>\n",
       "      <td>-1</td>\n",
       "      <td>0</td>\n",
       "      <td>0</td>\n",
       "      <td>0</td>\n",
       "      <td>1</td>\n",
       "      <td>1</td>\n",
       "      <td>0</td>\n",
       "      <td>4938</td>\n",
       "      <td>-1</td>\n",
       "      <td>10</td>\n",
       "    </tr>\n",
       "    <tr>\n",
       "      <td>4</td>\n",
       "      <td>UDA8E28</td>\n",
       "      <td>0.0</td>\n",
       "      <td>F</td>\n",
       "      <td>42</td>\n",
       "      <td>B</td>\n",
       "      <td>B</td>\n",
       "      <td>Z</td>\n",
       "      <td>B</td>\n",
       "      <td>3</td>\n",
       "      <td>1</td>\n",
       "      <td>...</td>\n",
       "      <td>-1</td>\n",
       "      <td>0</td>\n",
       "      <td>0</td>\n",
       "      <td>0</td>\n",
       "      <td>2</td>\n",
       "      <td>7</td>\n",
       "      <td>0</td>\n",
       "      <td>2378</td>\n",
       "      <td>-1</td>\n",
       "      <td>20</td>\n",
       "    </tr>\n",
       "  </tbody>\n",
       "</table>\n",
       "<p>5 rows × 43 columns</p>\n",
       "</div>"
      ],
      "text/plain": [
       "        id  flag gdr_cd  age mrg_situ_cd edu_deg_cd acdm_deg_cd deg_cd  \\\n",
       "0  U7A4BAD   0.0      M   41           B          B           Z      ~   \n",
       "1  U557810   0.0      M   35           A          F           G      ~   \n",
       "2  U1E9240   0.0      M   53           B          A           C      C   \n",
       "3  U6DED00   0.0      F   41           B          F           Z      ~   \n",
       "4  UDA8E28   0.0      F   42           B          B           Z      B   \n",
       "\n",
       "  job_year ic_ind  ... hld_crd_card_grd_cd crd_card_act_ind  \\\n",
       "0        3      0  ...                  -1                0   \n",
       "1        4      0  ...                  -1                0   \n",
       "2        9      0  ...                  -1                0   \n",
       "3        0      0  ...                  -1                0   \n",
       "4        3      1  ...                  -1                0   \n",
       "\n",
       "  l1y_crd_card_csm_amt_dlm_cd atdd_type perm_crd_lmt_cd cur_debit_cnt  \\\n",
       "0                           0         0               3             1   \n",
       "1                           0         0               1             1   \n",
       "2                           0         0               7             2   \n",
       "3                           0         0               1             1   \n",
       "4                           0         0               2             7   \n",
       "\n",
       "  cur_credit_cnt cur_debit_min_opn_dt_cnt cur_credit_min_opn_dt_cnt  \\\n",
       "0              0                     3492                        -1   \n",
       "1              0                     4575                        -1   \n",
       "2              0                     4894                        -1   \n",
       "3              0                     4938                        -1   \n",
       "4              0                     2378                        -1   \n",
       "\n",
       "  cur_debit_crd_lvl  \n",
       "0                10  \n",
       "1                10  \n",
       "2                40  \n",
       "3                10  \n",
       "4                20  \n",
       "\n",
       "[5 rows x 43 columns]"
      ]
     },
     "execution_count": 72,
     "metadata": {},
     "output_type": "execute_result"
    }
   ],
   "source": [
    "data.head()"
   ]
  },
  {
   "cell_type": "code",
   "execution_count": 73,
   "metadata": {},
   "outputs": [],
   "source": [
    "data.loc[:, categorical_num] = data.loc[:, categorical_num].astype(int)"
   ]
  },
  {
   "cell_type": "code",
   "execution_count": 74,
   "metadata": {},
   "outputs": [],
   "source": [
    "from sklearn.preprocessing import OrdinalEncoder\n",
    "oe = OrdinalEncoder().fit(data.loc[:, categorical_ind[1:]])\n",
    "data.loc[:, categorical_ind[1:]] = oe.transform(data.loc[:, categorical_ind[1:]])   "
   ]
  },
  {
   "cell_type": "code",
   "execution_count": 2,
   "metadata": {
    "collapsed": true
   },
   "outputs": [
    {
     "ename": "NameError",
     "evalue": "name 'data' is not defined",
     "output_type": "error",
     "traceback": [
      "\u001b[0;31m---------------------------------------------------------------------------\u001b[0m",
      "\u001b[0;31mNameError\u001b[0m                                 Traceback (most recent call last)",
      "\u001b[0;32m<ipython-input-2-01b3b53afd7b>\u001b[0m in \u001b[0;36m<module>\u001b[0;34m\u001b[0m\n\u001b[1;32m      1\u001b[0m \u001b[0;32mfrom\u001b[0m \u001b[0msklearn\u001b[0m\u001b[0;34m.\u001b[0m\u001b[0mpreprocessing\u001b[0m \u001b[0;32mimport\u001b[0m \u001b[0mOrdinalEncoder\u001b[0m\u001b[0;34m\u001b[0m\u001b[0;34m\u001b[0m\u001b[0m\n\u001b[0;32m----> 2\u001b[0;31m \u001b[0moe\u001b[0m \u001b[0;34m=\u001b[0m \u001b[0mOrdinalEncoder\u001b[0m\u001b[0;34m(\u001b[0m\u001b[0;34m)\u001b[0m\u001b[0;34m.\u001b[0m\u001b[0mfit\u001b[0m\u001b[0;34m(\u001b[0m\u001b[0mdata\u001b[0m\u001b[0;34m.\u001b[0m\u001b[0mloc\u001b[0m\u001b[0;34m[\u001b[0m\u001b[0;34m:\u001b[0m\u001b[0;34m,\u001b[0m \u001b[0mcategorical_ind\u001b[0m\u001b[0;34m[\u001b[0m\u001b[0;36m1\u001b[0m\u001b[0;34m:\u001b[0m\u001b[0;34m]\u001b[0m\u001b[0;34m]\u001b[0m\u001b[0;34m)\u001b[0m\u001b[0;34m\u001b[0m\u001b[0;34m\u001b[0m\u001b[0m\n\u001b[0m",
      "\u001b[0;31mNameError\u001b[0m: name 'data' is not defined"
     ]
    }
   ],
   "source": [
    "from sklearn.preprocessing import OrdinalEncoder\n",
    "oe = OrdinalEncoder().fit(data.loc[:, categorical_ind[1:]])"
   ]
  },
  {
   "cell_type": "code",
   "execution_count": 75,
   "metadata": {},
   "outputs": [
    {
     "data": {
      "text/plain": [
       "39923"
      ]
     },
     "execution_count": 75,
     "metadata": {},
     "output_type": "execute_result"
    }
   ],
   "source": [
    "(data.iloc[:len(data_train_tag_1),:].id == data_train_tag_1.id).sum()"
   ]
  },
  {
   "cell_type": "code",
   "execution_count": 76,
   "metadata": {},
   "outputs": [],
   "source": [
    "a = data.iloc[len(data_train_tag_1):, :].id.copy()\n",
    "a.index = np.arange(len(a))"
   ]
  },
  {
   "cell_type": "code",
   "execution_count": 77,
   "metadata": {},
   "outputs": [
    {
     "data": {
      "text/plain": [
       "4000"
      ]
     },
     "execution_count": 77,
     "metadata": {},
     "output_type": "execute_result"
    }
   ],
   "source": [
    "(a == test_tag_1.id).sum()"
   ]
  },
  {
   "cell_type": "code",
   "execution_count": 81,
   "metadata": {},
   "outputs": [],
   "source": [
    "train_tag = data.iloc[:len(data_train_tag_1),:]"
   ]
  },
  {
   "cell_type": "code",
   "execution_count": 564,
   "metadata": {
    "collapsed": true
   },
   "outputs": [
    {
     "data": {
      "text/html": [
       "<div>\n",
       "<style scoped>\n",
       "    .dataframe tbody tr th:only-of-type {\n",
       "        vertical-align: middle;\n",
       "    }\n",
       "\n",
       "    .dataframe tbody tr th {\n",
       "        vertical-align: top;\n",
       "    }\n",
       "\n",
       "    .dataframe thead th {\n",
       "        text-align: right;\n",
       "    }\n",
       "</style>\n",
       "<table border=\"1\" class=\"dataframe\">\n",
       "  <thead>\n",
       "    <tr style=\"text-align: right;\">\n",
       "      <th></th>\n",
       "      <th>id</th>\n",
       "      <th>flag</th>\n",
       "      <th>gdr_cd</th>\n",
       "      <th>age</th>\n",
       "      <th>mrg_situ_cd</th>\n",
       "      <th>edu_deg_cd</th>\n",
       "      <th>acdm_deg_cd</th>\n",
       "      <th>deg_cd</th>\n",
       "      <th>job_year</th>\n",
       "      <th>ic_ind</th>\n",
       "      <th>...</th>\n",
       "      <th>hld_crd_card_grd_cd</th>\n",
       "      <th>crd_card_act_ind</th>\n",
       "      <th>l1y_crd_card_csm_amt_dlm_cd</th>\n",
       "      <th>atdd_type</th>\n",
       "      <th>perm_crd_lmt_cd</th>\n",
       "      <th>cur_debit_cnt</th>\n",
       "      <th>cur_credit_cnt</th>\n",
       "      <th>cur_debit_min_opn_dt_cnt</th>\n",
       "      <th>cur_credit_min_opn_dt_cnt</th>\n",
       "      <th>cur_debit_crd_lvl</th>\n",
       "    </tr>\n",
       "  </thead>\n",
       "  <tbody>\n",
       "    <tr>\n",
       "      <td>0</td>\n",
       "      <td>U7A4BAD</td>\n",
       "      <td>0.0</td>\n",
       "      <td>1.0</td>\n",
       "      <td>41</td>\n",
       "      <td>1.0</td>\n",
       "      <td>1.0</td>\n",
       "      <td>6.0</td>\n",
       "      <td>5.0</td>\n",
       "      <td>3</td>\n",
       "      <td>0.0</td>\n",
       "      <td>...</td>\n",
       "      <td>0.0</td>\n",
       "      <td>0.0</td>\n",
       "      <td>0</td>\n",
       "      <td>0.0</td>\n",
       "      <td>3</td>\n",
       "      <td>1</td>\n",
       "      <td>0</td>\n",
       "      <td>3492</td>\n",
       "      <td>-1</td>\n",
       "      <td>10</td>\n",
       "    </tr>\n",
       "    <tr>\n",
       "      <td>1</td>\n",
       "      <td>U557810</td>\n",
       "      <td>0.0</td>\n",
       "      <td>1.0</td>\n",
       "      <td>35</td>\n",
       "      <td>0.0</td>\n",
       "      <td>4.0</td>\n",
       "      <td>5.0</td>\n",
       "      <td>5.0</td>\n",
       "      <td>4</td>\n",
       "      <td>0.0</td>\n",
       "      <td>...</td>\n",
       "      <td>0.0</td>\n",
       "      <td>0.0</td>\n",
       "      <td>0</td>\n",
       "      <td>0.0</td>\n",
       "      <td>1</td>\n",
       "      <td>1</td>\n",
       "      <td>0</td>\n",
       "      <td>4575</td>\n",
       "      <td>-1</td>\n",
       "      <td>10</td>\n",
       "    </tr>\n",
       "    <tr>\n",
       "      <td>2</td>\n",
       "      <td>U1E9240</td>\n",
       "      <td>0.0</td>\n",
       "      <td>1.0</td>\n",
       "      <td>53</td>\n",
       "      <td>1.0</td>\n",
       "      <td>0.0</td>\n",
       "      <td>2.0</td>\n",
       "      <td>2.0</td>\n",
       "      <td>9</td>\n",
       "      <td>0.0</td>\n",
       "      <td>...</td>\n",
       "      <td>0.0</td>\n",
       "      <td>0.0</td>\n",
       "      <td>0</td>\n",
       "      <td>0.0</td>\n",
       "      <td>7</td>\n",
       "      <td>2</td>\n",
       "      <td>0</td>\n",
       "      <td>4894</td>\n",
       "      <td>-1</td>\n",
       "      <td>40</td>\n",
       "    </tr>\n",
       "    <tr>\n",
       "      <td>3</td>\n",
       "      <td>U6DED00</td>\n",
       "      <td>0.0</td>\n",
       "      <td>0.0</td>\n",
       "      <td>41</td>\n",
       "      <td>1.0</td>\n",
       "      <td>4.0</td>\n",
       "      <td>6.0</td>\n",
       "      <td>5.0</td>\n",
       "      <td>0</td>\n",
       "      <td>0.0</td>\n",
       "      <td>...</td>\n",
       "      <td>0.0</td>\n",
       "      <td>0.0</td>\n",
       "      <td>0</td>\n",
       "      <td>0.0</td>\n",
       "      <td>1</td>\n",
       "      <td>1</td>\n",
       "      <td>0</td>\n",
       "      <td>4938</td>\n",
       "      <td>-1</td>\n",
       "      <td>10</td>\n",
       "    </tr>\n",
       "    <tr>\n",
       "      <td>4</td>\n",
       "      <td>UDA8E28</td>\n",
       "      <td>0.0</td>\n",
       "      <td>0.0</td>\n",
       "      <td>42</td>\n",
       "      <td>1.0</td>\n",
       "      <td>1.0</td>\n",
       "      <td>6.0</td>\n",
       "      <td>1.0</td>\n",
       "      <td>3</td>\n",
       "      <td>1.0</td>\n",
       "      <td>...</td>\n",
       "      <td>0.0</td>\n",
       "      <td>0.0</td>\n",
       "      <td>0</td>\n",
       "      <td>0.0</td>\n",
       "      <td>2</td>\n",
       "      <td>7</td>\n",
       "      <td>0</td>\n",
       "      <td>2378</td>\n",
       "      <td>-1</td>\n",
       "      <td>20</td>\n",
       "    </tr>\n",
       "    <tr>\n",
       "      <td>...</td>\n",
       "      <td>...</td>\n",
       "      <td>...</td>\n",
       "      <td>...</td>\n",
       "      <td>...</td>\n",
       "      <td>...</td>\n",
       "      <td>...</td>\n",
       "      <td>...</td>\n",
       "      <td>...</td>\n",
       "      <td>...</td>\n",
       "      <td>...</td>\n",
       "      <td>...</td>\n",
       "      <td>...</td>\n",
       "      <td>...</td>\n",
       "      <td>...</td>\n",
       "      <td>...</td>\n",
       "      <td>...</td>\n",
       "      <td>...</td>\n",
       "      <td>...</td>\n",
       "      <td>...</td>\n",
       "      <td>...</td>\n",
       "      <td>...</td>\n",
       "    </tr>\n",
       "    <tr>\n",
       "      <td>39918</td>\n",
       "      <td>U8E66E5</td>\n",
       "      <td>1.0</td>\n",
       "      <td>1.0</td>\n",
       "      <td>24</td>\n",
       "      <td>0.0</td>\n",
       "      <td>4.0</td>\n",
       "      <td>5.0</td>\n",
       "      <td>5.0</td>\n",
       "      <td>1</td>\n",
       "      <td>0.0</td>\n",
       "      <td>...</td>\n",
       "      <td>2.0</td>\n",
       "      <td>1.0</td>\n",
       "      <td>1</td>\n",
       "      <td>0.0</td>\n",
       "      <td>1</td>\n",
       "      <td>0</td>\n",
       "      <td>1</td>\n",
       "      <td>-1</td>\n",
       "      <td>165</td>\n",
       "      <td>0</td>\n",
       "    </tr>\n",
       "    <tr>\n",
       "      <td>39919</td>\n",
       "      <td>U70BACF</td>\n",
       "      <td>0.0</td>\n",
       "      <td>1.0</td>\n",
       "      <td>41</td>\n",
       "      <td>1.0</td>\n",
       "      <td>4.0</td>\n",
       "      <td>5.0</td>\n",
       "      <td>5.0</td>\n",
       "      <td>1</td>\n",
       "      <td>0.0</td>\n",
       "      <td>...</td>\n",
       "      <td>2.0</td>\n",
       "      <td>1.0</td>\n",
       "      <td>0</td>\n",
       "      <td>0.0</td>\n",
       "      <td>1</td>\n",
       "      <td>0</td>\n",
       "      <td>2</td>\n",
       "      <td>-1</td>\n",
       "      <td>166</td>\n",
       "      <td>0</td>\n",
       "    </tr>\n",
       "    <tr>\n",
       "      <td>39920</td>\n",
       "      <td>U777E7D</td>\n",
       "      <td>0.0</td>\n",
       "      <td>1.0</td>\n",
       "      <td>29</td>\n",
       "      <td>0.0</td>\n",
       "      <td>4.0</td>\n",
       "      <td>5.0</td>\n",
       "      <td>5.0</td>\n",
       "      <td>0</td>\n",
       "      <td>0.0</td>\n",
       "      <td>...</td>\n",
       "      <td>2.0</td>\n",
       "      <td>0.0</td>\n",
       "      <td>0</td>\n",
       "      <td>0.0</td>\n",
       "      <td>3</td>\n",
       "      <td>0</td>\n",
       "      <td>1</td>\n",
       "      <td>-1</td>\n",
       "      <td>166</td>\n",
       "      <td>0</td>\n",
       "    </tr>\n",
       "    <tr>\n",
       "      <td>39921</td>\n",
       "      <td>UE77AAD</td>\n",
       "      <td>0.0</td>\n",
       "      <td>1.0</td>\n",
       "      <td>31</td>\n",
       "      <td>0.0</td>\n",
       "      <td>4.0</td>\n",
       "      <td>1.0</td>\n",
       "      <td>5.0</td>\n",
       "      <td>0</td>\n",
       "      <td>0.0</td>\n",
       "      <td>...</td>\n",
       "      <td>2.0</td>\n",
       "      <td>0.0</td>\n",
       "      <td>0</td>\n",
       "      <td>0.0</td>\n",
       "      <td>3</td>\n",
       "      <td>0</td>\n",
       "      <td>1</td>\n",
       "      <td>-1</td>\n",
       "      <td>166</td>\n",
       "      <td>0</td>\n",
       "    </tr>\n",
       "    <tr>\n",
       "      <td>39922</td>\n",
       "      <td>UA5346E</td>\n",
       "      <td>0.0</td>\n",
       "      <td>1.0</td>\n",
       "      <td>33</td>\n",
       "      <td>2.0</td>\n",
       "      <td>4.0</td>\n",
       "      <td>6.0</td>\n",
       "      <td>5.0</td>\n",
       "      <td>3</td>\n",
       "      <td>0.0</td>\n",
       "      <td>...</td>\n",
       "      <td>1.0</td>\n",
       "      <td>1.0</td>\n",
       "      <td>3</td>\n",
       "      <td>0.0</td>\n",
       "      <td>3</td>\n",
       "      <td>0</td>\n",
       "      <td>1</td>\n",
       "      <td>-1</td>\n",
       "      <td>166</td>\n",
       "      <td>0</td>\n",
       "    </tr>\n",
       "  </tbody>\n",
       "</table>\n",
       "<p>39923 rows × 43 columns</p>\n",
       "</div>"
      ],
      "text/plain": [
       "            id  flag  gdr_cd  age  mrg_situ_cd  edu_deg_cd  acdm_deg_cd  \\\n",
       "0      U7A4BAD   0.0     1.0   41          1.0         1.0          6.0   \n",
       "1      U557810   0.0     1.0   35          0.0         4.0          5.0   \n",
       "2      U1E9240   0.0     1.0   53          1.0         0.0          2.0   \n",
       "3      U6DED00   0.0     0.0   41          1.0         4.0          6.0   \n",
       "4      UDA8E28   0.0     0.0   42          1.0         1.0          6.0   \n",
       "...        ...   ...     ...  ...          ...         ...          ...   \n",
       "39918  U8E66E5   1.0     1.0   24          0.0         4.0          5.0   \n",
       "39919  U70BACF   0.0     1.0   41          1.0         4.0          5.0   \n",
       "39920  U777E7D   0.0     1.0   29          0.0         4.0          5.0   \n",
       "39921  UE77AAD   0.0     1.0   31          0.0         4.0          1.0   \n",
       "39922  UA5346E   0.0     1.0   33          2.0         4.0          6.0   \n",
       "\n",
       "       deg_cd  job_year  ic_ind  ...  hld_crd_card_grd_cd  crd_card_act_ind  \\\n",
       "0         5.0         3     0.0  ...                  0.0               0.0   \n",
       "1         5.0         4     0.0  ...                  0.0               0.0   \n",
       "2         2.0         9     0.0  ...                  0.0               0.0   \n",
       "3         5.0         0     0.0  ...                  0.0               0.0   \n",
       "4         1.0         3     1.0  ...                  0.0               0.0   \n",
       "...       ...       ...     ...  ...                  ...               ...   \n",
       "39918     5.0         1     0.0  ...                  2.0               1.0   \n",
       "39919     5.0         1     0.0  ...                  2.0               1.0   \n",
       "39920     5.0         0     0.0  ...                  2.0               0.0   \n",
       "39921     5.0         0     0.0  ...                  2.0               0.0   \n",
       "39922     5.0         3     0.0  ...                  1.0               1.0   \n",
       "\n",
       "       l1y_crd_card_csm_amt_dlm_cd  atdd_type  perm_crd_lmt_cd  cur_debit_cnt  \\\n",
       "0                                0        0.0                3              1   \n",
       "1                                0        0.0                1              1   \n",
       "2                                0        0.0                7              2   \n",
       "3                                0        0.0                1              1   \n",
       "4                                0        0.0                2              7   \n",
       "...                            ...        ...              ...            ...   \n",
       "39918                            1        0.0                1              0   \n",
       "39919                            0        0.0                1              0   \n",
       "39920                            0        0.0                3              0   \n",
       "39921                            0        0.0                3              0   \n",
       "39922                            3        0.0                3              0   \n",
       "\n",
       "       cur_credit_cnt  cur_debit_min_opn_dt_cnt  cur_credit_min_opn_dt_cnt  \\\n",
       "0                   0                      3492                         -1   \n",
       "1                   0                      4575                         -1   \n",
       "2                   0                      4894                         -1   \n",
       "3                   0                      4938                         -1   \n",
       "4                   0                      2378                         -1   \n",
       "...               ...                       ...                        ...   \n",
       "39918               1                        -1                        165   \n",
       "39919               2                        -1                        166   \n",
       "39920               1                        -1                        166   \n",
       "39921               1                        -1                        166   \n",
       "39922               1                        -1                        166   \n",
       "\n",
       "       cur_debit_crd_lvl  \n",
       "0                     10  \n",
       "1                     10  \n",
       "2                     40  \n",
       "3                     10  \n",
       "4                     20  \n",
       "...                  ...  \n",
       "39918                  0  \n",
       "39919                  0  \n",
       "39920                  0  \n",
       "39921                  0  \n",
       "39922                  0  \n",
       "\n",
       "[39923 rows x 43 columns]"
      ]
     },
     "execution_count": 564,
     "metadata": {},
     "output_type": "execute_result"
    }
   ],
   "source": [
    "train_tag"
   ]
  },
  {
   "cell_type": "code",
   "execution_count": 562,
   "metadata": {},
   "outputs": [],
   "source": [
    "train_tag.to_csv('./训练数据集1/train_tag_Ori.csv', index=False)"
   ]
  },
  {
   "cell_type": "code",
   "execution_count": 82,
   "metadata": {},
   "outputs": [
    {
     "name": "stderr",
     "output_type": "stream",
     "text": [
      "/home/esterl/anaconda3/lib/python3.6/site-packages/pandas/core/frame.py:4102: SettingWithCopyWarning: \n",
      "A value is trying to be set on a copy of a slice from a DataFrame\n",
      "\n",
      "See the caveats in the documentation: http://pandas.pydata.org/pandas-docs/stable/user_guide/indexing.html#returning-a-view-versus-a-copy\n",
      "  errors=errors,\n"
     ]
    }
   ],
   "source": [
    "test_tag = data.iloc[len(data_train_tag_1):, :]\n",
    "test_tag.index = np.arange(len(test_tag))\n",
    "test_tag.drop(['flag'], axis=1, inplace=True)"
   ]
  },
  {
   "cell_type": "code",
   "execution_count": 563,
   "metadata": {
    "collapsed": true
   },
   "outputs": [
    {
     "data": {
      "text/html": [
       "<div>\n",
       "<style scoped>\n",
       "    .dataframe tbody tr th:only-of-type {\n",
       "        vertical-align: middle;\n",
       "    }\n",
       "\n",
       "    .dataframe tbody tr th {\n",
       "        vertical-align: top;\n",
       "    }\n",
       "\n",
       "    .dataframe thead th {\n",
       "        text-align: right;\n",
       "    }\n",
       "</style>\n",
       "<table border=\"1\" class=\"dataframe\">\n",
       "  <thead>\n",
       "    <tr style=\"text-align: right;\">\n",
       "      <th></th>\n",
       "      <th>id</th>\n",
       "      <th>gdr_cd</th>\n",
       "      <th>age</th>\n",
       "      <th>mrg_situ_cd</th>\n",
       "      <th>edu_deg_cd</th>\n",
       "      <th>acdm_deg_cd</th>\n",
       "      <th>deg_cd</th>\n",
       "      <th>job_year</th>\n",
       "      <th>ic_ind</th>\n",
       "      <th>fr_or_sh_ind</th>\n",
       "      <th>...</th>\n",
       "      <th>hld_crd_card_grd_cd</th>\n",
       "      <th>crd_card_act_ind</th>\n",
       "      <th>l1y_crd_card_csm_amt_dlm_cd</th>\n",
       "      <th>atdd_type</th>\n",
       "      <th>perm_crd_lmt_cd</th>\n",
       "      <th>cur_debit_cnt</th>\n",
       "      <th>cur_credit_cnt</th>\n",
       "      <th>cur_debit_min_opn_dt_cnt</th>\n",
       "      <th>cur_credit_min_opn_dt_cnt</th>\n",
       "      <th>cur_debit_crd_lvl</th>\n",
       "    </tr>\n",
       "  </thead>\n",
       "  <tbody>\n",
       "    <tr>\n",
       "      <td>0</td>\n",
       "      <td>U1E63A3</td>\n",
       "      <td>1.0</td>\n",
       "      <td>40</td>\n",
       "      <td>1.0</td>\n",
       "      <td>2.0</td>\n",
       "      <td>1.0</td>\n",
       "      <td>5.0</td>\n",
       "      <td>1</td>\n",
       "      <td>0.0</td>\n",
       "      <td>1.0</td>\n",
       "      <td>...</td>\n",
       "      <td>4.0</td>\n",
       "      <td>1.0</td>\n",
       "      <td>5</td>\n",
       "      <td>0.0</td>\n",
       "      <td>7</td>\n",
       "      <td>1</td>\n",
       "      <td>1</td>\n",
       "      <td>4047</td>\n",
       "      <td>4260</td>\n",
       "      <td>10</td>\n",
       "    </tr>\n",
       "    <tr>\n",
       "      <td>1</td>\n",
       "      <td>U3EC77F</td>\n",
       "      <td>1.0</td>\n",
       "      <td>46</td>\n",
       "      <td>0.0</td>\n",
       "      <td>2.0</td>\n",
       "      <td>1.0</td>\n",
       "      <td>5.0</td>\n",
       "      <td>3</td>\n",
       "      <td>0.0</td>\n",
       "      <td>0.0</td>\n",
       "      <td>...</td>\n",
       "      <td>1.0</td>\n",
       "      <td>0.0</td>\n",
       "      <td>0</td>\n",
       "      <td>0.0</td>\n",
       "      <td>4</td>\n",
       "      <td>2</td>\n",
       "      <td>1</td>\n",
       "      <td>5460</td>\n",
       "      <td>3317</td>\n",
       "      <td>10</td>\n",
       "    </tr>\n",
       "    <tr>\n",
       "      <td>2</td>\n",
       "      <td>U27DC0C</td>\n",
       "      <td>1.0</td>\n",
       "      <td>42</td>\n",
       "      <td>1.0</td>\n",
       "      <td>4.0</td>\n",
       "      <td>5.0</td>\n",
       "      <td>5.0</td>\n",
       "      <td>3</td>\n",
       "      <td>0.0</td>\n",
       "      <td>0.0</td>\n",
       "      <td>...</td>\n",
       "      <td>1.0</td>\n",
       "      <td>1.0</td>\n",
       "      <td>5</td>\n",
       "      <td>1.0</td>\n",
       "      <td>7</td>\n",
       "      <td>3</td>\n",
       "      <td>2</td>\n",
       "      <td>4103</td>\n",
       "      <td>4108</td>\n",
       "      <td>10</td>\n",
       "    </tr>\n",
       "    <tr>\n",
       "      <td>3</td>\n",
       "      <td>U3FAAAC</td>\n",
       "      <td>0.0</td>\n",
       "      <td>35</td>\n",
       "      <td>1.0</td>\n",
       "      <td>1.0</td>\n",
       "      <td>0.0</td>\n",
       "      <td>5.0</td>\n",
       "      <td>5</td>\n",
       "      <td>0.0</td>\n",
       "      <td>1.0</td>\n",
       "      <td>...</td>\n",
       "      <td>2.0</td>\n",
       "      <td>0.0</td>\n",
       "      <td>0</td>\n",
       "      <td>0.0</td>\n",
       "      <td>3</td>\n",
       "      <td>3</td>\n",
       "      <td>1</td>\n",
       "      <td>4733</td>\n",
       "      <td>4748</td>\n",
       "      <td>20</td>\n",
       "    </tr>\n",
       "    <tr>\n",
       "      <td>4</td>\n",
       "      <td>U04EA0B</td>\n",
       "      <td>1.0</td>\n",
       "      <td>34</td>\n",
       "      <td>0.0</td>\n",
       "      <td>4.0</td>\n",
       "      <td>5.0</td>\n",
       "      <td>5.0</td>\n",
       "      <td>9</td>\n",
       "      <td>0.0</td>\n",
       "      <td>0.0</td>\n",
       "      <td>...</td>\n",
       "      <td>1.0</td>\n",
       "      <td>1.0</td>\n",
       "      <td>3</td>\n",
       "      <td>1.0</td>\n",
       "      <td>7</td>\n",
       "      <td>6</td>\n",
       "      <td>2</td>\n",
       "      <td>4525</td>\n",
       "      <td>1670</td>\n",
       "      <td>20</td>\n",
       "    </tr>\n",
       "    <tr>\n",
       "      <td>...</td>\n",
       "      <td>...</td>\n",
       "      <td>...</td>\n",
       "      <td>...</td>\n",
       "      <td>...</td>\n",
       "      <td>...</td>\n",
       "      <td>...</td>\n",
       "      <td>...</td>\n",
       "      <td>...</td>\n",
       "      <td>...</td>\n",
       "      <td>...</td>\n",
       "      <td>...</td>\n",
       "      <td>...</td>\n",
       "      <td>...</td>\n",
       "      <td>...</td>\n",
       "      <td>...</td>\n",
       "      <td>...</td>\n",
       "      <td>...</td>\n",
       "      <td>...</td>\n",
       "      <td>...</td>\n",
       "      <td>...</td>\n",
       "      <td>...</td>\n",
       "    </tr>\n",
       "    <tr>\n",
       "      <td>3995</td>\n",
       "      <td>U0FBFE2</td>\n",
       "      <td>0.0</td>\n",
       "      <td>58</td>\n",
       "      <td>1.0</td>\n",
       "      <td>1.0</td>\n",
       "      <td>0.0</td>\n",
       "      <td>0.0</td>\n",
       "      <td>29</td>\n",
       "      <td>0.0</td>\n",
       "      <td>0.0</td>\n",
       "      <td>...</td>\n",
       "      <td>2.0</td>\n",
       "      <td>0.0</td>\n",
       "      <td>0</td>\n",
       "      <td>0.0</td>\n",
       "      <td>7</td>\n",
       "      <td>2</td>\n",
       "      <td>1</td>\n",
       "      <td>5341</td>\n",
       "      <td>4413</td>\n",
       "      <td>40</td>\n",
       "    </tr>\n",
       "    <tr>\n",
       "      <td>3996</td>\n",
       "      <td>U506AD2</td>\n",
       "      <td>1.0</td>\n",
       "      <td>50</td>\n",
       "      <td>1.0</td>\n",
       "      <td>2.0</td>\n",
       "      <td>1.0</td>\n",
       "      <td>5.0</td>\n",
       "      <td>25</td>\n",
       "      <td>0.0</td>\n",
       "      <td>0.0</td>\n",
       "      <td>...</td>\n",
       "      <td>2.0</td>\n",
       "      <td>0.0</td>\n",
       "      <td>0</td>\n",
       "      <td>0.0</td>\n",
       "      <td>3</td>\n",
       "      <td>1</td>\n",
       "      <td>1</td>\n",
       "      <td>3118</td>\n",
       "      <td>677</td>\n",
       "      <td>20</td>\n",
       "    </tr>\n",
       "    <tr>\n",
       "      <td>3997</td>\n",
       "      <td>U287B33</td>\n",
       "      <td>1.0</td>\n",
       "      <td>39</td>\n",
       "      <td>0.0</td>\n",
       "      <td>10.0</td>\n",
       "      <td>6.0</td>\n",
       "      <td>5.0</td>\n",
       "      <td>0</td>\n",
       "      <td>1.0</td>\n",
       "      <td>1.0</td>\n",
       "      <td>...</td>\n",
       "      <td>2.0</td>\n",
       "      <td>0.0</td>\n",
       "      <td>0</td>\n",
       "      <td>0.0</td>\n",
       "      <td>5</td>\n",
       "      <td>2</td>\n",
       "      <td>1</td>\n",
       "      <td>348</td>\n",
       "      <td>313</td>\n",
       "      <td>20</td>\n",
       "    </tr>\n",
       "    <tr>\n",
       "      <td>3998</td>\n",
       "      <td>U15134F</td>\n",
       "      <td>1.0</td>\n",
       "      <td>34</td>\n",
       "      <td>0.0</td>\n",
       "      <td>1.0</td>\n",
       "      <td>0.0</td>\n",
       "      <td>5.0</td>\n",
       "      <td>2</td>\n",
       "      <td>0.0</td>\n",
       "      <td>0.0</td>\n",
       "      <td>...</td>\n",
       "      <td>1.0</td>\n",
       "      <td>1.0</td>\n",
       "      <td>2</td>\n",
       "      <td>0.0</td>\n",
       "      <td>3</td>\n",
       "      <td>1</td>\n",
       "      <td>1</td>\n",
       "      <td>3476</td>\n",
       "      <td>3774</td>\n",
       "      <td>10</td>\n",
       "    </tr>\n",
       "    <tr>\n",
       "      <td>3999</td>\n",
       "      <td>U41D5EB</td>\n",
       "      <td>1.0</td>\n",
       "      <td>63</td>\n",
       "      <td>1.0</td>\n",
       "      <td>2.0</td>\n",
       "      <td>1.0</td>\n",
       "      <td>5.0</td>\n",
       "      <td>0</td>\n",
       "      <td>0.0</td>\n",
       "      <td>0.0</td>\n",
       "      <td>...</td>\n",
       "      <td>0.0</td>\n",
       "      <td>0.0</td>\n",
       "      <td>0</td>\n",
       "      <td>0.0</td>\n",
       "      <td>3</td>\n",
       "      <td>1</td>\n",
       "      <td>0</td>\n",
       "      <td>4081</td>\n",
       "      <td>-1</td>\n",
       "      <td>10</td>\n",
       "    </tr>\n",
       "  </tbody>\n",
       "</table>\n",
       "<p>4000 rows × 42 columns</p>\n",
       "</div>"
      ],
      "text/plain": [
       "           id  gdr_cd  age  mrg_situ_cd  edu_deg_cd  acdm_deg_cd  deg_cd  \\\n",
       "0     U1E63A3     1.0   40          1.0         2.0          1.0     5.0   \n",
       "1     U3EC77F     1.0   46          0.0         2.0          1.0     5.0   \n",
       "2     U27DC0C     1.0   42          1.0         4.0          5.0     5.0   \n",
       "3     U3FAAAC     0.0   35          1.0         1.0          0.0     5.0   \n",
       "4     U04EA0B     1.0   34          0.0         4.0          5.0     5.0   \n",
       "...       ...     ...  ...          ...         ...          ...     ...   \n",
       "3995  U0FBFE2     0.0   58          1.0         1.0          0.0     0.0   \n",
       "3996  U506AD2     1.0   50          1.0         2.0          1.0     5.0   \n",
       "3997  U287B33     1.0   39          0.0        10.0          6.0     5.0   \n",
       "3998  U15134F     1.0   34          0.0         1.0          0.0     5.0   \n",
       "3999  U41D5EB     1.0   63          1.0         2.0          1.0     5.0   \n",
       "\n",
       "      job_year  ic_ind  fr_or_sh_ind  ...  hld_crd_card_grd_cd  \\\n",
       "0            1     0.0           1.0  ...                  4.0   \n",
       "1            3     0.0           0.0  ...                  1.0   \n",
       "2            3     0.0           0.0  ...                  1.0   \n",
       "3            5     0.0           1.0  ...                  2.0   \n",
       "4            9     0.0           0.0  ...                  1.0   \n",
       "...        ...     ...           ...  ...                  ...   \n",
       "3995        29     0.0           0.0  ...                  2.0   \n",
       "3996        25     0.0           0.0  ...                  2.0   \n",
       "3997         0     1.0           1.0  ...                  2.0   \n",
       "3998         2     0.0           0.0  ...                  1.0   \n",
       "3999         0     0.0           0.0  ...                  0.0   \n",
       "\n",
       "      crd_card_act_ind  l1y_crd_card_csm_amt_dlm_cd  atdd_type  \\\n",
       "0                  1.0                            5        0.0   \n",
       "1                  0.0                            0        0.0   \n",
       "2                  1.0                            5        1.0   \n",
       "3                  0.0                            0        0.0   \n",
       "4                  1.0                            3        1.0   \n",
       "...                ...                          ...        ...   \n",
       "3995               0.0                            0        0.0   \n",
       "3996               0.0                            0        0.0   \n",
       "3997               0.0                            0        0.0   \n",
       "3998               1.0                            2        0.0   \n",
       "3999               0.0                            0        0.0   \n",
       "\n",
       "      perm_crd_lmt_cd  cur_debit_cnt  cur_credit_cnt  \\\n",
       "0                   7              1               1   \n",
       "1                   4              2               1   \n",
       "2                   7              3               2   \n",
       "3                   3              3               1   \n",
       "4                   7              6               2   \n",
       "...               ...            ...             ...   \n",
       "3995                7              2               1   \n",
       "3996                3              1               1   \n",
       "3997                5              2               1   \n",
       "3998                3              1               1   \n",
       "3999                3              1               0   \n",
       "\n",
       "      cur_debit_min_opn_dt_cnt  cur_credit_min_opn_dt_cnt  cur_debit_crd_lvl  \n",
       "0                         4047                       4260                 10  \n",
       "1                         5460                       3317                 10  \n",
       "2                         4103                       4108                 10  \n",
       "3                         4733                       4748                 20  \n",
       "4                         4525                       1670                 20  \n",
       "...                        ...                        ...                ...  \n",
       "3995                      5341                       4413                 40  \n",
       "3996                      3118                        677                 20  \n",
       "3997                       348                        313                 20  \n",
       "3998                      3476                       3774                 10  \n",
       "3999                      4081                         -1                 10  \n",
       "\n",
       "[4000 rows x 42 columns]"
      ]
     },
     "execution_count": 563,
     "metadata": {},
     "output_type": "execute_result"
    }
   ],
   "source": [
    "test_tag"
   ]
  },
  {
   "cell_type": "code",
   "execution_count": 565,
   "metadata": {},
   "outputs": [],
   "source": [
    "test_tag.to_csv('./b/test_tag_Ori.csv', index=False)"
   ]
  },
  {
   "cell_type": "markdown",
   "metadata": {},
   "source": [
    "## 对b榜的trd表处理"
   ]
  },
  {
   "cell_type": "code",
   "execution_count": 84,
   "metadata": {},
   "outputs": [],
   "source": [
    "test_user_tradTimes = pd.DataFrame(test_trd.id.value_counts())\n",
    "test_user_tradTimes['index'] = test_user_tradTimes.index\n",
    "test_user_tradTimes.index = range(len(test_user_tradTimes))\n",
    "test_user_tradTimes.columns = ['trd_times', 'user']\n",
    "test_user_tradTimes = test_user_tradTimes[['user', 'trd_times']]"
   ]
  },
  {
   "cell_type": "code",
   "execution_count": 85,
   "metadata": {},
   "outputs": [],
   "source": [
    "# 总交易金额\n",
    "output_dict = {}\n",
    "with open('./b/评分数据集_trd_b.csv') as f:\n",
    "    for line_num, line in enumerate(f):\n",
    "        if line_num >0:\n",
    "            user = line.split(',')[0]\n",
    "            total_count = float(line.split(',')[-1])\n",
    "            if user in output_dict:\n",
    "                total_count += output_dict[user]\n",
    "                output_dict.update({user:total_count}) # update当前指标加上原指标\n",
    "            output_dict.update({user:total_count})\n",
    "output_list = [{'user':k, 'total_count':v} for k, v in output_dict.items()]\n",
    "test_total_count_df = pd.DataFrame(output_list)"
   ]
  },
  {
   "cell_type": "code",
   "execution_count": 86,
   "metadata": {},
   "outputs": [],
   "source": [
    "# 合并次数和交易金额\n",
    "test_user_trd = pd.merge(test_user_tradTimes, test_total_count_df, how='left', left_on='user', right_on='user')"
   ]
  },
  {
   "cell_type": "code",
   "execution_count": 87,
   "metadata": {
    "collapsed": true
   },
   "outputs": [
    {
     "data": {
      "text/html": [
       "<div>\n",
       "<style scoped>\n",
       "    .dataframe tbody tr th:only-of-type {\n",
       "        vertical-align: middle;\n",
       "    }\n",
       "\n",
       "    .dataframe tbody tr th {\n",
       "        vertical-align: top;\n",
       "    }\n",
       "\n",
       "    .dataframe thead th {\n",
       "        text-align: right;\n",
       "    }\n",
       "</style>\n",
       "<table border=\"1\" class=\"dataframe\">\n",
       "  <thead>\n",
       "    <tr style=\"text-align: right;\">\n",
       "      <th></th>\n",
       "      <th>user</th>\n",
       "      <th>trd_times</th>\n",
       "      <th>total_count</th>\n",
       "    </tr>\n",
       "  </thead>\n",
       "  <tbody>\n",
       "    <tr>\n",
       "      <td>0</td>\n",
       "      <td>U138010</td>\n",
       "      <td>2427</td>\n",
       "      <td>3083.44</td>\n",
       "    </tr>\n",
       "    <tr>\n",
       "      <td>1</td>\n",
       "      <td>U11EFB2</td>\n",
       "      <td>908</td>\n",
       "      <td>4480.40</td>\n",
       "    </tr>\n",
       "    <tr>\n",
       "      <td>2</td>\n",
       "      <td>U16D15E</td>\n",
       "      <td>907</td>\n",
       "      <td>-460454.40</td>\n",
       "    </tr>\n",
       "    <tr>\n",
       "      <td>3</td>\n",
       "      <td>U4DAD5D</td>\n",
       "      <td>895</td>\n",
       "      <td>-6086.01</td>\n",
       "    </tr>\n",
       "    <tr>\n",
       "      <td>4</td>\n",
       "      <td>U0B4571</td>\n",
       "      <td>713</td>\n",
       "      <td>7.66</td>\n",
       "    </tr>\n",
       "    <tr>\n",
       "      <td>...</td>\n",
       "      <td>...</td>\n",
       "      <td>...</td>\n",
       "      <td>...</td>\n",
       "    </tr>\n",
       "    <tr>\n",
       "      <td>3185</td>\n",
       "      <td>U4A8C17</td>\n",
       "      <td>1</td>\n",
       "      <td>1.07</td>\n",
       "    </tr>\n",
       "    <tr>\n",
       "      <td>3186</td>\n",
       "      <td>U118812</td>\n",
       "      <td>1</td>\n",
       "      <td>0.01</td>\n",
       "    </tr>\n",
       "    <tr>\n",
       "      <td>3187</td>\n",
       "      <td>U08DAEC</td>\n",
       "      <td>1</td>\n",
       "      <td>-47.00</td>\n",
       "    </tr>\n",
       "    <tr>\n",
       "      <td>3188</td>\n",
       "      <td>U335936</td>\n",
       "      <td>1</td>\n",
       "      <td>-100.00</td>\n",
       "    </tr>\n",
       "    <tr>\n",
       "      <td>3189</td>\n",
       "      <td>U065C23</td>\n",
       "      <td>1</td>\n",
       "      <td>-399.00</td>\n",
       "    </tr>\n",
       "  </tbody>\n",
       "</table>\n",
       "<p>3190 rows × 3 columns</p>\n",
       "</div>"
      ],
      "text/plain": [
       "         user  trd_times  total_count\n",
       "0     U138010       2427      3083.44\n",
       "1     U11EFB2        908      4480.40\n",
       "2     U16D15E        907   -460454.40\n",
       "3     U4DAD5D        895     -6086.01\n",
       "4     U0B4571        713         7.66\n",
       "...       ...        ...          ...\n",
       "3185  U4A8C17          1         1.07\n",
       "3186  U118812          1         0.01\n",
       "3187  U08DAEC          1       -47.00\n",
       "3188  U335936          1      -100.00\n",
       "3189  U065C23          1      -399.00\n",
       "\n",
       "[3190 rows x 3 columns]"
      ]
     },
     "execution_count": 87,
     "metadata": {},
     "output_type": "execute_result"
    }
   ],
   "source": [
    "test_user_trd"
   ]
  },
  {
   "cell_type": "code",
   "execution_count": 88,
   "metadata": {},
   "outputs": [],
   "source": [
    "# 支出次数\n",
    "output_dict = {}\n",
    "output_dict1 = {}\n",
    "with open('./b/评分数据集_trd_b.csv') as f:\n",
    "    for line_num, line in enumerate(f):\n",
    "        if line_num >0:\n",
    "            user = line.split(',')[0]\n",
    "            pay_way = line.split(',')[2]\n",
    "            B_out = 0\n",
    "            if user in output_dict:\n",
    "                B_out += output_dict[user]\n",
    "                if pay_way == 'B':\n",
    "                    B_out += 1\n",
    "                    output_dict.update({user:B_out}) # update当前指标加上原指标\n",
    "                    continue\n",
    "            else:\n",
    "                if pay_way == 'B':\n",
    "                        B_out = 1\n",
    "                output_dict.update({user:B_out})\n",
    "output_list = [{'user':k, 'B_out':v} for k, v in output_dict.items()]\n",
    "test_B_out_df = pd.DataFrame(output_list)\n"
   ]
  },
  {
   "cell_type": "code",
   "execution_count": 89,
   "metadata": {},
   "outputs": [],
   "source": [
    "# 收入次数\n",
    "output_dict = {}\n",
    "with open('./b/评分数据集_trd_b.csv') as f:\n",
    "    for line_num, line in enumerate(f):\n",
    "        if line_num >0:\n",
    "            user = line.split(',')[0]\n",
    "            pay_way = line.split(',')[2]\n",
    "            C_in = 0\n",
    "            if user in output_dict:\n",
    "                C_in += output_dict[user]\n",
    "                if pay_way == 'C':\n",
    "                    C_in += 1\n",
    "                    output_dict.update({user:C_in}) # update当前指标加上原指标\n",
    "            else:\n",
    "                if pay_way == 'C':\n",
    "                    C_in = 1\n",
    "                output_dict.update({user:C_in})\n",
    "output_list = [{'user':k, 'C_in':v} for k, v in output_dict.items()]\n",
    "test_C_in_df = pd.DataFrame(output_list)\n"
   ]
  },
  {
   "cell_type": "code",
   "execution_count": 90,
   "metadata": {},
   "outputs": [],
   "source": [
    "# 每位用户的支出金额\n",
    "output_dict = {}\n",
    "with open('./b/评分数据集_trd_b.csv') as f:\n",
    "    for line_num, line in enumerate(f):\n",
    "        if line_num >0:\n",
    "            user = line.split(',')[0]\n",
    "            out_count = 0\n",
    "            count = float(line.split(',')[-1])\n",
    "            if user in output_dict:\n",
    "                out_count += output_dict[user]\n",
    "                if count<0:\n",
    "                    out_count += count\n",
    "                    output_dict.update({user:out_count}) # update当前指标加上原指标\n",
    "            else:\n",
    "                if count < 0:\n",
    "                    out_count = count\n",
    "                output_dict.update({user:out_count})\n",
    "output_list = [{'user':k, 'out_count':v} for k, v in output_dict.items()]\n",
    "test_out_count_df = pd.DataFrame(output_list)\n"
   ]
  },
  {
   "cell_type": "code",
   "execution_count": 92,
   "metadata": {},
   "outputs": [],
   "source": [
    "# 每位用户收入金额\n",
    "output_dict = {}\n",
    "with open('./b/评分数据集_trd_b.csv') as f:\n",
    "    for line_num, line in enumerate(f):\n",
    "        if line_num >0:\n",
    "            user = line.split(',')[0]\n",
    "            in_count = 0\n",
    "            count = float(line.split(',')[-1])\n",
    "            if user in output_dict:\n",
    "                in_count += output_dict[user]\n",
    "                if count>0:\n",
    "                    in_count += count\n",
    "                    output_dict.update({user:in_count}) # update当前指标加上原指标\n",
    "            else:\n",
    "                if count > 0:\n",
    "                    in_count = count\n",
    "                output_dict.update({user:in_count})\n",
    "output_list = [{'user':k, 'in_count':v} for k, v in output_dict.items()]\n",
    "test_in_count_df = pd.DataFrame(output_list)"
   ]
  },
  {
   "cell_type": "code",
   "execution_count": 93,
   "metadata": {},
   "outputs": [],
   "source": [
    "test_user_trd = pd.merge(test_user_trd, test_B_out_df, how='left', left_on='user', right_on='user')\n",
    "test_user_trd = pd.merge(test_user_trd, test_C_in_df, how='left', left_on='user', right_on='user')\n",
    "test_user_trd = pd.merge(test_user_trd, test_out_count_df, how='left', left_on='user', right_on='user')"
   ]
  },
  {
   "cell_type": "code",
   "execution_count": 94,
   "metadata": {
    "scrolled": true
   },
   "outputs": [],
   "source": [
    "test_user_trd['out_count'] = abs(test_user_trd.out_count)\n",
    "test_use_trd = pd.merge(test_user_trd, test_in_count_df, how='left', left_on='user', right_on='user')"
   ]
  },
  {
   "cell_type": "code",
   "execution_count": 95,
   "metadata": {},
   "outputs": [
    {
     "data": {
      "text/html": [
       "<div>\n",
       "<style scoped>\n",
       "    .dataframe tbody tr th:only-of-type {\n",
       "        vertical-align: middle;\n",
       "    }\n",
       "\n",
       "    .dataframe tbody tr th {\n",
       "        vertical-align: top;\n",
       "    }\n",
       "\n",
       "    .dataframe thead th {\n",
       "        text-align: right;\n",
       "    }\n",
       "</style>\n",
       "<table border=\"1\" class=\"dataframe\">\n",
       "  <thead>\n",
       "    <tr style=\"text-align: right;\">\n",
       "      <th></th>\n",
       "      <th>user</th>\n",
       "      <th>trd_times</th>\n",
       "      <th>total_count</th>\n",
       "      <th>B_out</th>\n",
       "      <th>C_in</th>\n",
       "      <th>out_count</th>\n",
       "      <th>in_count</th>\n",
       "    </tr>\n",
       "  </thead>\n",
       "  <tbody>\n",
       "    <tr>\n",
       "      <td>0</td>\n",
       "      <td>U138010</td>\n",
       "      <td>2427</td>\n",
       "      <td>3083.44</td>\n",
       "      <td>10</td>\n",
       "      <td>0</td>\n",
       "      <td>405153.08</td>\n",
       "      <td>408236.52</td>\n",
       "    </tr>\n",
       "    <tr>\n",
       "      <td>1</td>\n",
       "      <td>U11EFB2</td>\n",
       "      <td>908</td>\n",
       "      <td>4480.40</td>\n",
       "      <td>0</td>\n",
       "      <td>0</td>\n",
       "      <td>414456.87</td>\n",
       "      <td>418937.27</td>\n",
       "    </tr>\n",
       "    <tr>\n",
       "      <td>2</td>\n",
       "      <td>U16D15E</td>\n",
       "      <td>907</td>\n",
       "      <td>-460454.40</td>\n",
       "      <td>45</td>\n",
       "      <td>79</td>\n",
       "      <td>4296279.44</td>\n",
       "      <td>3835825.04</td>\n",
       "    </tr>\n",
       "    <tr>\n",
       "      <td>3</td>\n",
       "      <td>U4DAD5D</td>\n",
       "      <td>895</td>\n",
       "      <td>-6086.01</td>\n",
       "      <td>0</td>\n",
       "      <td>0</td>\n",
       "      <td>1388184.73</td>\n",
       "      <td>1382098.72</td>\n",
       "    </tr>\n",
       "    <tr>\n",
       "      <td>4</td>\n",
       "      <td>U0B4571</td>\n",
       "      <td>713</td>\n",
       "      <td>7.66</td>\n",
       "      <td>3</td>\n",
       "      <td>0</td>\n",
       "      <td>123336.92</td>\n",
       "      <td>123344.58</td>\n",
       "    </tr>\n",
       "    <tr>\n",
       "      <td>...</td>\n",
       "      <td>...</td>\n",
       "      <td>...</td>\n",
       "      <td>...</td>\n",
       "      <td>...</td>\n",
       "      <td>...</td>\n",
       "      <td>...</td>\n",
       "      <td>...</td>\n",
       "    </tr>\n",
       "    <tr>\n",
       "      <td>3185</td>\n",
       "      <td>U4A8C17</td>\n",
       "      <td>1</td>\n",
       "      <td>1.07</td>\n",
       "      <td>0</td>\n",
       "      <td>0</td>\n",
       "      <td>0.00</td>\n",
       "      <td>1.07</td>\n",
       "    </tr>\n",
       "    <tr>\n",
       "      <td>3186</td>\n",
       "      <td>U118812</td>\n",
       "      <td>1</td>\n",
       "      <td>0.01</td>\n",
       "      <td>0</td>\n",
       "      <td>0</td>\n",
       "      <td>0.00</td>\n",
       "      <td>0.01</td>\n",
       "    </tr>\n",
       "    <tr>\n",
       "      <td>3187</td>\n",
       "      <td>U08DAEC</td>\n",
       "      <td>1</td>\n",
       "      <td>-47.00</td>\n",
       "      <td>1</td>\n",
       "      <td>0</td>\n",
       "      <td>47.00</td>\n",
       "      <td>0.00</td>\n",
       "    </tr>\n",
       "    <tr>\n",
       "      <td>3188</td>\n",
       "      <td>U335936</td>\n",
       "      <td>1</td>\n",
       "      <td>-100.00</td>\n",
       "      <td>1</td>\n",
       "      <td>0</td>\n",
       "      <td>100.00</td>\n",
       "      <td>0.00</td>\n",
       "    </tr>\n",
       "    <tr>\n",
       "      <td>3189</td>\n",
       "      <td>U065C23</td>\n",
       "      <td>1</td>\n",
       "      <td>-399.00</td>\n",
       "      <td>1</td>\n",
       "      <td>0</td>\n",
       "      <td>399.00</td>\n",
       "      <td>0.00</td>\n",
       "    </tr>\n",
       "  </tbody>\n",
       "</table>\n",
       "<p>3190 rows × 7 columns</p>\n",
       "</div>"
      ],
      "text/plain": [
       "         user  trd_times  total_count  B_out  C_in   out_count    in_count\n",
       "0     U138010       2427      3083.44     10     0   405153.08   408236.52\n",
       "1     U11EFB2        908      4480.40      0     0   414456.87   418937.27\n",
       "2     U16D15E        907   -460454.40     45    79  4296279.44  3835825.04\n",
       "3     U4DAD5D        895     -6086.01      0     0  1388184.73  1382098.72\n",
       "4     U0B4571        713         7.66      3     0   123336.92   123344.58\n",
       "...       ...        ...          ...    ...   ...         ...         ...\n",
       "3185  U4A8C17          1         1.07      0     0        0.00        1.07\n",
       "3186  U118812          1         0.01      0     0        0.00        0.01\n",
       "3187  U08DAEC          1       -47.00      1     0       47.00        0.00\n",
       "3188  U335936          1      -100.00      1     0      100.00        0.00\n",
       "3189  U065C23          1      -399.00      1     0      399.00        0.00\n",
       "\n",
       "[3190 rows x 7 columns]"
      ]
     },
     "execution_count": 95,
     "metadata": {},
     "output_type": "execute_result"
    }
   ],
   "source": [
    "test_use_trd"
   ]
  },
  {
   "cell_type": "code",
   "execution_count": 96,
   "metadata": {},
   "outputs": [],
   "source": [
    "test_use_trd.to_csv('./b/train_use_trd.csv', index=False)"
   ]
  },
  {
   "cell_type": "markdown",
   "metadata": {},
   "source": [
    "## 拼接表格"
   ]
  },
  {
   "cell_type": "code",
   "execution_count": 97,
   "metadata": {},
   "outputs": [],
   "source": [
    "# 读取trd表\n",
    "train_trd = pd.read_csv('./训练数据集1/train_use_trd.csv')\n",
    "test_trd = pd.read_csv('./b/train_use_trd.csv')"
   ]
  },
  {
   "cell_type": "code",
   "execution_count": 98,
   "metadata": {},
   "outputs": [
    {
     "data": {
      "text/html": [
       "<div>\n",
       "<style scoped>\n",
       "    .dataframe tbody tr th:only-of-type {\n",
       "        vertical-align: middle;\n",
       "    }\n",
       "\n",
       "    .dataframe tbody tr th {\n",
       "        vertical-align: top;\n",
       "    }\n",
       "\n",
       "    .dataframe thead th {\n",
       "        text-align: right;\n",
       "    }\n",
       "</style>\n",
       "<table border=\"1\" class=\"dataframe\">\n",
       "  <thead>\n",
       "    <tr style=\"text-align: right;\">\n",
       "      <th></th>\n",
       "      <th>user</th>\n",
       "      <th>trd_times</th>\n",
       "      <th>total_count</th>\n",
       "      <th>B_out</th>\n",
       "      <th>C_in</th>\n",
       "      <th>out_count</th>\n",
       "      <th>in_count</th>\n",
       "    </tr>\n",
       "  </thead>\n",
       "  <tbody>\n",
       "    <tr>\n",
       "      <td>0</td>\n",
       "      <td>UBD9C48</td>\n",
       "      <td>5836</td>\n",
       "      <td>2173.69</td>\n",
       "      <td>5693</td>\n",
       "      <td>143</td>\n",
       "      <td>962039.77</td>\n",
       "      <td>964213.46</td>\n",
       "    </tr>\n",
       "    <tr>\n",
       "      <td>1</td>\n",
       "      <td>U8AE05B</td>\n",
       "      <td>2589</td>\n",
       "      <td>-19.04</td>\n",
       "      <td>1232</td>\n",
       "      <td>1357</td>\n",
       "      <td>3354162.49</td>\n",
       "      <td>3354143.45</td>\n",
       "    </tr>\n",
       "    <tr>\n",
       "      <td>2</td>\n",
       "      <td>U0015B2</td>\n",
       "      <td>2490</td>\n",
       "      <td>-13241.21</td>\n",
       "      <td>1535</td>\n",
       "      <td>955</td>\n",
       "      <td>1966131.73</td>\n",
       "      <td>1952890.52</td>\n",
       "    </tr>\n",
       "    <tr>\n",
       "      <td>3</td>\n",
       "      <td>U9E0C0D</td>\n",
       "      <td>2392</td>\n",
       "      <td>4145.88</td>\n",
       "      <td>1117</td>\n",
       "      <td>1275</td>\n",
       "      <td>3940858.61</td>\n",
       "      <td>3945004.49</td>\n",
       "    </tr>\n",
       "    <tr>\n",
       "      <td>4</td>\n",
       "      <td>U7EF7EC</td>\n",
       "      <td>2237</td>\n",
       "      <td>-1990.99</td>\n",
       "      <td>2063</td>\n",
       "      <td>174</td>\n",
       "      <td>342173.63</td>\n",
       "      <td>340182.64</td>\n",
       "    </tr>\n",
       "    <tr>\n",
       "      <td>...</td>\n",
       "      <td>...</td>\n",
       "      <td>...</td>\n",
       "      <td>...</td>\n",
       "      <td>...</td>\n",
       "      <td>...</td>\n",
       "      <td>...</td>\n",
       "      <td>...</td>\n",
       "    </tr>\n",
       "    <tr>\n",
       "      <td>31988</td>\n",
       "      <td>U0FB42D</td>\n",
       "      <td>1</td>\n",
       "      <td>4.80</td>\n",
       "      <td>0</td>\n",
       "      <td>1</td>\n",
       "      <td>0.00</td>\n",
       "      <td>4.80</td>\n",
       "    </tr>\n",
       "    <tr>\n",
       "      <td>31989</td>\n",
       "      <td>U802EEF</td>\n",
       "      <td>1</td>\n",
       "      <td>0.04</td>\n",
       "      <td>0</td>\n",
       "      <td>1</td>\n",
       "      <td>0.00</td>\n",
       "      <td>0.04</td>\n",
       "    </tr>\n",
       "    <tr>\n",
       "      <td>31990</td>\n",
       "      <td>U0E3E25</td>\n",
       "      <td>1</td>\n",
       "      <td>-120.00</td>\n",
       "      <td>1</td>\n",
       "      <td>0</td>\n",
       "      <td>120.00</td>\n",
       "      <td>0.00</td>\n",
       "    </tr>\n",
       "    <tr>\n",
       "      <td>31991</td>\n",
       "      <td>U74C352</td>\n",
       "      <td>1</td>\n",
       "      <td>0.06</td>\n",
       "      <td>0</td>\n",
       "      <td>1</td>\n",
       "      <td>0.00</td>\n",
       "      <td>0.06</td>\n",
       "    </tr>\n",
       "    <tr>\n",
       "      <td>31992</td>\n",
       "      <td>U0D5A4C</td>\n",
       "      <td>1</td>\n",
       "      <td>2.00</td>\n",
       "      <td>0</td>\n",
       "      <td>1</td>\n",
       "      <td>0.00</td>\n",
       "      <td>2.00</td>\n",
       "    </tr>\n",
       "  </tbody>\n",
       "</table>\n",
       "<p>31993 rows × 7 columns</p>\n",
       "</div>"
      ],
      "text/plain": [
       "          user  trd_times  total_count  B_out  C_in   out_count    in_count\n",
       "0      UBD9C48       5836      2173.69   5693   143   962039.77   964213.46\n",
       "1      U8AE05B       2589       -19.04   1232  1357  3354162.49  3354143.45\n",
       "2      U0015B2       2490    -13241.21   1535   955  1966131.73  1952890.52\n",
       "3      U9E0C0D       2392      4145.88   1117  1275  3940858.61  3945004.49\n",
       "4      U7EF7EC       2237     -1990.99   2063   174   342173.63   340182.64\n",
       "...        ...        ...          ...    ...   ...         ...         ...\n",
       "31988  U0FB42D          1         4.80      0     1        0.00        4.80\n",
       "31989  U802EEF          1         0.04      0     1        0.00        0.04\n",
       "31990  U0E3E25          1      -120.00      1     0      120.00        0.00\n",
       "31991  U74C352          1         0.06      0     1        0.00        0.06\n",
       "31992  U0D5A4C          1         2.00      0     1        0.00        2.00\n",
       "\n",
       "[31993 rows x 7 columns]"
      ]
     },
     "execution_count": 98,
     "metadata": {},
     "output_type": "execute_result"
    }
   ],
   "source": [
    "train_trd"
   ]
  },
  {
   "cell_type": "code",
   "execution_count": 99,
   "metadata": {
    "collapsed": true
   },
   "outputs": [
    {
     "data": {
      "text/html": [
       "<div>\n",
       "<style scoped>\n",
       "    .dataframe tbody tr th:only-of-type {\n",
       "        vertical-align: middle;\n",
       "    }\n",
       "\n",
       "    .dataframe tbody tr th {\n",
       "        vertical-align: top;\n",
       "    }\n",
       "\n",
       "    .dataframe thead th {\n",
       "        text-align: right;\n",
       "    }\n",
       "</style>\n",
       "<table border=\"1\" class=\"dataframe\">\n",
       "  <thead>\n",
       "    <tr style=\"text-align: right;\">\n",
       "      <th></th>\n",
       "      <th>user</th>\n",
       "      <th>trd_times</th>\n",
       "      <th>total_count</th>\n",
       "      <th>B_out</th>\n",
       "      <th>C_in</th>\n",
       "      <th>out_count</th>\n",
       "      <th>in_count</th>\n",
       "    </tr>\n",
       "  </thead>\n",
       "  <tbody>\n",
       "    <tr>\n",
       "      <td>0</td>\n",
       "      <td>U138010</td>\n",
       "      <td>2427</td>\n",
       "      <td>3083.44</td>\n",
       "      <td>10</td>\n",
       "      <td>0</td>\n",
       "      <td>405153.08</td>\n",
       "      <td>408236.52</td>\n",
       "    </tr>\n",
       "    <tr>\n",
       "      <td>1</td>\n",
       "      <td>U11EFB2</td>\n",
       "      <td>908</td>\n",
       "      <td>4480.40</td>\n",
       "      <td>0</td>\n",
       "      <td>0</td>\n",
       "      <td>414456.87</td>\n",
       "      <td>418937.27</td>\n",
       "    </tr>\n",
       "    <tr>\n",
       "      <td>2</td>\n",
       "      <td>U16D15E</td>\n",
       "      <td>907</td>\n",
       "      <td>-460454.40</td>\n",
       "      <td>45</td>\n",
       "      <td>79</td>\n",
       "      <td>4296279.44</td>\n",
       "      <td>3835825.04</td>\n",
       "    </tr>\n",
       "    <tr>\n",
       "      <td>3</td>\n",
       "      <td>U4DAD5D</td>\n",
       "      <td>895</td>\n",
       "      <td>-6086.01</td>\n",
       "      <td>0</td>\n",
       "      <td>0</td>\n",
       "      <td>1388184.73</td>\n",
       "      <td>1382098.72</td>\n",
       "    </tr>\n",
       "    <tr>\n",
       "      <td>4</td>\n",
       "      <td>U0B4571</td>\n",
       "      <td>713</td>\n",
       "      <td>7.66</td>\n",
       "      <td>3</td>\n",
       "      <td>0</td>\n",
       "      <td>123336.92</td>\n",
       "      <td>123344.58</td>\n",
       "    </tr>\n",
       "    <tr>\n",
       "      <td>...</td>\n",
       "      <td>...</td>\n",
       "      <td>...</td>\n",
       "      <td>...</td>\n",
       "      <td>...</td>\n",
       "      <td>...</td>\n",
       "      <td>...</td>\n",
       "      <td>...</td>\n",
       "    </tr>\n",
       "    <tr>\n",
       "      <td>3185</td>\n",
       "      <td>U4A8C17</td>\n",
       "      <td>1</td>\n",
       "      <td>1.07</td>\n",
       "      <td>0</td>\n",
       "      <td>0</td>\n",
       "      <td>0.00</td>\n",
       "      <td>1.07</td>\n",
       "    </tr>\n",
       "    <tr>\n",
       "      <td>3186</td>\n",
       "      <td>U118812</td>\n",
       "      <td>1</td>\n",
       "      <td>0.01</td>\n",
       "      <td>0</td>\n",
       "      <td>0</td>\n",
       "      <td>0.00</td>\n",
       "      <td>0.01</td>\n",
       "    </tr>\n",
       "    <tr>\n",
       "      <td>3187</td>\n",
       "      <td>U08DAEC</td>\n",
       "      <td>1</td>\n",
       "      <td>-47.00</td>\n",
       "      <td>1</td>\n",
       "      <td>0</td>\n",
       "      <td>47.00</td>\n",
       "      <td>0.00</td>\n",
       "    </tr>\n",
       "    <tr>\n",
       "      <td>3188</td>\n",
       "      <td>U335936</td>\n",
       "      <td>1</td>\n",
       "      <td>-100.00</td>\n",
       "      <td>1</td>\n",
       "      <td>0</td>\n",
       "      <td>100.00</td>\n",
       "      <td>0.00</td>\n",
       "    </tr>\n",
       "    <tr>\n",
       "      <td>3189</td>\n",
       "      <td>U065C23</td>\n",
       "      <td>1</td>\n",
       "      <td>-399.00</td>\n",
       "      <td>1</td>\n",
       "      <td>0</td>\n",
       "      <td>399.00</td>\n",
       "      <td>0.00</td>\n",
       "    </tr>\n",
       "  </tbody>\n",
       "</table>\n",
       "<p>3190 rows × 7 columns</p>\n",
       "</div>"
      ],
      "text/plain": [
       "         user  trd_times  total_count  B_out  C_in   out_count    in_count\n",
       "0     U138010       2427      3083.44     10     0   405153.08   408236.52\n",
       "1     U11EFB2        908      4480.40      0     0   414456.87   418937.27\n",
       "2     U16D15E        907   -460454.40     45    79  4296279.44  3835825.04\n",
       "3     U4DAD5D        895     -6086.01      0     0  1388184.73  1382098.72\n",
       "4     U0B4571        713         7.66      3     0   123336.92   123344.58\n",
       "...       ...        ...          ...    ...   ...         ...         ...\n",
       "3185  U4A8C17          1         1.07      0     0        0.00        1.07\n",
       "3186  U118812          1         0.01      0     0        0.00        0.01\n",
       "3187  U08DAEC          1       -47.00      1     0       47.00        0.00\n",
       "3188  U335936          1      -100.00      1     0      100.00        0.00\n",
       "3189  U065C23          1      -399.00      1     0      399.00        0.00\n",
       "\n",
       "[3190 rows x 7 columns]"
      ]
     },
     "execution_count": 99,
     "metadata": {},
     "output_type": "execute_result"
    }
   ],
   "source": [
    "test_trd"
   ]
  },
  {
   "cell_type": "code",
   "execution_count": 100,
   "metadata": {},
   "outputs": [
    {
     "data": {
      "text/plain": [
       "(39923, 49)"
      ]
     },
     "execution_count": 100,
     "metadata": {},
     "output_type": "execute_result"
    }
   ],
   "source": [
    "train_data = pd.merge(train_tag, train_trd, how='left', left_on='id', right_on='user')\n",
    "train_data.drop(['user'], axis=1, inplace=True)\n",
    "train_data.shape"
   ]
  },
  {
   "cell_type": "code",
   "execution_count": 101,
   "metadata": {},
   "outputs": [
    {
     "data": {
      "text/plain": [
       "(39923, 50)"
      ]
     },
     "execution_count": 101,
     "metadata": {},
     "output_type": "execute_result"
    }
   ],
   "source": [
    "train_data = pd.merge(train_data, user_pgTimes, how='left', left_on='id', right_on='user')\n",
    "train_data.drop(['user'], axis=1, inplace=True)\n",
    "train_data.shape"
   ]
  },
  {
   "cell_type": "code",
   "execution_count": 102,
   "metadata": {},
   "outputs": [
    {
     "data": {
      "text/plain": [
       "(4000, 48)"
      ]
     },
     "execution_count": 102,
     "metadata": {},
     "output_type": "execute_result"
    }
   ],
   "source": [
    "test_data = pd.merge(test_tag, test_trd, how='left', left_on='id', right_on='user')\n",
    "test_data.drop(['user'], axis=1, inplace=True)\n",
    "test_data.shape"
   ]
  },
  {
   "cell_type": "code",
   "execution_count": 103,
   "metadata": {},
   "outputs": [
    {
     "data": {
      "text/plain": [
       "(4000, 49)"
      ]
     },
     "execution_count": 103,
     "metadata": {},
     "output_type": "execute_result"
    }
   ],
   "source": [
    "test_data = pd.merge(test_data, test_user_pgTimes, how='left', left_on='id', right_on='user')\n",
    "test_data.drop(['user'], axis=1, inplace=True)\n",
    "test_data.shape"
   ]
  },
  {
   "cell_type": "code",
   "execution_count": 104,
   "metadata": {},
   "outputs": [],
   "source": [
    "# 对pgTime进行填充\n",
    "train_data.pg_times.fillna(train_data.pg_times.mode()[0], inplace=True)\n",
    "test_data.pg_times.fillna(train_data.pg_times.mode()[0], inplace=True)"
   ]
  },
  {
   "cell_type": "code",
   "execution_count": 105,
   "metadata": {
    "scrolled": true
   },
   "outputs": [
    {
     "data": {
      "text/html": [
       "<div>\n",
       "<style scoped>\n",
       "    .dataframe tbody tr th:only-of-type {\n",
       "        vertical-align: middle;\n",
       "    }\n",
       "\n",
       "    .dataframe tbody tr th {\n",
       "        vertical-align: top;\n",
       "    }\n",
       "\n",
       "    .dataframe thead th {\n",
       "        text-align: right;\n",
       "    }\n",
       "</style>\n",
       "<table border=\"1\" class=\"dataframe\">\n",
       "  <thead>\n",
       "    <tr style=\"text-align: right;\">\n",
       "      <th></th>\n",
       "      <th>id</th>\n",
       "      <th>flag</th>\n",
       "      <th>gdr_cd</th>\n",
       "      <th>age</th>\n",
       "      <th>mrg_situ_cd</th>\n",
       "      <th>edu_deg_cd</th>\n",
       "      <th>acdm_deg_cd</th>\n",
       "      <th>deg_cd</th>\n",
       "      <th>job_year</th>\n",
       "      <th>ic_ind</th>\n",
       "      <th>...</th>\n",
       "      <th>cur_debit_min_opn_dt_cnt</th>\n",
       "      <th>cur_credit_min_opn_dt_cnt</th>\n",
       "      <th>cur_debit_crd_lvl</th>\n",
       "      <th>trd_times</th>\n",
       "      <th>total_count</th>\n",
       "      <th>B_out</th>\n",
       "      <th>C_in</th>\n",
       "      <th>out_count</th>\n",
       "      <th>in_count</th>\n",
       "      <th>pg_times</th>\n",
       "    </tr>\n",
       "  </thead>\n",
       "  <tbody>\n",
       "    <tr>\n",
       "      <td>0</td>\n",
       "      <td>U7A4BAD</td>\n",
       "      <td>0.0</td>\n",
       "      <td>1.0</td>\n",
       "      <td>41</td>\n",
       "      <td>1.0</td>\n",
       "      <td>1.0</td>\n",
       "      <td>6.0</td>\n",
       "      <td>5.0</td>\n",
       "      <td>3</td>\n",
       "      <td>0.0</td>\n",
       "      <td>...</td>\n",
       "      <td>3492</td>\n",
       "      <td>-1</td>\n",
       "      <td>10</td>\n",
       "      <td>3.0</td>\n",
       "      <td>2400.00</td>\n",
       "      <td>1.0</td>\n",
       "      <td>2.0</td>\n",
       "      <td>15000.00</td>\n",
       "      <td>17400.00</td>\n",
       "      <td>1.0</td>\n",
       "    </tr>\n",
       "    <tr>\n",
       "      <td>1</td>\n",
       "      <td>U557810</td>\n",
       "      <td>0.0</td>\n",
       "      <td>1.0</td>\n",
       "      <td>35</td>\n",
       "      <td>0.0</td>\n",
       "      <td>4.0</td>\n",
       "      <td>5.0</td>\n",
       "      <td>5.0</td>\n",
       "      <td>4</td>\n",
       "      <td>0.0</td>\n",
       "      <td>...</td>\n",
       "      <td>4575</td>\n",
       "      <td>-1</td>\n",
       "      <td>10</td>\n",
       "      <td>NaN</td>\n",
       "      <td>NaN</td>\n",
       "      <td>NaN</td>\n",
       "      <td>NaN</td>\n",
       "      <td>NaN</td>\n",
       "      <td>NaN</td>\n",
       "      <td>1.0</td>\n",
       "    </tr>\n",
       "    <tr>\n",
       "      <td>2</td>\n",
       "      <td>U1E9240</td>\n",
       "      <td>0.0</td>\n",
       "      <td>1.0</td>\n",
       "      <td>53</td>\n",
       "      <td>1.0</td>\n",
       "      <td>0.0</td>\n",
       "      <td>2.0</td>\n",
       "      <td>2.0</td>\n",
       "      <td>9</td>\n",
       "      <td>0.0</td>\n",
       "      <td>...</td>\n",
       "      <td>4894</td>\n",
       "      <td>-1</td>\n",
       "      <td>40</td>\n",
       "      <td>17.0</td>\n",
       "      <td>-25439.96</td>\n",
       "      <td>6.0</td>\n",
       "      <td>11.0</td>\n",
       "      <td>131158.00</td>\n",
       "      <td>105718.04</td>\n",
       "      <td>35.0</td>\n",
       "    </tr>\n",
       "    <tr>\n",
       "      <td>3</td>\n",
       "      <td>U6DED00</td>\n",
       "      <td>0.0</td>\n",
       "      <td>0.0</td>\n",
       "      <td>41</td>\n",
       "      <td>1.0</td>\n",
       "      <td>4.0</td>\n",
       "      <td>6.0</td>\n",
       "      <td>5.0</td>\n",
       "      <td>0</td>\n",
       "      <td>0.0</td>\n",
       "      <td>...</td>\n",
       "      <td>4938</td>\n",
       "      <td>-1</td>\n",
       "      <td>10</td>\n",
       "      <td>NaN</td>\n",
       "      <td>NaN</td>\n",
       "      <td>NaN</td>\n",
       "      <td>NaN</td>\n",
       "      <td>NaN</td>\n",
       "      <td>NaN</td>\n",
       "      <td>1.0</td>\n",
       "    </tr>\n",
       "    <tr>\n",
       "      <td>4</td>\n",
       "      <td>UDA8E28</td>\n",
       "      <td>0.0</td>\n",
       "      <td>0.0</td>\n",
       "      <td>42</td>\n",
       "      <td>1.0</td>\n",
       "      <td>1.0</td>\n",
       "      <td>6.0</td>\n",
       "      <td>1.0</td>\n",
       "      <td>3</td>\n",
       "      <td>1.0</td>\n",
       "      <td>...</td>\n",
       "      <td>2378</td>\n",
       "      <td>-1</td>\n",
       "      <td>20</td>\n",
       "      <td>18.0</td>\n",
       "      <td>9089.51</td>\n",
       "      <td>5.0</td>\n",
       "      <td>13.0</td>\n",
       "      <td>70416.04</td>\n",
       "      <td>79505.55</td>\n",
       "      <td>22.0</td>\n",
       "    </tr>\n",
       "  </tbody>\n",
       "</table>\n",
       "<p>5 rows × 50 columns</p>\n",
       "</div>"
      ],
      "text/plain": [
       "        id  flag  gdr_cd  age  mrg_situ_cd  edu_deg_cd  acdm_deg_cd  deg_cd  \\\n",
       "0  U7A4BAD   0.0     1.0   41          1.0         1.0          6.0     5.0   \n",
       "1  U557810   0.0     1.0   35          0.0         4.0          5.0     5.0   \n",
       "2  U1E9240   0.0     1.0   53          1.0         0.0          2.0     2.0   \n",
       "3  U6DED00   0.0     0.0   41          1.0         4.0          6.0     5.0   \n",
       "4  UDA8E28   0.0     0.0   42          1.0         1.0          6.0     1.0   \n",
       "\n",
       "   job_year  ic_ind  ...  cur_debit_min_opn_dt_cnt  cur_credit_min_opn_dt_cnt  \\\n",
       "0         3     0.0  ...                      3492                         -1   \n",
       "1         4     0.0  ...                      4575                         -1   \n",
       "2         9     0.0  ...                      4894                         -1   \n",
       "3         0     0.0  ...                      4938                         -1   \n",
       "4         3     1.0  ...                      2378                         -1   \n",
       "\n",
       "   cur_debit_crd_lvl  trd_times  total_count  B_out  C_in  out_count  \\\n",
       "0                 10        3.0      2400.00    1.0   2.0   15000.00   \n",
       "1                 10        NaN          NaN    NaN   NaN        NaN   \n",
       "2                 40       17.0    -25439.96    6.0  11.0  131158.00   \n",
       "3                 10        NaN          NaN    NaN   NaN        NaN   \n",
       "4                 20       18.0      9089.51    5.0  13.0   70416.04   \n",
       "\n",
       "    in_count  pg_times  \n",
       "0   17400.00       1.0  \n",
       "1        NaN       1.0  \n",
       "2  105718.04      35.0  \n",
       "3        NaN       1.0  \n",
       "4   79505.55      22.0  \n",
       "\n",
       "[5 rows x 50 columns]"
      ]
     },
     "execution_count": 105,
     "metadata": {},
     "output_type": "execute_result"
    }
   ],
   "source": [
    "train_data.head()"
   ]
  },
  {
   "cell_type": "markdown",
   "metadata": {},
   "source": [
    "## 对trd信息进行补充\n",
    "众数填充"
   ]
  },
  {
   "cell_type": "code",
   "execution_count": 266,
   "metadata": {},
   "outputs": [],
   "source": [
    "train_data_ = train_data.copy()\n",
    "test_data_ = test_data.copy()"
   ]
  },
  {
   "cell_type": "code",
   "execution_count": 275,
   "metadata": {
    "scrolled": true
   },
   "outputs": [
    {
     "data": {
      "text/plain": [
       "0         17400.00\n",
       "1              NaN\n",
       "2        105718.04\n",
       "3              NaN\n",
       "4         79505.55\n",
       "           ...    \n",
       "39918       900.00\n",
       "39919        10.00\n",
       "39920          NaN\n",
       "39921          NaN\n",
       "39922     19062.00\n",
       "Name: in_count, Length: 39923, dtype: float64"
      ]
     },
     "execution_count": 275,
     "metadata": {},
     "output_type": "execute_result"
    }
   ],
   "source": [
    "train_data_.iloc[:, -7:-1].isnull().sum()\n",
    "train_data_.iloc[:,-2]"
   ]
  },
  {
   "cell_type": "code",
   "execution_count": 279,
   "metadata": {},
   "outputs": [],
   "source": [
    "for i in range(-7, -1):\n",
    "    train_data_.iloc[:, i].fillna(train_data_.iloc[:, i].mode()[0], inplace=True)\n",
    "    test_data_.iloc[:, i].fillna(train_data_.iloc[:, i].mode()[0], inplace=True)"
   ]
  },
  {
   "cell_type": "code",
   "execution_count": 281,
   "metadata": {
    "scrolled": true
   },
   "outputs": [
    {
     "data": {
      "text/plain": [
       "trd_times      0\n",
       "total_count    0\n",
       "B_out          0\n",
       "C_in           0\n",
       "out_count      0\n",
       "in_count       0\n",
       "dtype: int64"
      ]
     },
     "execution_count": 281,
     "metadata": {},
     "output_type": "execute_result"
    }
   ],
   "source": [
    "train_data_.iloc[:, -7:-1].isnull().sum()"
   ]
  },
  {
   "cell_type": "code",
   "execution_count": 290,
   "metadata": {},
   "outputs": [],
   "source": [
    "test_data_.to_csv('./b/test_data_.csv', index=False)\n",
    "train_data_.to_csv('./b/train_data_.csv', index=False)"
   ]
  },
  {
   "cell_type": "markdown",
   "metadata": {},
   "source": [
    "## 建模分析"
   ]
  },
  {
   "cell_type": "code",
   "execution_count": 283,
   "metadata": {},
   "outputs": [],
   "source": [
    "train_data_1 = train_data_.copy()\n",
    "X, y = train_data_1.iloc[:,2:], train_data_1['flag']"
   ]
  },
  {
   "cell_type": "code",
   "execution_count": 284,
   "metadata": {},
   "outputs": [],
   "source": [
    "Xtrain, Xtest, Ytrain, Ytest = train_test_split(X, y, test_size=0.3, random_state=0)"
   ]
  },
  {
   "cell_type": "code",
   "execution_count": null,
   "metadata": {},
   "outputs": [],
   "source": [
    "Xtrain.shape[0] == \n",
    "\n"
   ]
  },
  {
   "cell_type": "code",
   "execution_count": 285,
   "metadata": {},
   "outputs": [],
   "source": [
    "import xgboost as xgb\n",
    "\n",
    "dtrain = xgb.DMatrix(Xtrain, Ytrain)\n",
    "dtest = xgb.DMatrix(Xtest, Ytest)\n",
    "dfull = xgb.DMatrix(X,y)"
   ]
  },
  {
   "cell_type": "code",
   "execution_count": 286,
   "metadata": {},
   "outputs": [
    {
     "data": {
      "text/plain": [
       "0.22425669413621221"
      ]
     },
     "execution_count": 286,
     "metadata": {},
     "output_type": "execute_result"
    }
   ],
   "source": [
    "from time import time\n",
    "import datetime\n",
    "\n",
    "(y==1).sum()/len(y)"
   ]
  },
  {
   "cell_type": "code",
   "execution_count": 287,
   "metadata": {},
   "outputs": [],
   "source": [
    "params = {'booster': 'gbtree',\n",
    "         'objective': 'binary:logistic',\n",
    "         'eval_metric': 'auc',\n",
    "         'max_depth': 3,\n",
    "         'lambda': 80,\n",
    "         'gamma':0.15,\n",
    "         'subsample': 0.75,\n",
    "         'colsample_bytree': 0.5,\n",
    "         'colsample_bylevel': 1,\n",
    "         'colsample_bynode': 0.75,\n",
    "         'min_child_weight': 30,\n",
    "         'eta': 0.03,\n",
    "         'seed': 0,\n",
    "         'silent': 1,\n",
    "         'n_fold': 5,\n",
    "         'scale_pos_weight':1}\n",
    "num_round=480"
   ]
  },
  {
   "cell_type": "code",
   "execution_count": 288,
   "metadata": {},
   "outputs": [
    {
     "name": "stdout",
     "output_type": "stream",
     "text": [
      "train:0.7520516170775542\n"
     ]
    },
    {
     "data": {
      "text/plain": [
       "0.7346327602033151"
      ]
     },
     "execution_count": 288,
     "metadata": {},
     "output_type": "execute_result"
    }
   ],
   "source": [
    "bst = xgb.train(params, dtrain, num_round)\n",
    "preds = bst.predict(dtest)\n",
    "print('train:{}'.format(auc(Ytrain, bst.predict(dtrain))))\n",
    "auc(Ytest, preds)"
   ]
  },
  {
   "cell_type": "code",
   "execution_count": 500,
   "metadata": {},
   "outputs": [
    {
     "name": "stdout",
     "output_type": "stream",
     "text": [
      "00:16:188144\n",
      "00:19:480330\n",
      "00:16:159448\n"
     ]
    },
    {
     "data": {
      "image/png": "[encoded data removed]",
      "text/plain": [
       "<Figure size 1080x576 with 1 Axes>"
      ]
     },
     "metadata": {
      "needs_background": "light"
     },
     "output_type": "display_data"
    }
   ],
   "source": [
    "# param1 =  {'booster': 'gbtree',\n",
    "#          'objective': 'binary:logistic',\n",
    "#          'eval_metric': 'auc',\n",
    "#          'max_depth': 3,\n",
    "#          'lambda': 1,\n",
    "#          'gamma': 0,\n",
    "#          'subsample': 1,\n",
    "#          'colsample_bytree': 1,\n",
    "#          'colsample_bylevel': 1,\n",
    "#          'colsample_bynode': 1,\n",
    "#          'min_child_weight': 1,\n",
    "#          'eta': 0.3,\n",
    "#          'seed': 0,\n",
    "#          'silent': 1,\n",
    "#          'n_fold': 5,\n",
    "#          'scale_pos_weight':1}\n",
    "param1 = {'booster': 'gbtree',\n",
    "         'objective': 'binary:logistic',\n",
    "         'eval_metric': 'auc',\n",
    "         'max_depth': 3,\n",
    "         'lambda': 200,\n",
    "         'gamma': 0.2,\n",
    "         'subsample': 1,\n",
    "         'colsample_bytree': 1,\n",
    "         'colsample_bylevel': 0.5,\n",
    "         'colsample_bynode': 0.75,\n",
    "         'min_child_weight': 20,\n",
    "         'eta': 0.028,\n",
    "         'seed': 0,\n",
    "         'silent': 1,\n",
    "         'n_fold': 5,\n",
    "         'scale_pos_weight':1}\n",
    "num_round = 600\n",
    "\n",
    "time0 = time()\n",
    "cvResult = xgb.cv(param1, dfull, num_round)\n",
    "print(datetime.datetime.fromtimestamp(time()-time0).strftime(\"%M:%S:%f\"))\n",
    "fig, ax = plt.subplots(1,figsize=(15,8))\n",
    "ax.grid()\n",
    "ax.plot(range(1,(num_round+1)), cvResult.iloc[:,0], c='r', label='train, original')\n",
    "ax.plot(range(1,(num_round+1)), cvResult.iloc[:,2], c='orange', label='test, original')\n",
    "\n",
    "param2 = {'booster': 'gbtree',\n",
    "         'objective': 'binary:logistic',\n",
    "         'eval_metric': 'auc',\n",
    "         'max_depth': 3,\n",
    "         'lambda': 200,\n",
    "         'gamma': 0.15,\n",
    "         'subsample': 0.75,\n",
    "         'colsample_bytree': 1,\n",
    "         'colsample_bylevel': 0.5,\n",
    "         'colsample_bynode': 1,\n",
    "         'min_child_weight': 30,\n",
    "         'eta': 0.035,\n",
    "         'seed': 0,\n",
    "         'silent': 1,\n",
    "         'n_fold': 5,\n",
    "         'scale_pos_weight':1}\n",
    "param3 = {'booster': 'gbtree',\n",
    "         'objective': 'binary:logistic',\n",
    "         'eval_metric': 'auc',\n",
    "         'max_depth': 3,\n",
    "         'lambda': 200,\n",
    "         'gamma': 0.2,\n",
    "         'subsample': 1,\n",
    "         'colsample_bytree': 1,\n",
    "         'colsample_bylevel': 0.5,\n",
    "         'colsample_bynode': 0.75,\n",
    "         'min_child_weight': 30,\n",
    "         'eta': 0.028,\n",
    "         'seed': 0,\n",
    "         'silent': 1,\n",
    "         'n_fold': 5,\n",
    "         'scale_pos_weight':1}\n",
    "time0 = time()\n",
    "cvResult2 = xgb.cv(param2, dfull, num_round)\n",
    "print(datetime.datetime.fromtimestamp(time()-time0).strftime(\"%M:%S:%f\"))\n",
    "\n",
    "time0 = time()\n",
    "cvResult3 = xgb.cv(param3, dfull, num_round)\n",
    "print(datetime.datetime.fromtimestamp(time()-time0).strftime(\"%M:%S:%f\"))\n",
    "\n",
    "ax.plot(range(1,(num_round+1)), cvResult2.iloc[:,0], c='green', label='train last')\n",
    "ax.plot(range(1,(num_round+1)), cvResult2.iloc[:,2], c='blue', label='test last')\n",
    "\n",
    "\n",
    "ax.plot(range(1,(num_round+1)), cvResult3.iloc[:,0], c='grey', label='train this')\n",
    "ax.plot(range(1,(num_round+1)), cvResult3.iloc[:,2], c='pink', label='test this')\n",
    "ax.legend(fontsize='xx-large')\n",
    "# plt.yticks([0.7,0.75,0.8])\n",
    "plt.show()"
   ]
  },
  {
   "cell_type": "code",
   "execution_count": null,
   "metadata": {},
   "outputs": [],
   "source": []
  },
  {
   "cell_type": "code",
   "execution_count": 461,
   "metadata": {},
   "outputs": [],
   "source": [
    "params = {'booster': 'gbtree',\n",
    "         'objective': 'binary:logistic',\n",
    "         'eval_metric': 'auc',\n",
    "         'max_depth': 3,\n",
    "         'lambda': 80,\n",
    "         'gamma':0.15,\n",
    "         'subsample': 0.75,\n",
    "         'colsample_bytree': 0.5,\n",
    "         'colsample_bylevel': 1,\n",
    "         'colsample_bynode': 0.75,\n",
    "         'min_child_weight': 30,\n",
    "         'eta': 0.03,\n",
    "         'seed': 0,\n",
    "         'silent': 1,\n",
    "         'n_fold': 5,\n",
    "         'scale_pos_weight':1}\n",
    "num_round=600"
   ]
  },
  {
   "cell_type": "code",
   "execution_count": 451,
   "metadata": {},
   "outputs": [],
   "source": [
    "params2 = {'booster': 'gbtree',\n",
    "         'objective': 'binary:logistic',\n",
    "         'eval_metric': 'auc',\n",
    "         'max_depth': 3,\n",
    "         'lambda': 200,\n",
    "         'gamma': 0.15,\n",
    "         'subsample': 0.75,\n",
    "         'colsample_bytree': 1,\n",
    "         'colsample_bylevel': 0.5,\n",
    "         'colsample_bynode': 0.75,\n",
    "         'min_child_weight': 10,\n",
    "         'eta': 0.035,\n",
    "         'seed': 0,\n",
    "         'silent': 1,\n",
    "         'n_fold': 5,\n",
    "         'scale_pos_weight':1}"
   ]
  },
  {
   "cell_type": "code",
   "execution_count": 533,
   "metadata": {},
   "outputs": [],
   "source": [
    "params3 = {'booster': 'gbtree',\n",
    "         'objective': 'binary:logistic',\n",
    "         'eval_metric': 'auc',\n",
    "         'max_depth': 3,\n",
    "         'lambda': 200,\n",
    "         'gamma': 0.2,\n",
    "         'subsample': 1,\n",
    "         'colsample_bytree': 1,\n",
    "         'colsample_bylevel': 0.5,\n",
    "         'colsample_bynode': 0.75,\n",
    "         'min_child_weight': 20,\n",
    "         'eta': 0.028,\n",
    "         'seed': 0,\n",
    "         'silent': 1,\n",
    "         'n_fold': 5,\n",
    "         'scale_pos_weight':1}\n",
    "params4 = {'booster': 'gbtree',\n",
    "         'objective': 'binary:logistic',\n",
    "         'eval_metric': 'auc',\n",
    "         'max_depth': 3,\n",
    "         'lambda': 100,\n",
    "         'gamma': 0.2,\n",
    "         'subsample': 1,\n",
    "         'colsample_bytree': 1,\n",
    "         'colsample_bylevel': 0.5,\n",
    "         'colsample_bynode': 0.75,\n",
    "         'min_child_weight': 20,\n",
    "         'eta': 0.03,\n",
    "         'seed': 0,\n",
    "         'silent': 1,\n",
    "         'n_fold': 5,\n",
    "         'scale_pos_weight':1}"
   ]
  },
  {
   "cell_type": "code",
   "execution_count": 548,
   "metadata": {},
   "outputs": [],
   "source": [
    "bst = xgb.train(params3, dfull, num_round)"
   ]
  },
  {
   "cell_type": "code",
   "execution_count": 549,
   "metadata": {},
   "outputs": [
    {
     "data": {
      "text/plain": [
       "0.7508864348295987"
      ]
     },
     "execution_count": 549,
     "metadata": {},
     "output_type": "execute_result"
    }
   ],
   "source": [
    "preds = bst.predict(dtest)\n",
    "auc(Ytest, preds)"
   ]
  },
  {
   "cell_type": "code",
   "execution_count": 550,
   "metadata": {},
   "outputs": [
    {
     "data": {
      "text/plain": [
       "['./b/xgboost-fintech-joblib_3.dat']"
      ]
     },
     "execution_count": 550,
     "metadata": {},
     "output_type": "execute_result"
    }
   ],
   "source": [
    "import joblib\n",
    "\n",
    "joblib.dump(bst, './b/xgboost-fintech-joblib_3.dat')"
   ]
  },
  {
   "cell_type": "code",
   "execution_count": 551,
   "metadata": {},
   "outputs": [
    {
     "data": {
      "text/plain": [
       "0.7508864348295987"
      ]
     },
     "execution_count": 551,
     "metadata": {},
     "output_type": "execute_result"
    }
   ],
   "source": [
    "loaded_model_joblib = joblib.load('./b/xgboost-fintech-joblib_3.dat')\n",
    "preds = loaded_model_joblib.predict(dtest)\n",
    "\n",
    "auc(Ytest, preds)"
   ]
  },
  {
   "cell_type": "code",
   "execution_count": 552,
   "metadata": {},
   "outputs": [],
   "source": [
    "del(data_test_)"
   ]
  },
  {
   "cell_type": "code",
   "execution_count": 553,
   "metadata": {},
   "outputs": [],
   "source": [
    "data_test_ = test_data.copy()"
   ]
  },
  {
   "cell_type": "code",
   "execution_count": 554,
   "metadata": {},
   "outputs": [
    {
     "data": {
      "text/plain": [
       "(4000, 48)"
      ]
     },
     "execution_count": 554,
     "metadata": {},
     "output_type": "execute_result"
    }
   ],
   "source": [
    "test_data_feature = data_test_.drop(['id'], axis=1)\n",
    "user_id = data_test_['id']\n",
    "test_data_feature.shape"
   ]
  },
  {
   "cell_type": "code",
   "execution_count": 555,
   "metadata": {},
   "outputs": [],
   "source": [
    "dtest_a = xgb.DMatrix(test_data_feature)"
   ]
  },
  {
   "cell_type": "code",
   "execution_count": 556,
   "metadata": {},
   "outputs": [],
   "source": [
    "data_test_['preds'] = loaded_model_joblib.predict(dtest_a)"
   ]
  },
  {
   "cell_type": "code",
   "execution_count": 557,
   "metadata": {},
   "outputs": [],
   "source": [
    "output_a = data_test_.loc[:,['id', 'preds']]"
   ]
  },
  {
   "cell_type": "code",
   "execution_count": 558,
   "metadata": {},
   "outputs": [],
   "source": [
    "output_a.to_csv('./b/submit_b_3.txt', sep='\\t',header=None, index=False, encoding='utf8')"
   ]
  },
  {
   "cell_type": "code",
   "execution_count": 559,
   "metadata": {},
   "outputs": [],
   "source": [
    "from xgboost import plot_importance"
   ]
  },
  {
   "cell_type": "code",
   "execution_count": 560,
   "metadata": {},
   "outputs": [
    {
     "data": {
      "text/plain": [
       "<Figure size 1440x7200 with 0 Axes>"
      ]
     },
     "metadata": {},
     "output_type": "display_data"
    },
    {
     "data": {
      "image/png": "[encoded data removed]",
      "text/plain": [
       "<Figure size 432x288 with 1 Axes>"
      ]
     },
     "metadata": {
      "needs_background": "light"
     },
     "output_type": "display_data"
    }
   ],
   "source": [
    "fig = plt.figure(figsize=(20, 100))\n",
    "plot_importance(loaded_model_joblib)\n",
    "plt.show()"
   ]
  },
  {
   "cell_type": "code",
   "execution_count": 566,
   "metadata": {},
   "outputs": [],
   "source": [
    "from sklearn.linear_model import LogisticRegression as LR"
   ]
  },
  {
   "cell_type": "code",
   "execution_count": 567,
   "metadata": {},
   "outputs": [],
   "source": [
    "LR_ = LR()"
   ]
  },
  {
   "cell_type": "code",
   "execution_count": 570,
   "metadata": {},
   "outputs": [
    {
     "name": "stderr",
     "output_type": "stream",
     "text": [
      "/home/esterl/anaconda3/lib/python3.6/site-packages/sklearn/linear_model/logistic.py:432: FutureWarning: Default solver will be changed to 'lbfgs' in 0.22. Specify a solver to silence this warning.\n",
      "  FutureWarning)\n",
      "/home/esterl/anaconda3/lib/python3.6/site-packages/sklearn/svm/base.py:929: ConvergenceWarning: Liblinear failed to converge, increase the number of iterations.\n",
      "  \"the number of iterations.\", ConvergenceWarning)\n"
     ]
    }
   ],
   "source": [
    "LR_ = LR_.fit(Xtrain, Ytrain)"
   ]
  },
  {
   "cell_type": "code",
   "execution_count": 571,
   "metadata": {
    "scrolled": true
   },
   "outputs": [
    {
     "data": {
      "text/plain": [
       "0.7744844284879352"
      ]
     },
     "execution_count": 571,
     "metadata": {},
     "output_type": "execute_result"
    }
   ],
   "source": [
    "LR_.score(Xtest, Ytest)"
   ]
  },
  {
   "cell_type": "code",
   "execution_count": 572,
   "metadata": {},
   "outputs": [],
   "source": [
    "preds = LR_.predict_proba(Xtest)"
   ]
  },
  {
   "cell_type": "code",
   "execution_count": 574,
   "metadata": {
    "scrolled": true
   },
   "outputs": [
    {
     "data": {
      "text/plain": [
       "array([[0.65075737, 0.34924263],\n",
       "       [0.67529885, 0.32470115],\n",
       "       [0.72341639, 0.27658361],\n",
       "       ...,\n",
       "       [0.703316  , 0.296684  ],\n",
       "       [0.78023009, 0.21976991],\n",
       "       [0.69552438, 0.30447562]])"
      ]
     },
     "execution_count": 574,
     "metadata": {},
     "output_type": "execute_result"
    }
   ],
   "source": [
    "preds"
   ]
  },
  {
   "cell_type": "code",
   "execution_count": 576,
   "metadata": {},
   "outputs": [
    {
     "data": {
      "text/plain": [
       "(11977, 2)"
      ]
     },
     "execution_count": 576,
     "metadata": {},
     "output_type": "execute_result"
    }
   ],
   "source": [
    "preds.shape"
   ]
  },
  {
   "cell_type": "code",
   "execution_count": 578,
   "metadata": {},
   "outputs": [
    {
     "data": {
      "text/plain": [
       "array([0.34924263, 0.32470115, 0.27658361, ..., 0.296684  , 0.21976991,\n",
       "       0.30447562])"
      ]
     },
     "execution_count": 578,
     "metadata": {},
     "output_type": "execute_result"
    }
   ],
   "source": [
    "preds[:,1]"
   ]
  },
  {
   "cell_type": "code",
   "execution_count": 581,
   "metadata": {},
   "outputs": [
    {
     "data": {
      "text/plain": [
       "0.5662789688180201"
      ]
     },
     "execution_count": 581,
     "metadata": {},
     "output_type": "execute_result"
    }
   ],
   "source": [
    "auc(Ytest, preds[:,1])"
   ]
  },
  {
   "cell_type": "code",
   "execution_count": 582,
   "metadata": {},
   "outputs": [
    {
     "data": {
      "text/plain": [
       "(39923, 43)"
      ]
     },
     "execution_count": 582,
     "metadata": {},
     "output_type": "execute_result"
    }
   ],
   "source": [
    "data_train_tag.shape"
   ]
  },
  {
   "cell_type": "code",
   "execution_count": 586,
   "metadata": {
    "scrolled": true
   },
   "outputs": [
    {
     "data": {
      "text/plain": [
       "30    2513\n",
       "31    2462\n",
       "32    2239\n",
       "33    2227\n",
       "29    2117\n",
       "28    1998\n",
       "34    1908\n",
       "27    1862\n",
       "26    1671\n",
       "25    1542\n",
       "35    1530\n",
       "36    1468\n",
       "38    1379\n",
       "37    1323\n",
       "24    1197\n",
       "39    1159\n",
       "41     958\n",
       "40     932\n",
       "23     820\n",
       "42     806\n",
       "22     678\n",
       "43     644\n",
       "44     607\n",
       "45     557\n",
       "46     544\n",
       "47     489\n",
       "49     479\n",
       "48     470\n",
       "50     450\n",
       "21     441\n",
       "52     331\n",
       "51     328\n",
       "20     233\n",
       "57     208\n",
       "53     200\n",
       "54     192\n",
       "56     189\n",
       "55     163\n",
       "58     138\n",
       "60      71\n",
       "59      69\n",
       "62      52\n",
       "61      48\n",
       "63      47\n",
       "65      30\n",
       "64      29\n",
       "66      28\n",
       "19      18\n",
       "67      17\n",
       "69      15\n",
       "68      14\n",
       "70      13\n",
       "71       7\n",
       "74       5\n",
       "72       2\n",
       "73       2\n",
       "76       1\n",
       "77       1\n",
       "84       1\n",
       "79       1\n",
       "Name: age, dtype: int64"
      ]
     },
     "execution_count": 586,
     "metadata": {},
     "output_type": "execute_result"
    }
   ],
   "source": [
    "train_data_.age.value_counts()"
   ]
  }
 ],
 "metadata": {
  "kernelspec": {
   "display_name": "Python 3",
   "language": "python",
   "name": "python3"
  },
  "language_info": {
   "codemirror_mode": {
    "name": "ipython",
    "version": 3
   },
   "file_extension": ".py",
   "mimetype": "text/x-python",
   "name": "python",
   "nbconvert_exporter": "python",
   "pygments_lexer": "ipython3",
   "version": "3.6.9"
  }
 },
 "nbformat": 4,
 "nbformat_minor": 2
}
