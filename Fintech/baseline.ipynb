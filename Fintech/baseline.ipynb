{
 "cells": [
  {
   "cell_type": "code",
   "execution_count": 1,
   "metadata": {},
   "outputs": [],
   "source": [
    "import numpy as np\n",
    "import pandas as pd\n",
    "import matplotlib.pyplot as plt\n",
    "from sklearn.model_selection import train_test_split\n",
    "from sklearn.metrics import roc_auc_score"
   ]
  },
  {
   "cell_type": "code",
   "execution_count": 2,
   "metadata": {},
   "outputs": [],
   "source": [
    "\n",
    "data_train_tag = pd.read_csv('./训练数据集1/训练数据集_tag.csv')\n",
    "data_train_trd = pd.read_csv('./训练数据集1/训练数据集_trd.csv')\n",
    "data_train_beh = pd.read_csv('./训练数据集1/训练数据集_beh.csv')\n",
    "\n",
    "test_tag = pd.read_csv('./评分数据集1/评分数据集_tag.csv')\n",
    "test_trd = pd.read_csv('./评分数据集1/评分数据集_trd.csv')\n",
    "test_beh = pd.read_csv('./评分数据集1/评分数据集_beh.csv')\n"
   ]
  },
  {
   "cell_type": "markdown",
   "metadata": {},
   "source": [
    "## 数据预处理-对trd和beh进行转换\n",
    "- 将交易记录转换为 交易笔数、交易金额和收入支出次数及金额；未对日期进行处理\n",
    "- "
   ]
  },
  {
   "cell_type": "code",
   "execution_count": 3,
   "metadata": {},
   "outputs": [],
   "source": [
    "user_tradTimes = pd.DataFrame(data_train_trd.id.value_counts())\n",
    "user_tradTimes['index'] = user_tradTimes.index\n",
    "user_tradTimes.index = range(len(user_tradTimes))\n",
    "user_tradTimes.columns = ['trd_times', 'user']\n",
    "user_tradTimes = user_tradTimes[['user', 'trd_times']]"
   ]
  },
  {
   "cell_type": "code",
   "execution_count": 4,
   "metadata": {},
   "outputs": [],
   "source": [
    "# 每位用户的总交易金额\n",
    "output_dict = {}\n",
    "with open('./训练数据集1/训练数据集_trd.csv') as f:\n",
    "    for line_num, line in enumerate(f):\n",
    "        if line_num >0:\n",
    "            user = line.split(',')[0]\n",
    "            total_count = float(line.split(',')[-1])\n",
    "            if user in output_dict:\n",
    "                total_count += output_dict[user]\n",
    "                output_dict.update({user:total_count}) # update当前指标加上原指标\n",
    "            output_dict.update({user:total_count})\n",
    "output_list = [{'user':k, 'total_count':v} for k, v in output_dict.items()]\n",
    "total_count_df = pd.DataFrame(output_list)"
   ]
  },
  {
   "cell_type": "code",
   "execution_count": 5,
   "metadata": {},
   "outputs": [],
   "source": [
    "# 合并次数和交易金额\n",
    "train_user_trd = pd.merge(user_tradTimes, total_count_df, how='left', left_on='user', right_on='user')"
   ]
  },
  {
   "cell_type": "code",
   "execution_count": 6,
   "metadata": {},
   "outputs": [],
   "source": [
    "# 支出次数\n",
    "output_dict = {}\n",
    "with open('./训练数据集1/训练数据集_trd.csv') as f:\n",
    "    for line_num, line in enumerate(f):\n",
    "        if line_num >0:\n",
    "            user = line.split(',')[0]\n",
    "            pay_way = line.split(',')[2]\n",
    "            B_out = 0\n",
    "            if user in output_dict:\n",
    "                B_out += output_dict[user]\n",
    "                if pay_way == 'B':\n",
    "                    B_out += 1\n",
    "                    output_dict.update({user:B_out}) # update当前指标加上原指标\n",
    "                    continue\n",
    "            else:\n",
    "                if pay_way == 'B':\n",
    "                        B_out = 1\n",
    "                output_dict.update({user:B_out})\n",
    "output_list = [{'user':k, 'B_out':v} for k, v in output_dict.items()]\n",
    "B_out_df = pd.DataFrame(output_list)"
   ]
  },
  {
   "cell_type": "code",
   "execution_count": 7,
   "metadata": {},
   "outputs": [],
   "source": [
    "# 收入次数\n",
    "output_dict = {}\n",
    "with open('./训练数据集1/训练数据集_trd.csv') as f:\n",
    "    for line_num, line in enumerate(f):\n",
    "        if line_num >0:\n",
    "            user = line.split(',')[0]\n",
    "            pay_way = line.split(',')[2]\n",
    "            C_in = 0\n",
    "            if user in output_dict:\n",
    "                C_in += output_dict[user]\n",
    "                if pay_way == 'C':\n",
    "                    C_in += 1\n",
    "                    output_dict.update({user:C_in}) # update当前指标加上原指标\n",
    "            else:\n",
    "                if pay_way == 'C':\n",
    "                    C_in = 1\n",
    "                output_dict.update({user:C_in})\n",
    "output_list = [{'user':k, 'C_in':v} for k, v in output_dict.items()]\n",
    "C_in_df = pd.DataFrame(output_list)"
   ]
  },
  {
   "cell_type": "code",
   "execution_count": 8,
   "metadata": {},
   "outputs": [],
   "source": [
    "# 每位用户的支出金额\n",
    "output_dict = {}\n",
    "with open('./训练数据集1/训练数据集_trd.csv') as f:\n",
    "    for line_num, line in enumerate(f):\n",
    "        if line_num >0:\n",
    "            user = line.split(',')[0]\n",
    "            out_count = 0\n",
    "            count = float(line.split(',')[-1])\n",
    "            if user in output_dict:\n",
    "                out_count += output_dict[user]\n",
    "                if count<0:\n",
    "                    out_count += count\n",
    "                    output_dict.update({user:out_count}) # update当前指标加上原指标\n",
    "            else:\n",
    "                if count < 0:\n",
    "                    out_count = count\n",
    "                output_dict.update({user:out_count})\n",
    "output_list = [{'user':k, 'out_count':v} for k, v in output_dict.items()]\n",
    "out_count_df = pd.DataFrame(output_list)\n"
   ]
  },
  {
   "cell_type": "code",
   "execution_count": 9,
   "metadata": {},
   "outputs": [],
   "source": [
    "# 每位用户收入金额\n",
    "output_dict = {}\n",
    "with open('./训练数据集1/训练数据集_trd.csv') as f:\n",
    "    for line_num, line in enumerate(f):\n",
    "        if line_num >0:\n",
    "            user = line.split(',')[0]\n",
    "            in_count = 0\n",
    "            count = float(line.split(',')[-1])\n",
    "            if user in output_dict:\n",
    "                in_count += output_dict[user]\n",
    "                if count>0:\n",
    "                    in_count += count\n",
    "                    output_dict.update({user:in_count}) # update当前指标加上原指标\n",
    "            else:\n",
    "                if count > 0:\n",
    "                    in_count = count\n",
    "                output_dict.update({user:in_count})\n",
    "output_list = [{'user':k, 'in_count':v} for k, v in output_dict.items()]\n",
    "in_count_df = pd.DataFrame(output_list)"
   ]
  },
  {
   "cell_type": "code",
   "execution_count": 10,
   "metadata": {},
   "outputs": [],
   "source": [
    "# 合并上述所有\n",
    "train_user_trd = pd.merge(train_user_trd, B_out_df, how='left', left_on='user', right_on='user')\n",
    "train_user_trd = pd.merge(train_user_trd, C_in_df, how='left', left_on='user', right_on='user')\n",
    "train_user_trd = pd.merge(train_user_trd, out_count_df, how='left', left_on='user', right_on='user')"
   ]
  },
  {
   "cell_type": "code",
   "execution_count": 11,
   "metadata": {},
   "outputs": [
    {
     "data": {
      "text/html": [
       "<div>\n",
       "<style scoped>\n",
       "    .dataframe tbody tr th:only-of-type {\n",
       "        vertical-align: middle;\n",
       "    }\n",
       "\n",
       "    .dataframe tbody tr th {\n",
       "        vertical-align: top;\n",
       "    }\n",
       "\n",
       "    .dataframe thead th {\n",
       "        text-align: right;\n",
       "    }\n",
       "</style>\n",
       "<table border=\"1\" class=\"dataframe\">\n",
       "  <thead>\n",
       "    <tr style=\"text-align: right;\">\n",
       "      <th></th>\n",
       "      <th>user</th>\n",
       "      <th>trd_times</th>\n",
       "      <th>total_count</th>\n",
       "      <th>B_out</th>\n",
       "      <th>C_in</th>\n",
       "      <th>out_count</th>\n",
       "      <th>in_count</th>\n",
       "    </tr>\n",
       "  </thead>\n",
       "  <tbody>\n",
       "    <tr>\n",
       "      <td>0</td>\n",
       "      <td>UBD9C48</td>\n",
       "      <td>5836</td>\n",
       "      <td>2173.69</td>\n",
       "      <td>5693</td>\n",
       "      <td>143</td>\n",
       "      <td>962039.77</td>\n",
       "      <td>964213.46</td>\n",
       "    </tr>\n",
       "    <tr>\n",
       "      <td>1</td>\n",
       "      <td>U8AE05B</td>\n",
       "      <td>2589</td>\n",
       "      <td>-19.04</td>\n",
       "      <td>1232</td>\n",
       "      <td>1357</td>\n",
       "      <td>3354162.49</td>\n",
       "      <td>3354143.45</td>\n",
       "    </tr>\n",
       "    <tr>\n",
       "      <td>2</td>\n",
       "      <td>U0015B2</td>\n",
       "      <td>2490</td>\n",
       "      <td>-13241.21</td>\n",
       "      <td>1535</td>\n",
       "      <td>955</td>\n",
       "      <td>1966131.73</td>\n",
       "      <td>1952890.52</td>\n",
       "    </tr>\n",
       "    <tr>\n",
       "      <td>3</td>\n",
       "      <td>U9E0C0D</td>\n",
       "      <td>2392</td>\n",
       "      <td>4145.88</td>\n",
       "      <td>1117</td>\n",
       "      <td>1275</td>\n",
       "      <td>3940858.61</td>\n",
       "      <td>3945004.49</td>\n",
       "    </tr>\n",
       "    <tr>\n",
       "      <td>4</td>\n",
       "      <td>U7EF7EC</td>\n",
       "      <td>2237</td>\n",
       "      <td>-1990.99</td>\n",
       "      <td>2063</td>\n",
       "      <td>174</td>\n",
       "      <td>342173.63</td>\n",
       "      <td>340182.64</td>\n",
       "    </tr>\n",
       "    <tr>\n",
       "      <td>...</td>\n",
       "      <td>...</td>\n",
       "      <td>...</td>\n",
       "      <td>...</td>\n",
       "      <td>...</td>\n",
       "      <td>...</td>\n",
       "      <td>...</td>\n",
       "      <td>...</td>\n",
       "    </tr>\n",
       "    <tr>\n",
       "      <td>31988</td>\n",
       "      <td>U0FB42D</td>\n",
       "      <td>1</td>\n",
       "      <td>4.80</td>\n",
       "      <td>0</td>\n",
       "      <td>1</td>\n",
       "      <td>0.00</td>\n",
       "      <td>4.80</td>\n",
       "    </tr>\n",
       "    <tr>\n",
       "      <td>31989</td>\n",
       "      <td>U802EEF</td>\n",
       "      <td>1</td>\n",
       "      <td>0.04</td>\n",
       "      <td>0</td>\n",
       "      <td>1</td>\n",
       "      <td>0.00</td>\n",
       "      <td>0.04</td>\n",
       "    </tr>\n",
       "    <tr>\n",
       "      <td>31990</td>\n",
       "      <td>U0E3E25</td>\n",
       "      <td>1</td>\n",
       "      <td>-120.00</td>\n",
       "      <td>1</td>\n",
       "      <td>0</td>\n",
       "      <td>120.00</td>\n",
       "      <td>0.00</td>\n",
       "    </tr>\n",
       "    <tr>\n",
       "      <td>31991</td>\n",
       "      <td>U74C352</td>\n",
       "      <td>1</td>\n",
       "      <td>0.06</td>\n",
       "      <td>0</td>\n",
       "      <td>1</td>\n",
       "      <td>0.00</td>\n",
       "      <td>0.06</td>\n",
       "    </tr>\n",
       "    <tr>\n",
       "      <td>31992</td>\n",
       "      <td>U0D5A4C</td>\n",
       "      <td>1</td>\n",
       "      <td>2.00</td>\n",
       "      <td>0</td>\n",
       "      <td>1</td>\n",
       "      <td>0.00</td>\n",
       "      <td>2.00</td>\n",
       "    </tr>\n",
       "  </tbody>\n",
       "</table>\n",
       "<p>31993 rows × 7 columns</p>\n",
       "</div>"
      ],
      "text/plain": [
       "          user  trd_times  total_count  B_out  C_in   out_count    in_count\n",
       "0      UBD9C48       5836      2173.69   5693   143   962039.77   964213.46\n",
       "1      U8AE05B       2589       -19.04   1232  1357  3354162.49  3354143.45\n",
       "2      U0015B2       2490    -13241.21   1535   955  1966131.73  1952890.52\n",
       "3      U9E0C0D       2392      4145.88   1117  1275  3940858.61  3945004.49\n",
       "4      U7EF7EC       2237     -1990.99   2063   174   342173.63   340182.64\n",
       "...        ...        ...          ...    ...   ...         ...         ...\n",
       "31988  U0FB42D          1         4.80      0     1        0.00        4.80\n",
       "31989  U802EEF          1         0.04      0     1        0.00        0.04\n",
       "31990  U0E3E25          1      -120.00      1     0      120.00        0.00\n",
       "31991  U74C352          1         0.06      0     1        0.00        0.06\n",
       "31992  U0D5A4C          1         2.00      0     1        0.00        2.00\n",
       "\n",
       "[31993 rows x 7 columns]"
      ]
     },
     "execution_count": 11,
     "metadata": {},
     "output_type": "execute_result"
    }
   ],
   "source": [
    "train_user_trd['out_count'] = abs(train_user_trd.out_count)\n",
    "train_use_trd = pd.merge(train_user_trd, in_count_df, how='left', left_on='user', right_on='user')\n",
    "train_use_trd.shape\n",
    "train_use_trd"
   ]
  },
  {
   "cell_type": "code",
   "execution_count": 402,
   "metadata": {},
   "outputs": [],
   "source": [
    "train_use_trd.to_csv('./训练数据集1/train_use_trd.csv', index=False)"
   ]
  },
  {
   "cell_type": "code",
   "execution_count": 14,
   "metadata": {},
   "outputs": [
    {
     "data": {
      "text/plain": [
       "(39923, 43)"
      ]
     },
     "execution_count": 14,
     "metadata": {},
     "output_type": "execute_result"
    }
   ],
   "source": [
    "data_train_tag.shape"
   ]
  },
  {
   "cell_type": "markdown",
   "metadata": {},
   "source": [
    "### 处理测试集\n"
   ]
  },
  {
   "cell_type": "code",
   "execution_count": 15,
   "metadata": {},
   "outputs": [],
   "source": [
    "test_user_tradTimes = pd.DataFrame(test_trd.id.value_counts())\n",
    "test_user_tradTimes['index'] = test_user_tradTimes.index\n",
    "test_user_tradTimes.index = range(len(test_user_tradTimes))\n",
    "test_user_tradTimes.columns = ['trd_times', 'user']\n",
    "test_user_tradTimes = test_user_tradTimes[['user', 'trd_times']]"
   ]
  },
  {
   "cell_type": "code",
   "execution_count": 18,
   "metadata": {},
   "outputs": [],
   "source": [
    "# 总交易金额\n",
    "output_dict = {}\n",
    "with open('./评分数据集1/评分数据集_trd.csv') as f:\n",
    "    for line_num, line in enumerate(f):\n",
    "        if line_num >0:\n",
    "            user = line.split(',')[0]\n",
    "            total_count = float(line.split(',')[-1])\n",
    "            if user in output_dict:\n",
    "                total_count += output_dict[user]\n",
    "                output_dict.update({user:total_count}) # update当前指标加上原指标\n",
    "            output_dict.update({user:total_count})\n",
    "output_list = [{'user':k, 'total_count':v} for k, v in output_dict.items()]\n",
    "test_total_count_df = pd.DataFrame(output_list)"
   ]
  },
  {
   "cell_type": "code",
   "execution_count": 19,
   "metadata": {},
   "outputs": [],
   "source": [
    "# 合并次数和交易金额\n",
    "test_user_trd = pd.merge(test_user_tradTimes, test_total_count_df, how='left', left_on='user', right_on='user')"
   ]
  },
  {
   "cell_type": "code",
   "execution_count": 20,
   "metadata": {},
   "outputs": [],
   "source": [
    "# 支出次数\n",
    "output_dict = {}\n",
    "output_dict1 = {}\n",
    "with open('./评分数据集1/评分数据集_trd.csv') as f:\n",
    "    for line_num, line in enumerate(f):\n",
    "        if line_num >0:\n",
    "            user = line.split(',')[0]\n",
    "            pay_way = line.split(',')[2]\n",
    "            B_out = 0\n",
    "            if user in output_dict:\n",
    "                B_out += output_dict[user]\n",
    "                if pay_way == 'B':\n",
    "                    B_out += 1\n",
    "                    output_dict.update({user:B_out}) # update当前指标加上原指标\n",
    "                    continue\n",
    "            else:\n",
    "                if pay_way == 'B':\n",
    "                        B_out = 1\n",
    "                output_dict.update({user:B_out})\n",
    "output_list = [{'user':k, 'B_out':v} for k, v in output_dict.items()]\n",
    "test_B_out_df = pd.DataFrame(output_list)\n"
   ]
  },
  {
   "cell_type": "code",
   "execution_count": 21,
   "metadata": {},
   "outputs": [],
   "source": [
    "# 收入次数\n",
    "output_dict = {}\n",
    "with open('./评分数据集1/评分数据集_trd.csv') as f:\n",
    "    for line_num, line in enumerate(f):\n",
    "        if line_num >0:\n",
    "            user = line.split(',')[0]\n",
    "            pay_way = line.split(',')[2]\n",
    "            C_in = 0\n",
    "            if user in output_dict:\n",
    "                C_in += output_dict[user]\n",
    "                if pay_way == 'C':\n",
    "                    C_in += 1\n",
    "                    output_dict.update({user:C_in}) # update当前指标加上原指标\n",
    "            else:\n",
    "                if pay_way == 'C':\n",
    "                    C_in = 1\n",
    "                output_dict.update({user:C_in})\n",
    "output_list = [{'user':k, 'C_in':v} for k, v in output_dict.items()]\n",
    "test_C_in_df = pd.DataFrame(output_list)\n"
   ]
  },
  {
   "cell_type": "code",
   "execution_count": 22,
   "metadata": {},
   "outputs": [],
   "source": [
    "# 每位用户的支出金额\n",
    "output_dict = {}\n",
    "with open('./评分数据集1/评分数据集_trd.csv') as f:\n",
    "    for line_num, line in enumerate(f):\n",
    "        if line_num >0:\n",
    "            user = line.split(',')[0]\n",
    "            out_count = 0\n",
    "            count = float(line.split(',')[-1])\n",
    "            if user in output_dict:\n",
    "                out_count += output_dict[user]\n",
    "                if count<0:\n",
    "                    out_count += count\n",
    "                    output_dict.update({user:out_count}) # update当前指标加上原指标\n",
    "            else:\n",
    "                if count < 0:\n",
    "                    out_count = count\n",
    "                output_dict.update({user:out_count})\n",
    "output_list = [{'user':k, 'out_count':v} for k, v in output_dict.items()]\n",
    "test_out_count_df = pd.DataFrame(output_list)\n"
   ]
  },
  {
   "cell_type": "code",
   "execution_count": 23,
   "metadata": {},
   "outputs": [],
   "source": [
    "# 每位用户收入金额\n",
    "output_dict = {}\n",
    "with open('./评分数据集1/评分数据集_trd.csv') as f:\n",
    "    for line_num, line in enumerate(f):\n",
    "        if line_num >0:\n",
    "            user = line.split(',')[0]\n",
    "            in_count = 0\n",
    "            count = float(line.split(',')[-1])\n",
    "            if user in output_dict:\n",
    "                in_count += output_dict[user]\n",
    "                if count>0:\n",
    "                    in_count += count\n",
    "                    output_dict.update({user:in_count}) # update当前指标加上原指标\n",
    "            else:\n",
    "                if count > 0:\n",
    "                    in_count = count\n",
    "                output_dict.update({user:in_count})\n",
    "output_list = [{'user':k, 'in_count':v} for k, v in output_dict.items()]\n",
    "test_in_count_df = pd.DataFrame(output_list)"
   ]
  },
  {
   "cell_type": "code",
   "execution_count": 24,
   "metadata": {},
   "outputs": [],
   "source": [
    "test_user_trd = pd.merge(test_user_trd, test_B_out_df, how='left', left_on='user', right_on='user')\n",
    "test_user_trd = pd.merge(test_user_trd, test_C_in_df, how='left', left_on='user', right_on='user')\n",
    "test_user_trd = pd.merge(test_user_trd, test_out_count_df, how='left', left_on='user', right_on='user')"
   ]
  },
  {
   "cell_type": "code",
   "execution_count": 397,
   "metadata": {
    "scrolled": true
   },
   "outputs": [],
   "source": [
    "test_user_trd['out_count'] = abs(test_user_trd.out_count)\n",
    "test_use_trd = pd.merge(test_user_trd, test_in_count_df, how='left', left_on='user', right_on='user')"
   ]
  },
  {
   "cell_type": "code",
   "execution_count": 399,
   "metadata": {
    "scrolled": true
   },
   "outputs": [
    {
     "data": {
      "text/html": [
       "<div>\n",
       "<style scoped>\n",
       "    .dataframe tbody tr th:only-of-type {\n",
       "        vertical-align: middle;\n",
       "    }\n",
       "\n",
       "    .dataframe tbody tr th {\n",
       "        vertical-align: top;\n",
       "    }\n",
       "\n",
       "    .dataframe thead th {\n",
       "        text-align: right;\n",
       "    }\n",
       "</style>\n",
       "<table border=\"1\" class=\"dataframe\">\n",
       "  <thead>\n",
       "    <tr style=\"text-align: right;\">\n",
       "      <th></th>\n",
       "      <th>user</th>\n",
       "      <th>trd_times</th>\n",
       "      <th>total_count</th>\n",
       "      <th>B_out</th>\n",
       "      <th>C_in</th>\n",
       "      <th>out_count</th>\n",
       "      <th>in_count</th>\n",
       "    </tr>\n",
       "  </thead>\n",
       "  <tbody>\n",
       "    <tr>\n",
       "      <td>0</td>\n",
       "      <td>U712783</td>\n",
       "      <td>4861</td>\n",
       "      <td>-6711.07</td>\n",
       "      <td>25</td>\n",
       "      <td>1</td>\n",
       "      <td>488005.59</td>\n",
       "      <td>481294.52</td>\n",
       "    </tr>\n",
       "    <tr>\n",
       "      <td>1</td>\n",
       "      <td>U9EF083</td>\n",
       "      <td>1836</td>\n",
       "      <td>356904.56</td>\n",
       "      <td>19</td>\n",
       "      <td>149</td>\n",
       "      <td>4044394.56</td>\n",
       "      <td>4401299.12</td>\n",
       "    </tr>\n",
       "    <tr>\n",
       "      <td>2</td>\n",
       "      <td>U60405F</td>\n",
       "      <td>1257</td>\n",
       "      <td>-13440.31</td>\n",
       "      <td>14</td>\n",
       "      <td>5</td>\n",
       "      <td>3079613.19</td>\n",
       "      <td>3066172.88</td>\n",
       "    </tr>\n",
       "    <tr>\n",
       "      <td>3</td>\n",
       "      <td>U70EBFD</td>\n",
       "      <td>1093</td>\n",
       "      <td>8623.13</td>\n",
       "      <td>84</td>\n",
       "      <td>0</td>\n",
       "      <td>1251960.31</td>\n",
       "      <td>1260583.44</td>\n",
       "    </tr>\n",
       "    <tr>\n",
       "      <td>4</td>\n",
       "      <td>UA94395</td>\n",
       "      <td>1014</td>\n",
       "      <td>2442.08</td>\n",
       "      <td>3</td>\n",
       "      <td>0</td>\n",
       "      <td>1208216.04</td>\n",
       "      <td>1210658.12</td>\n",
       "    </tr>\n",
       "    <tr>\n",
       "      <td>...</td>\n",
       "      <td>...</td>\n",
       "      <td>...</td>\n",
       "      <td>...</td>\n",
       "      <td>...</td>\n",
       "      <td>...</td>\n",
       "      <td>...</td>\n",
       "      <td>...</td>\n",
       "    </tr>\n",
       "    <tr>\n",
       "      <td>4782</td>\n",
       "      <td>U61693B</td>\n",
       "      <td>1</td>\n",
       "      <td>0.07</td>\n",
       "      <td>0</td>\n",
       "      <td>0</td>\n",
       "      <td>0.00</td>\n",
       "      <td>0.07</td>\n",
       "    </tr>\n",
       "    <tr>\n",
       "      <td>4783</td>\n",
       "      <td>U54B80C</td>\n",
       "      <td>1</td>\n",
       "      <td>2.58</td>\n",
       "      <td>0</td>\n",
       "      <td>0</td>\n",
       "      <td>0.00</td>\n",
       "      <td>2.58</td>\n",
       "    </tr>\n",
       "    <tr>\n",
       "      <td>4784</td>\n",
       "      <td>U9241B9</td>\n",
       "      <td>1</td>\n",
       "      <td>0.09</td>\n",
       "      <td>0</td>\n",
       "      <td>0</td>\n",
       "      <td>0.00</td>\n",
       "      <td>0.09</td>\n",
       "    </tr>\n",
       "    <tr>\n",
       "      <td>4785</td>\n",
       "      <td>U6EBA82</td>\n",
       "      <td>1</td>\n",
       "      <td>34.80</td>\n",
       "      <td>1</td>\n",
       "      <td>0</td>\n",
       "      <td>0.00</td>\n",
       "      <td>34.80</td>\n",
       "    </tr>\n",
       "    <tr>\n",
       "      <td>4786</td>\n",
       "      <td>UB73EB7</td>\n",
       "      <td>1</td>\n",
       "      <td>-5540.00</td>\n",
       "      <td>1</td>\n",
       "      <td>0</td>\n",
       "      <td>5540.00</td>\n",
       "      <td>0.00</td>\n",
       "    </tr>\n",
       "  </tbody>\n",
       "</table>\n",
       "<p>4787 rows × 7 columns</p>\n",
       "</div>"
      ],
      "text/plain": [
       "         user  trd_times  total_count  B_out  C_in   out_count    in_count\n",
       "0     U712783       4861     -6711.07     25     1   488005.59   481294.52\n",
       "1     U9EF083       1836    356904.56     19   149  4044394.56  4401299.12\n",
       "2     U60405F       1257    -13440.31     14     5  3079613.19  3066172.88\n",
       "3     U70EBFD       1093      8623.13     84     0  1251960.31  1260583.44\n",
       "4     UA94395       1014      2442.08      3     0  1208216.04  1210658.12\n",
       "...       ...        ...          ...    ...   ...         ...         ...\n",
       "4782  U61693B          1         0.07      0     0        0.00        0.07\n",
       "4783  U54B80C          1         2.58      0     0        0.00        2.58\n",
       "4784  U9241B9          1         0.09      0     0        0.00        0.09\n",
       "4785  U6EBA82          1        34.80      1     0        0.00       34.80\n",
       "4786  UB73EB7          1     -5540.00      1     0     5540.00        0.00\n",
       "\n",
       "[4787 rows x 7 columns]"
      ]
     },
     "execution_count": 399,
     "metadata": {},
     "output_type": "execute_result"
    }
   ],
   "source": [
    "test_use_trd"
   ]
  },
  {
   "cell_type": "code",
   "execution_count": 403,
   "metadata": {},
   "outputs": [],
   "source": [
    "test_use_trd.to_csv('./评分数据集1/train_use_trd.csv', index=False)"
   ]
  },
  {
   "cell_type": "code",
   "execution_count": 34,
   "metadata": {},
   "outputs": [
    {
     "data": {
      "text/plain": [
       "(4787, 7)"
      ]
     },
     "execution_count": 34,
     "metadata": {},
     "output_type": "execute_result"
    }
   ],
   "source": [
    "test_use_trd.shape"
   ]
  },
  {
   "cell_type": "code",
   "execution_count": 26,
   "metadata": {},
   "outputs": [
    {
     "data": {
      "text/plain": [
       "(6000, 42)"
      ]
     },
     "execution_count": 26,
     "metadata": {},
     "output_type": "execute_result"
    }
   ],
   "source": [
    "test_tag.shape"
   ]
  },
  {
   "cell_type": "markdown",
   "metadata": {},
   "source": [
    "### 处理beh数据集"
   ]
  },
  {
   "cell_type": "code",
   "execution_count": 27,
   "metadata": {},
   "outputs": [],
   "source": [
    "user_pgTimes = pd.DataFrame(data_train_beh.id.value_counts())\n",
    "user_pgTimes['index'] = user_pgTimes.index\n",
    "user_pgTimes.index = range(len(user_pgTimes))"
   ]
  },
  {
   "cell_type": "code",
   "execution_count": 28,
   "metadata": {},
   "outputs": [],
   "source": [
    "user_pgTimes.columns = ['pg_times', 'user']\n",
    "user_pgTimes = user_pgTimes[['user', 'pg_times']]"
   ]
  },
  {
   "cell_type": "code",
   "execution_count": 30,
   "metadata": {},
   "outputs": [
    {
     "data": {
      "text/plain": [
       "(11913, 2)"
      ]
     },
     "execution_count": 30,
     "metadata": {},
     "output_type": "execute_result"
    }
   ],
   "source": [
    "user_pgTimes.shape"
   ]
  },
  {
   "cell_type": "code",
   "execution_count": 31,
   "metadata": {},
   "outputs": [
    {
     "data": {
      "text/plain": [
       "(31993, 7)"
      ]
     },
     "execution_count": 31,
     "metadata": {},
     "output_type": "execute_result"
    }
   ],
   "source": [
    "train_use_trd.shape"
   ]
  },
  {
   "cell_type": "code",
   "execution_count": 36,
   "metadata": {},
   "outputs": [
    {
     "data": {
      "text/plain": [
       "(39923, 43)"
      ]
     },
     "execution_count": 36,
     "metadata": {},
     "output_type": "execute_result"
    }
   ],
   "source": [
    "data_train_tag.shape"
   ]
  },
  {
   "cell_type": "markdown",
   "metadata": {},
   "source": [
    "### beh测试集"
   ]
  },
  {
   "cell_type": "code",
   "execution_count": 32,
   "metadata": {},
   "outputs": [
    {
     "data": {
      "text/plain": [
       "(1844, 2)"
      ]
     },
     "execution_count": 32,
     "metadata": {},
     "output_type": "execute_result"
    }
   ],
   "source": [
    "test_user_pgTimes = pd.DataFrame(test_beh.id.value_counts())\n",
    "test_user_pgTimes['index'] = test_user_pgTimes.index\n",
    "test_user_pgTimes.index = range(len(test_user_pgTimes))\n",
    "test_user_pgTimes.columns = ['pg_times', 'user']\n",
    "test_user_pgTimes = test_user_pgTimes[['user', 'pg_times']]\n",
    "test_user_pgTimes.shape"
   ]
  },
  {
   "cell_type": "code",
   "execution_count": 35,
   "metadata": {
    "scrolled": true
   },
   "outputs": [
    {
     "data": {
      "text/plain": [
       "(6000, 42)"
      ]
     },
     "execution_count": 35,
     "metadata": {},
     "output_type": "execute_result"
    }
   ],
   "source": [
    "test_tag.shape"
   ]
  },
  {
   "cell_type": "code",
   "execution_count": 37,
   "metadata": {},
   "outputs": [
    {
     "data": {
      "text/plain": [
       "(4787, 7)"
      ]
     },
     "execution_count": 37,
     "metadata": {},
     "output_type": "execute_result"
    }
   ],
   "source": [
    "test_use_trd.shape"
   ]
  },
  {
   "cell_type": "code",
   "execution_count": 43,
   "metadata": {},
   "outputs": [
    {
     "data": {
      "text/plain": [
       "2       53\n",
       "1       44\n",
       "4       37\n",
       "6       33\n",
       "3       32\n",
       "        ..\n",
       "245      1\n",
       "242      1\n",
       "237      1\n",
       "236      1\n",
       "1389     1\n",
       "Name: pg_times, Length: 328, dtype: int64"
      ]
     },
     "execution_count": 43,
     "metadata": {},
     "output_type": "execute_result"
    }
   ],
   "source": [
    "test_user_pgTimes.pg_times.value_counts()"
   ]
  },
  {
   "cell_type": "code",
   "execution_count": null,
   "metadata": {},
   "outputs": [],
   "source": []
  },
  {
   "cell_type": "markdown",
   "metadata": {},
   "source": [
    "### 处理tag数据集\n",
    "- 缺失值：edu_deg_cd;deg_cd;atdd_type\n",
    "- 删除\n"
   ]
  },
  {
   "cell_type": "code",
   "execution_count": 38,
   "metadata": {
    "collapsed": true
   },
   "outputs": [
    {
     "name": "stdout",
     "output_type": "stream",
     "text": [
      "<class 'pandas.core.frame.DataFrame'>\n",
      "RangeIndex: 39923 entries, 0 to 39922\n",
      "Data columns (total 43 columns):\n",
      "id                                 39923 non-null object\n",
      "flag                               39923 non-null int64\n",
      "gdr_cd                             39923 non-null object\n",
      "age                                39923 non-null int64\n",
      "mrg_situ_cd                        39923 non-null object\n",
      "edu_deg_cd                         27487 non-null object\n",
      "acdm_deg_cd                        39922 non-null object\n",
      "deg_cd                             18960 non-null object\n",
      "job_year                           39923 non-null object\n",
      "ic_ind                             39923 non-null object\n",
      "fr_or_sh_ind                       39923 non-null object\n",
      "dnl_mbl_bnk_ind                    39923 non-null object\n",
      "dnl_bind_cmb_lif_ind               39923 non-null object\n",
      "hav_car_grp_ind                    39923 non-null object\n",
      "hav_hou_grp_ind                    39923 non-null object\n",
      "l6mon_agn_ind                      39923 non-null object\n",
      "frs_agn_dt_cnt                     39923 non-null object\n",
      "vld_rsk_ases_ind                   39923 non-null object\n",
      "fin_rsk_ases_grd_cd                39923 non-null object\n",
      "confirm_rsk_ases_lvl_typ_cd        39923 non-null object\n",
      "cust_inv_rsk_endu_lvl_cd           39923 non-null object\n",
      "l6mon_daim_aum_cd                  39923 non-null int64\n",
      "tot_ast_lvl_cd                     39923 non-null object\n",
      "pot_ast_lvl_cd                     39923 non-null object\n",
      "bk1_cur_year_mon_avg_agn_amt_cd    39923 non-null int64\n",
      "l12mon_buy_fin_mng_whl_tms         39923 non-null object\n",
      "l12_mon_fnd_buy_whl_tms            39923 non-null object\n",
      "l12_mon_insu_buy_whl_tms           39923 non-null object\n",
      "l12_mon_gld_buy_whl_tms            39923 non-null object\n",
      "loan_act_ind                       39923 non-null object\n",
      "pl_crd_lmt_cd                      39923 non-null int64\n",
      "ovd_30d_loan_tot_cnt               39923 non-null object\n",
      "his_lng_ovd_day                    39923 non-null object\n",
      "hld_crd_card_grd_cd                39923 non-null object\n",
      "crd_card_act_ind                   39923 non-null object\n",
      "l1y_crd_card_csm_amt_dlm_cd        39923 non-null object\n",
      "atdd_type                          16266 non-null object\n",
      "perm_crd_lmt_cd                    39923 non-null int64\n",
      "cur_debit_cnt                      39923 non-null int64\n",
      "cur_credit_cnt                     39923 non-null int64\n",
      "cur_debit_min_opn_dt_cnt           39923 non-null int64\n",
      "cur_credit_min_opn_dt_cnt          39923 non-null int64\n",
      "cur_debit_crd_lvl                  39923 non-null int64\n",
      "dtypes: int64(11), object(32)\n",
      "memory usage: 13.1+ MB\n"
     ]
    }
   ],
   "source": [
    "data_train_tag.info()"
   ]
  },
  {
   "cell_type": "code",
   "execution_count": 39,
   "metadata": {
    "collapsed": true
   },
   "outputs": [
    {
     "data": {
      "text/plain": [
       "Index(['flag', 'age', 'l6mon_daim_aum_cd', 'bk1_cur_year_mon_avg_agn_amt_cd',\n",
       "       'pl_crd_lmt_cd', 'perm_crd_lmt_cd', 'cur_debit_cnt', 'cur_credit_cnt',\n",
       "       'cur_debit_min_opn_dt_cnt', 'cur_credit_min_opn_dt_cnt',\n",
       "       'cur_debit_crd_lvl'],\n",
       "      dtype='object')"
      ]
     },
     "execution_count": 39,
     "metadata": {},
     "output_type": "execute_result"
    }
   ],
   "source": [
    "numerical_cols = data_train_tag.select_dtypes(exclude='object').columns\n",
    "numerical_cols # 数值类型"
   ]
  },
  {
   "cell_type": "code",
   "execution_count": 40,
   "metadata": {
    "collapsed": true
   },
   "outputs": [
    {
     "data": {
      "text/plain": [
       "Index(['id', 'gdr_cd', 'mrg_situ_cd', 'edu_deg_cd', 'acdm_deg_cd', 'deg_cd',\n",
       "       'job_year', 'ic_ind', 'fr_or_sh_ind', 'dnl_mbl_bnk_ind',\n",
       "       'dnl_bind_cmb_lif_ind', 'hav_car_grp_ind', 'hav_hou_grp_ind',\n",
       "       'l6mon_agn_ind', 'frs_agn_dt_cnt', 'vld_rsk_ases_ind',\n",
       "       'fin_rsk_ases_grd_cd', 'confirm_rsk_ases_lvl_typ_cd',\n",
       "       'cust_inv_rsk_endu_lvl_cd', 'tot_ast_lvl_cd', 'pot_ast_lvl_cd',\n",
       "       'l12mon_buy_fin_mng_whl_tms', 'l12_mon_fnd_buy_whl_tms',\n",
       "       'l12_mon_insu_buy_whl_tms', 'l12_mon_gld_buy_whl_tms', 'loan_act_ind',\n",
       "       'ovd_30d_loan_tot_cnt', 'his_lng_ovd_day', 'hld_crd_card_grd_cd',\n",
       "       'crd_card_act_ind', 'l1y_crd_card_csm_amt_dlm_cd', 'atdd_type'],\n",
       "      dtype='object')"
      ]
     },
     "execution_count": 40,
     "metadata": {},
     "output_type": "execute_result"
    }
   ],
   "source": [
    "categorical_cols = data_train_tag.select_dtypes(include='object').columns\n",
    "categorical_cols"
   ]
  },
  {
   "cell_type": "code",
   "execution_count": 71,
   "metadata": {},
   "outputs": [],
   "source": [
    "del(data_train_tag_1)\n",
    "del(data_train)\n",
    "del(data_train_)"
   ]
  },
  {
   "cell_type": "code",
   "execution_count": 72,
   "metadata": {},
   "outputs": [],
   "source": [
    "data_train_tag_1 = data_train_tag.copy()"
   ]
  },
  {
   "cell_type": "code",
   "execution_count": 73,
   "metadata": {},
   "outputs": [],
   "source": [
    "# 填补缺失值\n",
    "data_train_tag_1.atdd_type.fillna(data_train_tag_1.atdd_type.mode()[0], inplace=True)\n",
    "data_train_tag_1.acdm_deg_cd.fillna(data_train_tag_1.acdm_deg_cd.mode()[0], inplace=True)"
   ]
  },
  {
   "cell_type": "code",
   "execution_count": 74,
   "metadata": {},
   "outputs": [],
   "source": [
    "# 删除deg_cd 和 edu_deg_cd两列\n",
    "data_train_tag_1.drop(['edu_deg_cd', 'deg_cd'], axis=1, inplace=True)"
   ]
  },
  {
   "cell_type": "code",
   "execution_count": 75,
   "metadata": {},
   "outputs": [
    {
     "data": {
      "text/plain": [
       "(39923, 41)"
      ]
     },
     "execution_count": 75,
     "metadata": {},
     "output_type": "execute_result"
    }
   ],
   "source": [
    "data_train_tag_1.shape"
   ]
  },
  {
   "cell_type": "code",
   "execution_count": 76,
   "metadata": {},
   "outputs": [
    {
     "data": {
      "text/plain": [
       "(31993, 7)"
      ]
     },
     "execution_count": 76,
     "metadata": {},
     "output_type": "execute_result"
    }
   ],
   "source": [
    "train_use_trd.shape"
   ]
  },
  {
   "cell_type": "code",
   "execution_count": 77,
   "metadata": {},
   "outputs": [
    {
     "data": {
      "text/plain": [
       "(39923, 47)"
      ]
     },
     "execution_count": 77,
     "metadata": {},
     "output_type": "execute_result"
    }
   ],
   "source": [
    "# 数据集合并\n",
    "data_train = pd.merge(data_train_tag_1, train_use_trd, how='left', left_on='id', right_on='user')\n",
    "data_train.drop(['user'], axis=1, inplace=True)\n",
    "data_train.shape"
   ]
  },
  {
   "cell_type": "code",
   "execution_count": 78,
   "metadata": {},
   "outputs": [
    {
     "data": {
      "text/plain": [
       "(39923, 48)"
      ]
     },
     "execution_count": 78,
     "metadata": {},
     "output_type": "execute_result"
    }
   ],
   "source": [
    "data_train = pd.merge(data_train, user_pgTimes, how='left', left_on='id', right_on='user')\n",
    "data_train.drop(['user'], axis=1, inplace=True)\n",
    "data_train.shape"
   ]
  },
  {
   "cell_type": "code",
   "execution_count": 79,
   "metadata": {
    "scrolled": false
   },
   "outputs": [
    {
     "data": {
      "text/plain": [
       "Index(['id', 'gdr_cd', 'mrg_situ_cd', 'acdm_deg_cd', 'job_year', 'ic_ind',\n",
       "       'fr_or_sh_ind', 'dnl_mbl_bnk_ind', 'dnl_bind_cmb_lif_ind',\n",
       "       'hav_car_grp_ind', 'hav_hou_grp_ind', 'l6mon_agn_ind', 'frs_agn_dt_cnt',\n",
       "       'vld_rsk_ases_ind', 'fin_rsk_ases_grd_cd',\n",
       "       'confirm_rsk_ases_lvl_typ_cd', 'cust_inv_rsk_endu_lvl_cd',\n",
       "       'tot_ast_lvl_cd', 'pot_ast_lvl_cd', 'l12mon_buy_fin_mng_whl_tms',\n",
       "       'l12_mon_fnd_buy_whl_tms', 'l12_mon_insu_buy_whl_tms',\n",
       "       'l12_mon_gld_buy_whl_tms', 'loan_act_ind', 'ovd_30d_loan_tot_cnt',\n",
       "       'his_lng_ovd_day', 'hld_crd_card_grd_cd', 'crd_card_act_ind',\n",
       "       'l1y_crd_card_csm_amt_dlm_cd', 'atdd_type'],\n",
       "      dtype='object')"
      ]
     },
     "execution_count": 79,
     "metadata": {},
     "output_type": "execute_result"
    }
   ],
   "source": [
    "categorical_cols = data_train_tag_1.select_dtypes(include='object').columns\n",
    "categorical_cols"
   ]
  },
  {
   "cell_type": "code",
   "execution_count": 80,
   "metadata": {},
   "outputs": [],
   "source": [
    "from sklearn.preprocessing import OrdinalEncoder"
   ]
  },
  {
   "cell_type": "code",
   "execution_count": 81,
   "metadata": {},
   "outputs": [],
   "source": [
    "categorical_num = ['job_year', 'frs_agn_dt_cnt', 'l12mon_buy_fin_mng_whl_tms',\n",
    "       'l12_mon_fnd_buy_whl_tms', 'l12_mon_insu_buy_whl_tms',\n",
    "       'l12_mon_gld_buy_whl_tms', 'ovd_30d_loan_tot_cnt',\n",
    "       'his_lng_ovd_day']\n",
    "categorical_ind = [x for x in categorical_cols if x not in categorical_num]"
   ]
  },
  {
   "cell_type": "code",
   "execution_count": 82,
   "metadata": {},
   "outputs": [
    {
     "data": {
      "text/plain": [
       "Index(['flag', 'age', 'l6mon_daim_aum_cd', 'bk1_cur_year_mon_avg_agn_amt_cd',\n",
       "       'pl_crd_lmt_cd', 'perm_crd_lmt_cd', 'cur_debit_cnt', 'cur_credit_cnt',\n",
       "       'cur_debit_min_opn_dt_cnt', 'cur_credit_min_opn_dt_cnt',\n",
       "       'cur_debit_crd_lvl'],\n",
       "      dtype='object')"
      ]
     },
     "execution_count": 82,
     "metadata": {},
     "output_type": "execute_result"
    }
   ],
   "source": [
    "numerical_cols = data_train_tag_1.select_dtypes(exclude='object').columns\n",
    "numerical_cols # 数值类型"
   ]
  },
  {
   "cell_type": "code",
   "execution_count": 83,
   "metadata": {},
   "outputs": [],
   "source": [
    "data_train_ = data_train.copy()"
   ]
  },
  {
   "cell_type": "code",
   "execution_count": 87,
   "metadata": {},
   "outputs": [],
   "source": [
    "# 对tag表标识部分的特征进行处理\n",
    "\n",
    "oe = OrdinalEncoder().fit(data_train_.loc[:, categorical_ind[1:]])\n",
    "data_train_.loc[:, categorical_ind[1:]] = oe.transform(data_train_.loc[:, categorical_ind[1:]])    "
   ]
  },
  {
   "cell_type": "code",
   "execution_count": null,
   "metadata": {},
   "outputs": [],
   "source": []
  },
  {
   "cell_type": "code",
   "execution_count": 93,
   "metadata": {
    "scrolled": true
   },
   "outputs": [
    {
     "data": {
      "text/plain": [
       "['job_year',\n",
       " 'frs_agn_dt_cnt',\n",
       " 'l12mon_buy_fin_mng_whl_tms',\n",
       " 'l12_mon_fnd_buy_whl_tms',\n",
       " 'l12_mon_insu_buy_whl_tms',\n",
       " 'l12_mon_gld_buy_whl_tms',\n",
       " 'ovd_30d_loan_tot_cnt',\n",
       " 'his_lng_ovd_day']"
      ]
     },
     "execution_count": 93,
     "metadata": {},
     "output_type": "execute_result"
    }
   ],
   "source": [
    "categorical_num"
   ]
  },
  {
   "cell_type": "code",
   "execution_count": 92,
   "metadata": {},
   "outputs": [],
   "source": [
    "# 对数值部分进行处理\n",
    "from sklearn.impute import SimpleImputer"
   ]
  },
  {
   "cell_type": "code",
   "execution_count": 112,
   "metadata": {},
   "outputs": [],
   "source": [
    "imp_mode = SimpleImputer(missing_values = r'\\N', strategy='most_frequent')\n",
    "imp_mode = imp_mode.fit(data_train_.loc[:, categorical_num[1:]])\n",
    "data_train_.loc[:, categorical_num[1:]] = imp_mode.transform(data_train_.loc[:, categorical_num[1:]])"
   ]
  },
  {
   "cell_type": "code",
   "execution_count": 121,
   "metadata": {},
   "outputs": [],
   "source": [
    "# 将上述列转换为数字类型\n",
    "data_train_.loc[:, categorical_num[1:]] = data_train_.loc[:, categorical_num[1:]].astype(int)"
   ]
  },
  {
   "cell_type": "code",
   "execution_count": 132,
   "metadata": {},
   "outputs": [],
   "source": [
    "# 对job_year填充均值\n",
    "X = np.array(data_train_.job_year).reshape(-1,1)\n",
    "imp = SimpleImputer(missing_values= r'\\N', strategy='constant', fill_value=np.nan)\n",
    "X = imp.fit_transform(X)\n",
    "imp_mean = SimpleImputer(missing_values=np.nan, strategy='mean')\n",
    "imp_mean = imp_mean.fit(X)\n",
    "data_train_.job_year = pd.DataFrame(imp_mean.transform(X))"
   ]
  },
  {
   "cell_type": "code",
   "execution_count": 134,
   "metadata": {},
   "outputs": [
    {
     "data": {
      "text/plain": [
       "Index(['id'], dtype='object')"
      ]
     },
     "execution_count": 134,
     "metadata": {},
     "output_type": "execute_result"
    }
   ],
   "source": [
    "categorical_cols = data_train_.select_dtypes(include='object').columns\n",
    "categorical_cols"
   ]
  },
  {
   "cell_type": "markdown",
   "metadata": {},
   "source": [
    "### 对测试集tag进行处理"
   ]
  },
  {
   "cell_type": "code",
   "execution_count": 135,
   "metadata": {
    "collapsed": true
   },
   "outputs": [
    {
     "name": "stdout",
     "output_type": "stream",
     "text": [
      "<class 'pandas.core.frame.DataFrame'>\n",
      "RangeIndex: 6000 entries, 0 to 5999\n",
      "Data columns (total 42 columns):\n",
      "id                                 6000 non-null object\n",
      "gdr_cd                             6000 non-null object\n",
      "age                                6000 non-null int64\n",
      "mrg_situ_cd                        6000 non-null object\n",
      "edu_deg_cd                         4148 non-null object\n",
      "acdm_deg_cd                        6000 non-null object\n",
      "deg_cd                             2867 non-null object\n",
      "job_year                           6000 non-null object\n",
      "ic_ind                             6000 non-null object\n",
      "fr_or_sh_ind                       6000 non-null object\n",
      "dnl_mbl_bnk_ind                    6000 non-null object\n",
      "dnl_bind_cmb_lif_ind               6000 non-null object\n",
      "hav_car_grp_ind                    6000 non-null object\n",
      "hav_hou_grp_ind                    6000 non-null object\n",
      "l6mon_agn_ind                      6000 non-null object\n",
      "frs_agn_dt_cnt                     6000 non-null object\n",
      "vld_rsk_ases_ind                   6000 non-null object\n",
      "fin_rsk_ases_grd_cd                6000 non-null object\n",
      "confirm_rsk_ases_lvl_typ_cd        6000 non-null object\n",
      "cust_inv_rsk_endu_lvl_cd           6000 non-null object\n",
      "l6mon_daim_aum_cd                  6000 non-null int64\n",
      "tot_ast_lvl_cd                     6000 non-null object\n",
      "pot_ast_lvl_cd                     6000 non-null object\n",
      "bk1_cur_year_mon_avg_agn_amt_cd    6000 non-null int64\n",
      "l12mon_buy_fin_mng_whl_tms         6000 non-null object\n",
      "l12_mon_fnd_buy_whl_tms            6000 non-null object\n",
      "l12_mon_insu_buy_whl_tms           6000 non-null object\n",
      "l12_mon_gld_buy_whl_tms            6000 non-null object\n",
      "loan_act_ind                       6000 non-null object\n",
      "pl_crd_lmt_cd                      6000 non-null int64\n",
      "ovd_30d_loan_tot_cnt               6000 non-null object\n",
      "his_lng_ovd_day                    6000 non-null object\n",
      "hld_crd_card_grd_cd                6000 non-null object\n",
      "crd_card_act_ind                   6000 non-null object\n",
      "l1y_crd_card_csm_amt_dlm_cd        6000 non-null object\n",
      "atdd_type                          2498 non-null float64\n",
      "perm_crd_lmt_cd                    6000 non-null int64\n",
      "cur_debit_cnt                      6000 non-null int64\n",
      "cur_credit_cnt                     6000 non-null int64\n",
      "cur_debit_min_opn_dt_cnt           6000 non-null int64\n",
      "cur_credit_min_opn_dt_cnt          6000 non-null int64\n",
      "cur_debit_crd_lvl                  6000 non-null int64\n",
      "dtypes: float64(1), int64(10), object(31)\n",
      "memory usage: 1.9+ MB\n"
     ]
    }
   ],
   "source": [
    "test_tag.info()"
   ]
  },
  {
   "cell_type": "code",
   "execution_count": 136,
   "metadata": {},
   "outputs": [],
   "source": [
    "test_tag_1 = test_tag.copy()"
   ]
  },
  {
   "cell_type": "code",
   "execution_count": 137,
   "metadata": {},
   "outputs": [],
   "source": [
    "# 填补缺失值\n",
    "test_tag_1.atdd_type.fillna(test_tag_1.atdd_type.mode()[0], inplace=True)\n",
    "test_tag_1.acdm_deg_cd.fillna(test_tag_1.acdm_deg_cd.mode()[0], inplace=True)\n",
    "# 删除deg_cd 和 edu_deg_cd两列\n",
    "test_tag_1.drop(['edu_deg_cd', 'deg_cd'], axis=1, inplace=True)"
   ]
  },
  {
   "cell_type": "code",
   "execution_count": 138,
   "metadata": {},
   "outputs": [
    {
     "data": {
      "text/plain": [
       "(6000, 47)"
      ]
     },
     "execution_count": 138,
     "metadata": {},
     "output_type": "execute_result"
    }
   ],
   "source": [
    "# 数据集合并\n",
    "data_test = pd.merge(test_tag_1, test_use_trd, how='left', left_on='id', right_on='user')\n",
    "data_test.drop(['user'], axis=1, inplace=True)\n",
    "data_test = pd.merge(data_test, test_user_pgTimes, how='left', left_on='id', right_on='user')\n",
    "data_test.drop(['user'], axis=1, inplace=True)\n",
    "data_test.shape"
   ]
  },
  {
   "cell_type": "code",
   "execution_count": 141,
   "metadata": {},
   "outputs": [],
   "source": [
    "data_test_ = data_test.copy()"
   ]
  },
  {
   "cell_type": "code",
   "execution_count": 142,
   "metadata": {},
   "outputs": [],
   "source": [
    "# 对tag表标识部分的特征进行处理，数值化分类\n",
    "\n",
    "oe = OrdinalEncoder().fit(data_test_.loc[:, categorical_ind[1:]])\n",
    "data_test_.loc[:, categorical_ind[1:]] = oe.transform(data_test_.loc[:, categorical_ind[1:]])    "
   ]
  },
  {
   "cell_type": "code",
   "execution_count": 143,
   "metadata": {},
   "outputs": [],
   "source": [
    "# 数值部分用训练集众数和均值填充\n",
    "data_test_.loc[:, categorical_num[1:]] = imp_mode.transform(data_test_.loc[:, categorical_num[1:]])"
   ]
  },
  {
   "cell_type": "code",
   "execution_count": 144,
   "metadata": {},
   "outputs": [],
   "source": [
    "X1 = np.array(data_test_.job_year).reshape(-1,1)\n",
    "X1 = SimpleImputer(missing_values= r'\\N', strategy='constant', fill_value=np.nan).fit_transform(X1)\n",
    "data_test_.job_year = pd.DataFrame(imp_mean.transform(X1))"
   ]
  },
  {
   "cell_type": "code",
   "execution_count": 147,
   "metadata": {},
   "outputs": [],
   "source": [
    "# 将上述列转换为数字类型\n",
    "data_test_.loc[:, categorical_num[1:]] = data_test_.loc[:, categorical_num[1:]].astype(int)"
   ]
  },
  {
   "cell_type": "code",
   "execution_count": 148,
   "metadata": {
    "scrolled": true
   },
   "outputs": [
    {
     "data": {
      "text/plain": [
       "Index(['id'], dtype='object')"
      ]
     },
     "execution_count": 148,
     "metadata": {},
     "output_type": "execute_result"
    }
   ],
   "source": [
    "categorical_cols = data_test_.select_dtypes(include='object').columns\n",
    "categorical_cols"
   ]
  },
  {
   "cell_type": "markdown",
   "metadata": {},
   "source": [
    "### 对训练集的后两部分进行填充（后做）\n",
    "- pgTimes用众数填充\n",
    "- \n",
    "待处理"
   ]
  },
  {
   "cell_type": "code",
   "execution_count": 150,
   "metadata": {
    "scrolled": true
   },
   "outputs": [
    {
     "data": {
      "text/plain": [
       "id                                     0\n",
       "flag                                   0\n",
       "gdr_cd                                 0\n",
       "age                                    0\n",
       "mrg_situ_cd                            0\n",
       "acdm_deg_cd                            0\n",
       "job_year                               0\n",
       "ic_ind                                 0\n",
       "fr_or_sh_ind                           0\n",
       "dnl_mbl_bnk_ind                        0\n",
       "dnl_bind_cmb_lif_ind                   0\n",
       "hav_car_grp_ind                        0\n",
       "hav_hou_grp_ind                        0\n",
       "l6mon_agn_ind                          0\n",
       "frs_agn_dt_cnt                         0\n",
       "vld_rsk_ases_ind                       0\n",
       "fin_rsk_ases_grd_cd                    0\n",
       "confirm_rsk_ases_lvl_typ_cd            0\n",
       "cust_inv_rsk_endu_lvl_cd               0\n",
       "l6mon_daim_aum_cd                      0\n",
       "tot_ast_lvl_cd                         0\n",
       "pot_ast_lvl_cd                         0\n",
       "bk1_cur_year_mon_avg_agn_amt_cd        0\n",
       "l12mon_buy_fin_mng_whl_tms             0\n",
       "l12_mon_fnd_buy_whl_tms                0\n",
       "l12_mon_insu_buy_whl_tms               0\n",
       "l12_mon_gld_buy_whl_tms                0\n",
       "loan_act_ind                           0\n",
       "pl_crd_lmt_cd                          0\n",
       "ovd_30d_loan_tot_cnt                   0\n",
       "his_lng_ovd_day                        0\n",
       "hld_crd_card_grd_cd                    0\n",
       "crd_card_act_ind                       0\n",
       "l1y_crd_card_csm_amt_dlm_cd            0\n",
       "atdd_type                              0\n",
       "perm_crd_lmt_cd                        0\n",
       "cur_debit_cnt                          0\n",
       "cur_credit_cnt                         0\n",
       "cur_debit_min_opn_dt_cnt               0\n",
       "cur_credit_min_opn_dt_cnt              0\n",
       "cur_debit_crd_lvl                      0\n",
       "trd_times                           7930\n",
       "total_count                         7930\n",
       "B_out                               7930\n",
       "C_in                                7930\n",
       "out_count                           7930\n",
       "in_count                            7930\n",
       "pg_times                           28010\n",
       "dtype: int64"
      ]
     },
     "execution_count": 150,
     "metadata": {},
     "output_type": "execute_result"
    }
   ],
   "source": [
    "data_train_.isnull().sum()"
   ]
  },
  {
   "cell_type": "markdown",
   "metadata": {},
   "source": [
    "### 划分训练集和测试集"
   ]
  },
  {
   "cell_type": "code",
   "execution_count": 156,
   "metadata": {
    "collapsed": true
   },
   "outputs": [
    {
     "data": {
      "text/html": [
       "<div>\n",
       "<style scoped>\n",
       "    .dataframe tbody tr th:only-of-type {\n",
       "        vertical-align: middle;\n",
       "    }\n",
       "\n",
       "    .dataframe tbody tr th {\n",
       "        vertical-align: top;\n",
       "    }\n",
       "\n",
       "    .dataframe thead th {\n",
       "        text-align: right;\n",
       "    }\n",
       "</style>\n",
       "<table border=\"1\" class=\"dataframe\">\n",
       "  <thead>\n",
       "    <tr style=\"text-align: right;\">\n",
       "      <th></th>\n",
       "      <th>id</th>\n",
       "      <th>flag</th>\n",
       "      <th>gdr_cd</th>\n",
       "      <th>age</th>\n",
       "      <th>mrg_situ_cd</th>\n",
       "      <th>acdm_deg_cd</th>\n",
       "      <th>job_year</th>\n",
       "      <th>ic_ind</th>\n",
       "      <th>fr_or_sh_ind</th>\n",
       "      <th>dnl_mbl_bnk_ind</th>\n",
       "      <th>...</th>\n",
       "      <th>cur_debit_min_opn_dt_cnt</th>\n",
       "      <th>cur_credit_min_opn_dt_cnt</th>\n",
       "      <th>cur_debit_crd_lvl</th>\n",
       "      <th>trd_times</th>\n",
       "      <th>total_count</th>\n",
       "      <th>B_out</th>\n",
       "      <th>C_in</th>\n",
       "      <th>out_count</th>\n",
       "      <th>in_count</th>\n",
       "      <th>pg_times</th>\n",
       "    </tr>\n",
       "  </thead>\n",
       "  <tbody>\n",
       "    <tr>\n",
       "      <td>0</td>\n",
       "      <td>U7A4BAD</td>\n",
       "      <td>0</td>\n",
       "      <td>1.0</td>\n",
       "      <td>41</td>\n",
       "      <td>1.0</td>\n",
       "      <td>6.0</td>\n",
       "      <td>3.0</td>\n",
       "      <td>0.0</td>\n",
       "      <td>0.0</td>\n",
       "      <td>0.0</td>\n",
       "      <td>...</td>\n",
       "      <td>3492</td>\n",
       "      <td>-1</td>\n",
       "      <td>10</td>\n",
       "      <td>3.0</td>\n",
       "      <td>2400.00</td>\n",
       "      <td>1.0</td>\n",
       "      <td>2.0</td>\n",
       "      <td>15000.00</td>\n",
       "      <td>17400.00</td>\n",
       "      <td>NaN</td>\n",
       "    </tr>\n",
       "    <tr>\n",
       "      <td>1</td>\n",
       "      <td>U557810</td>\n",
       "      <td>0</td>\n",
       "      <td>1.0</td>\n",
       "      <td>35</td>\n",
       "      <td>0.0</td>\n",
       "      <td>5.0</td>\n",
       "      <td>4.0</td>\n",
       "      <td>0.0</td>\n",
       "      <td>0.0</td>\n",
       "      <td>0.0</td>\n",
       "      <td>...</td>\n",
       "      <td>4575</td>\n",
       "      <td>-1</td>\n",
       "      <td>10</td>\n",
       "      <td>NaN</td>\n",
       "      <td>NaN</td>\n",
       "      <td>NaN</td>\n",
       "      <td>NaN</td>\n",
       "      <td>NaN</td>\n",
       "      <td>NaN</td>\n",
       "      <td>NaN</td>\n",
       "    </tr>\n",
       "    <tr>\n",
       "      <td>2</td>\n",
       "      <td>U1E9240</td>\n",
       "      <td>0</td>\n",
       "      <td>1.0</td>\n",
       "      <td>53</td>\n",
       "      <td>1.0</td>\n",
       "      <td>2.0</td>\n",
       "      <td>9.0</td>\n",
       "      <td>0.0</td>\n",
       "      <td>0.0</td>\n",
       "      <td>1.0</td>\n",
       "      <td>...</td>\n",
       "      <td>4894</td>\n",
       "      <td>-1</td>\n",
       "      <td>40</td>\n",
       "      <td>17.0</td>\n",
       "      <td>-25439.96</td>\n",
       "      <td>6.0</td>\n",
       "      <td>11.0</td>\n",
       "      <td>131158.00</td>\n",
       "      <td>105718.04</td>\n",
       "      <td>35.0</td>\n",
       "    </tr>\n",
       "    <tr>\n",
       "      <td>3</td>\n",
       "      <td>U6DED00</td>\n",
       "      <td>0</td>\n",
       "      <td>0.0</td>\n",
       "      <td>41</td>\n",
       "      <td>1.0</td>\n",
       "      <td>6.0</td>\n",
       "      <td>0.0</td>\n",
       "      <td>0.0</td>\n",
       "      <td>0.0</td>\n",
       "      <td>0.0</td>\n",
       "      <td>...</td>\n",
       "      <td>4938</td>\n",
       "      <td>-1</td>\n",
       "      <td>10</td>\n",
       "      <td>NaN</td>\n",
       "      <td>NaN</td>\n",
       "      <td>NaN</td>\n",
       "      <td>NaN</td>\n",
       "      <td>NaN</td>\n",
       "      <td>NaN</td>\n",
       "      <td>NaN</td>\n",
       "    </tr>\n",
       "    <tr>\n",
       "      <td>4</td>\n",
       "      <td>UDA8E28</td>\n",
       "      <td>0</td>\n",
       "      <td>0.0</td>\n",
       "      <td>42</td>\n",
       "      <td>1.0</td>\n",
       "      <td>6.0</td>\n",
       "      <td>3.0</td>\n",
       "      <td>1.0</td>\n",
       "      <td>1.0</td>\n",
       "      <td>1.0</td>\n",
       "      <td>...</td>\n",
       "      <td>2378</td>\n",
       "      <td>-1</td>\n",
       "      <td>20</td>\n",
       "      <td>18.0</td>\n",
       "      <td>9089.51</td>\n",
       "      <td>5.0</td>\n",
       "      <td>13.0</td>\n",
       "      <td>70416.04</td>\n",
       "      <td>79505.55</td>\n",
       "      <td>22.0</td>\n",
       "    </tr>\n",
       "  </tbody>\n",
       "</table>\n",
       "<p>5 rows × 48 columns</p>\n",
       "</div>"
      ],
      "text/plain": [
       "        id  flag  gdr_cd  age  mrg_situ_cd  acdm_deg_cd  job_year  ic_ind  \\\n",
       "0  U7A4BAD     0     1.0   41          1.0          6.0       3.0     0.0   \n",
       "1  U557810     0     1.0   35          0.0          5.0       4.0     0.0   \n",
       "2  U1E9240     0     1.0   53          1.0          2.0       9.0     0.0   \n",
       "3  U6DED00     0     0.0   41          1.0          6.0       0.0     0.0   \n",
       "4  UDA8E28     0     0.0   42          1.0          6.0       3.0     1.0   \n",
       "\n",
       "   fr_or_sh_ind  dnl_mbl_bnk_ind  ...  cur_debit_min_opn_dt_cnt  \\\n",
       "0           0.0              0.0  ...                      3492   \n",
       "1           0.0              0.0  ...                      4575   \n",
       "2           0.0              1.0  ...                      4894   \n",
       "3           0.0              0.0  ...                      4938   \n",
       "4           1.0              1.0  ...                      2378   \n",
       "\n",
       "   cur_credit_min_opn_dt_cnt  cur_debit_crd_lvl  trd_times  total_count  \\\n",
       "0                         -1                 10        3.0      2400.00   \n",
       "1                         -1                 10        NaN          NaN   \n",
       "2                         -1                 40       17.0    -25439.96   \n",
       "3                         -1                 10        NaN          NaN   \n",
       "4                         -1                 20       18.0      9089.51   \n",
       "\n",
       "   B_out  C_in  out_count   in_count  pg_times  \n",
       "0    1.0   2.0   15000.00   17400.00       NaN  \n",
       "1    NaN   NaN        NaN        NaN       NaN  \n",
       "2    6.0  11.0  131158.00  105718.04      35.0  \n",
       "3    NaN   NaN        NaN        NaN       NaN  \n",
       "4    5.0  13.0   70416.04   79505.55      22.0  \n",
       "\n",
       "[5 rows x 48 columns]"
      ]
     },
     "execution_count": 156,
     "metadata": {},
     "output_type": "execute_result"
    }
   ],
   "source": [
    "data_train_.head()"
   ]
  },
  {
   "cell_type": "code",
   "execution_count": 362,
   "metadata": {},
   "outputs": [],
   "source": [
    "data_train_.pg_times.fillna(data_train_.pg_times.mode()[0], inplace=True)"
   ]
  },
  {
   "cell_type": "code",
   "execution_count": 364,
   "metadata": {},
   "outputs": [
    {
     "data": {
      "text/html": [
       "<div>\n",
       "<style scoped>\n",
       "    .dataframe tbody tr th:only-of-type {\n",
       "        vertical-align: middle;\n",
       "    }\n",
       "\n",
       "    .dataframe tbody tr th {\n",
       "        vertical-align: top;\n",
       "    }\n",
       "\n",
       "    .dataframe thead th {\n",
       "        text-align: right;\n",
       "    }\n",
       "</style>\n",
       "<table border=\"1\" class=\"dataframe\">\n",
       "  <thead>\n",
       "    <tr style=\"text-align: right;\">\n",
       "      <th></th>\n",
       "      <th>trd_times</th>\n",
       "      <th>total_count</th>\n",
       "      <th>B_out</th>\n",
       "      <th>C_in</th>\n",
       "      <th>out_count</th>\n",
       "      <th>in_count</th>\n",
       "    </tr>\n",
       "  </thead>\n",
       "  <tbody>\n",
       "    <tr>\n",
       "      <td>count</td>\n",
       "      <td>31993.000000</td>\n",
       "      <td>3.199300e+04</td>\n",
       "      <td>31993.000000</td>\n",
       "      <td>31993.000000</td>\n",
       "      <td>3.199300e+04</td>\n",
       "      <td>3.199300e+04</td>\n",
       "    </tr>\n",
       "    <tr>\n",
       "      <td>mean</td>\n",
       "      <td>42.734692</td>\n",
       "      <td>2.090986e+02</td>\n",
       "      <td>33.386022</td>\n",
       "      <td>9.348670</td>\n",
       "      <td>7.633457e+04</td>\n",
       "      <td>7.654367e+04</td>\n",
       "    </tr>\n",
       "    <tr>\n",
       "      <td>std</td>\n",
       "      <td>87.548169</td>\n",
       "      <td>1.200153e+05</td>\n",
       "      <td>71.065975</td>\n",
       "      <td>26.738442</td>\n",
       "      <td>7.470568e+05</td>\n",
       "      <td>7.518721e+05</td>\n",
       "    </tr>\n",
       "    <tr>\n",
       "      <td>min</td>\n",
       "      <td>1.000000</td>\n",
       "      <td>-9.997652e+06</td>\n",
       "      <td>0.000000</td>\n",
       "      <td>0.000000</td>\n",
       "      <td>0.000000e+00</td>\n",
       "      <td>0.000000e+00</td>\n",
       "    </tr>\n",
       "    <tr>\n",
       "      <td>25%</td>\n",
       "      <td>5.000000</td>\n",
       "      <td>-1.480500e+03</td>\n",
       "      <td>3.000000</td>\n",
       "      <td>2.000000</td>\n",
       "      <td>1.000000e+03</td>\n",
       "      <td>8.400000e+02</td>\n",
       "    </tr>\n",
       "    <tr>\n",
       "      <td>50%</td>\n",
       "      <td>15.000000</td>\n",
       "      <td>0.000000e+00</td>\n",
       "      <td>10.000000</td>\n",
       "      <td>4.000000</td>\n",
       "      <td>6.737270e+03</td>\n",
       "      <td>6.436810e+03</td>\n",
       "    </tr>\n",
       "    <tr>\n",
       "      <td>75%</td>\n",
       "      <td>46.000000</td>\n",
       "      <td>1.039630e+03</td>\n",
       "      <td>35.000000</td>\n",
       "      <td>9.000000</td>\n",
       "      <td>2.623834e+04</td>\n",
       "      <td>2.630987e+04</td>\n",
       "    </tr>\n",
       "    <tr>\n",
       "      <td>max</td>\n",
       "      <td>5836.000000</td>\n",
       "      <td>9.916500e+06</td>\n",
       "      <td>5693.000000</td>\n",
       "      <td>1608.000000</td>\n",
       "      <td>7.836404e+07</td>\n",
       "      <td>7.835568e+07</td>\n",
       "    </tr>\n",
       "  </tbody>\n",
       "</table>\n",
       "</div>"
      ],
      "text/plain": [
       "          trd_times   total_count         B_out          C_in     out_count  \\\n",
       "count  31993.000000  3.199300e+04  31993.000000  31993.000000  3.199300e+04   \n",
       "mean      42.734692  2.090986e+02     33.386022      9.348670  7.633457e+04   \n",
       "std       87.548169  1.200153e+05     71.065975     26.738442  7.470568e+05   \n",
       "min        1.000000 -9.997652e+06      0.000000      0.000000  0.000000e+00   \n",
       "25%        5.000000 -1.480500e+03      3.000000      2.000000  1.000000e+03   \n",
       "50%       15.000000  0.000000e+00     10.000000      4.000000  6.737270e+03   \n",
       "75%       46.000000  1.039630e+03     35.000000      9.000000  2.623834e+04   \n",
       "max     5836.000000  9.916500e+06   5693.000000   1608.000000  7.836404e+07   \n",
       "\n",
       "           in_count  \n",
       "count  3.199300e+04  \n",
       "mean   7.654367e+04  \n",
       "std    7.518721e+05  \n",
       "min    0.000000e+00  \n",
       "25%    8.400000e+02  \n",
       "50%    6.436810e+03  \n",
       "75%    2.630987e+04  \n",
       "max    7.835568e+07  "
      ]
     },
     "execution_count": 364,
     "metadata": {},
     "output_type": "execute_result"
    }
   ],
   "source": [
    "data_train_.loc[:, ['trd_times', 'total_count', 'B_out', 'C_in', 'out_count', 'in_count']].describe()"
   ]
  },
  {
   "cell_type": "code",
   "execution_count": 363,
   "metadata": {},
   "outputs": [
    {
     "data": {
      "text/plain": [
       "id                                    0\n",
       "flag                                  0\n",
       "gdr_cd                                0\n",
       "age                                   0\n",
       "mrg_situ_cd                           0\n",
       "acdm_deg_cd                           0\n",
       "job_year                              0\n",
       "ic_ind                                0\n",
       "fr_or_sh_ind                          0\n",
       "dnl_mbl_bnk_ind                       0\n",
       "dnl_bind_cmb_lif_ind                  0\n",
       "hav_car_grp_ind                       0\n",
       "hav_hou_grp_ind                       0\n",
       "l6mon_agn_ind                         0\n",
       "frs_agn_dt_cnt                        0\n",
       "vld_rsk_ases_ind                      0\n",
       "fin_rsk_ases_grd_cd                   0\n",
       "confirm_rsk_ases_lvl_typ_cd           0\n",
       "cust_inv_rsk_endu_lvl_cd              0\n",
       "l6mon_daim_aum_cd                     0\n",
       "tot_ast_lvl_cd                        0\n",
       "pot_ast_lvl_cd                        0\n",
       "bk1_cur_year_mon_avg_agn_amt_cd       0\n",
       "l12mon_buy_fin_mng_whl_tms            0\n",
       "l12_mon_fnd_buy_whl_tms               0\n",
       "l12_mon_insu_buy_whl_tms              0\n",
       "l12_mon_gld_buy_whl_tms               0\n",
       "loan_act_ind                          0\n",
       "pl_crd_lmt_cd                         0\n",
       "ovd_30d_loan_tot_cnt                  0\n",
       "his_lng_ovd_day                       0\n",
       "hld_crd_card_grd_cd                   0\n",
       "crd_card_act_ind                      0\n",
       "l1y_crd_card_csm_amt_dlm_cd           0\n",
       "atdd_type                             0\n",
       "perm_crd_lmt_cd                       0\n",
       "cur_debit_cnt                         0\n",
       "cur_credit_cnt                        0\n",
       "cur_debit_min_opn_dt_cnt              0\n",
       "cur_credit_min_opn_dt_cnt             0\n",
       "cur_debit_crd_lvl                     0\n",
       "trd_times                          7930\n",
       "total_count                        7930\n",
       "B_out                              7930\n",
       "C_in                               7930\n",
       "out_count                          7930\n",
       "in_count                           7930\n",
       "pg_times                              0\n",
       "dtype: int64"
      ]
     },
     "execution_count": 363,
     "metadata": {},
     "output_type": "execute_result"
    }
   ],
   "source": [
    "data_train_.isnull().sum()"
   ]
  },
  {
   "cell_type": "code",
   "execution_count": 365,
   "metadata": {},
   "outputs": [],
   "source": [
    "X, y = data_train_.iloc[:,2:], data_train_['flag']"
   ]
  },
  {
   "cell_type": "code",
   "execution_count": 366,
   "metadata": {},
   "outputs": [],
   "source": [
    "Xtrain, Xtest, Ytrain, Ytest = train_test_split(X, y, test_size=0.3, random_state=0)"
   ]
  },
  {
   "cell_type": "code",
   "execution_count": 367,
   "metadata": {},
   "outputs": [],
   "source": [
    "import xgboost as xgb"
   ]
  },
  {
   "cell_type": "code",
   "execution_count": 368,
   "metadata": {},
   "outputs": [],
   "source": [
    "dtrain = xgb.DMatrix(Xtrain, Ytrain)\n",
    "dtest = xgb.DMatrix(Xtest, Ytest)"
   ]
  },
  {
   "cell_type": "code",
   "execution_count": 369,
   "metadata": {},
   "outputs": [],
   "source": [
    "from time import time\n",
    "import datetime"
   ]
  },
  {
   "cell_type": "code",
   "execution_count": 395,
   "metadata": {},
   "outputs": [
    {
     "name": "stdout",
     "output_type": "stream",
     "text": [
      "00:26:758960\n",
      "00:14:024677\n",
      "00:14:155536\n"
     ]
    },
    {
     "data": {
      "image/png": "[encoded data removed]",
      "text/plain": [
       "<Figure size 1080x576 with 1 Axes>"
      ]
     },
     "metadata": {
      "needs_background": "light"
     },
     "output_type": "display_data"
    }
   ],
   "source": [
    "dfull = xgb.DMatrix(X,y)\n",
    "param1 = {'booster': 'gbtree',\n",
    "         'objective': 'binary:logistic',\n",
    "         'eval_metric': 'auc',\n",
    "         'max_depth': 4,\n",
    "         'lambda': 1,\n",
    "         'gamma':0,\n",
    "         'subsample': 1,\n",
    "         'colsample_bytree': 1,\n",
    "         'colsample_bylevel': 1,\n",
    "         'colsample_bynode': 1,\n",
    "         'min_child_weight': 2,\n",
    "         'eta': 0.3,\n",
    "         'seed': 0,\n",
    "         'silent': 1,\n",
    "         'n_fold': 5,\n",
    "         'scale_pos_weight':1}\n",
    "num_round = 500\n",
    "\n",
    "time0 = time()\n",
    "cvResult = xgb.cv(param1, dfull, num_round)\n",
    "print(datetime.datetime.fromtimestamp(time()-time0).strftime(\"%M:%S:%f\"))\n",
    "\n",
    "fig, ax = plt.subplots(1,figsize=(15,8))\n",
    "ax.grid()\n",
    "ax.plot(range(1,(num_round+1)), cvResult.iloc[:,0], c='r', label='train, original')\n",
    "ax.plot(range(1,(num_round+1)), cvResult.iloc[:,2], c='orange', label='test, original')\n",
    "\n",
    "params2 = {'booster': 'gbtree',\n",
    "         'objective': 'binary:logistic',\n",
    "         'eval_metric': 'auc',\n",
    "         'max_depth': 3,\n",
    "         'lambda': 1,\n",
    "         'subsample': 0.75,\n",
    "         'colsample_bytree': 0.75,\n",
    "         'min_child_weight': 2,\n",
    "         'eta': 0.1,\n",
    "         'seed': 0,\n",
    "         'silent': 1,\n",
    "         'scale_pos_weight':5}\n",
    "\n",
    "params3 = {'booster': 'gbtree',\n",
    "         'objective': 'binary:logistic',\n",
    "         'eval_metric': 'auc',\n",
    "         'max_depth': 3,\n",
    "         'lambda': 1,\n",
    "         'subsample': 0.75,\n",
    "         'colsample_bytree': 0.75,\n",
    "         'min_child_weight': 2,\n",
    "         'eta': 0.1,\n",
    "         'seed': 10,\n",
    "         'silent': 1,\n",
    "         'scale_pos_weight':3}\n",
    "time0 = time()\n",
    "cvResult2 = xgb.cv(param2, dfull, num_round)\n",
    "print(datetime.datetime.fromtimestamp(time()-time0).strftime(\"%M:%S:%f\"))\n",
    "\n",
    "time0 = time()\n",
    "cvResult3 = xgb.cv(param3, dfull, num_round)\n",
    "print(datetime.datetime.fromtimestamp(time()-time0).strftime(\"%M:%S:%f\"))\n",
    "\n",
    "ax.plot(range(1,(num_round+1)), cvResult2.iloc[:,0], c='green', label='train last')\n",
    "ax.plot(range(1,(num_round+1)), cvResult2.iloc[:,2], c='blue', label='test last')\n",
    "\n",
    "\n",
    "ax.plot(range(1,(num_round+1)), cvResult3.iloc[:,0], c='grey', label='train this')\n",
    "ax.plot(range(1,(num_round+1)), cvResult3.iloc[:,2], c='pink', label='test this')\n",
    "ax.legend(fontsize='xx-large')\n",
    "plt.yticks([0.7,0.75,0.8])\n",
    "plt.show()"
   ]
  },
  {
   "cell_type": "code",
   "execution_count": 393,
   "metadata": {},
   "outputs": [
    {
     "data": {
      "text/plain": [
       "0.2890862124636745"
      ]
     },
     "execution_count": 393,
     "metadata": {},
     "output_type": "execute_result"
    }
   ],
   "source": [
    "(y==1).sum()/(y==0).sum()"
   ]
  },
  {
   "cell_type": "code",
   "execution_count": 275,
   "metadata": {},
   "outputs": [],
   "source": [
    "params = {'booster': 'gbtree',\n",
    "         'objective': 'binary:logistic',\n",
    "         'eval_metric': 'auc',\n",
    "         'max_depth': 3,\n",
    "         'lambda': 30,\n",
    "         'gamma':0,\n",
    "         'subsample': 0.5,\n",
    "         'colsample_bytree': 1,\n",
    "         'colsample_bylevel': 0.5,\n",
    "         'colsample_bynode': 0.5,\n",
    "         'min_child_weight': 1,\n",
    "         'eta': 0.05,\n",
    "         'seed': 0,\n",
    "         'silent': 1,\n",
    "         'n_fold': 5,\n",
    "         'scale_pos_weight':1}\n",
    "num_round = 300"
   ]
  },
  {
   "cell_type": "code",
   "execution_count": 372,
   "metadata": {},
   "outputs": [],
   "source": [
    "params1 = {'booster': 'gbtree',\n",
    "         'objective': 'binary:logistic',\n",
    "         'eval_metric': 'auc',\n",
    "         'max_depth': 3,\n",
    "         'lambda': 1,\n",
    "         'subsample': 0.75,\n",
    "         'colsample_bytree': 0.75,\n",
    "         'min_child_weight': 2,\n",
    "         'eta': 0.05,\n",
    "         'seed': 0,\n",
    "         'silent': 1,\n",
    "         'scale_pos_weight':5}\n",
    "num_round = 500"
   ]
  },
  {
   "cell_type": "code",
   "execution_count": 373,
   "metadata": {},
   "outputs": [],
   "source": [
    "bst = xgb.train(params1, dtrain, num_round)\n",
    "preds = bst.predict(dtest)"
   ]
  },
  {
   "cell_type": "code",
   "execution_count": 374,
   "metadata": {},
   "outputs": [
    {
     "data": {
      "text/plain": [
       "0.7357416673129318"
      ]
     },
     "execution_count": 374,
     "metadata": {},
     "output_type": "execute_result"
    }
   ],
   "source": [
    "roc_auc_score(Ytest, preds)"
   ]
  },
  {
   "cell_type": "code",
   "execution_count": 375,
   "metadata": {},
   "outputs": [],
   "source": [
    "names = [\"negative vs positive: 3\",\n",
    "         \"negative vs positive: 5\",\n",
    "         \"negative vs positive: 8\"]\n",
    "scale_pos_weight = [3,5,8]"
   ]
  },
  {
   "cell_type": "code",
   "execution_count": 290,
   "metadata": {},
   "outputs": [
    {
     "name": "stdout",
     "output_type": "stream",
     "text": [
      "negative vs positive: 3\n",
      "\tAccuracy:0.7951072889705268\n",
      "\tRecall:0.23416080029640607\n",
      "\tAUC:0.7351013456877395\n",
      "negative vs positive: 5\n",
      "\tAccuracy:0.7951072889705268\n",
      "\tRecall:0.23416080029640607\n",
      "\tAUC:0.7351013456877395\n",
      "negative vs positive: 8\n",
      "\tAccuracy:0.7951072889705268\n",
      "\tRecall:0.23416080029640607\n",
      "\tAUC:0.7351013456877395\n"
     ]
    }
   ],
   "source": [
    "from sklearn.metrics import accuracy_score as acc, recall_score as recall, roc_auc_score as auc\n",
    "\n",
    "for name, i in zip(names, scale_pos_weight):\n",
    "    params1 = {'booster': 'gbtree',\n",
    "         'objective': 'binary:logistic',\n",
    "         'eval_metric': 'auc',\n",
    "         'max_depth': 3,\n",
    "         'lambda': 1,\n",
    "         'subsample': 0.75,\n",
    "         'colsample_bytree': 0.75,\n",
    "         'min_child_weight': 2,\n",
    "         'eta': 0.1,\n",
    "         'seed': 0,\n",
    "         'silent': 1,\n",
    "         'scale_pos_weight':i}\n",
    "    bst = xgb.train(params, dtrain, num_round)\n",
    "    preds = bst.predict(dtest)\n",
    "    ypreds = preds.copy()\n",
    "    ypreds[preds > 0.5] = 1\n",
    "    ypreds[ypreds!=1] = 0\n",
    "    print('{}'.format(name))\n",
    "    print('\\tAccuracy:{}'.format(acc(Ytest, ypreds)))\n",
    "    print('\\tRecall:{}'.format(recall(Ytest, ypreds)))\n",
    "    print('\\tAUC:{}'.format(auc(Ytest, preds)))"
   ]
  },
  {
   "cell_type": "code",
   "execution_count": 376,
   "metadata": {},
   "outputs": [],
   "source": [
    "params_ = {'booster': 'gbtree',\n",
    "         'objective': 'binary:logistic',\n",
    "         'eval_metric': 'auc',\n",
    "         'max_depth': 3,\n",
    "         'lambda': 1,\n",
    "         'subsample': 0.75,\n",
    "         'colsample_bytree': 0.75,\n",
    "         'min_child_weight': 2,\n",
    "         'eta': 0.05,\n",
    "         'seed': 0,\n",
    "         'silent': 1,\n",
    "         'scale_pos_weight':5}\n",
    "num_round = 500"
   ]
  },
  {
   "cell_type": "code",
   "execution_count": 377,
   "metadata": {},
   "outputs": [],
   "source": [
    "bst = xgb.train(params_, dtrain, num_round)"
   ]
  },
  {
   "cell_type": "code",
   "execution_count": 378,
   "metadata": {},
   "outputs": [
    {
     "data": {
      "text/plain": [
       "['./训练数据集1/xgboost-fintech-joblib.dat']"
      ]
     },
     "execution_count": 378,
     "metadata": {},
     "output_type": "execute_result"
    }
   ],
   "source": [
    "import joblib\n",
    "\n",
    "joblib.dump(bst, './训练数据集1/xgboost-fintech-joblib.dat')"
   ]
  },
  {
   "cell_type": "code",
   "execution_count": 379,
   "metadata": {
    "scrolled": true
   },
   "outputs": [
    {
     "data": {
      "text/plain": [
       "0.7357416673129318"
      ]
     },
     "execution_count": 379,
     "metadata": {},
     "output_type": "execute_result"
    }
   ],
   "source": [
    "loaded_model_joblib = joblib.load('./训练数据集1/xgboost-fintech-joblib.dat')\n",
    "preds = loaded_model_joblib.predict(dtest)\n",
    "\n",
    "auc(Ytest, preds)"
   ]
  },
  {
   "cell_type": "code",
   "execution_count": 384,
   "metadata": {
    "scrolled": true
   },
   "outputs": [],
   "source": [
    "data_test_.pg_times.fillna(data_train_.pg_times.mode()[0], inplace=True)"
   ]
  },
  {
   "cell_type": "code",
   "execution_count": 385,
   "metadata": {},
   "outputs": [
    {
     "data": {
      "text/plain": [
       "(6000, 46)"
      ]
     },
     "execution_count": 385,
     "metadata": {},
     "output_type": "execute_result"
    }
   ],
   "source": [
    "test_data_feature = data_test_.drop(['id'], axis=1)\n",
    "user_id = data_test_['id']\n",
    "test_data_feature.shape"
   ]
  },
  {
   "cell_type": "code",
   "execution_count": 386,
   "metadata": {},
   "outputs": [],
   "source": [
    "dtest_a = xgb.DMatrix(test_data_feature)"
   ]
  },
  {
   "cell_type": "code",
   "execution_count": 387,
   "metadata": {},
   "outputs": [],
   "source": [
    "data_test_['preds'] = loaded_model_joblib.predict(dtest_a)"
   ]
  },
  {
   "cell_type": "code",
   "execution_count": 388,
   "metadata": {},
   "outputs": [],
   "source": [
    "output_a = data_test_.loc[:,['id', 'preds']]"
   ]
  },
  {
   "cell_type": "code",
   "execution_count": 389,
   "metadata": {},
   "outputs": [
    {
     "data": {
      "text/plain": [
       "(6000, 2)"
      ]
     },
     "execution_count": 389,
     "metadata": {},
     "output_type": "execute_result"
    }
   ],
   "source": [
    "output_a.shape"
   ]
  },
  {
   "cell_type": "code",
   "execution_count": 390,
   "metadata": {},
   "outputs": [],
   "source": [
    "output_a.to_csv('./训练数据集1/submit_a_txt.txt', sep='\\t', index=False, encoding='utf8')"
   ]
  }
 ],
 "metadata": {
  "kernelspec": {
   "display_name": "Python 3",
   "language": "python",
   "name": "python3"
  },
  "language_info": {
   "codemirror_mode": {
    "name": "ipython",
    "version": 3
   },
   "file_extension": ".py",
   "mimetype": "text/x-python",
   "name": "python",
   "nbconvert_exporter": "python",
   "pygments_lexer": "ipython3",
   "version": "3.6.9"
  }
 },
 "nbformat": 4,
 "nbformat_minor": 2
}
